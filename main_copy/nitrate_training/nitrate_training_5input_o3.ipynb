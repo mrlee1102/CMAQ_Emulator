{
 "cells": [
  {
   "cell_type": "code",
   "execution_count": 2,
   "metadata": {},
   "outputs": [],
   "source": [
    "# Import\n",
    "import os\n",
    "import sys\n",
    "sys.path.append(os.path.dirname(os.path.abspath(os.path.dirname('/home/user/workdir/main/src/'))))\n",
    "\n",
    "import numpy as np\n",
    "import pandas as pd\n",
    "import netCDF4 as nc\n",
    "from netCDF4 import Dataset\n",
    "\n",
    "from sklearn.model_selection import train_test_split\n",
    "import tensorflow as tf\n",
    "from src.model.cmaqnet_cond_unet import build_model\n",
    "from sklearn.metrics import mean_squared_error, r2_score\n",
    "\n",
    "import geopandas as gpd\n",
    "from shapely.geometry import Point\n",
    "import matplotlib as mpl\n",
    "import matplotlib.pyplot as plt"
   ]
  },
  {
   "cell_type": "markdown",
   "metadata": {},
   "source": [
    "# Training (Nitrate)"
   ]
  },
  {
   "cell_type": "code",
   "execution_count": 2,
   "metadata": {},
   "outputs": [],
   "source": [
    "emis_ctrl_2019_10 = pd.read_csv('/home/user/workdir/main/resources/ctrl/precursor_control_2019_with_scaled_o3.csv')\n",
    "emis_ctrl_2019_10['Boundary'] = 1.0\n",
    "\n",
    "ctrl_data = pd.concat([emis_ctrl_2019_10], axis=0)\n",
    "ctrl_data = ctrl_data.reset_index(drop=True).values\n",
    "emis_data, boundary_data = ctrl_data[:, :17*6], ctrl_data[:, 17*6]\n",
    "# -------------\n",
    "base_path_2019 = '/home/user/workdir/main/datasets/concentration/2019'\n",
    "\n",
    "conc_path = []\n",
    "for i in range(1, 120): \n",
    "    conc_path.append(os.path.join(base_path_2019, '1.00', f'ACONC.{i}'))\n",
    "\n",
    "conc_data = []\n",
    "for path in conc_path:\n",
    "    with nc.Dataset(path) as f:\n",
    "        conc_data.append(f.variables['Nitrate'][:].data.squeeze())  # ncf 파일 내 목적변수를 지정 \n",
    "conc_data = np.array(conc_data).reshape(len(conc_path), 82, 67, 1)"
   ]
  },
  {
   "cell_type": "code",
   "execution_count": 3,
   "metadata": {},
   "outputs": [
    {
     "name": "stdout",
     "output_type": "stream",
     "text": [
      "Memory growth enabled for GPUs\n",
      "INFO:tensorflow:Using MirroredStrategy with devices ('/job:localhost/replica:0/task:0/device:GPU:0', '/job:localhost/replica:0/task:0/device:GPU:1', '/job:localhost/replica:0/task:0/device:GPU:2', '/job:localhost/replica:0/task:0/device:GPU:3')\n"
     ]
    },
    {
     "name": "stderr",
     "output_type": "stream",
     "text": [
      "2025-01-31 14:39:17.234976: I tensorflow/core/common_runtime/gpu/gpu_device.cc:1886] Created device /job:localhost/replica:0/task:0/device:GPU:0 with 21437 MB memory:  -> device: 0, name: NVIDIA GeForce RTX 3090, pci bus id: 0000:19:00.0, compute capability: 8.6\n",
      "2025-01-31 14:39:17.236641: I tensorflow/core/common_runtime/gpu/gpu_device.cc:1886] Created device /job:localhost/replica:0/task:0/device:GPU:1 with 21447 MB memory:  -> device: 1, name: NVIDIA GeForce RTX 3090, pci bus id: 0000:1a:00.0, compute capability: 8.6\n",
      "2025-01-31 14:39:17.238189: I tensorflow/core/common_runtime/gpu/gpu_device.cc:1886] Created device /job:localhost/replica:0/task:0/device:GPU:2 with 21447 MB memory:  -> device: 2, name: NVIDIA GeForce RTX 3090, pci bus id: 0000:67:00.0, compute capability: 8.6\n",
      "2025-01-31 14:39:17.239613: I tensorflow/core/common_runtime/gpu/gpu_device.cc:1886] Created device /job:localhost/replica:0/task:0/device:GPU:3 with 21323 MB memory:  -> device: 3, name: NVIDIA GeForce RTX 3090, pci bus id: 0000:68:00.0, compute capability: 8.6\n"
     ]
    },
    {
     "name": "stdout",
     "output_type": "stream",
     "text": [
      "INFO:tensorflow:Reduce to /job:localhost/replica:0/task:0/device:CPU:0 then broadcast to ('/job:localhost/replica:0/task:0/device:CPU:0',).\n",
      "INFO:tensorflow:Reduce to /job:localhost/replica:0/task:0/device:CPU:0 then broadcast to ('/job:localhost/replica:0/task:0/device:CPU:0',).\n",
      "INFO:tensorflow:Reduce to /job:localhost/replica:0/task:0/device:CPU:0 then broadcast to ('/job:localhost/replica:0/task:0/device:CPU:0',).\n",
      "INFO:tensorflow:Reduce to /job:localhost/replica:0/task:0/device:CPU:0 then broadcast to ('/job:localhost/replica:0/task:0/device:CPU:0',).\n",
      "INFO:tensorflow:Reduce to /job:localhost/replica:0/task:0/device:CPU:0 then broadcast to ('/job:localhost/replica:0/task:0/device:CPU:0',).\n",
      "INFO:tensorflow:Reduce to /job:localhost/replica:0/task:0/device:CPU:0 then broadcast to ('/job:localhost/replica:0/task:0/device:CPU:0',).\n",
      "INFO:tensorflow:Reduce to /job:localhost/replica:0/task:0/device:CPU:0 then broadcast to ('/job:localhost/replica:0/task:0/device:CPU:0',).\n",
      "INFO:tensorflow:Reduce to /job:localhost/replica:0/task:0/device:CPU:0 then broadcast to ('/job:localhost/replica:0/task:0/device:CPU:0',).\n",
      "INFO:tensorflow:Reduce to /job:localhost/replica:0/task:0/device:CPU:0 then broadcast to ('/job:localhost/replica:0/task:0/device:CPU:0',).\n",
      "INFO:tensorflow:Reduce to /job:localhost/replica:0/task:0/device:CPU:0 then broadcast to ('/job:localhost/replica:0/task:0/device:CPU:0',).\n",
      "Epoch 1/1000\n",
      "INFO:tensorflow:Collective all_reduce tensors: 84 all_reduces, num_devices = 4, group_size = 4, implementation = CommunicationImplementation.NCCL, num_packs = 1\n",
      "INFO:tensorflow:Collective all_reduce tensors: 84 all_reduces, num_devices = 4, group_size = 4, implementation = CommunicationImplementation.NCCL, num_packs = 1\n"
     ]
    },
    {
     "name": "stderr",
     "output_type": "stream",
     "text": [
      "2025-01-31 14:39:45.409731: I tensorflow/compiler/xla/stream_executor/cuda/cuda_dnn.cc:442] Loaded cuDNN version 8907\n",
      "2025-01-31 14:39:45.431112: I tensorflow/compiler/xla/stream_executor/cuda/cuda_dnn.cc:442] Loaded cuDNN version 8907\n",
      "2025-01-31 14:39:45.456508: I tensorflow/compiler/xla/stream_executor/cuda/cuda_dnn.cc:442] Loaded cuDNN version 8907\n",
      "2025-01-31 14:39:45.491712: I tensorflow/compiler/xla/stream_executor/cuda/cuda_dnn.cc:442] Loaded cuDNN version 8907\n",
      "2025-01-31 14:39:48.698303: I tensorflow/compiler/xla/service/service.cc:168] XLA service 0x7fdc1747dee0 initialized for platform CUDA (this does not guarantee that XLA will be used). Devices:\n",
      "2025-01-31 14:39:48.698331: I tensorflow/compiler/xla/service/service.cc:176]   StreamExecutor device (0): NVIDIA GeForce RTX 3090, Compute Capability 8.6\n",
      "2025-01-31 14:39:48.698337: I tensorflow/compiler/xla/service/service.cc:176]   StreamExecutor device (1): NVIDIA GeForce RTX 3090, Compute Capability 8.6\n",
      "2025-01-31 14:39:48.698341: I tensorflow/compiler/xla/service/service.cc:176]   StreamExecutor device (2): NVIDIA GeForce RTX 3090, Compute Capability 8.6\n",
      "2025-01-31 14:39:48.698344: I tensorflow/compiler/xla/service/service.cc:176]   StreamExecutor device (3): NVIDIA GeForce RTX 3090, Compute Capability 8.6\n",
      "2025-01-31 14:39:48.702414: I tensorflow/compiler/mlir/tensorflow/utils/dump_mlir_util.cc:269] disabling MLIR crash reproducer, set env var `MLIR_CRASH_REPRODUCER_DIRECTORY` to enable.\n",
      "2025-01-31 14:39:48.805159: I ./tensorflow/compiler/jit/device_compiler.h:186] Compiled cluster using XLA!  This line is logged at most once for the lifetime of the process.\n"
     ]
    },
    {
     "name": "stdout",
     "output_type": "stream",
     "text": [
      "3/3 [==============================] - ETA: 0s - loss: 26.6051INFO:tensorflow:Assets written to: /home/user/workdir/main/src/model/nitrate/scaled_o3/input6/final_model-01-29.76/assets\n"
     ]
    },
    {
     "name": "stderr",
     "output_type": "stream",
     "text": [
      "INFO:tensorflow:Assets written to: /home/user/workdir/main/src/model/nitrate/scaled_o3/input6/final_model-01-29.76/assets\n"
     ]
    },
    {
     "name": "stdout",
     "output_type": "stream",
     "text": [
      "3/3 [==============================] - 49s 7s/step - loss: 26.6051 - val_loss: 29.7634 - lr: 0.0010\n",
      "Epoch 2/1000\n",
      "2/3 [===================>..........] - ETA: 0s - loss: 24.3757INFO:tensorflow:Assets written to: /home/user/workdir/main/src/model/nitrate/scaled_o3/input6/final_model-02-29.68/assets\n"
     ]
    },
    {
     "name": "stderr",
     "output_type": "stream",
     "text": [
      "INFO:tensorflow:Assets written to: /home/user/workdir/main/src/model/nitrate/scaled_o3/input6/final_model-02-29.68/assets\n"
     ]
    },
    {
     "name": "stdout",
     "output_type": "stream",
     "text": [
      "3/3 [==============================] - 9s 5s/step - loss: 24.3037 - val_loss: 29.6838 - lr: 0.0010\n",
      "Epoch 3/1000\n",
      "3/3 [==============================] - ETA: 0s - loss: 22.0131INFO:tensorflow:Assets written to: /home/user/workdir/main/src/model/nitrate/scaled_o3/input6/final_model-03-29.50/assets\n"
     ]
    },
    {
     "name": "stderr",
     "output_type": "stream",
     "text": [
      "INFO:tensorflow:Assets written to: /home/user/workdir/main/src/model/nitrate/scaled_o3/input6/final_model-03-29.50/assets\n"
     ]
    },
    {
     "name": "stdout",
     "output_type": "stream",
     "text": [
      "3/3 [==============================] - 10s 5s/step - loss: 22.0131 - val_loss: 29.5032 - lr: 0.0010\n",
      "Epoch 4/1000\n",
      "2/3 [===================>..........] - ETA: 0s - loss: 19.5078INFO:tensorflow:Assets written to: /home/user/workdir/main/src/model/nitrate/scaled_o3/input6/final_model-04-29.12/assets\n"
     ]
    },
    {
     "name": "stderr",
     "output_type": "stream",
     "text": [
      "INFO:tensorflow:Assets written to: /home/user/workdir/main/src/model/nitrate/scaled_o3/input6/final_model-04-29.12/assets\n"
     ]
    },
    {
     "name": "stdout",
     "output_type": "stream",
     "text": [
      "3/3 [==============================] - 10s 5s/step - loss: 19.4493 - val_loss: 29.1201 - lr: 0.0010\n",
      "Epoch 5/1000\n",
      "3/3 [==============================] - ETA: 0s - loss: 17.9290INFO:tensorflow:Assets written to: /home/user/workdir/main/src/model/nitrate/scaled_o3/input6/final_model-05-28.52/assets\n"
     ]
    },
    {
     "name": "stderr",
     "output_type": "stream",
     "text": [
      "INFO:tensorflow:Assets written to: /home/user/workdir/main/src/model/nitrate/scaled_o3/input6/final_model-05-28.52/assets\n"
     ]
    },
    {
     "name": "stdout",
     "output_type": "stream",
     "text": [
      "3/3 [==============================] - 10s 5s/step - loss: 17.9290 - val_loss: 28.5220 - lr: 0.0010\n",
      "Epoch 6/1000\n",
      "3/3 [==============================] - ETA: 0s - loss: 17.2610INFO:tensorflow:Assets written to: /home/user/workdir/main/src/model/nitrate/scaled_o3/input6/final_model-06-27.77/assets\n"
     ]
    },
    {
     "name": "stderr",
     "output_type": "stream",
     "text": [
      "INFO:tensorflow:Assets written to: /home/user/workdir/main/src/model/nitrate/scaled_o3/input6/final_model-06-27.77/assets\n"
     ]
    },
    {
     "name": "stdout",
     "output_type": "stream",
     "text": [
      "3/3 [==============================] - 10s 5s/step - loss: 17.2610 - val_loss: 27.7674 - lr: 0.0010\n",
      "Epoch 7/1000\n",
      "2/3 [===================>..........] - ETA: 0s - loss: 16.8452INFO:tensorflow:Assets written to: /home/user/workdir/main/src/model/nitrate/scaled_o3/input6/final_model-07-26.95/assets\n"
     ]
    },
    {
     "name": "stderr",
     "output_type": "stream",
     "text": [
      "INFO:tensorflow:Assets written to: /home/user/workdir/main/src/model/nitrate/scaled_o3/input6/final_model-07-26.95/assets\n"
     ]
    },
    {
     "name": "stdout",
     "output_type": "stream",
     "text": [
      "3/3 [==============================] - 10s 5s/step - loss: 16.8121 - val_loss: 26.9507 - lr: 0.0010\n",
      "Epoch 8/1000\n",
      "3/3 [==============================] - ETA: 0s - loss: 16.4402INFO:tensorflow:Assets written to: /home/user/workdir/main/src/model/nitrate/scaled_o3/input6/final_model-08-26.18/assets\n"
     ]
    },
    {
     "name": "stderr",
     "output_type": "stream",
     "text": [
      "INFO:tensorflow:Assets written to: /home/user/workdir/main/src/model/nitrate/scaled_o3/input6/final_model-08-26.18/assets\n"
     ]
    },
    {
     "name": "stdout",
     "output_type": "stream",
     "text": [
      "3/3 [==============================] - 10s 5s/step - loss: 16.4402 - val_loss: 26.1767 - lr: 0.0010\n",
      "Epoch 9/1000\n",
      "3/3 [==============================] - ETA: 0s - loss: 16.1065INFO:tensorflow:Assets written to: /home/user/workdir/main/src/model/nitrate/scaled_o3/input6/final_model-09-25.52/assets\n"
     ]
    },
    {
     "name": "stderr",
     "output_type": "stream",
     "text": [
      "INFO:tensorflow:Assets written to: /home/user/workdir/main/src/model/nitrate/scaled_o3/input6/final_model-09-25.52/assets\n"
     ]
    },
    {
     "name": "stdout",
     "output_type": "stream",
     "text": [
      "3/3 [==============================] - 10s 5s/step - loss: 16.1065 - val_loss: 25.5175 - lr: 0.0010\n",
      "Epoch 10/1000\n",
      "2/3 [===================>..........] - ETA: 0s - loss: 15.8149INFO:tensorflow:Assets written to: /home/user/workdir/main/src/model/nitrate/scaled_o3/input6/final_model-10-25.01/assets\n"
     ]
    },
    {
     "name": "stderr",
     "output_type": "stream",
     "text": [
      "INFO:tensorflow:Assets written to: /home/user/workdir/main/src/model/nitrate/scaled_o3/input6/final_model-10-25.01/assets\n"
     ]
    },
    {
     "name": "stdout",
     "output_type": "stream",
     "text": [
      "3/3 [==============================] - 10s 5s/step - loss: 15.7765 - val_loss: 25.0125 - lr: 0.0010\n",
      "Epoch 11/1000\n",
      "3/3 [==============================] - ETA: 0s - loss: 15.4540INFO:tensorflow:Assets written to: /home/user/workdir/main/src/model/nitrate/scaled_o3/input6/final_model-11-24.63/assets\n"
     ]
    },
    {
     "name": "stderr",
     "output_type": "stream",
     "text": [
      "INFO:tensorflow:Assets written to: /home/user/workdir/main/src/model/nitrate/scaled_o3/input6/final_model-11-24.63/assets\n"
     ]
    },
    {
     "name": "stdout",
     "output_type": "stream",
     "text": [
      "3/3 [==============================] - 10s 5s/step - loss: 15.4540 - val_loss: 24.6321 - lr: 0.0010\n",
      "Epoch 12/1000\n",
      "3/3 [==============================] - ETA: 0s - loss: 15.1430INFO:tensorflow:Assets written to: /home/user/workdir/main/src/model/nitrate/scaled_o3/input6/final_model-12-24.35/assets\n"
     ]
    },
    {
     "name": "stderr",
     "output_type": "stream",
     "text": [
      "INFO:tensorflow:Assets written to: /home/user/workdir/main/src/model/nitrate/scaled_o3/input6/final_model-12-24.35/assets\n"
     ]
    },
    {
     "name": "stdout",
     "output_type": "stream",
     "text": [
      "3/3 [==============================] - 10s 5s/step - loss: 15.1430 - val_loss: 24.3505 - lr: 0.0010\n",
      "Epoch 13/1000\n",
      "3/3 [==============================] - ETA: 0s - loss: 14.8373INFO:tensorflow:Assets written to: /home/user/workdir/main/src/model/nitrate/scaled_o3/input6/final_model-13-24.15/assets\n"
     ]
    },
    {
     "name": "stderr",
     "output_type": "stream",
     "text": [
      "INFO:tensorflow:Assets written to: /home/user/workdir/main/src/model/nitrate/scaled_o3/input6/final_model-13-24.15/assets\n"
     ]
    },
    {
     "name": "stdout",
     "output_type": "stream",
     "text": [
      "3/3 [==============================] - 10s 5s/step - loss: 14.8373 - val_loss: 24.1491 - lr: 0.0010\n",
      "Epoch 14/1000\n",
      "3/3 [==============================] - ETA: 0s - loss: 14.5301INFO:tensorflow:Assets written to: /home/user/workdir/main/src/model/nitrate/scaled_o3/input6/final_model-14-23.94/assets\n"
     ]
    },
    {
     "name": "stderr",
     "output_type": "stream",
     "text": [
      "INFO:tensorflow:Assets written to: /home/user/workdir/main/src/model/nitrate/scaled_o3/input6/final_model-14-23.94/assets\n"
     ]
    },
    {
     "name": "stdout",
     "output_type": "stream",
     "text": [
      "3/3 [==============================] - 10s 5s/step - loss: 14.5301 - val_loss: 23.9438 - lr: 0.0010\n",
      "Epoch 15/1000\n",
      "3/3 [==============================] - ETA: 0s - loss: 14.2214INFO:tensorflow:Assets written to: /home/user/workdir/main/src/model/nitrate/scaled_o3/input6/final_model-15-23.76/assets\n"
     ]
    },
    {
     "name": "stderr",
     "output_type": "stream",
     "text": [
      "INFO:tensorflow:Assets written to: /home/user/workdir/main/src/model/nitrate/scaled_o3/input6/final_model-15-23.76/assets\n"
     ]
    },
    {
     "name": "stdout",
     "output_type": "stream",
     "text": [
      "3/3 [==============================] - 10s 5s/step - loss: 14.2214 - val_loss: 23.7618 - lr: 0.0010\n",
      "Epoch 16/1000\n",
      "3/3 [==============================] - ETA: 0s - loss: 13.9125INFO:tensorflow:Assets written to: /home/user/workdir/main/src/model/nitrate/scaled_o3/input6/final_model-16-23.57/assets\n"
     ]
    },
    {
     "name": "stderr",
     "output_type": "stream",
     "text": [
      "INFO:tensorflow:Assets written to: /home/user/workdir/main/src/model/nitrate/scaled_o3/input6/final_model-16-23.57/assets\n"
     ]
    },
    {
     "name": "stdout",
     "output_type": "stream",
     "text": [
      "3/3 [==============================] - 10s 5s/step - loss: 13.9125 - val_loss: 23.5749 - lr: 0.0010\n",
      "Epoch 17/1000\n",
      "3/3 [==============================] - ETA: 0s - loss: 13.6146INFO:tensorflow:Assets written to: /home/user/workdir/main/src/model/nitrate/scaled_o3/input6/final_model-17-23.38/assets\n"
     ]
    },
    {
     "name": "stderr",
     "output_type": "stream",
     "text": [
      "INFO:tensorflow:Assets written to: /home/user/workdir/main/src/model/nitrate/scaled_o3/input6/final_model-17-23.38/assets\n"
     ]
    },
    {
     "name": "stdout",
     "output_type": "stream",
     "text": [
      "3/3 [==============================] - 10s 5s/step - loss: 13.6146 - val_loss: 23.3762 - lr: 0.0010\n",
      "Epoch 18/1000\n",
      "3/3 [==============================] - ETA: 0s - loss: 13.3340INFO:tensorflow:Assets written to: /home/user/workdir/main/src/model/nitrate/scaled_o3/input6/final_model-18-23.15/assets\n"
     ]
    },
    {
     "name": "stderr",
     "output_type": "stream",
     "text": [
      "INFO:tensorflow:Assets written to: /home/user/workdir/main/src/model/nitrate/scaled_o3/input6/final_model-18-23.15/assets\n"
     ]
    },
    {
     "name": "stdout",
     "output_type": "stream",
     "text": [
      "3/3 [==============================] - 10s 5s/step - loss: 13.3340 - val_loss: 23.1535 - lr: 0.0010\n",
      "Epoch 19/1000\n",
      "2/3 [===================>..........] - ETA: 0s - loss: 13.0966INFO:tensorflow:Assets written to: /home/user/workdir/main/src/model/nitrate/scaled_o3/input6/final_model-19-22.92/assets\n"
     ]
    },
    {
     "name": "stderr",
     "output_type": "stream",
     "text": [
      "INFO:tensorflow:Assets written to: /home/user/workdir/main/src/model/nitrate/scaled_o3/input6/final_model-19-22.92/assets\n"
     ]
    },
    {
     "name": "stdout",
     "output_type": "stream",
     "text": [
      "3/3 [==============================] - 10s 5s/step - loss: 13.0692 - val_loss: 22.9185 - lr: 0.0010\n",
      "Epoch 20/1000\n",
      "3/3 [==============================] - ETA: 0s - loss: 12.8205INFO:tensorflow:Assets written to: /home/user/workdir/main/src/model/nitrate/scaled_o3/input6/final_model-20-22.71/assets\n"
     ]
    },
    {
     "name": "stderr",
     "output_type": "stream",
     "text": [
      "INFO:tensorflow:Assets written to: /home/user/workdir/main/src/model/nitrate/scaled_o3/input6/final_model-20-22.71/assets\n"
     ]
    },
    {
     "name": "stdout",
     "output_type": "stream",
     "text": [
      "3/3 [==============================] - 9s 4s/step - loss: 12.8205 - val_loss: 22.7079 - lr: 0.0010\n",
      "Epoch 21/1000\n",
      "3/3 [==============================] - ETA: 0s - loss: 12.5790INFO:tensorflow:Assets written to: /home/user/workdir/main/src/model/nitrate/scaled_o3/input6/final_model-21-22.46/assets\n"
     ]
    },
    {
     "name": "stderr",
     "output_type": "stream",
     "text": [
      "INFO:tensorflow:Assets written to: /home/user/workdir/main/src/model/nitrate/scaled_o3/input6/final_model-21-22.46/assets\n"
     ]
    },
    {
     "name": "stdout",
     "output_type": "stream",
     "text": [
      "3/3 [==============================] - 10s 5s/step - loss: 12.5790 - val_loss: 22.4583 - lr: 0.0010\n",
      "Epoch 22/1000\n",
      "2/3 [===================>..........] - ETA: 0s - loss: 12.3603INFO:tensorflow:Assets written to: /home/user/workdir/main/src/model/nitrate/scaled_o3/input6/final_model-22-22.22/assets\n"
     ]
    },
    {
     "name": "stderr",
     "output_type": "stream",
     "text": [
      "INFO:tensorflow:Assets written to: /home/user/workdir/main/src/model/nitrate/scaled_o3/input6/final_model-22-22.22/assets\n"
     ]
    },
    {
     "name": "stdout",
     "output_type": "stream",
     "text": [
      "3/3 [==============================] - 11s 5s/step - loss: 12.3438 - val_loss: 22.2203 - lr: 0.0010\n",
      "Epoch 23/1000\n",
      "3/3 [==============================] - ETA: 0s - loss: 12.1106INFO:tensorflow:Assets written to: /home/user/workdir/main/src/model/nitrate/scaled_o3/input6/final_model-23-21.91/assets\n"
     ]
    },
    {
     "name": "stderr",
     "output_type": "stream",
     "text": [
      "INFO:tensorflow:Assets written to: /home/user/workdir/main/src/model/nitrate/scaled_o3/input6/final_model-23-21.91/assets\n"
     ]
    },
    {
     "name": "stdout",
     "output_type": "stream",
     "text": [
      "3/3 [==============================] - 9s 4s/step - loss: 12.1106 - val_loss: 21.9125 - lr: 0.0010\n",
      "Epoch 24/1000\n",
      "3/3 [==============================] - ETA: 0s - loss: 11.8728INFO:tensorflow:Assets written to: /home/user/workdir/main/src/model/nitrate/scaled_o3/input6/final_model-24-21.62/assets\n"
     ]
    },
    {
     "name": "stderr",
     "output_type": "stream",
     "text": [
      "INFO:tensorflow:Assets written to: /home/user/workdir/main/src/model/nitrate/scaled_o3/input6/final_model-24-21.62/assets\n"
     ]
    },
    {
     "name": "stdout",
     "output_type": "stream",
     "text": [
      "3/3 [==============================] - 10s 5s/step - loss: 11.8728 - val_loss: 21.6205 - lr: 0.0010\n",
      "Epoch 25/1000\n",
      "2/3 [===================>..........] - ETA: 0s - loss: 11.6409INFO:tensorflow:Assets written to: /home/user/workdir/main/src/model/nitrate/scaled_o3/input6/final_model-25-21.35/assets\n"
     ]
    },
    {
     "name": "stderr",
     "output_type": "stream",
     "text": [
      "INFO:tensorflow:Assets written to: /home/user/workdir/main/src/model/nitrate/scaled_o3/input6/final_model-25-21.35/assets\n"
     ]
    },
    {
     "name": "stdout",
     "output_type": "stream",
     "text": [
      "3/3 [==============================] - 10s 5s/step - loss: 11.6411 - val_loss: 21.3537 - lr: 0.0010\n",
      "Epoch 26/1000\n",
      "2/3 [===================>..........] - ETA: 0s - loss: 11.4243INFO:tensorflow:Assets written to: /home/user/workdir/main/src/model/nitrate/scaled_o3/input6/final_model-26-21.17/assets\n"
     ]
    },
    {
     "name": "stderr",
     "output_type": "stream",
     "text": [
      "INFO:tensorflow:Assets written to: /home/user/workdir/main/src/model/nitrate/scaled_o3/input6/final_model-26-21.17/assets\n"
     ]
    },
    {
     "name": "stdout",
     "output_type": "stream",
     "text": [
      "3/3 [==============================] - 10s 5s/step - loss: 11.4079 - val_loss: 21.1730 - lr: 0.0010\n",
      "Epoch 27/1000\n",
      "3/3 [==============================] - ETA: 0s - loss: 11.1798INFO:tensorflow:Assets written to: /home/user/workdir/main/src/model/nitrate/scaled_o3/input6/final_model-27-20.93/assets\n"
     ]
    },
    {
     "name": "stderr",
     "output_type": "stream",
     "text": [
      "INFO:tensorflow:Assets written to: /home/user/workdir/main/src/model/nitrate/scaled_o3/input6/final_model-27-20.93/assets\n"
     ]
    },
    {
     "name": "stdout",
     "output_type": "stream",
     "text": [
      "3/3 [==============================] - 10s 5s/step - loss: 11.1798 - val_loss: 20.9277 - lr: 0.0010\n",
      "Epoch 28/1000\n",
      "2/3 [===================>..........] - ETA: 0s - loss: 10.9530INFO:tensorflow:Assets written to: /home/user/workdir/main/src/model/nitrate/scaled_o3/input6/final_model-28-20.71/assets\n"
     ]
    },
    {
     "name": "stderr",
     "output_type": "stream",
     "text": [
      "INFO:tensorflow:Assets written to: /home/user/workdir/main/src/model/nitrate/scaled_o3/input6/final_model-28-20.71/assets\n"
     ]
    },
    {
     "name": "stdout",
     "output_type": "stream",
     "text": [
      "3/3 [==============================] - 10s 5s/step - loss: 10.9558 - val_loss: 20.7149 - lr: 0.0010\n",
      "Epoch 29/1000\n",
      "2/3 [===================>..........] - ETA: 0s - loss: 10.7533INFO:tensorflow:Assets written to: /home/user/workdir/main/src/model/nitrate/scaled_o3/input6/final_model-29-20.40/assets\n"
     ]
    },
    {
     "name": "stderr",
     "output_type": "stream",
     "text": [
      "INFO:tensorflow:Assets written to: /home/user/workdir/main/src/model/nitrate/scaled_o3/input6/final_model-29-20.40/assets\n"
     ]
    },
    {
     "name": "stdout",
     "output_type": "stream",
     "text": [
      "3/3 [==============================] - 10s 5s/step - loss: 10.7361 - val_loss: 20.4031 - lr: 0.0010\n",
      "Epoch 30/1000\n",
      "3/3 [==============================] - ETA: 0s - loss: 10.5198INFO:tensorflow:Assets written to: /home/user/workdir/main/src/model/nitrate/scaled_o3/input6/final_model-30-20.13/assets\n"
     ]
    },
    {
     "name": "stderr",
     "output_type": "stream",
     "text": [
      "INFO:tensorflow:Assets written to: /home/user/workdir/main/src/model/nitrate/scaled_o3/input6/final_model-30-20.13/assets\n"
     ]
    },
    {
     "name": "stdout",
     "output_type": "stream",
     "text": [
      "3/3 [==============================] - 10s 5s/step - loss: 10.5198 - val_loss: 20.1253 - lr: 0.0010\n",
      "Epoch 31/1000\n",
      "2/3 [===================>..........] - ETA: 0s - loss: 10.3225INFO:tensorflow:Assets written to: /home/user/workdir/main/src/model/nitrate/scaled_o3/input6/final_model-31-19.86/assets\n"
     ]
    },
    {
     "name": "stderr",
     "output_type": "stream",
     "text": [
      "INFO:tensorflow:Assets written to: /home/user/workdir/main/src/model/nitrate/scaled_o3/input6/final_model-31-19.86/assets\n"
     ]
    },
    {
     "name": "stdout",
     "output_type": "stream",
     "text": [
      "3/3 [==============================] - 10s 5s/step - loss: 10.3060 - val_loss: 19.8578 - lr: 0.0010\n",
      "Epoch 32/1000\n",
      "3/3 [==============================] - ETA: 0s - loss: 10.0960INFO:tensorflow:Assets written to: /home/user/workdir/main/src/model/nitrate/scaled_o3/input6/final_model-32-19.54/assets\n"
     ]
    },
    {
     "name": "stderr",
     "output_type": "stream",
     "text": [
      "INFO:tensorflow:Assets written to: /home/user/workdir/main/src/model/nitrate/scaled_o3/input6/final_model-32-19.54/assets\n"
     ]
    },
    {
     "name": "stdout",
     "output_type": "stream",
     "text": [
      "3/3 [==============================] - 10s 5s/step - loss: 10.0960 - val_loss: 19.5368 - lr: 0.0010\n",
      "Epoch 33/1000\n",
      "3/3 [==============================] - ETA: 0s - loss: 9.8890INFO:tensorflow:Assets written to: /home/user/workdir/main/src/model/nitrate/scaled_o3/input6/final_model-33-19.32/assets\n"
     ]
    },
    {
     "name": "stderr",
     "output_type": "stream",
     "text": [
      "INFO:tensorflow:Assets written to: /home/user/workdir/main/src/model/nitrate/scaled_o3/input6/final_model-33-19.32/assets\n"
     ]
    },
    {
     "name": "stdout",
     "output_type": "stream",
     "text": [
      "3/3 [==============================] - 10s 5s/step - loss: 9.8890 - val_loss: 19.3246 - lr: 0.0010\n",
      "Epoch 34/1000\n",
      "3/3 [==============================] - ETA: 0s - loss: 9.6844INFO:tensorflow:Assets written to: /home/user/workdir/main/src/model/nitrate/scaled_o3/input6/final_model-34-19.03/assets\n"
     ]
    },
    {
     "name": "stderr",
     "output_type": "stream",
     "text": [
      "INFO:tensorflow:Assets written to: /home/user/workdir/main/src/model/nitrate/scaled_o3/input6/final_model-34-19.03/assets\n"
     ]
    },
    {
     "name": "stdout",
     "output_type": "stream",
     "text": [
      "3/3 [==============================] - 10s 5s/step - loss: 9.6844 - val_loss: 19.0256 - lr: 0.0010\n",
      "Epoch 35/1000\n",
      "2/3 [===================>..........] - ETA: 0s - loss: 9.5307INFO:tensorflow:Assets written to: /home/user/workdir/main/src/model/nitrate/scaled_o3/input6/final_model-35-18.77/assets\n"
     ]
    },
    {
     "name": "stderr",
     "output_type": "stream",
     "text": [
      "INFO:tensorflow:Assets written to: /home/user/workdir/main/src/model/nitrate/scaled_o3/input6/final_model-35-18.77/assets\n"
     ]
    },
    {
     "name": "stdout",
     "output_type": "stream",
     "text": [
      "3/3 [==============================] - 9s 4s/step - loss: 9.4846 - val_loss: 18.7721 - lr: 0.0010\n",
      "Epoch 36/1000\n",
      "2/3 [===================>..........] - ETA: 0s - loss: 9.3165INFO:tensorflow:Assets written to: /home/user/workdir/main/src/model/nitrate/scaled_o3/input6/final_model-36-18.54/assets\n"
     ]
    },
    {
     "name": "stderr",
     "output_type": "stream",
     "text": [
      "INFO:tensorflow:Assets written to: /home/user/workdir/main/src/model/nitrate/scaled_o3/input6/final_model-36-18.54/assets\n"
     ]
    },
    {
     "name": "stdout",
     "output_type": "stream",
     "text": [
      "3/3 [==============================] - 11s 5s/step - loss: 9.2847 - val_loss: 18.5438 - lr: 0.0010\n",
      "Epoch 37/1000\n",
      "3/3 [==============================] - ETA: 0s - loss: 9.0910INFO:tensorflow:Assets written to: /home/user/workdir/main/src/model/nitrate/scaled_o3/input6/final_model-37-18.25/assets\n"
     ]
    },
    {
     "name": "stderr",
     "output_type": "stream",
     "text": [
      "INFO:tensorflow:Assets written to: /home/user/workdir/main/src/model/nitrate/scaled_o3/input6/final_model-37-18.25/assets\n"
     ]
    },
    {
     "name": "stdout",
     "output_type": "stream",
     "text": [
      "3/3 [==============================] - 10s 5s/step - loss: 9.0910 - val_loss: 18.2455 - lr: 0.0010\n",
      "Epoch 38/1000\n",
      "3/3 [==============================] - ETA: 0s - loss: 8.8971INFO:tensorflow:Assets written to: /home/user/workdir/main/src/model/nitrate/scaled_o3/input6/final_model-38-18.01/assets\n"
     ]
    },
    {
     "name": "stderr",
     "output_type": "stream",
     "text": [
      "INFO:tensorflow:Assets written to: /home/user/workdir/main/src/model/nitrate/scaled_o3/input6/final_model-38-18.01/assets\n"
     ]
    },
    {
     "name": "stdout",
     "output_type": "stream",
     "text": [
      "3/3 [==============================] - 10s 5s/step - loss: 8.8971 - val_loss: 18.0140 - lr: 0.0010\n",
      "Epoch 39/1000\n",
      "3/3 [==============================] - ETA: 0s - loss: 8.7002INFO:tensorflow:Assets written to: /home/user/workdir/main/src/model/nitrate/scaled_o3/input6/final_model-39-17.70/assets\n"
     ]
    },
    {
     "name": "stderr",
     "output_type": "stream",
     "text": [
      "INFO:tensorflow:Assets written to: /home/user/workdir/main/src/model/nitrate/scaled_o3/input6/final_model-39-17.70/assets\n"
     ]
    },
    {
     "name": "stdout",
     "output_type": "stream",
     "text": [
      "3/3 [==============================] - 10s 5s/step - loss: 8.7002 - val_loss: 17.6986 - lr: 0.0010\n",
      "Epoch 40/1000\n",
      "3/3 [==============================] - ETA: 0s - loss: 8.5091INFO:tensorflow:Assets written to: /home/user/workdir/main/src/model/nitrate/scaled_o3/input6/final_model-40-17.50/assets\n"
     ]
    },
    {
     "name": "stderr",
     "output_type": "stream",
     "text": [
      "INFO:tensorflow:Assets written to: /home/user/workdir/main/src/model/nitrate/scaled_o3/input6/final_model-40-17.50/assets\n"
     ]
    },
    {
     "name": "stdout",
     "output_type": "stream",
     "text": [
      "3/3 [==============================] - 10s 5s/step - loss: 8.5091 - val_loss: 17.5028 - lr: 0.0010\n",
      "Epoch 41/1000\n",
      "3/3 [==============================] - ETA: 0s - loss: 8.3191INFO:tensorflow:Assets written to: /home/user/workdir/main/src/model/nitrate/scaled_o3/input6/final_model-41-17.29/assets\n"
     ]
    },
    {
     "name": "stderr",
     "output_type": "stream",
     "text": [
      "INFO:tensorflow:Assets written to: /home/user/workdir/main/src/model/nitrate/scaled_o3/input6/final_model-41-17.29/assets\n"
     ]
    },
    {
     "name": "stdout",
     "output_type": "stream",
     "text": [
      "3/3 [==============================] - 9s 4s/step - loss: 8.3191 - val_loss: 17.2856 - lr: 0.0010\n",
      "Epoch 42/1000\n",
      "3/3 [==============================] - ETA: 0s - loss: 8.1316INFO:tensorflow:Assets written to: /home/user/workdir/main/src/model/nitrate/scaled_o3/input6/final_model-42-17.11/assets\n"
     ]
    },
    {
     "name": "stderr",
     "output_type": "stream",
     "text": [
      "INFO:tensorflow:Assets written to: /home/user/workdir/main/src/model/nitrate/scaled_o3/input6/final_model-42-17.11/assets\n"
     ]
    },
    {
     "name": "stdout",
     "output_type": "stream",
     "text": [
      "3/3 [==============================] - 11s 5s/step - loss: 8.1316 - val_loss: 17.1123 - lr: 0.0010\n",
      "Epoch 43/1000\n",
      "3/3 [==============================] - ETA: 0s - loss: 7.9465INFO:tensorflow:Assets written to: /home/user/workdir/main/src/model/nitrate/scaled_o3/input6/final_model-43-16.88/assets\n"
     ]
    },
    {
     "name": "stderr",
     "output_type": "stream",
     "text": [
      "INFO:tensorflow:Assets written to: /home/user/workdir/main/src/model/nitrate/scaled_o3/input6/final_model-43-16.88/assets\n"
     ]
    },
    {
     "name": "stdout",
     "output_type": "stream",
     "text": [
      "3/3 [==============================] - 10s 5s/step - loss: 7.9465 - val_loss: 16.8817 - lr: 0.0010\n",
      "Epoch 44/1000\n",
      "3/3 [==============================] - ETA: 0s - loss: 7.7616INFO:tensorflow:Assets written to: /home/user/workdir/main/src/model/nitrate/scaled_o3/input6/final_model-44-16.79/assets\n"
     ]
    },
    {
     "name": "stderr",
     "output_type": "stream",
     "text": [
      "INFO:tensorflow:Assets written to: /home/user/workdir/main/src/model/nitrate/scaled_o3/input6/final_model-44-16.79/assets\n"
     ]
    },
    {
     "name": "stdout",
     "output_type": "stream",
     "text": [
      "3/3 [==============================] - 10s 5s/step - loss: 7.7616 - val_loss: 16.7859 - lr: 0.0010\n",
      "Epoch 45/1000\n",
      "3/3 [==============================] - ETA: 0s - loss: 7.5783INFO:tensorflow:Assets written to: /home/user/workdir/main/src/model/nitrate/scaled_o3/input6/final_model-45-16.57/assets\n"
     ]
    },
    {
     "name": "stderr",
     "output_type": "stream",
     "text": [
      "INFO:tensorflow:Assets written to: /home/user/workdir/main/src/model/nitrate/scaled_o3/input6/final_model-45-16.57/assets\n"
     ]
    },
    {
     "name": "stdout",
     "output_type": "stream",
     "text": [
      "3/3 [==============================] - 9s 4s/step - loss: 7.5783 - val_loss: 16.5673 - lr: 0.0010\n",
      "Epoch 46/1000\n",
      "3/3 [==============================] - ETA: 0s - loss: 7.3969INFO:tensorflow:Assets written to: /home/user/workdir/main/src/model/nitrate/scaled_o3/input6/final_model-46-16.45/assets\n"
     ]
    },
    {
     "name": "stderr",
     "output_type": "stream",
     "text": [
      "INFO:tensorflow:Assets written to: /home/user/workdir/main/src/model/nitrate/scaled_o3/input6/final_model-46-16.45/assets\n"
     ]
    },
    {
     "name": "stdout",
     "output_type": "stream",
     "text": [
      "3/3 [==============================] - 11s 5s/step - loss: 7.3969 - val_loss: 16.4486 - lr: 0.0010\n",
      "Epoch 47/1000\n",
      "3/3 [==============================] - ETA: 0s - loss: 7.2155INFO:tensorflow:Assets written to: /home/user/workdir/main/src/model/nitrate/scaled_o3/input6/final_model-47-16.18/assets\n"
     ]
    },
    {
     "name": "stderr",
     "output_type": "stream",
     "text": [
      "INFO:tensorflow:Assets written to: /home/user/workdir/main/src/model/nitrate/scaled_o3/input6/final_model-47-16.18/assets\n"
     ]
    },
    {
     "name": "stdout",
     "output_type": "stream",
     "text": [
      "3/3 [==============================] - 10s 5s/step - loss: 7.2155 - val_loss: 16.1786 - lr: 0.0010\n",
      "Epoch 48/1000\n",
      "2/3 [===================>..........] - ETA: 0s - loss: 7.0744INFO:tensorflow:Assets written to: /home/user/workdir/main/src/model/nitrate/scaled_o3/input6/final_model-48-16.10/assets\n"
     ]
    },
    {
     "name": "stderr",
     "output_type": "stream",
     "text": [
      "INFO:tensorflow:Assets written to: /home/user/workdir/main/src/model/nitrate/scaled_o3/input6/final_model-48-16.10/assets\n"
     ]
    },
    {
     "name": "stdout",
     "output_type": "stream",
     "text": [
      "3/3 [==============================] - 9s 4s/step - loss: 7.0382 - val_loss: 16.0958 - lr: 0.0010\n",
      "Epoch 49/1000\n",
      "3/3 [==============================] - ETA: 0s - loss: 6.8634INFO:tensorflow:Assets written to: /home/user/workdir/main/src/model/nitrate/scaled_o3/input6/final_model-49-15.89/assets\n"
     ]
    },
    {
     "name": "stderr",
     "output_type": "stream",
     "text": [
      "INFO:tensorflow:Assets written to: /home/user/workdir/main/src/model/nitrate/scaled_o3/input6/final_model-49-15.89/assets\n"
     ]
    },
    {
     "name": "stdout",
     "output_type": "stream",
     "text": [
      "3/3 [==============================] - 11s 5s/step - loss: 6.8634 - val_loss: 15.8881 - lr: 0.0010\n",
      "Epoch 50/1000\n",
      "3/3 [==============================] - ETA: 0s - loss: 6.6908INFO:tensorflow:Assets written to: /home/user/workdir/main/src/model/nitrate/scaled_o3/input6/final_model-50-15.73/assets\n"
     ]
    },
    {
     "name": "stderr",
     "output_type": "stream",
     "text": [
      "INFO:tensorflow:Assets written to: /home/user/workdir/main/src/model/nitrate/scaled_o3/input6/final_model-50-15.73/assets\n"
     ]
    },
    {
     "name": "stdout",
     "output_type": "stream",
     "text": [
      "3/3 [==============================] - 11s 5s/step - loss: 6.6908 - val_loss: 15.7344 - lr: 0.0010\n",
      "Epoch 51/1000\n",
      "3/3 [==============================] - ETA: 0s - loss: 6.5199INFO:tensorflow:Assets written to: /home/user/workdir/main/src/model/nitrate/scaled_o3/input6/final_model-51-15.46/assets\n"
     ]
    },
    {
     "name": "stderr",
     "output_type": "stream",
     "text": [
      "INFO:tensorflow:Assets written to: /home/user/workdir/main/src/model/nitrate/scaled_o3/input6/final_model-51-15.46/assets\n"
     ]
    },
    {
     "name": "stdout",
     "output_type": "stream",
     "text": [
      "3/3 [==============================] - 11s 5s/step - loss: 6.5199 - val_loss: 15.4609 - lr: 0.0010\n",
      "Epoch 52/1000\n",
      "3/3 [==============================] - ETA: 0s - loss: 6.3521INFO:tensorflow:Assets written to: /home/user/workdir/main/src/model/nitrate/scaled_o3/input6/final_model-52-15.22/assets\n"
     ]
    },
    {
     "name": "stderr",
     "output_type": "stream",
     "text": [
      "INFO:tensorflow:Assets written to: /home/user/workdir/main/src/model/nitrate/scaled_o3/input6/final_model-52-15.22/assets\n"
     ]
    },
    {
     "name": "stdout",
     "output_type": "stream",
     "text": [
      "3/3 [==============================] - 9s 4s/step - loss: 6.3521 - val_loss: 15.2186 - lr: 0.0010\n",
      "Epoch 53/1000\n",
      "3/3 [==============================] - ETA: 0s - loss: 6.1899INFO:tensorflow:Assets written to: /home/user/workdir/main/src/model/nitrate/scaled_o3/input6/final_model-53-14.99/assets\n"
     ]
    },
    {
     "name": "stderr",
     "output_type": "stream",
     "text": [
      "INFO:tensorflow:Assets written to: /home/user/workdir/main/src/model/nitrate/scaled_o3/input6/final_model-53-14.99/assets\n"
     ]
    },
    {
     "name": "stdout",
     "output_type": "stream",
     "text": [
      "3/3 [==============================] - 11s 5s/step - loss: 6.1899 - val_loss: 14.9894 - lr: 0.0010\n",
      "Epoch 54/1000\n",
      "3/3 [==============================] - ETA: 0s - loss: 6.0302INFO:tensorflow:Assets written to: /home/user/workdir/main/src/model/nitrate/scaled_o3/input6/final_model-54-14.76/assets\n"
     ]
    },
    {
     "name": "stderr",
     "output_type": "stream",
     "text": [
      "INFO:tensorflow:Assets written to: /home/user/workdir/main/src/model/nitrate/scaled_o3/input6/final_model-54-14.76/assets\n"
     ]
    },
    {
     "name": "stdout",
     "output_type": "stream",
     "text": [
      "3/3 [==============================] - 11s 5s/step - loss: 6.0302 - val_loss: 14.7623 - lr: 0.0010\n",
      "Epoch 55/1000\n",
      "2/3 [===================>..........] - ETA: 0s - loss: 5.8647INFO:tensorflow:Assets written to: /home/user/workdir/main/src/model/nitrate/scaled_o3/input6/final_model-55-14.58/assets\n"
     ]
    },
    {
     "name": "stderr",
     "output_type": "stream",
     "text": [
      "INFO:tensorflow:Assets written to: /home/user/workdir/main/src/model/nitrate/scaled_o3/input6/final_model-55-14.58/assets\n"
     ]
    },
    {
     "name": "stdout",
     "output_type": "stream",
     "text": [
      "3/3 [==============================] - 9s 4s/step - loss: 5.8710 - val_loss: 14.5848 - lr: 0.0010\n",
      "Epoch 56/1000\n",
      "3/3 [==============================] - ETA: 0s - loss: 5.7152INFO:tensorflow:Assets written to: /home/user/workdir/main/src/model/nitrate/scaled_o3/input6/final_model-56-14.30/assets\n"
     ]
    },
    {
     "name": "stderr",
     "output_type": "stream",
     "text": [
      "INFO:tensorflow:Assets written to: /home/user/workdir/main/src/model/nitrate/scaled_o3/input6/final_model-56-14.30/assets\n"
     ]
    },
    {
     "name": "stdout",
     "output_type": "stream",
     "text": [
      "3/3 [==============================] - 11s 5s/step - loss: 5.7152 - val_loss: 14.3034 - lr: 0.0010\n",
      "Epoch 57/1000\n",
      "3/3 [==============================] - ETA: 0s - loss: 5.5601INFO:tensorflow:Assets written to: /home/user/workdir/main/src/model/nitrate/scaled_o3/input6/final_model-57-14.04/assets\n"
     ]
    },
    {
     "name": "stderr",
     "output_type": "stream",
     "text": [
      "INFO:tensorflow:Assets written to: /home/user/workdir/main/src/model/nitrate/scaled_o3/input6/final_model-57-14.04/assets\n"
     ]
    },
    {
     "name": "stdout",
     "output_type": "stream",
     "text": [
      "3/3 [==============================] - 11s 5s/step - loss: 5.5601 - val_loss: 14.0372 - lr: 0.0010\n",
      "Epoch 58/1000\n",
      "3/3 [==============================] - ETA: 0s - loss: 5.4128INFO:tensorflow:Assets written to: /home/user/workdir/main/src/model/nitrate/scaled_o3/input6/final_model-58-13.73/assets\n"
     ]
    },
    {
     "name": "stderr",
     "output_type": "stream",
     "text": [
      "INFO:tensorflow:Assets written to: /home/user/workdir/main/src/model/nitrate/scaled_o3/input6/final_model-58-13.73/assets\n"
     ]
    },
    {
     "name": "stdout",
     "output_type": "stream",
     "text": [
      "3/3 [==============================] - 9s 4s/step - loss: 5.4128 - val_loss: 13.7259 - lr: 0.0010\n",
      "Epoch 59/1000\n",
      "2/3 [===================>..........] - ETA: 0s - loss: 5.2729INFO:tensorflow:Assets written to: /home/user/workdir/main/src/model/nitrate/scaled_o3/input6/final_model-59-13.49/assets\n"
     ]
    },
    {
     "name": "stderr",
     "output_type": "stream",
     "text": [
      "INFO:tensorflow:Assets written to: /home/user/workdir/main/src/model/nitrate/scaled_o3/input6/final_model-59-13.49/assets\n"
     ]
    },
    {
     "name": "stdout",
     "output_type": "stream",
     "text": [
      "3/3 [==============================] - 11s 5s/step - loss: 5.2672 - val_loss: 13.4881 - lr: 0.0010\n",
      "Epoch 60/1000\n",
      "3/3 [==============================] - ETA: 0s - loss: 5.1204INFO:tensorflow:Assets written to: /home/user/workdir/main/src/model/nitrate/scaled_o3/input6/final_model-60-13.25/assets\n"
     ]
    },
    {
     "name": "stderr",
     "output_type": "stream",
     "text": [
      "INFO:tensorflow:Assets written to: /home/user/workdir/main/src/model/nitrate/scaled_o3/input6/final_model-60-13.25/assets\n"
     ]
    },
    {
     "name": "stdout",
     "output_type": "stream",
     "text": [
      "3/3 [==============================] - 11s 5s/step - loss: 5.1204 - val_loss: 13.2495 - lr: 0.0010\n",
      "Epoch 61/1000\n",
      "2/3 [===================>..........] - ETA: 0s - loss: 4.9839INFO:tensorflow:Assets written to: /home/user/workdir/main/src/model/nitrate/scaled_o3/input6/final_model-61-13.17/assets\n"
     ]
    },
    {
     "name": "stderr",
     "output_type": "stream",
     "text": [
      "INFO:tensorflow:Assets written to: /home/user/workdir/main/src/model/nitrate/scaled_o3/input6/final_model-61-13.17/assets\n"
     ]
    },
    {
     "name": "stdout",
     "output_type": "stream",
     "text": [
      "3/3 [==============================] - 9s 4s/step - loss: 4.9775 - val_loss: 13.1669 - lr: 0.0010\n",
      "Epoch 62/1000\n",
      "2/3 [===================>..........] - ETA: 0s - loss: 4.8452INFO:tensorflow:Assets written to: /home/user/workdir/main/src/model/nitrate/scaled_o3/input6/final_model-62-12.92/assets\n"
     ]
    },
    {
     "name": "stderr",
     "output_type": "stream",
     "text": [
      "INFO:tensorflow:Assets written to: /home/user/workdir/main/src/model/nitrate/scaled_o3/input6/final_model-62-12.92/assets\n"
     ]
    },
    {
     "name": "stdout",
     "output_type": "stream",
     "text": [
      "3/3 [==============================] - 11s 5s/step - loss: 4.8380 - val_loss: 12.9173 - lr: 0.0010\n",
      "Epoch 63/1000\n",
      "3/3 [==============================] - ETA: 0s - loss: 4.7011INFO:tensorflow:Assets written to: /home/user/workdir/main/src/model/nitrate/scaled_o3/input6/final_model-63-12.57/assets\n"
     ]
    },
    {
     "name": "stderr",
     "output_type": "stream",
     "text": [
      "INFO:tensorflow:Assets written to: /home/user/workdir/main/src/model/nitrate/scaled_o3/input6/final_model-63-12.57/assets\n"
     ]
    },
    {
     "name": "stdout",
     "output_type": "stream",
     "text": [
      "3/3 [==============================] - 11s 5s/step - loss: 4.7011 - val_loss: 12.5708 - lr: 0.0010\n",
      "Epoch 64/1000\n",
      "2/3 [===================>..........] - ETA: 0s - loss: 4.5611INFO:tensorflow:Assets written to: /home/user/workdir/main/src/model/nitrate/scaled_o3/input6/final_model-64-12.35/assets\n"
     ]
    },
    {
     "name": "stderr",
     "output_type": "stream",
     "text": [
      "INFO:tensorflow:Assets written to: /home/user/workdir/main/src/model/nitrate/scaled_o3/input6/final_model-64-12.35/assets\n"
     ]
    },
    {
     "name": "stdout",
     "output_type": "stream",
     "text": [
      "3/3 [==============================] - 9s 4s/step - loss: 4.5663 - val_loss: 12.3484 - lr: 0.0010\n",
      "Epoch 65/1000\n",
      "2/3 [===================>..........] - ETA: 0s - loss: 4.4300INFO:tensorflow:Assets written to: /home/user/workdir/main/src/model/nitrate/scaled_o3/input6/final_model-65-12.06/assets\n"
     ]
    },
    {
     "name": "stderr",
     "output_type": "stream",
     "text": [
      "INFO:tensorflow:Assets written to: /home/user/workdir/main/src/model/nitrate/scaled_o3/input6/final_model-65-12.06/assets\n"
     ]
    },
    {
     "name": "stdout",
     "output_type": "stream",
     "text": [
      "3/3 [==============================] - 11s 5s/step - loss: 4.4324 - val_loss: 12.0592 - lr: 0.0010\n",
      "Epoch 66/1000\n",
      "3/3 [==============================] - ETA: 0s - loss: 4.3034INFO:tensorflow:Assets written to: /home/user/workdir/main/src/model/nitrate/scaled_o3/input6/final_model-66-11.78/assets\n"
     ]
    },
    {
     "name": "stderr",
     "output_type": "stream",
     "text": [
      "INFO:tensorflow:Assets written to: /home/user/workdir/main/src/model/nitrate/scaled_o3/input6/final_model-66-11.78/assets\n"
     ]
    },
    {
     "name": "stdout",
     "output_type": "stream",
     "text": [
      "3/3 [==============================] - 9s 4s/step - loss: 4.3034 - val_loss: 11.7812 - lr: 0.0010\n",
      "Epoch 67/1000\n",
      "3/3 [==============================] - ETA: 0s - loss: 4.1761INFO:tensorflow:Assets written to: /home/user/workdir/main/src/model/nitrate/scaled_o3/input6/final_model-67-11.57/assets\n"
     ]
    },
    {
     "name": "stderr",
     "output_type": "stream",
     "text": [
      "INFO:tensorflow:Assets written to: /home/user/workdir/main/src/model/nitrate/scaled_o3/input6/final_model-67-11.57/assets\n"
     ]
    },
    {
     "name": "stdout",
     "output_type": "stream",
     "text": [
      "3/3 [==============================] - 11s 6s/step - loss: 4.1761 - val_loss: 11.5743 - lr: 0.0010\n",
      "Epoch 68/1000\n",
      "3/3 [==============================] - ETA: 0s - loss: 4.0534INFO:tensorflow:Assets written to: /home/user/workdir/main/src/model/nitrate/scaled_o3/input6/final_model-68-11.32/assets\n"
     ]
    },
    {
     "name": "stderr",
     "output_type": "stream",
     "text": [
      "INFO:tensorflow:Assets written to: /home/user/workdir/main/src/model/nitrate/scaled_o3/input6/final_model-68-11.32/assets\n"
     ]
    },
    {
     "name": "stdout",
     "output_type": "stream",
     "text": [
      "3/3 [==============================] - 11s 5s/step - loss: 4.0534 - val_loss: 11.3162 - lr: 0.0010\n",
      "Epoch 69/1000\n",
      "3/3 [==============================] - ETA: 0s - loss: 3.9291INFO:tensorflow:Assets written to: /home/user/workdir/main/src/model/nitrate/scaled_o3/input6/final_model-69-11.09/assets\n"
     ]
    },
    {
     "name": "stderr",
     "output_type": "stream",
     "text": [
      "INFO:tensorflow:Assets written to: /home/user/workdir/main/src/model/nitrate/scaled_o3/input6/final_model-69-11.09/assets\n"
     ]
    },
    {
     "name": "stdout",
     "output_type": "stream",
     "text": [
      "3/3 [==============================] - 9s 4s/step - loss: 3.9291 - val_loss: 11.0905 - lr: 0.0010\n",
      "Epoch 70/1000\n",
      "2/3 [===================>..........] - ETA: 0s - loss: 3.8107INFO:tensorflow:Assets written to: /home/user/workdir/main/src/model/nitrate/scaled_o3/input6/final_model-70-10.80/assets\n"
     ]
    },
    {
     "name": "stderr",
     "output_type": "stream",
     "text": [
      "INFO:tensorflow:Assets written to: /home/user/workdir/main/src/model/nitrate/scaled_o3/input6/final_model-70-10.80/assets\n"
     ]
    },
    {
     "name": "stdout",
     "output_type": "stream",
     "text": [
      "3/3 [==============================] - 11s 5s/step - loss: 3.8082 - val_loss: 10.7992 - lr: 0.0010\n",
      "Epoch 71/1000\n",
      "2/3 [===================>..........] - ETA: 0s - loss: 3.6906INFO:tensorflow:Assets written to: /home/user/workdir/main/src/model/nitrate/scaled_o3/input6/final_model-71-10.63/assets\n"
     ]
    },
    {
     "name": "stderr",
     "output_type": "stream",
     "text": [
      "INFO:tensorflow:Assets written to: /home/user/workdir/main/src/model/nitrate/scaled_o3/input6/final_model-71-10.63/assets\n"
     ]
    },
    {
     "name": "stdout",
     "output_type": "stream",
     "text": [
      "3/3 [==============================] - 9s 4s/step - loss: 3.6910 - val_loss: 10.6271 - lr: 0.0010\n",
      "Epoch 72/1000\n",
      "3/3 [==============================] - ETA: 0s - loss: 3.5763INFO:tensorflow:Assets written to: /home/user/workdir/main/src/model/nitrate/scaled_o3/input6/final_model-72-10.33/assets\n"
     ]
    },
    {
     "name": "stderr",
     "output_type": "stream",
     "text": [
      "INFO:tensorflow:Assets written to: /home/user/workdir/main/src/model/nitrate/scaled_o3/input6/final_model-72-10.33/assets\n"
     ]
    },
    {
     "name": "stdout",
     "output_type": "stream",
     "text": [
      "3/3 [==============================] - 11s 6s/step - loss: 3.5763 - val_loss: 10.3293 - lr: 0.0010\n",
      "Epoch 73/1000\n",
      "3/3 [==============================] - ETA: 0s - loss: 3.4636INFO:tensorflow:Assets written to: /home/user/workdir/main/src/model/nitrate/scaled_o3/input6/final_model-73-10.02/assets\n"
     ]
    },
    {
     "name": "stderr",
     "output_type": "stream",
     "text": [
      "INFO:tensorflow:Assets written to: /home/user/workdir/main/src/model/nitrate/scaled_o3/input6/final_model-73-10.02/assets\n"
     ]
    },
    {
     "name": "stdout",
     "output_type": "stream",
     "text": [
      "3/3 [==============================] - 11s 5s/step - loss: 3.4636 - val_loss: 10.0192 - lr: 0.0010\n",
      "Epoch 74/1000\n",
      "3/3 [==============================] - ETA: 0s - loss: 3.3549INFO:tensorflow:Assets written to: /home/user/workdir/main/src/model/nitrate/scaled_o3/input6/final_model-74-9.89/assets\n"
     ]
    },
    {
     "name": "stderr",
     "output_type": "stream",
     "text": [
      "INFO:tensorflow:Assets written to: /home/user/workdir/main/src/model/nitrate/scaled_o3/input6/final_model-74-9.89/assets\n"
     ]
    },
    {
     "name": "stdout",
     "output_type": "stream",
     "text": [
      "3/3 [==============================] - 9s 4s/step - loss: 3.3549 - val_loss: 9.8893 - lr: 0.0010\n",
      "Epoch 75/1000\n",
      "3/3 [==============================] - ETA: 0s - loss: 3.2477INFO:tensorflow:Assets written to: /home/user/workdir/main/src/model/nitrate/scaled_o3/input6/final_model-75-9.78/assets\n"
     ]
    },
    {
     "name": "stderr",
     "output_type": "stream",
     "text": [
      "INFO:tensorflow:Assets written to: /home/user/workdir/main/src/model/nitrate/scaled_o3/input6/final_model-75-9.78/assets\n"
     ]
    },
    {
     "name": "stdout",
     "output_type": "stream",
     "text": [
      "3/3 [==============================] - 11s 6s/step - loss: 3.2477 - val_loss: 9.7818 - lr: 0.0010\n",
      "Epoch 76/1000\n",
      "3/3 [==============================] - ETA: 0s - loss: 3.1433INFO:tensorflow:Assets written to: /home/user/workdir/main/src/model/nitrate/scaled_o3/input6/final_model-76-9.49/assets\n"
     ]
    },
    {
     "name": "stderr",
     "output_type": "stream",
     "text": [
      "INFO:tensorflow:Assets written to: /home/user/workdir/main/src/model/nitrate/scaled_o3/input6/final_model-76-9.49/assets\n"
     ]
    },
    {
     "name": "stdout",
     "output_type": "stream",
     "text": [
      "3/3 [==============================] - 9s 4s/step - loss: 3.1433 - val_loss: 9.4922 - lr: 0.0010\n",
      "Epoch 77/1000\n",
      "3/3 [==============================] - ETA: 0s - loss: 3.0429INFO:tensorflow:Assets written to: /home/user/workdir/main/src/model/nitrate/scaled_o3/input6/final_model-77-9.38/assets\n"
     ]
    },
    {
     "name": "stderr",
     "output_type": "stream",
     "text": [
      "INFO:tensorflow:Assets written to: /home/user/workdir/main/src/model/nitrate/scaled_o3/input6/final_model-77-9.38/assets\n"
     ]
    },
    {
     "name": "stdout",
     "output_type": "stream",
     "text": [
      "3/3 [==============================] - 11s 6s/step - loss: 3.0429 - val_loss: 9.3780 - lr: 0.0010\n",
      "Epoch 78/1000\n",
      "2/3 [===================>..........] - ETA: 0s - loss: 2.9420INFO:tensorflow:Assets written to: /home/user/workdir/main/src/model/nitrate/scaled_o3/input6/final_model-78-9.04/assets\n"
     ]
    },
    {
     "name": "stderr",
     "output_type": "stream",
     "text": [
      "INFO:tensorflow:Assets written to: /home/user/workdir/main/src/model/nitrate/scaled_o3/input6/final_model-78-9.04/assets\n"
     ]
    },
    {
     "name": "stdout",
     "output_type": "stream",
     "text": [
      "3/3 [==============================] - 9s 4s/step - loss: 2.9431 - val_loss: 9.0418 - lr: 0.0010\n",
      "Epoch 79/1000\n",
      "3/3 [==============================] - ETA: 0s - loss: 2.8467INFO:tensorflow:Assets written to: /home/user/workdir/main/src/model/nitrate/scaled_o3/input6/final_model-79-8.70/assets\n"
     ]
    },
    {
     "name": "stderr",
     "output_type": "stream",
     "text": [
      "INFO:tensorflow:Assets written to: /home/user/workdir/main/src/model/nitrate/scaled_o3/input6/final_model-79-8.70/assets\n"
     ]
    },
    {
     "name": "stdout",
     "output_type": "stream",
     "text": [
      "3/3 [==============================] - 11s 6s/step - loss: 2.8467 - val_loss: 8.7017 - lr: 0.0010\n",
      "Epoch 80/1000\n",
      "3/3 [==============================] - ETA: 0s - loss: 2.7513INFO:tensorflow:Assets written to: /home/user/workdir/main/src/model/nitrate/scaled_o3/input6/final_model-80-8.51/assets\n"
     ]
    },
    {
     "name": "stderr",
     "output_type": "stream",
     "text": [
      "INFO:tensorflow:Assets written to: /home/user/workdir/main/src/model/nitrate/scaled_o3/input6/final_model-80-8.51/assets\n"
     ]
    },
    {
     "name": "stdout",
     "output_type": "stream",
     "text": [
      "3/3 [==============================] - 11s 5s/step - loss: 2.7513 - val_loss: 8.5120 - lr: 0.0010\n",
      "Epoch 81/1000\n",
      "3/3 [==============================] - ETA: 0s - loss: 2.6586INFO:tensorflow:Assets written to: /home/user/workdir/main/src/model/nitrate/scaled_o3/input6/final_model-81-8.35/assets\n"
     ]
    },
    {
     "name": "stderr",
     "output_type": "stream",
     "text": [
      "INFO:tensorflow:Assets written to: /home/user/workdir/main/src/model/nitrate/scaled_o3/input6/final_model-81-8.35/assets\n"
     ]
    },
    {
     "name": "stdout",
     "output_type": "stream",
     "text": [
      "3/3 [==============================] - 9s 4s/step - loss: 2.6586 - val_loss: 8.3477 - lr: 0.0010\n",
      "Epoch 82/1000\n",
      "2/3 [===================>..........] - ETA: 0s - loss: 2.5864INFO:tensorflow:Assets written to: /home/user/workdir/main/src/model/nitrate/scaled_o3/input6/final_model-82-8.25/assets\n"
     ]
    },
    {
     "name": "stderr",
     "output_type": "stream",
     "text": [
      "INFO:tensorflow:Assets written to: /home/user/workdir/main/src/model/nitrate/scaled_o3/input6/final_model-82-8.25/assets\n"
     ]
    },
    {
     "name": "stdout",
     "output_type": "stream",
     "text": [
      "3/3 [==============================] - 11s 6s/step - loss: 2.5701 - val_loss: 8.2466 - lr: 0.0010\n",
      "Epoch 83/1000\n",
      "3/3 [==============================] - ETA: 0s - loss: 2.4822INFO:tensorflow:Assets written to: /home/user/workdir/main/src/model/nitrate/scaled_o3/input6/final_model-83-7.96/assets\n"
     ]
    },
    {
     "name": "stderr",
     "output_type": "stream",
     "text": [
      "INFO:tensorflow:Assets written to: /home/user/workdir/main/src/model/nitrate/scaled_o3/input6/final_model-83-7.96/assets\n"
     ]
    },
    {
     "name": "stdout",
     "output_type": "stream",
     "text": [
      "3/3 [==============================] - 9s 4s/step - loss: 2.4822 - val_loss: 7.9561 - lr: 0.0010\n",
      "Epoch 84/1000\n",
      "2/3 [===================>..........] - ETA: 0s - loss: 2.3936INFO:tensorflow:Assets written to: /home/user/workdir/main/src/model/nitrate/scaled_o3/input6/final_model-84-7.74/assets\n"
     ]
    },
    {
     "name": "stderr",
     "output_type": "stream",
     "text": [
      "INFO:tensorflow:Assets written to: /home/user/workdir/main/src/model/nitrate/scaled_o3/input6/final_model-84-7.74/assets\n"
     ]
    },
    {
     "name": "stdout",
     "output_type": "stream",
     "text": [
      "3/3 [==============================] - 11s 6s/step - loss: 2.3941 - val_loss: 7.7422 - lr: 0.0010\n",
      "Epoch 85/1000\n",
      "3/3 [==============================] - ETA: 0s - loss: 2.3087INFO:tensorflow:Assets written to: /home/user/workdir/main/src/model/nitrate/scaled_o3/input6/final_model-85-7.57/assets\n"
     ]
    },
    {
     "name": "stderr",
     "output_type": "stream",
     "text": [
      "INFO:tensorflow:Assets written to: /home/user/workdir/main/src/model/nitrate/scaled_o3/input6/final_model-85-7.57/assets\n"
     ]
    },
    {
     "name": "stdout",
     "output_type": "stream",
     "text": [
      "3/3 [==============================] - 9s 4s/step - loss: 2.3087 - val_loss: 7.5696 - lr: 0.0010\n",
      "Epoch 86/1000\n",
      "3/3 [==============================] - ETA: 0s - loss: 2.2271INFO:tensorflow:Assets written to: /home/user/workdir/main/src/model/nitrate/scaled_o3/input6/final_model-86-7.43/assets\n"
     ]
    },
    {
     "name": "stderr",
     "output_type": "stream",
     "text": [
      "INFO:tensorflow:Assets written to: /home/user/workdir/main/src/model/nitrate/scaled_o3/input6/final_model-86-7.43/assets\n"
     ]
    },
    {
     "name": "stdout",
     "output_type": "stream",
     "text": [
      "3/3 [==============================] - 11s 6s/step - loss: 2.2271 - val_loss: 7.4336 - lr: 0.0010\n",
      "Epoch 87/1000\n",
      "3/3 [==============================] - ETA: 0s - loss: 2.1471INFO:tensorflow:Assets written to: /home/user/workdir/main/src/model/nitrate/scaled_o3/input6/final_model-87-7.32/assets\n"
     ]
    },
    {
     "name": "stderr",
     "output_type": "stream",
     "text": [
      "INFO:tensorflow:Assets written to: /home/user/workdir/main/src/model/nitrate/scaled_o3/input6/final_model-87-7.32/assets\n"
     ]
    },
    {
     "name": "stdout",
     "output_type": "stream",
     "text": [
      "3/3 [==============================] - 9s 4s/step - loss: 2.1471 - val_loss: 7.3197 - lr: 0.0010\n",
      "Epoch 88/1000\n",
      "3/3 [==============================] - ETA: 0s - loss: 2.0719INFO:tensorflow:Assets written to: /home/user/workdir/main/src/model/nitrate/scaled_o3/input6/final_model-88-7.14/assets\n"
     ]
    },
    {
     "name": "stderr",
     "output_type": "stream",
     "text": [
      "INFO:tensorflow:Assets written to: /home/user/workdir/main/src/model/nitrate/scaled_o3/input6/final_model-88-7.14/assets\n"
     ]
    },
    {
     "name": "stdout",
     "output_type": "stream",
     "text": [
      "3/3 [==============================] - 11s 6s/step - loss: 2.0719 - val_loss: 7.1409 - lr: 0.0010\n",
      "Epoch 89/1000\n",
      "3/3 [==============================] - ETA: 0s - loss: 1.9961INFO:tensorflow:Assets written to: /home/user/workdir/main/src/model/nitrate/scaled_o3/input6/final_model-89-6.98/assets\n"
     ]
    },
    {
     "name": "stderr",
     "output_type": "stream",
     "text": [
      "INFO:tensorflow:Assets written to: /home/user/workdir/main/src/model/nitrate/scaled_o3/input6/final_model-89-6.98/assets\n"
     ]
    },
    {
     "name": "stdout",
     "output_type": "stream",
     "text": [
      "3/3 [==============================] - 9s 4s/step - loss: 1.9961 - val_loss: 6.9772 - lr: 0.0010\n",
      "Epoch 90/1000\n",
      "3/3 [==============================] - ETA: 0s - loss: 1.9248INFO:tensorflow:Assets written to: /home/user/workdir/main/src/model/nitrate/scaled_o3/input6/final_model-90-6.73/assets\n"
     ]
    },
    {
     "name": "stderr",
     "output_type": "stream",
     "text": [
      "INFO:tensorflow:Assets written to: /home/user/workdir/main/src/model/nitrate/scaled_o3/input6/final_model-90-6.73/assets\n"
     ]
    },
    {
     "name": "stdout",
     "output_type": "stream",
     "text": [
      "3/3 [==============================] - 11s 6s/step - loss: 1.9248 - val_loss: 6.7288 - lr: 0.0010\n",
      "Epoch 91/1000\n",
      "2/3 [===================>..........] - ETA: 0s - loss: 1.8708INFO:tensorflow:Assets written to: /home/user/workdir/main/src/model/nitrate/scaled_o3/input6/final_model-91-6.59/assets\n"
     ]
    },
    {
     "name": "stderr",
     "output_type": "stream",
     "text": [
      "INFO:tensorflow:Assets written to: /home/user/workdir/main/src/model/nitrate/scaled_o3/input6/final_model-91-6.59/assets\n"
     ]
    },
    {
     "name": "stdout",
     "output_type": "stream",
     "text": [
      "3/3 [==============================] - 9s 4s/step - loss: 1.8532 - val_loss: 6.5877 - lr: 0.0010\n",
      "Epoch 92/1000\n",
      "3/3 [==============================] - ETA: 0s - loss: 1.7845INFO:tensorflow:Assets written to: /home/user/workdir/main/src/model/nitrate/scaled_o3/input6/final_model-92-6.38/assets\n"
     ]
    },
    {
     "name": "stderr",
     "output_type": "stream",
     "text": [
      "INFO:tensorflow:Assets written to: /home/user/workdir/main/src/model/nitrate/scaled_o3/input6/final_model-92-6.38/assets\n"
     ]
    },
    {
     "name": "stdout",
     "output_type": "stream",
     "text": [
      "3/3 [==============================] - 12s 6s/step - loss: 1.7845 - val_loss: 6.3822 - lr: 0.0010\n",
      "Epoch 93/1000\n",
      "3/3 [==============================] - ETA: 0s - loss: 1.7197INFO:tensorflow:Assets written to: /home/user/workdir/main/src/model/nitrate/scaled_o3/input6/final_model-93-6.26/assets\n"
     ]
    },
    {
     "name": "stderr",
     "output_type": "stream",
     "text": [
      "INFO:tensorflow:Assets written to: /home/user/workdir/main/src/model/nitrate/scaled_o3/input6/final_model-93-6.26/assets\n"
     ]
    },
    {
     "name": "stdout",
     "output_type": "stream",
     "text": [
      "3/3 [==============================] - 9s 4s/step - loss: 1.7197 - val_loss: 6.2608 - lr: 0.0010\n",
      "Epoch 94/1000\n",
      "3/3 [==============================] - ETA: 0s - loss: 1.6523INFO:tensorflow:Assets written to: /home/user/workdir/main/src/model/nitrate/scaled_o3/input6/final_model-94-6.14/assets\n"
     ]
    },
    {
     "name": "stderr",
     "output_type": "stream",
     "text": [
      "INFO:tensorflow:Assets written to: /home/user/workdir/main/src/model/nitrate/scaled_o3/input6/final_model-94-6.14/assets\n"
     ]
    },
    {
     "name": "stdout",
     "output_type": "stream",
     "text": [
      "3/3 [==============================] - 11s 6s/step - loss: 1.6523 - val_loss: 6.1389 - lr: 0.0010\n",
      "Epoch 95/1000\n",
      "3/3 [==============================] - 0s 191ms/step - loss: 1.5903 - val_loss: 6.1420 - lr: 0.0010\n",
      "Epoch 96/1000\n",
      "3/3 [==============================] - ETA: 0s - loss: 1.5336INFO:tensorflow:Assets written to: /home/user/workdir/main/src/model/nitrate/scaled_o3/input6/final_model-96-5.83/assets\n"
     ]
    },
    {
     "name": "stderr",
     "output_type": "stream",
     "text": [
      "INFO:tensorflow:Assets written to: /home/user/workdir/main/src/model/nitrate/scaled_o3/input6/final_model-96-5.83/assets\n"
     ]
    },
    {
     "name": "stdout",
     "output_type": "stream",
     "text": [
      "3/3 [==============================] - 9s 4s/step - loss: 1.5336 - val_loss: 5.8304 - lr: 0.0010\n",
      "Epoch 97/1000\n",
      "3/3 [==============================] - ETA: 0s - loss: 1.4738INFO:tensorflow:Assets written to: /home/user/workdir/main/src/model/nitrate/scaled_o3/input6/final_model-97-5.63/assets\n"
     ]
    },
    {
     "name": "stderr",
     "output_type": "stream",
     "text": [
      "INFO:tensorflow:Assets written to: /home/user/workdir/main/src/model/nitrate/scaled_o3/input6/final_model-97-5.63/assets\n"
     ]
    },
    {
     "name": "stdout",
     "output_type": "stream",
     "text": [
      "3/3 [==============================] - 11s 6s/step - loss: 1.4738 - val_loss: 5.6302 - lr: 0.0010\n",
      "Epoch 98/1000\n",
      "3/3 [==============================] - ETA: 0s - loss: 1.4170INFO:tensorflow:Assets written to: /home/user/workdir/main/src/model/nitrate/scaled_o3/input6/final_model-98-5.48/assets\n"
     ]
    },
    {
     "name": "stderr",
     "output_type": "stream",
     "text": [
      "INFO:tensorflow:Assets written to: /home/user/workdir/main/src/model/nitrate/scaled_o3/input6/final_model-98-5.48/assets\n"
     ]
    },
    {
     "name": "stdout",
     "output_type": "stream",
     "text": [
      "3/3 [==============================] - 11s 6s/step - loss: 1.4170 - val_loss: 5.4751 - lr: 0.0010\n",
      "Epoch 99/1000\n",
      "3/3 [==============================] - ETA: 0s - loss: 1.3617INFO:tensorflow:Assets written to: /home/user/workdir/main/src/model/nitrate/scaled_o3/input6/final_model-99-5.32/assets\n"
     ]
    },
    {
     "name": "stderr",
     "output_type": "stream",
     "text": [
      "INFO:tensorflow:Assets written to: /home/user/workdir/main/src/model/nitrate/scaled_o3/input6/final_model-99-5.32/assets\n"
     ]
    },
    {
     "name": "stdout",
     "output_type": "stream",
     "text": [
      "3/3 [==============================] - 9s 4s/step - loss: 1.3617 - val_loss: 5.3230 - lr: 0.0010\n",
      "Epoch 100/1000\n",
      "3/3 [==============================] - ETA: 0s - loss: 1.3087INFO:tensorflow:Assets written to: /home/user/workdir/main/src/model/nitrate/scaled_o3/input6/final_model-100-5.11/assets\n"
     ]
    },
    {
     "name": "stderr",
     "output_type": "stream",
     "text": [
      "INFO:tensorflow:Assets written to: /home/user/workdir/main/src/model/nitrate/scaled_o3/input6/final_model-100-5.11/assets\n"
     ]
    },
    {
     "name": "stdout",
     "output_type": "stream",
     "text": [
      "3/3 [==============================] - 9s 4s/step - loss: 1.3087 - val_loss: 5.1060 - lr: 0.0010\n",
      "Epoch 101/1000\n",
      "3/3 [==============================] - ETA: 0s - loss: 1.2564INFO:tensorflow:Assets written to: /home/user/workdir/main/src/model/nitrate/scaled_o3/input6/final_model-101-4.94/assets\n"
     ]
    },
    {
     "name": "stderr",
     "output_type": "stream",
     "text": [
      "INFO:tensorflow:Assets written to: /home/user/workdir/main/src/model/nitrate/scaled_o3/input6/final_model-101-4.94/assets\n"
     ]
    },
    {
     "name": "stdout",
     "output_type": "stream",
     "text": [
      "3/3 [==============================] - 12s 6s/step - loss: 1.2564 - val_loss: 4.9392 - lr: 0.0010\n",
      "Epoch 102/1000\n",
      "3/3 [==============================] - ETA: 0s - loss: 1.2086INFO:tensorflow:Assets written to: /home/user/workdir/main/src/model/nitrate/scaled_o3/input6/final_model-102-4.81/assets\n"
     ]
    },
    {
     "name": "stderr",
     "output_type": "stream",
     "text": [
      "INFO:tensorflow:Assets written to: /home/user/workdir/main/src/model/nitrate/scaled_o3/input6/final_model-102-4.81/assets\n"
     ]
    },
    {
     "name": "stdout",
     "output_type": "stream",
     "text": [
      "3/3 [==============================] - 11s 6s/step - loss: 1.2086 - val_loss: 4.8120 - lr: 0.0010\n",
      "Epoch 103/1000\n",
      "3/3 [==============================] - ETA: 0s - loss: 1.1596INFO:tensorflow:Assets written to: /home/user/workdir/main/src/model/nitrate/scaled_o3/input6/final_model-103-4.71/assets\n"
     ]
    },
    {
     "name": "stderr",
     "output_type": "stream",
     "text": [
      "INFO:tensorflow:Assets written to: /home/user/workdir/main/src/model/nitrate/scaled_o3/input6/final_model-103-4.71/assets\n"
     ]
    },
    {
     "name": "stdout",
     "output_type": "stream",
     "text": [
      "3/3 [==============================] - 9s 4s/step - loss: 1.1596 - val_loss: 4.7131 - lr: 0.0010\n",
      "Epoch 104/1000\n",
      "3/3 [==============================] - ETA: 0s - loss: 1.1160INFO:tensorflow:Assets written to: /home/user/workdir/main/src/model/nitrate/scaled_o3/input6/final_model-104-4.46/assets\n"
     ]
    },
    {
     "name": "stderr",
     "output_type": "stream",
     "text": [
      "INFO:tensorflow:Assets written to: /home/user/workdir/main/src/model/nitrate/scaled_o3/input6/final_model-104-4.46/assets\n"
     ]
    },
    {
     "name": "stdout",
     "output_type": "stream",
     "text": [
      "3/3 [==============================] - 9s 4s/step - loss: 1.1160 - val_loss: 4.4643 - lr: 0.0010\n",
      "Epoch 105/1000\n",
      "3/3 [==============================] - ETA: 0s - loss: 1.0673INFO:tensorflow:Assets written to: /home/user/workdir/main/src/model/nitrate/scaled_o3/input6/final_model-105-4.45/assets\n"
     ]
    },
    {
     "name": "stderr",
     "output_type": "stream",
     "text": [
      "INFO:tensorflow:Assets written to: /home/user/workdir/main/src/model/nitrate/scaled_o3/input6/final_model-105-4.45/assets\n"
     ]
    },
    {
     "name": "stdout",
     "output_type": "stream",
     "text": [
      "3/3 [==============================] - 12s 6s/step - loss: 1.0673 - val_loss: 4.4456 - lr: 0.0010\n",
      "Epoch 106/1000\n",
      "2/3 [===================>..........] - ETA: 0s - loss: 1.0226INFO:tensorflow:Assets written to: /home/user/workdir/main/src/model/nitrate/scaled_o3/input6/final_model-106-4.36/assets\n"
     ]
    },
    {
     "name": "stderr",
     "output_type": "stream",
     "text": [
      "INFO:tensorflow:Assets written to: /home/user/workdir/main/src/model/nitrate/scaled_o3/input6/final_model-106-4.36/assets\n"
     ]
    },
    {
     "name": "stdout",
     "output_type": "stream",
     "text": [
      "3/3 [==============================] - 9s 4s/step - loss: 1.0250 - val_loss: 4.3589 - lr: 0.0010\n",
      "Epoch 107/1000\n",
      "3/3 [==============================] - ETA: 0s - loss: 0.9832INFO:tensorflow:Assets written to: /home/user/workdir/main/src/model/nitrate/scaled_o3/input6/final_model-107-4.18/assets\n"
     ]
    },
    {
     "name": "stderr",
     "output_type": "stream",
     "text": [
      "INFO:tensorflow:Assets written to: /home/user/workdir/main/src/model/nitrate/scaled_o3/input6/final_model-107-4.18/assets\n"
     ]
    },
    {
     "name": "stdout",
     "output_type": "stream",
     "text": [
      "3/3 [==============================] - 12s 6s/step - loss: 0.9832 - val_loss: 4.1819 - lr: 0.0010\n",
      "Epoch 108/1000\n",
      "3/3 [==============================] - ETA: 0s - loss: 0.9427INFO:tensorflow:Assets written to: /home/user/workdir/main/src/model/nitrate/scaled_o3/input6/final_model-108-4.06/assets\n"
     ]
    },
    {
     "name": "stderr",
     "output_type": "stream",
     "text": [
      "INFO:tensorflow:Assets written to: /home/user/workdir/main/src/model/nitrate/scaled_o3/input6/final_model-108-4.06/assets\n"
     ]
    },
    {
     "name": "stdout",
     "output_type": "stream",
     "text": [
      "3/3 [==============================] - 9s 4s/step - loss: 0.9427 - val_loss: 4.0620 - lr: 0.0010\n",
      "Epoch 109/1000\n",
      "3/3 [==============================] - ETA: 0s - loss: 0.9040INFO:tensorflow:Assets written to: /home/user/workdir/main/src/model/nitrate/scaled_o3/input6/final_model-109-3.90/assets\n"
     ]
    },
    {
     "name": "stderr",
     "output_type": "stream",
     "text": [
      "INFO:tensorflow:Assets written to: /home/user/workdir/main/src/model/nitrate/scaled_o3/input6/final_model-109-3.90/assets\n"
     ]
    },
    {
     "name": "stdout",
     "output_type": "stream",
     "text": [
      "3/3 [==============================] - 12s 6s/step - loss: 0.9040 - val_loss: 3.8994 - lr: 0.0010\n",
      "Epoch 110/1000\n",
      "3/3 [==============================] - ETA: 0s - loss: 0.8675INFO:tensorflow:Assets written to: /home/user/workdir/main/src/model/nitrate/scaled_o3/input6/final_model-110-3.85/assets\n"
     ]
    },
    {
     "name": "stderr",
     "output_type": "stream",
     "text": [
      "INFO:tensorflow:Assets written to: /home/user/workdir/main/src/model/nitrate/scaled_o3/input6/final_model-110-3.85/assets\n"
     ]
    },
    {
     "name": "stdout",
     "output_type": "stream",
     "text": [
      "3/3 [==============================] - 9s 4s/step - loss: 0.8675 - val_loss: 3.8542 - lr: 0.0010\n",
      "Epoch 111/1000\n",
      "3/3 [==============================] - ETA: 0s - loss: 0.8319INFO:tensorflow:Assets written to: /home/user/workdir/main/src/model/nitrate/scaled_o3/input6/final_model-111-3.71/assets\n"
     ]
    },
    {
     "name": "stderr",
     "output_type": "stream",
     "text": [
      "INFO:tensorflow:Assets written to: /home/user/workdir/main/src/model/nitrate/scaled_o3/input6/final_model-111-3.71/assets\n"
     ]
    },
    {
     "name": "stdout",
     "output_type": "stream",
     "text": [
      "3/3 [==============================] - 12s 6s/step - loss: 0.8319 - val_loss: 3.7063 - lr: 0.0010\n",
      "Epoch 112/1000\n",
      "3/3 [==============================] - ETA: 0s - loss: 0.7989INFO:tensorflow:Assets written to: /home/user/workdir/main/src/model/nitrate/scaled_o3/input6/final_model-112-3.58/assets\n"
     ]
    },
    {
     "name": "stderr",
     "output_type": "stream",
     "text": [
      "INFO:tensorflow:Assets written to: /home/user/workdir/main/src/model/nitrate/scaled_o3/input6/final_model-112-3.58/assets\n"
     ]
    },
    {
     "name": "stdout",
     "output_type": "stream",
     "text": [
      "3/3 [==============================] - 9s 4s/step - loss: 0.7989 - val_loss: 3.5843 - lr: 0.0010\n",
      "Epoch 113/1000\n",
      "3/3 [==============================] - ETA: 0s - loss: 0.7659INFO:tensorflow:Assets written to: /home/user/workdir/main/src/model/nitrate/scaled_o3/input6/final_model-113-3.29/assets\n"
     ]
    },
    {
     "name": "stderr",
     "output_type": "stream",
     "text": [
      "INFO:tensorflow:Assets written to: /home/user/workdir/main/src/model/nitrate/scaled_o3/input6/final_model-113-3.29/assets\n"
     ]
    },
    {
     "name": "stdout",
     "output_type": "stream",
     "text": [
      "3/3 [==============================] - 12s 6s/step - loss: 0.7659 - val_loss: 3.2923 - lr: 0.0010\n",
      "Epoch 114/1000\n",
      "3/3 [==============================] - 0s 200ms/step - loss: 0.7401 - val_loss: 3.3386 - lr: 0.0010\n",
      "Epoch 115/1000\n",
      "3/3 [==============================] - ETA: 0s - loss: 0.7058INFO:tensorflow:Assets written to: /home/user/workdir/main/src/model/nitrate/scaled_o3/input6/final_model-115-3.16/assets\n"
     ]
    },
    {
     "name": "stderr",
     "output_type": "stream",
     "text": [
      "INFO:tensorflow:Assets written to: /home/user/workdir/main/src/model/nitrate/scaled_o3/input6/final_model-115-3.16/assets\n"
     ]
    },
    {
     "name": "stdout",
     "output_type": "stream",
     "text": [
      "3/3 [==============================] - 9s 4s/step - loss: 0.7058 - val_loss: 3.1589 - lr: 0.0010\n",
      "Epoch 116/1000\n",
      "3/3 [==============================] - ETA: 0s - loss: 0.6738INFO:tensorflow:Assets written to: /home/user/workdir/main/src/model/nitrate/scaled_o3/input6/final_model-116-3.09/assets\n"
     ]
    },
    {
     "name": "stderr",
     "output_type": "stream",
     "text": [
      "INFO:tensorflow:Assets written to: /home/user/workdir/main/src/model/nitrate/scaled_o3/input6/final_model-116-3.09/assets\n"
     ]
    },
    {
     "name": "stdout",
     "output_type": "stream",
     "text": [
      "3/3 [==============================] - 12s 6s/step - loss: 0.6738 - val_loss: 3.0858 - lr: 0.0010\n",
      "Epoch 117/1000\n",
      "3/3 [==============================] - ETA: 0s - loss: 0.6452INFO:tensorflow:Assets written to: /home/user/workdir/main/src/model/nitrate/scaled_o3/input6/final_model-117-2.96/assets\n"
     ]
    },
    {
     "name": "stderr",
     "output_type": "stream",
     "text": [
      "INFO:tensorflow:Assets written to: /home/user/workdir/main/src/model/nitrate/scaled_o3/input6/final_model-117-2.96/assets\n"
     ]
    },
    {
     "name": "stdout",
     "output_type": "stream",
     "text": [
      "3/3 [==============================] - 9s 4s/step - loss: 0.6452 - val_loss: 2.9628 - lr: 0.0010\n",
      "Epoch 118/1000\n",
      "3/3 [==============================] - ETA: 0s - loss: 0.6200INFO:tensorflow:Assets written to: /home/user/workdir/main/src/model/nitrate/scaled_o3/input6/final_model-118-2.87/assets\n"
     ]
    },
    {
     "name": "stderr",
     "output_type": "stream",
     "text": [
      "INFO:tensorflow:Assets written to: /home/user/workdir/main/src/model/nitrate/scaled_o3/input6/final_model-118-2.87/assets\n"
     ]
    },
    {
     "name": "stdout",
     "output_type": "stream",
     "text": [
      "3/3 [==============================] - 12s 6s/step - loss: 0.6200 - val_loss: 2.8703 - lr: 0.0010\n",
      "Epoch 119/1000\n",
      "3/3 [==============================] - 0s 209ms/step - loss: 0.5925 - val_loss: 2.8789 - lr: 0.0010\n",
      "Epoch 120/1000\n",
      "3/3 [==============================] - ETA: 0s - loss: 0.5678INFO:tensorflow:Assets written to: /home/user/workdir/main/src/model/nitrate/scaled_o3/input6/final_model-120-2.78/assets\n"
     ]
    },
    {
     "name": "stderr",
     "output_type": "stream",
     "text": [
      "INFO:tensorflow:Assets written to: /home/user/workdir/main/src/model/nitrate/scaled_o3/input6/final_model-120-2.78/assets\n"
     ]
    },
    {
     "name": "stdout",
     "output_type": "stream",
     "text": [
      "3/3 [==============================] - 9s 4s/step - loss: 0.5678 - val_loss: 2.7761 - lr: 0.0010\n",
      "Epoch 121/1000\n",
      "2/3 [===================>..........] - ETA: 0s - loss: 0.5522INFO:tensorflow:Assets written to: /home/user/workdir/main/src/model/nitrate/scaled_o3/input6/final_model-121-2.73/assets\n"
     ]
    },
    {
     "name": "stderr",
     "output_type": "stream",
     "text": [
      "INFO:tensorflow:Assets written to: /home/user/workdir/main/src/model/nitrate/scaled_o3/input6/final_model-121-2.73/assets\n"
     ]
    },
    {
     "name": "stdout",
     "output_type": "stream",
     "text": [
      "3/3 [==============================] - 9s 4s/step - loss: 0.5439 - val_loss: 2.7270 - lr: 0.0010\n",
      "Epoch 122/1000\n",
      "3/3 [==============================] - ETA: 0s - loss: 0.5241INFO:tensorflow:Assets written to: /home/user/workdir/main/src/model/nitrate/scaled_o3/input6/final_model-122-2.49/assets\n"
     ]
    },
    {
     "name": "stderr",
     "output_type": "stream",
     "text": [
      "INFO:tensorflow:Assets written to: /home/user/workdir/main/src/model/nitrate/scaled_o3/input6/final_model-122-2.49/assets\n"
     ]
    },
    {
     "name": "stdout",
     "output_type": "stream",
     "text": [
      "3/3 [==============================] - 12s 6s/step - loss: 0.5241 - val_loss: 2.4873 - lr: 0.0010\n",
      "Epoch 123/1000\n",
      "3/3 [==============================] - ETA: 0s - loss: 0.5000INFO:tensorflow:Assets written to: /home/user/workdir/main/src/model/nitrate/scaled_o3/input6/final_model-123-2.37/assets\n"
     ]
    },
    {
     "name": "stderr",
     "output_type": "stream",
     "text": [
      "INFO:tensorflow:Assets written to: /home/user/workdir/main/src/model/nitrate/scaled_o3/input6/final_model-123-2.37/assets\n"
     ]
    },
    {
     "name": "stdout",
     "output_type": "stream",
     "text": [
      "3/3 [==============================] - 9s 4s/step - loss: 0.5000 - val_loss: 2.3709 - lr: 0.0010\n",
      "Epoch 124/1000\n",
      "3/3 [==============================] - ETA: 0s - loss: 0.4836INFO:tensorflow:Assets written to: /home/user/workdir/main/src/model/nitrate/scaled_o3/input6/final_model-124-2.31/assets\n"
     ]
    },
    {
     "name": "stderr",
     "output_type": "stream",
     "text": [
      "INFO:tensorflow:Assets written to: /home/user/workdir/main/src/model/nitrate/scaled_o3/input6/final_model-124-2.31/assets\n"
     ]
    },
    {
     "name": "stdout",
     "output_type": "stream",
     "text": [
      "3/3 [==============================] - 12s 6s/step - loss: 0.4836 - val_loss: 2.3074 - lr: 0.0010\n",
      "Epoch 125/1000\n",
      "2/3 [===================>..........] - ETA: 0s - loss: 0.4582INFO:tensorflow:Assets written to: /home/user/workdir/main/src/model/nitrate/scaled_o3/input6/final_model-125-2.26/assets\n"
     ]
    },
    {
     "name": "stderr",
     "output_type": "stream",
     "text": [
      "INFO:tensorflow:Assets written to: /home/user/workdir/main/src/model/nitrate/scaled_o3/input6/final_model-125-2.26/assets\n"
     ]
    },
    {
     "name": "stdout",
     "output_type": "stream",
     "text": [
      "3/3 [==============================] - 9s 4s/step - loss: 0.4586 - val_loss: 2.2601 - lr: 0.0010\n",
      "Epoch 126/1000\n",
      "3/3 [==============================] - ETA: 0s - loss: 0.4408INFO:tensorflow:Assets written to: /home/user/workdir/main/src/model/nitrate/scaled_o3/input6/final_model-126-2.18/assets\n"
     ]
    },
    {
     "name": "stderr",
     "output_type": "stream",
     "text": [
      "INFO:tensorflow:Assets written to: /home/user/workdir/main/src/model/nitrate/scaled_o3/input6/final_model-126-2.18/assets\n"
     ]
    },
    {
     "name": "stdout",
     "output_type": "stream",
     "text": [
      "3/3 [==============================] - 12s 6s/step - loss: 0.4408 - val_loss: 2.1788 - lr: 0.0010\n",
      "Epoch 127/1000\n",
      "3/3 [==============================] - ETA: 0s - loss: 0.4248INFO:tensorflow:Assets written to: /home/user/workdir/main/src/model/nitrate/scaled_o3/input6/final_model-127-2.09/assets\n"
     ]
    },
    {
     "name": "stderr",
     "output_type": "stream",
     "text": [
      "INFO:tensorflow:Assets written to: /home/user/workdir/main/src/model/nitrate/scaled_o3/input6/final_model-127-2.09/assets\n"
     ]
    },
    {
     "name": "stdout",
     "output_type": "stream",
     "text": [
      "3/3 [==============================] - 9s 4s/step - loss: 0.4248 - val_loss: 2.0886 - lr: 0.0010\n",
      "Epoch 128/1000\n",
      "3/3 [==============================] - ETA: 0s - loss: 0.4076INFO:tensorflow:Assets written to: /home/user/workdir/main/src/model/nitrate/scaled_o3/input6/final_model-128-2.06/assets\n"
     ]
    },
    {
     "name": "stderr",
     "output_type": "stream",
     "text": [
      "INFO:tensorflow:Assets written to: /home/user/workdir/main/src/model/nitrate/scaled_o3/input6/final_model-128-2.06/assets\n"
     ]
    },
    {
     "name": "stdout",
     "output_type": "stream",
     "text": [
      "3/3 [==============================] - 12s 6s/step - loss: 0.4076 - val_loss: 2.0641 - lr: 0.0010\n",
      "Epoch 129/1000\n",
      "2/3 [===================>..........] - ETA: 0s - loss: 0.3914INFO:tensorflow:Assets written to: /home/user/workdir/main/src/model/nitrate/scaled_o3/input6/final_model-129-1.94/assets\n"
     ]
    },
    {
     "name": "stderr",
     "output_type": "stream",
     "text": [
      "INFO:tensorflow:Assets written to: /home/user/workdir/main/src/model/nitrate/scaled_o3/input6/final_model-129-1.94/assets\n"
     ]
    },
    {
     "name": "stdout",
     "output_type": "stream",
     "text": [
      "3/3 [==============================] - 9s 4s/step - loss: 0.3898 - val_loss: 1.9412 - lr: 0.0010\n",
      "Epoch 130/1000\n",
      "3/3 [==============================] - ETA: 0s - loss: 0.3755INFO:tensorflow:Assets written to: /home/user/workdir/main/src/model/nitrate/scaled_o3/input6/final_model-130-1.90/assets\n"
     ]
    },
    {
     "name": "stderr",
     "output_type": "stream",
     "text": [
      "INFO:tensorflow:Assets written to: /home/user/workdir/main/src/model/nitrate/scaled_o3/input6/final_model-130-1.90/assets\n"
     ]
    },
    {
     "name": "stdout",
     "output_type": "stream",
     "text": [
      "3/3 [==============================] - 9s 4s/step - loss: 0.3755 - val_loss: 1.9016 - lr: 0.0010\n",
      "Epoch 131/1000\n",
      "3/3 [==============================] - ETA: 0s - loss: 0.3601INFO:tensorflow:Assets written to: /home/user/workdir/main/src/model/nitrate/scaled_o3/input6/final_model-131-1.84/assets\n"
     ]
    },
    {
     "name": "stderr",
     "output_type": "stream",
     "text": [
      "INFO:tensorflow:Assets written to: /home/user/workdir/main/src/model/nitrate/scaled_o3/input6/final_model-131-1.84/assets\n"
     ]
    },
    {
     "name": "stdout",
     "output_type": "stream",
     "text": [
      "3/3 [==============================] - 12s 6s/step - loss: 0.3601 - val_loss: 1.8374 - lr: 0.0010\n",
      "Epoch 132/1000\n",
      "3/3 [==============================] - ETA: 0s - loss: 0.3446INFO:tensorflow:Assets written to: /home/user/workdir/main/src/model/nitrate/scaled_o3/input6/final_model-132-1.83/assets\n"
     ]
    },
    {
     "name": "stderr",
     "output_type": "stream",
     "text": [
      "INFO:tensorflow:Assets written to: /home/user/workdir/main/src/model/nitrate/scaled_o3/input6/final_model-132-1.83/assets\n"
     ]
    },
    {
     "name": "stdout",
     "output_type": "stream",
     "text": [
      "3/3 [==============================] - 9s 4s/step - loss: 0.3446 - val_loss: 1.8347 - lr: 0.0010\n",
      "Epoch 133/1000\n",
      "2/3 [===================>..........] - ETA: 0s - loss: 0.3344INFO:tensorflow:Assets written to: /home/user/workdir/main/src/model/nitrate/scaled_o3/input6/final_model-133-1.68/assets\n"
     ]
    },
    {
     "name": "stderr",
     "output_type": "stream",
     "text": [
      "INFO:tensorflow:Assets written to: /home/user/workdir/main/src/model/nitrate/scaled_o3/input6/final_model-133-1.68/assets\n"
     ]
    },
    {
     "name": "stdout",
     "output_type": "stream",
     "text": [
      "3/3 [==============================] - 12s 6s/step - loss: 0.3315 - val_loss: 1.6791 - lr: 0.0010\n",
      "Epoch 134/1000\n",
      "2/3 [===================>..........] - ETA: 0s - loss: 0.3167INFO:tensorflow:Assets written to: /home/user/workdir/main/src/model/nitrate/scaled_o3/input6/final_model-134-1.59/assets\n"
     ]
    },
    {
     "name": "stderr",
     "output_type": "stream",
     "text": [
      "INFO:tensorflow:Assets written to: /home/user/workdir/main/src/model/nitrate/scaled_o3/input6/final_model-134-1.59/assets\n"
     ]
    },
    {
     "name": "stdout",
     "output_type": "stream",
     "text": [
      "3/3 [==============================] - 9s 4s/step - loss: 0.3178 - val_loss: 1.5851 - lr: 0.0010\n",
      "Epoch 135/1000\n",
      "3/3 [==============================] - ETA: 0s - loss: 0.3090INFO:tensorflow:Assets written to: /home/user/workdir/main/src/model/nitrate/scaled_o3/input6/final_model-135-1.53/assets\n"
     ]
    },
    {
     "name": "stderr",
     "output_type": "stream",
     "text": [
      "INFO:tensorflow:Assets written to: /home/user/workdir/main/src/model/nitrate/scaled_o3/input6/final_model-135-1.53/assets\n"
     ]
    },
    {
     "name": "stdout",
     "output_type": "stream",
     "text": [
      "3/3 [==============================] - 9s 4s/step - loss: 0.3090 - val_loss: 1.5328 - lr: 0.0010\n",
      "Epoch 136/1000\n",
      "3/3 [==============================] - ETA: 0s - loss: 0.2960INFO:tensorflow:Assets written to: /home/user/workdir/main/src/model/nitrate/scaled_o3/input6/final_model-136-1.48/assets\n"
     ]
    },
    {
     "name": "stderr",
     "output_type": "stream",
     "text": [
      "INFO:tensorflow:Assets written to: /home/user/workdir/main/src/model/nitrate/scaled_o3/input6/final_model-136-1.48/assets\n"
     ]
    },
    {
     "name": "stdout",
     "output_type": "stream",
     "text": [
      "3/3 [==============================] - 12s 6s/step - loss: 0.2960 - val_loss: 1.4772 - lr: 0.0010\n",
      "Epoch 137/1000\n",
      "2/3 [===================>..........] - ETA: 0s - loss: 0.2855INFO:tensorflow:Assets written to: /home/user/workdir/main/src/model/nitrate/scaled_o3/input6/final_model-137-1.48/assets\n"
     ]
    },
    {
     "name": "stderr",
     "output_type": "stream",
     "text": [
      "INFO:tensorflow:Assets written to: /home/user/workdir/main/src/model/nitrate/scaled_o3/input6/final_model-137-1.48/assets\n"
     ]
    },
    {
     "name": "stdout",
     "output_type": "stream",
     "text": [
      "3/3 [==============================] - 9s 4s/step - loss: 0.2830 - val_loss: 1.4753 - lr: 0.0010\n",
      "Epoch 138/1000\n",
      "3/3 [==============================] - ETA: 0s - loss: 0.2740INFO:tensorflow:Assets written to: /home/user/workdir/main/src/model/nitrate/scaled_o3/input6/final_model-138-1.41/assets\n"
     ]
    },
    {
     "name": "stderr",
     "output_type": "stream",
     "text": [
      "INFO:tensorflow:Assets written to: /home/user/workdir/main/src/model/nitrate/scaled_o3/input6/final_model-138-1.41/assets\n"
     ]
    },
    {
     "name": "stdout",
     "output_type": "stream",
     "text": [
      "3/3 [==============================] - 12s 6s/step - loss: 0.2740 - val_loss: 1.4107 - lr: 0.0010\n",
      "Epoch 139/1000\n",
      "2/3 [===================>..........] - ETA: 0s - loss: 0.2660INFO:tensorflow:Assets written to: /home/user/workdir/main/src/model/nitrate/scaled_o3/input6/final_model-139-1.40/assets\n"
     ]
    },
    {
     "name": "stderr",
     "output_type": "stream",
     "text": [
      "INFO:tensorflow:Assets written to: /home/user/workdir/main/src/model/nitrate/scaled_o3/input6/final_model-139-1.40/assets\n"
     ]
    },
    {
     "name": "stdout",
     "output_type": "stream",
     "text": [
      "3/3 [==============================] - 9s 4s/step - loss: 0.2631 - val_loss: 1.3957 - lr: 0.0010\n",
      "Epoch 140/1000\n",
      "3/3 [==============================] - ETA: 0s - loss: 0.2544INFO:tensorflow:Assets written to: /home/user/workdir/main/src/model/nitrate/scaled_o3/input6/final_model-140-1.24/assets\n"
     ]
    },
    {
     "name": "stderr",
     "output_type": "stream",
     "text": [
      "INFO:tensorflow:Assets written to: /home/user/workdir/main/src/model/nitrate/scaled_o3/input6/final_model-140-1.24/assets\n"
     ]
    },
    {
     "name": "stdout",
     "output_type": "stream",
     "text": [
      "3/3 [==============================] - 9s 4s/step - loss: 0.2544 - val_loss: 1.2381 - lr: 0.0010\n",
      "Epoch 141/1000\n",
      "3/3 [==============================] - ETA: 0s - loss: 0.2473INFO:tensorflow:Assets written to: /home/user/workdir/main/src/model/nitrate/scaled_o3/input6/final_model-141-1.22/assets\n"
     ]
    },
    {
     "name": "stderr",
     "output_type": "stream",
     "text": [
      "INFO:tensorflow:Assets written to: /home/user/workdir/main/src/model/nitrate/scaled_o3/input6/final_model-141-1.22/assets\n"
     ]
    },
    {
     "name": "stdout",
     "output_type": "stream",
     "text": [
      "3/3 [==============================] - 12s 6s/step - loss: 0.2473 - val_loss: 1.2235 - lr: 0.0010\n",
      "Epoch 142/1000\n",
      "2/3 [===================>..........] - ETA: 0s - loss: 0.2412INFO:tensorflow:Assets written to: /home/user/workdir/main/src/model/nitrate/scaled_o3/input6/final_model-142-1.20/assets\n"
     ]
    },
    {
     "name": "stderr",
     "output_type": "stream",
     "text": [
      "INFO:tensorflow:Assets written to: /home/user/workdir/main/src/model/nitrate/scaled_o3/input6/final_model-142-1.20/assets\n"
     ]
    },
    {
     "name": "stdout",
     "output_type": "stream",
     "text": [
      "3/3 [==============================] - 9s 4s/step - loss: 0.2382 - val_loss: 1.2024 - lr: 0.0010\n",
      "Epoch 143/1000\n",
      "3/3 [==============================] - ETA: 0s - loss: 0.2311INFO:tensorflow:Assets written to: /home/user/workdir/main/src/model/nitrate/scaled_o3/input6/final_model-143-1.15/assets\n"
     ]
    },
    {
     "name": "stderr",
     "output_type": "stream",
     "text": [
      "INFO:tensorflow:Assets written to: /home/user/workdir/main/src/model/nitrate/scaled_o3/input6/final_model-143-1.15/assets\n"
     ]
    },
    {
     "name": "stdout",
     "output_type": "stream",
     "text": [
      "3/3 [==============================] - 12s 6s/step - loss: 0.2311 - val_loss: 1.1523 - lr: 0.0010\n",
      "Epoch 144/1000\n",
      "3/3 [==============================] - ETA: 0s - loss: 0.2216INFO:tensorflow:Assets written to: /home/user/workdir/main/src/model/nitrate/scaled_o3/input6/final_model-144-1.09/assets\n"
     ]
    },
    {
     "name": "stderr",
     "output_type": "stream",
     "text": [
      "INFO:tensorflow:Assets written to: /home/user/workdir/main/src/model/nitrate/scaled_o3/input6/final_model-144-1.09/assets\n"
     ]
    },
    {
     "name": "stdout",
     "output_type": "stream",
     "text": [
      "3/3 [==============================] - 9s 4s/step - loss: 0.2216 - val_loss: 1.0859 - lr: 0.0010\n",
      "Epoch 145/1000\n",
      "3/3 [==============================] - ETA: 0s - loss: 0.2147INFO:tensorflow:Assets written to: /home/user/workdir/main/src/model/nitrate/scaled_o3/input6/final_model-145-0.98/assets\n"
     ]
    },
    {
     "name": "stderr",
     "output_type": "stream",
     "text": [
      "INFO:tensorflow:Assets written to: /home/user/workdir/main/src/model/nitrate/scaled_o3/input6/final_model-145-0.98/assets\n"
     ]
    },
    {
     "name": "stdout",
     "output_type": "stream",
     "text": [
      "3/3 [==============================] - 9s 4s/step - loss: 0.2147 - val_loss: 0.9769 - lr: 0.0010\n",
      "Epoch 146/1000\n",
      "3/3 [==============================] - 0s 185ms/step - loss: 0.2095 - val_loss: 1.0740 - lr: 0.0010\n",
      "Epoch 147/1000\n",
      "3/3 [==============================] - ETA: 0s - loss: 0.2033INFO:tensorflow:Assets written to: /home/user/workdir/main/src/model/nitrate/scaled_o3/input6/final_model-147-0.94/assets\n"
     ]
    },
    {
     "name": "stderr",
     "output_type": "stream",
     "text": [
      "INFO:tensorflow:Assets written to: /home/user/workdir/main/src/model/nitrate/scaled_o3/input6/final_model-147-0.94/assets\n"
     ]
    },
    {
     "name": "stdout",
     "output_type": "stream",
     "text": [
      "3/3 [==============================] - 13s 6s/step - loss: 0.2033 - val_loss: 0.9381 - lr: 0.0010\n",
      "Epoch 148/1000\n",
      "3/3 [==============================] - ETA: 0s - loss: 0.1965INFO:tensorflow:Assets written to: /home/user/workdir/main/src/model/nitrate/scaled_o3/input6/final_model-148-0.86/assets\n"
     ]
    },
    {
     "name": "stderr",
     "output_type": "stream",
     "text": [
      "INFO:tensorflow:Assets written to: /home/user/workdir/main/src/model/nitrate/scaled_o3/input6/final_model-148-0.86/assets\n"
     ]
    },
    {
     "name": "stdout",
     "output_type": "stream",
     "text": [
      "3/3 [==============================] - 9s 4s/step - loss: 0.1965 - val_loss: 0.8616 - lr: 0.0010\n",
      "Epoch 149/1000\n",
      "2/3 [===================>..........] - ETA: 0s - loss: 0.1908INFO:tensorflow:Assets written to: /home/user/workdir/main/src/model/nitrate/scaled_o3/input6/final_model-149-0.84/assets\n"
     ]
    },
    {
     "name": "stderr",
     "output_type": "stream",
     "text": [
      "INFO:tensorflow:Assets written to: /home/user/workdir/main/src/model/nitrate/scaled_o3/input6/final_model-149-0.84/assets\n"
     ]
    },
    {
     "name": "stdout",
     "output_type": "stream",
     "text": [
      "3/3 [==============================] - 12s 6s/step - loss: 0.1895 - val_loss: 0.8378 - lr: 0.0010\n",
      "Epoch 150/1000\n",
      "3/3 [==============================] - ETA: 0s - loss: 0.1837INFO:tensorflow:Assets written to: /home/user/workdir/main/src/model/nitrate/scaled_o3/input6/final_model-150-0.79/assets\n"
     ]
    },
    {
     "name": "stderr",
     "output_type": "stream",
     "text": [
      "INFO:tensorflow:Assets written to: /home/user/workdir/main/src/model/nitrate/scaled_o3/input6/final_model-150-0.79/assets\n"
     ]
    },
    {
     "name": "stdout",
     "output_type": "stream",
     "text": [
      "3/3 [==============================] - 9s 4s/step - loss: 0.1837 - val_loss: 0.7911 - lr: 0.0010\n",
      "Epoch 151/1000\n",
      "3/3 [==============================] - ETA: 0s - loss: 0.1781INFO:tensorflow:Assets written to: /home/user/workdir/main/src/model/nitrate/scaled_o3/input6/final_model-151-0.77/assets\n"
     ]
    },
    {
     "name": "stderr",
     "output_type": "stream",
     "text": [
      "INFO:tensorflow:Assets written to: /home/user/workdir/main/src/model/nitrate/scaled_o3/input6/final_model-151-0.77/assets\n"
     ]
    },
    {
     "name": "stdout",
     "output_type": "stream",
     "text": [
      "3/3 [==============================] - 9s 4s/step - loss: 0.1781 - val_loss: 0.7724 - lr: 0.0010\n",
      "Epoch 152/1000\n",
      "3/3 [==============================] - ETA: 0s - loss: 0.1718INFO:tensorflow:Assets written to: /home/user/workdir/main/src/model/nitrate/scaled_o3/input6/final_model-152-0.75/assets\n"
     ]
    },
    {
     "name": "stderr",
     "output_type": "stream",
     "text": [
      "INFO:tensorflow:Assets written to: /home/user/workdir/main/src/model/nitrate/scaled_o3/input6/final_model-152-0.75/assets\n"
     ]
    },
    {
     "name": "stdout",
     "output_type": "stream",
     "text": [
      "3/3 [==============================] - 13s 6s/step - loss: 0.1718 - val_loss: 0.7467 - lr: 0.0010\n",
      "Epoch 153/1000\n",
      "3/3 [==============================] - 0s 211ms/step - loss: 0.1679 - val_loss: 0.7625 - lr: 0.0010\n",
      "Epoch 154/1000\n",
      "3/3 [==============================] - ETA: 0s - loss: 0.1635INFO:tensorflow:Assets written to: /home/user/workdir/main/src/model/nitrate/scaled_o3/input6/final_model-154-0.70/assets\n"
     ]
    },
    {
     "name": "stderr",
     "output_type": "stream",
     "text": [
      "INFO:tensorflow:Assets written to: /home/user/workdir/main/src/model/nitrate/scaled_o3/input6/final_model-154-0.70/assets\n"
     ]
    },
    {
     "name": "stdout",
     "output_type": "stream",
     "text": [
      "3/3 [==============================] - 9s 5s/step - loss: 0.1635 - val_loss: 0.7027 - lr: 0.0010\n",
      "Epoch 155/1000\n",
      "3/3 [==============================] - 0s 218ms/step - loss: 0.1587 - val_loss: 0.7037 - lr: 0.0010\n",
      "Epoch 156/1000\n",
      "2/3 [===================>..........] - ETA: 0s - loss: 0.1564INFO:tensorflow:Assets written to: /home/user/workdir/main/src/model/nitrate/scaled_o3/input6/final_model-156-0.66/assets\n"
     ]
    },
    {
     "name": "stderr",
     "output_type": "stream",
     "text": [
      "INFO:tensorflow:Assets written to: /home/user/workdir/main/src/model/nitrate/scaled_o3/input6/final_model-156-0.66/assets\n"
     ]
    },
    {
     "name": "stdout",
     "output_type": "stream",
     "text": [
      "3/3 [==============================] - 9s 4s/step - loss: 0.1551 - val_loss: 0.6625 - lr: 0.0010\n",
      "Epoch 157/1000\n",
      "3/3 [==============================] - ETA: 0s - loss: 0.1510INFO:tensorflow:Assets written to: /home/user/workdir/main/src/model/nitrate/scaled_o3/input6/final_model-157-0.60/assets\n"
     ]
    },
    {
     "name": "stderr",
     "output_type": "stream",
     "text": [
      "INFO:tensorflow:Assets written to: /home/user/workdir/main/src/model/nitrate/scaled_o3/input6/final_model-157-0.60/assets\n"
     ]
    },
    {
     "name": "stdout",
     "output_type": "stream",
     "text": [
      "3/3 [==============================] - 13s 7s/step - loss: 0.1510 - val_loss: 0.5994 - lr: 0.0010\n",
      "Epoch 158/1000\n",
      "2/3 [===================>..........] - ETA: 0s - loss: 0.1511INFO:tensorflow:Assets written to: /home/user/workdir/main/src/model/nitrate/scaled_o3/input6/final_model-158-0.59/assets\n"
     ]
    },
    {
     "name": "stderr",
     "output_type": "stream",
     "text": [
      "INFO:tensorflow:Assets written to: /home/user/workdir/main/src/model/nitrate/scaled_o3/input6/final_model-158-0.59/assets\n"
     ]
    },
    {
     "name": "stdout",
     "output_type": "stream",
     "text": [
      "3/3 [==============================] - 9s 5s/step - loss: 0.1489 - val_loss: 0.5888 - lr: 0.0010\n",
      "Epoch 159/1000\n",
      "3/3 [==============================] - ETA: 0s - loss: 0.1440INFO:tensorflow:Assets written to: /home/user/workdir/main/src/model/nitrate/scaled_o3/input6/final_model-159-0.58/assets\n"
     ]
    },
    {
     "name": "stderr",
     "output_type": "stream",
     "text": [
      "INFO:tensorflow:Assets written to: /home/user/workdir/main/src/model/nitrate/scaled_o3/input6/final_model-159-0.58/assets\n"
     ]
    },
    {
     "name": "stdout",
     "output_type": "stream",
     "text": [
      "3/3 [==============================] - 9s 4s/step - loss: 0.1440 - val_loss: 0.5818 - lr: 0.0010\n",
      "Epoch 160/1000\n",
      "3/3 [==============================] - 0s 188ms/step - loss: 0.1427 - val_loss: 0.6098 - lr: 0.0010\n",
      "Epoch 161/1000\n",
      "3/3 [==============================] - ETA: 0s - loss: 0.1391INFO:tensorflow:Assets written to: /home/user/workdir/main/src/model/nitrate/scaled_o3/input6/final_model-161-0.58/assets\n"
     ]
    },
    {
     "name": "stderr",
     "output_type": "stream",
     "text": [
      "INFO:tensorflow:Assets written to: /home/user/workdir/main/src/model/nitrate/scaled_o3/input6/final_model-161-0.58/assets\n"
     ]
    },
    {
     "name": "stdout",
     "output_type": "stream",
     "text": [
      "3/3 [==============================] - 13s 6s/step - loss: 0.1391 - val_loss: 0.5789 - lr: 0.0010\n",
      "Epoch 162/1000\n",
      "3/3 [==============================] - ETA: 0s - loss: 0.1380INFO:tensorflow:Assets written to: /home/user/workdir/main/src/model/nitrate/scaled_o3/input6/final_model-162-0.50/assets\n"
     ]
    },
    {
     "name": "stderr",
     "output_type": "stream",
     "text": [
      "INFO:tensorflow:Assets written to: /home/user/workdir/main/src/model/nitrate/scaled_o3/input6/final_model-162-0.50/assets\n"
     ]
    },
    {
     "name": "stdout",
     "output_type": "stream",
     "text": [
      "3/3 [==============================] - 9s 4s/step - loss: 0.1380 - val_loss: 0.5016 - lr: 0.0010\n",
      "Epoch 163/1000\n",
      "3/3 [==============================] - ETA: 0s - loss: 0.1342INFO:tensorflow:Assets written to: /home/user/workdir/main/src/model/nitrate/scaled_o3/input6/final_model-163-0.50/assets\n"
     ]
    },
    {
     "name": "stderr",
     "output_type": "stream",
     "text": [
      "INFO:tensorflow:Assets written to: /home/user/workdir/main/src/model/nitrate/scaled_o3/input6/final_model-163-0.50/assets\n"
     ]
    },
    {
     "name": "stdout",
     "output_type": "stream",
     "text": [
      "3/3 [==============================] - 12s 6s/step - loss: 0.1342 - val_loss: 0.4986 - lr: 0.0010\n",
      "Epoch 164/1000\n",
      "3/3 [==============================] - 0s 224ms/step - loss: 0.1324 - val_loss: 0.5188 - lr: 0.0010\n",
      "Epoch 165/1000\n",
      "3/3 [==============================] - 0s 197ms/step - loss: 0.1321 - val_loss: 0.5452 - lr: 0.0010\n",
      "Epoch 166/1000\n",
      "3/3 [==============================] - ETA: 0s - loss: 0.1298INFO:tensorflow:Assets written to: /home/user/workdir/main/src/model/nitrate/scaled_o3/input6/final_model-166-0.42/assets\n"
     ]
    },
    {
     "name": "stderr",
     "output_type": "stream",
     "text": [
      "INFO:tensorflow:Assets written to: /home/user/workdir/main/src/model/nitrate/scaled_o3/input6/final_model-166-0.42/assets\n"
     ]
    },
    {
     "name": "stdout",
     "output_type": "stream",
     "text": [
      "3/3 [==============================] - 9s 4s/step - loss: 0.1298 - val_loss: 0.4220 - lr: 0.0010\n",
      "Epoch 167/1000\n",
      "3/3 [==============================] - ETA: 0s - loss: 0.1264INFO:tensorflow:Assets written to: /home/user/workdir/main/src/model/nitrate/scaled_o3/input6/final_model-167-0.42/assets\n"
     ]
    },
    {
     "name": "stderr",
     "output_type": "stream",
     "text": [
      "INFO:tensorflow:Assets written to: /home/user/workdir/main/src/model/nitrate/scaled_o3/input6/final_model-167-0.42/assets\n"
     ]
    },
    {
     "name": "stdout",
     "output_type": "stream",
     "text": [
      "3/3 [==============================] - 9s 4s/step - loss: 0.1264 - val_loss: 0.4160 - lr: 0.0010\n",
      "Epoch 168/1000\n",
      "3/3 [==============================] - ETA: 0s - loss: 0.1251INFO:tensorflow:Assets written to: /home/user/workdir/main/src/model/nitrate/scaled_o3/input6/final_model-168-0.39/assets\n"
     ]
    },
    {
     "name": "stderr",
     "output_type": "stream",
     "text": [
      "INFO:tensorflow:Assets written to: /home/user/workdir/main/src/model/nitrate/scaled_o3/input6/final_model-168-0.39/assets\n"
     ]
    },
    {
     "name": "stdout",
     "output_type": "stream",
     "text": [
      "3/3 [==============================] - 13s 7s/step - loss: 0.1251 - val_loss: 0.3937 - lr: 0.0010\n",
      "Epoch 169/1000\n",
      "3/3 [==============================] - ETA: 0s - loss: 0.1213INFO:tensorflow:Assets written to: /home/user/workdir/main/src/model/nitrate/scaled_o3/input6/final_model-169-0.38/assets\n"
     ]
    },
    {
     "name": "stderr",
     "output_type": "stream",
     "text": [
      "INFO:tensorflow:Assets written to: /home/user/workdir/main/src/model/nitrate/scaled_o3/input6/final_model-169-0.38/assets\n"
     ]
    },
    {
     "name": "stdout",
     "output_type": "stream",
     "text": [
      "3/3 [==============================] - 9s 4s/step - loss: 0.1213 - val_loss: 0.3825 - lr: 0.0010\n",
      "Epoch 170/1000\n",
      "3/3 [==============================] - 0s 208ms/step - loss: 0.1187 - val_loss: 0.3875 - lr: 0.0010\n",
      "Epoch 171/1000\n",
      "3/3 [==============================] - 0s 220ms/step - loss: 0.1183 - val_loss: 0.4029 - lr: 0.0010\n",
      "Epoch 172/1000\n",
      "3/3 [==============================] - ETA: 0s - loss: 0.1173INFO:tensorflow:Assets written to: /home/user/workdir/main/src/model/nitrate/scaled_o3/input6/final_model-172-0.38/assets\n"
     ]
    },
    {
     "name": "stderr",
     "output_type": "stream",
     "text": [
      "INFO:tensorflow:Assets written to: /home/user/workdir/main/src/model/nitrate/scaled_o3/input6/final_model-172-0.38/assets\n"
     ]
    },
    {
     "name": "stdout",
     "output_type": "stream",
     "text": [
      "3/3 [==============================] - 9s 4s/step - loss: 0.1173 - val_loss: 0.3771 - lr: 0.0010\n",
      "Epoch 173/1000\n",
      "2/3 [===================>..........] - ETA: 0s - loss: 0.1141INFO:tensorflow:Assets written to: /home/user/workdir/main/src/model/nitrate/scaled_o3/input6/final_model-173-0.35/assets\n"
     ]
    },
    {
     "name": "stderr",
     "output_type": "stream",
     "text": [
      "INFO:tensorflow:Assets written to: /home/user/workdir/main/src/model/nitrate/scaled_o3/input6/final_model-173-0.35/assets\n"
     ]
    },
    {
     "name": "stdout",
     "output_type": "stream",
     "text": [
      "3/3 [==============================] - 13s 6s/step - loss: 0.1160 - val_loss: 0.3453 - lr: 0.0010\n",
      "Epoch 174/1000\n",
      "3/3 [==============================] - 0s 220ms/step - loss: 0.1163 - val_loss: 0.3477 - lr: 0.0010\n",
      "Epoch 175/1000\n",
      "3/3 [==============================] - ETA: 0s - loss: 0.1128INFO:tensorflow:Assets written to: /home/user/workdir/main/src/model/nitrate/scaled_o3/input6/final_model-175-0.34/assets\n"
     ]
    },
    {
     "name": "stderr",
     "output_type": "stream",
     "text": [
      "INFO:tensorflow:Assets written to: /home/user/workdir/main/src/model/nitrate/scaled_o3/input6/final_model-175-0.34/assets\n"
     ]
    },
    {
     "name": "stdout",
     "output_type": "stream",
     "text": [
      "3/3 [==============================] - 9s 5s/step - loss: 0.1128 - val_loss: 0.3366 - lr: 0.0010\n",
      "Epoch 176/1000\n",
      "3/3 [==============================] - ETA: 0s - loss: 0.1105INFO:tensorflow:Assets written to: /home/user/workdir/main/src/model/nitrate/scaled_o3/input6/final_model-176-0.32/assets\n"
     ]
    },
    {
     "name": "stderr",
     "output_type": "stream",
     "text": [
      "INFO:tensorflow:Assets written to: /home/user/workdir/main/src/model/nitrate/scaled_o3/input6/final_model-176-0.32/assets\n"
     ]
    },
    {
     "name": "stdout",
     "output_type": "stream",
     "text": [
      "3/3 [==============================] - 9s 4s/step - loss: 0.1105 - val_loss: 0.3164 - lr: 0.0010\n",
      "Epoch 177/1000\n",
      "2/3 [===================>..........] - ETA: 0s - loss: 0.1121INFO:tensorflow:Assets written to: /home/user/workdir/main/src/model/nitrate/scaled_o3/input6/final_model-177-0.31/assets\n"
     ]
    },
    {
     "name": "stderr",
     "output_type": "stream",
     "text": [
      "INFO:tensorflow:Assets written to: /home/user/workdir/main/src/model/nitrate/scaled_o3/input6/final_model-177-0.31/assets\n"
     ]
    },
    {
     "name": "stdout",
     "output_type": "stream",
     "text": [
      "3/3 [==============================] - 13s 7s/step - loss: 0.1113 - val_loss: 0.3058 - lr: 0.0010\n",
      "Epoch 178/1000\n",
      "3/3 [==============================] - 0s 206ms/step - loss: 0.1108 - val_loss: 0.3128 - lr: 0.0010\n",
      "Epoch 179/1000\n",
      "3/3 [==============================] - ETA: 0s - loss: 0.1087INFO:tensorflow:Assets written to: /home/user/workdir/main/src/model/nitrate/scaled_o3/input6/final_model-179-0.27/assets\n"
     ]
    },
    {
     "name": "stderr",
     "output_type": "stream",
     "text": [
      "INFO:tensorflow:Assets written to: /home/user/workdir/main/src/model/nitrate/scaled_o3/input6/final_model-179-0.27/assets\n"
     ]
    },
    {
     "name": "stdout",
     "output_type": "stream",
     "text": [
      "3/3 [==============================] - 9s 4s/step - loss: 0.1087 - val_loss: 0.2750 - lr: 0.0010\n",
      "Epoch 180/1000\n",
      "2/3 [===================>..........] - ETA: 0s - loss: 0.1068INFO:tensorflow:Assets written to: /home/user/workdir/main/src/model/nitrate/scaled_o3/input6/final_model-180-0.27/assets\n"
     ]
    },
    {
     "name": "stderr",
     "output_type": "stream",
     "text": [
      "INFO:tensorflow:Assets written to: /home/user/workdir/main/src/model/nitrate/scaled_o3/input6/final_model-180-0.27/assets\n"
     ]
    },
    {
     "name": "stdout",
     "output_type": "stream",
     "text": [
      "3/3 [==============================] - 9s 4s/step - loss: 0.1072 - val_loss: 0.2730 - lr: 0.0010\n",
      "Epoch 181/1000\n",
      "3/3 [==============================] - 0s 217ms/step - loss: 0.1078 - val_loss: 0.2738 - lr: 0.0010\n",
      "Epoch 182/1000\n",
      "3/3 [==============================] - ETA: 0s - loss: 0.1065INFO:tensorflow:Assets written to: /home/user/workdir/main/src/model/nitrate/scaled_o3/input6/final_model-182-0.27/assets\n"
     ]
    },
    {
     "name": "stderr",
     "output_type": "stream",
     "text": [
      "INFO:tensorflow:Assets written to: /home/user/workdir/main/src/model/nitrate/scaled_o3/input6/final_model-182-0.27/assets\n"
     ]
    },
    {
     "name": "stdout",
     "output_type": "stream",
     "text": [
      "3/3 [==============================] - 13s 7s/step - loss: 0.1065 - val_loss: 0.2730 - lr: 0.0010\n",
      "Epoch 183/1000\n",
      "3/3 [==============================] - ETA: 0s - loss: 0.1058INFO:tensorflow:Assets written to: /home/user/workdir/main/src/model/nitrate/scaled_o3/input6/final_model-183-0.26/assets\n"
     ]
    },
    {
     "name": "stderr",
     "output_type": "stream",
     "text": [
      "INFO:tensorflow:Assets written to: /home/user/workdir/main/src/model/nitrate/scaled_o3/input6/final_model-183-0.26/assets\n"
     ]
    },
    {
     "name": "stdout",
     "output_type": "stream",
     "text": [
      "3/3 [==============================] - 9s 5s/step - loss: 0.1058 - val_loss: 0.2644 - lr: 0.0010\n",
      "Epoch 184/1000\n",
      "3/3 [==============================] - 0s 195ms/step - loss: 0.1066 - val_loss: 0.2697 - lr: 0.0010\n",
      "Epoch 185/1000\n",
      "3/3 [==============================] - ETA: 0s - loss: 0.1052INFO:tensorflow:Assets written to: /home/user/workdir/main/src/model/nitrate/scaled_o3/input6/final_model-185-0.24/assets\n"
     ]
    },
    {
     "name": "stderr",
     "output_type": "stream",
     "text": [
      "INFO:tensorflow:Assets written to: /home/user/workdir/main/src/model/nitrate/scaled_o3/input6/final_model-185-0.24/assets\n"
     ]
    },
    {
     "name": "stdout",
     "output_type": "stream",
     "text": [
      "3/3 [==============================] - 13s 7s/step - loss: 0.1052 - val_loss: 0.2371 - lr: 0.0010\n",
      "Epoch 186/1000\n",
      "3/3 [==============================] - 1s 242ms/step - loss: 0.1062 - val_loss: 0.2398 - lr: 0.0010\n",
      "Epoch 187/1000\n",
      "3/3 [==============================] - ETA: 0s - loss: 0.1036INFO:tensorflow:Assets written to: /home/user/workdir/main/src/model/nitrate/scaled_o3/input6/final_model-187-0.23/assets\n"
     ]
    },
    {
     "name": "stderr",
     "output_type": "stream",
     "text": [
      "INFO:tensorflow:Assets written to: /home/user/workdir/main/src/model/nitrate/scaled_o3/input6/final_model-187-0.23/assets\n"
     ]
    },
    {
     "name": "stdout",
     "output_type": "stream",
     "text": [
      "3/3 [==============================] - 9s 4s/step - loss: 0.1036 - val_loss: 0.2310 - lr: 0.0010\n",
      "Epoch 188/1000\n",
      "3/3 [==============================] - 0s 213ms/step - loss: 0.1050 - val_loss: 0.2401 - lr: 0.0010\n",
      "Epoch 189/1000\n",
      "3/3 [==============================] - ETA: 0s - loss: 0.1037INFO:tensorflow:Assets written to: /home/user/workdir/main/src/model/nitrate/scaled_o3/input6/final_model-189-0.22/assets\n"
     ]
    },
    {
     "name": "stderr",
     "output_type": "stream",
     "text": [
      "INFO:tensorflow:Assets written to: /home/user/workdir/main/src/model/nitrate/scaled_o3/input6/final_model-189-0.22/assets\n"
     ]
    },
    {
     "name": "stdout",
     "output_type": "stream",
     "text": [
      "3/3 [==============================] - 9s 4s/step - loss: 0.1037 - val_loss: 0.2156 - lr: 0.0010\n",
      "Epoch 190/1000\n",
      "3/3 [==============================] - ETA: 0s - loss: 0.1027INFO:tensorflow:Assets written to: /home/user/workdir/main/src/model/nitrate/scaled_o3/input6/final_model-190-0.21/assets\n"
     ]
    },
    {
     "name": "stderr",
     "output_type": "stream",
     "text": [
      "INFO:tensorflow:Assets written to: /home/user/workdir/main/src/model/nitrate/scaled_o3/input6/final_model-190-0.21/assets\n"
     ]
    },
    {
     "name": "stdout",
     "output_type": "stream",
     "text": [
      "3/3 [==============================] - 13s 7s/step - loss: 0.1027 - val_loss: 0.2117 - lr: 0.0010\n",
      "Epoch 191/1000\n",
      "3/3 [==============================] - 1s 233ms/step - loss: 0.1037 - val_loss: 0.2281 - lr: 0.0010\n",
      "Epoch 192/1000\n",
      "3/3 [==============================] - ETA: 0s - loss: 0.1022INFO:tensorflow:Assets written to: /home/user/workdir/main/src/model/nitrate/scaled_o3/input6/final_model-192-0.19/assets\n"
     ]
    },
    {
     "name": "stderr",
     "output_type": "stream",
     "text": [
      "INFO:tensorflow:Assets written to: /home/user/workdir/main/src/model/nitrate/scaled_o3/input6/final_model-192-0.19/assets\n"
     ]
    },
    {
     "name": "stdout",
     "output_type": "stream",
     "text": [
      "3/3 [==============================] - 9s 5s/step - loss: 0.1022 - val_loss: 0.1865 - lr: 0.0010\n",
      "Epoch 193/1000\n",
      "3/3 [==============================] - ETA: 0s - loss: 0.1014INFO:tensorflow:Assets written to: /home/user/workdir/main/src/model/nitrate/scaled_o3/input6/final_model-193-0.18/assets\n"
     ]
    },
    {
     "name": "stderr",
     "output_type": "stream",
     "text": [
      "INFO:tensorflow:Assets written to: /home/user/workdir/main/src/model/nitrate/scaled_o3/input6/final_model-193-0.18/assets\n"
     ]
    },
    {
     "name": "stdout",
     "output_type": "stream",
     "text": [
      "3/3 [==============================] - 9s 5s/step - loss: 0.1014 - val_loss: 0.1823 - lr: 0.0010\n",
      "Epoch 194/1000\n",
      "3/3 [==============================] - 0s 226ms/step - loss: 0.1021 - val_loss: 0.2217 - lr: 0.0010\n",
      "Epoch 195/1000\n",
      "3/3 [==============================] - 0s 189ms/step - loss: 0.1001 - val_loss: 0.2068 - lr: 0.0010\n",
      "Epoch 196/1000\n",
      "3/3 [==============================] - ETA: 0s - loss: 0.1009INFO:tensorflow:Assets written to: /home/user/workdir/main/src/model/nitrate/scaled_o3/input6/final_model-196-0.18/assets\n"
     ]
    },
    {
     "name": "stderr",
     "output_type": "stream",
     "text": [
      "INFO:tensorflow:Assets written to: /home/user/workdir/main/src/model/nitrate/scaled_o3/input6/final_model-196-0.18/assets\n"
     ]
    },
    {
     "name": "stdout",
     "output_type": "stream",
     "text": [
      "3/3 [==============================] - 13s 7s/step - loss: 0.1009 - val_loss: 0.1760 - lr: 0.0010\n",
      "Epoch 197/1000\n",
      "3/3 [==============================] - 0s 204ms/step - loss: 0.1006 - val_loss: 0.1782 - lr: 0.0010\n",
      "Epoch 198/1000\n",
      "3/3 [==============================] - 0s 220ms/step - loss: 0.0995 - val_loss: 0.1790 - lr: 0.0010\n",
      "Epoch 199/1000\n",
      "3/3 [==============================] - 0s 207ms/step - loss: 0.0984 - val_loss: 0.1813 - lr: 0.0010\n",
      "Epoch 200/1000\n",
      "3/3 [==============================] - ETA: 0s - loss: 0.0966INFO:tensorflow:Assets written to: /home/user/workdir/main/src/model/nitrate/scaled_o3/input6/final_model-200-0.18/assets\n"
     ]
    },
    {
     "name": "stderr",
     "output_type": "stream",
     "text": [
      "INFO:tensorflow:Assets written to: /home/user/workdir/main/src/model/nitrate/scaled_o3/input6/final_model-200-0.18/assets\n"
     ]
    },
    {
     "name": "stdout",
     "output_type": "stream",
     "text": [
      "3/3 [==============================] - 10s 5s/step - loss: 0.0966 - val_loss: 0.1753 - lr: 0.0010\n",
      "Epoch 201/1000\n",
      "3/3 [==============================] - ETA: 0s - loss: 0.0966INFO:tensorflow:Assets written to: /home/user/workdir/main/src/model/nitrate/scaled_o3/input6/final_model-201-0.17/assets\n"
     ]
    },
    {
     "name": "stderr",
     "output_type": "stream",
     "text": [
      "INFO:tensorflow:Assets written to: /home/user/workdir/main/src/model/nitrate/scaled_o3/input6/final_model-201-0.17/assets\n"
     ]
    },
    {
     "name": "stdout",
     "output_type": "stream",
     "text": [
      "3/3 [==============================] - 9s 4s/step - loss: 0.0966 - val_loss: 0.1683 - lr: 0.0010\n",
      "Epoch 202/1000\n",
      "3/3 [==============================] - 1s 226ms/step - loss: 0.0965 - val_loss: 0.2072 - lr: 0.0010\n",
      "Epoch 203/1000\n",
      "3/3 [==============================] - 1s 220ms/step - loss: 0.0962 - val_loss: 0.1689 - lr: 0.0010\n",
      "Epoch 204/1000\n",
      "3/3 [==============================] - ETA: 0s - loss: 0.0965INFO:tensorflow:Assets written to: /home/user/workdir/main/src/model/nitrate/scaled_o3/input6/final_model-204-0.16/assets\n"
     ]
    },
    {
     "name": "stderr",
     "output_type": "stream",
     "text": [
      "INFO:tensorflow:Assets written to: /home/user/workdir/main/src/model/nitrate/scaled_o3/input6/final_model-204-0.16/assets\n"
     ]
    },
    {
     "name": "stdout",
     "output_type": "stream",
     "text": [
      "3/3 [==============================] - 13s 7s/step - loss: 0.0965 - val_loss: 0.1585 - lr: 0.0010\n",
      "Epoch 205/1000\n",
      "3/3 [==============================] - 0s 223ms/step - loss: 0.0963 - val_loss: 0.1631 - lr: 0.0010\n",
      "Epoch 206/1000\n",
      "3/3 [==============================] - 1s 243ms/step - loss: 0.0954 - val_loss: 0.1633 - lr: 0.0010\n",
      "Epoch 207/1000\n",
      "3/3 [==============================] - ETA: 0s - loss: 0.0967INFO:tensorflow:Assets written to: /home/user/workdir/main/src/model/nitrate/scaled_o3/input6/final_model-207-0.16/assets\n"
     ]
    },
    {
     "name": "stderr",
     "output_type": "stream",
     "text": [
      "INFO:tensorflow:Assets written to: /home/user/workdir/main/src/model/nitrate/scaled_o3/input6/final_model-207-0.16/assets\n"
     ]
    },
    {
     "name": "stdout",
     "output_type": "stream",
     "text": [
      "3/3 [==============================] - 9s 5s/step - loss: 0.0967 - val_loss: 0.1565 - lr: 0.0010\n",
      "Epoch 208/1000\n",
      "3/3 [==============================] - ETA: 0s - loss: 0.0948INFO:tensorflow:Assets written to: /home/user/workdir/main/src/model/nitrate/scaled_o3/input6/final_model-208-0.15/assets\n"
     ]
    },
    {
     "name": "stderr",
     "output_type": "stream",
     "text": [
      "INFO:tensorflow:Assets written to: /home/user/workdir/main/src/model/nitrate/scaled_o3/input6/final_model-208-0.15/assets\n"
     ]
    },
    {
     "name": "stdout",
     "output_type": "stream",
     "text": [
      "3/3 [==============================] - 9s 5s/step - loss: 0.0948 - val_loss: 0.1493 - lr: 0.0010\n",
      "Epoch 209/1000\n",
      "2/3 [===================>..........] - ETA: 0s - loss: 0.0950INFO:tensorflow:Assets written to: /home/user/workdir/main/src/model/nitrate/scaled_o3/input6/final_model-209-0.14/assets\n"
     ]
    },
    {
     "name": "stderr",
     "output_type": "stream",
     "text": [
      "INFO:tensorflow:Assets written to: /home/user/workdir/main/src/model/nitrate/scaled_o3/input6/final_model-209-0.14/assets\n"
     ]
    },
    {
     "name": "stdout",
     "output_type": "stream",
     "text": [
      "3/3 [==============================] - 9s 5s/step - loss: 0.0962 - val_loss: 0.1410 - lr: 0.0010\n",
      "Epoch 210/1000\n",
      "3/3 [==============================] - ETA: 0s - loss: 0.0963INFO:tensorflow:Assets written to: /home/user/workdir/main/src/model/nitrate/scaled_o3/input6/final_model-210-0.14/assets\n"
     ]
    },
    {
     "name": "stderr",
     "output_type": "stream",
     "text": [
      "INFO:tensorflow:Assets written to: /home/user/workdir/main/src/model/nitrate/scaled_o3/input6/final_model-210-0.14/assets\n"
     ]
    },
    {
     "name": "stdout",
     "output_type": "stream",
     "text": [
      "3/3 [==============================] - 14s 7s/step - loss: 0.0963 - val_loss: 0.1391 - lr: 0.0010\n",
      "Epoch 211/1000\n",
      "3/3 [==============================] - 0s 224ms/step - loss: 0.0960 - val_loss: 0.1540 - lr: 0.0010\n",
      "Epoch 212/1000\n",
      "3/3 [==============================] - 0s 198ms/step - loss: 0.0961 - val_loss: 0.1458 - lr: 0.0010\n",
      "Epoch 213/1000\n",
      "3/3 [==============================] - 0s 223ms/step - loss: 0.0958 - val_loss: 0.1440 - lr: 0.0010\n",
      "Epoch 214/1000\n",
      "3/3 [==============================] - 1s 230ms/step - loss: 0.0943 - val_loss: 0.1470 - lr: 0.0010\n",
      "Epoch 215/1000\n",
      "3/3 [==============================] - 1s 234ms/step - loss: 0.0956 - val_loss: 0.1522 - lr: 0.0010\n",
      "Epoch 216/1000\n",
      "3/3 [==============================] - ETA: 0s - loss: 0.0946INFO:tensorflow:Assets written to: /home/user/workdir/main/src/model/nitrate/scaled_o3/input6/final_model-216-0.13/assets\n"
     ]
    },
    {
     "name": "stderr",
     "output_type": "stream",
     "text": [
      "INFO:tensorflow:Assets written to: /home/user/workdir/main/src/model/nitrate/scaled_o3/input6/final_model-216-0.13/assets\n"
     ]
    },
    {
     "name": "stdout",
     "output_type": "stream",
     "text": [
      "3/3 [==============================] - 10s 5s/step - loss: 0.0946 - val_loss: 0.1338 - lr: 0.0010\n",
      "Epoch 217/1000\n",
      "3/3 [==============================] - ETA: 0s - loss: 0.0970INFO:tensorflow:Assets written to: /home/user/workdir/main/src/model/nitrate/scaled_o3/input6/final_model-217-0.13/assets\n"
     ]
    },
    {
     "name": "stderr",
     "output_type": "stream",
     "text": [
      "INFO:tensorflow:Assets written to: /home/user/workdir/main/src/model/nitrate/scaled_o3/input6/final_model-217-0.13/assets\n"
     ]
    },
    {
     "name": "stdout",
     "output_type": "stream",
     "text": [
      "3/3 [==============================] - 9s 4s/step - loss: 0.0970 - val_loss: 0.1293 - lr: 0.0010\n",
      "Epoch 218/1000\n",
      "3/3 [==============================] - 0s 206ms/step - loss: 0.0966 - val_loss: 0.1419 - lr: 0.0010\n",
      "Epoch 219/1000\n",
      "3/3 [==============================] - 0s 197ms/step - loss: 0.0952 - val_loss: 0.1364 - lr: 0.0010\n",
      "Epoch 220/1000\n",
      "3/3 [==============================] - ETA: 0s - loss: 0.0948INFO:tensorflow:Assets written to: /home/user/workdir/main/src/model/nitrate/scaled_o3/input6/final_model-220-0.12/assets\n"
     ]
    },
    {
     "name": "stderr",
     "output_type": "stream",
     "text": [
      "INFO:tensorflow:Assets written to: /home/user/workdir/main/src/model/nitrate/scaled_o3/input6/final_model-220-0.12/assets\n"
     ]
    },
    {
     "name": "stdout",
     "output_type": "stream",
     "text": [
      "3/3 [==============================] - 14s 7s/step - loss: 0.0948 - val_loss: 0.1233 - lr: 0.0010\n",
      "Epoch 221/1000\n",
      "3/3 [==============================] - 0s 229ms/step - loss: 0.0958 - val_loss: 0.1488 - lr: 0.0010\n",
      "Epoch 222/1000\n",
      "3/3 [==============================] - 1s 240ms/step - loss: 0.0947 - val_loss: 0.1240 - lr: 0.0010\n",
      "Epoch 223/1000\n",
      "3/3 [==============================] - ETA: 0s - loss: 0.0949INFO:tensorflow:Assets written to: /home/user/workdir/main/src/model/nitrate/scaled_o3/input6/final_model-223-0.12/assets\n"
     ]
    },
    {
     "name": "stderr",
     "output_type": "stream",
     "text": [
      "INFO:tensorflow:Assets written to: /home/user/workdir/main/src/model/nitrate/scaled_o3/input6/final_model-223-0.12/assets\n"
     ]
    },
    {
     "name": "stdout",
     "output_type": "stream",
     "text": [
      "3/3 [==============================] - 9s 5s/step - loss: 0.0949 - val_loss: 0.1221 - lr: 0.0010\n",
      "Epoch 224/1000\n",
      "3/3 [==============================] - 0s 200ms/step - loss: 0.0948 - val_loss: 0.1381 - lr: 0.0010\n",
      "Epoch 225/1000\n",
      "2/3 [===================>..........] - ETA: 0s - loss: 0.0936INFO:tensorflow:Assets written to: /home/user/workdir/main/src/model/nitrate/scaled_o3/input6/final_model-225-0.12/assets\n"
     ]
    },
    {
     "name": "stderr",
     "output_type": "stream",
     "text": [
      "INFO:tensorflow:Assets written to: /home/user/workdir/main/src/model/nitrate/scaled_o3/input6/final_model-225-0.12/assets\n"
     ]
    },
    {
     "name": "stdout",
     "output_type": "stream",
     "text": [
      "3/3 [==============================] - 9s 4s/step - loss: 0.0948 - val_loss: 0.1213 - lr: 0.0010\n",
      "Epoch 226/1000\n",
      "3/3 [==============================] - ETA: 0s - loss: 0.0939INFO:tensorflow:Assets written to: /home/user/workdir/main/src/model/nitrate/scaled_o3/input6/final_model-226-0.12/assets\n"
     ]
    },
    {
     "name": "stderr",
     "output_type": "stream",
     "text": [
      "INFO:tensorflow:Assets written to: /home/user/workdir/main/src/model/nitrate/scaled_o3/input6/final_model-226-0.12/assets\n"
     ]
    },
    {
     "name": "stdout",
     "output_type": "stream",
     "text": [
      "3/3 [==============================] - 14s 7s/step - loss: 0.0939 - val_loss: 0.1204 - lr: 0.0010\n",
      "Epoch 227/1000\n",
      "3/3 [==============================] - 0s 194ms/step - loss: 0.0938 - val_loss: 0.1293 - lr: 0.0010\n",
      "Epoch 228/1000\n",
      "3/3 [==============================] - 0s 214ms/step - loss: 0.0950 - val_loss: 0.1438 - lr: 0.0010\n",
      "Epoch 229/1000\n",
      "3/3 [==============================] - 1s 229ms/step - loss: 0.0999 - val_loss: 0.1508 - lr: 0.0010\n",
      "Epoch 230/1000\n",
      "2/3 [===================>..........] - ETA: 0s - loss: 0.1001INFO:tensorflow:Assets written to: /home/user/workdir/main/src/model/nitrate/scaled_o3/input6/final_model-230-0.12/assets\n"
     ]
    },
    {
     "name": "stderr",
     "output_type": "stream",
     "text": [
      "INFO:tensorflow:Assets written to: /home/user/workdir/main/src/model/nitrate/scaled_o3/input6/final_model-230-0.12/assets\n"
     ]
    },
    {
     "name": "stdout",
     "output_type": "stream",
     "text": [
      "3/3 [==============================] - 9s 5s/step - loss: 0.1001 - val_loss: 0.1198 - lr: 0.0010\n",
      "Epoch 231/1000\n",
      "3/3 [==============================] - ETA: 0s - loss: 0.0970INFO:tensorflow:Assets written to: /home/user/workdir/main/src/model/nitrate/scaled_o3/input6/final_model-231-0.12/assets\n"
     ]
    },
    {
     "name": "stderr",
     "output_type": "stream",
     "text": [
      "INFO:tensorflow:Assets written to: /home/user/workdir/main/src/model/nitrate/scaled_o3/input6/final_model-231-0.12/assets\n"
     ]
    },
    {
     "name": "stdout",
     "output_type": "stream",
     "text": [
      "3/3 [==============================] - 9s 4s/step - loss: 0.0970 - val_loss: 0.1179 - lr: 0.0010\n",
      "Epoch 232/1000\n",
      "3/3 [==============================] - 0s 227ms/step - loss: 0.0969 - val_loss: 0.1338 - lr: 0.0010\n",
      "Epoch 233/1000\n",
      "3/3 [==============================] - 0s 203ms/step - loss: 0.0975 - val_loss: 0.1192 - lr: 0.0010\n",
      "Epoch 234/1000\n",
      "3/3 [==============================] - 0s 204ms/step - loss: 0.0960 - val_loss: 0.1186 - lr: 0.0010\n",
      "Epoch 235/1000\n",
      "3/3 [==============================] - 0s 219ms/step - loss: 0.0960 - val_loss: 0.1191 - lr: 0.0010\n",
      "Epoch 236/1000\n",
      "3/3 [==============================] - 0s 220ms/step - loss: 0.0945 - val_loss: 0.1209 - lr: 0.0010\n",
      "Epoch 237/1000\n",
      "3/3 [==============================] - ETA: 0s - loss: 0.0951INFO:tensorflow:Assets written to: /home/user/workdir/main/src/model/nitrate/scaled_o3/input6/final_model-237-0.11/assets\n"
     ]
    },
    {
     "name": "stderr",
     "output_type": "stream",
     "text": [
      "INFO:tensorflow:Assets written to: /home/user/workdir/main/src/model/nitrate/scaled_o3/input6/final_model-237-0.11/assets\n"
     ]
    },
    {
     "name": "stdout",
     "output_type": "stream",
     "text": [
      "3/3 [==============================] - 14s 7s/step - loss: 0.0951 - val_loss: 0.1116 - lr: 0.0010\n",
      "Epoch 238/1000\n",
      "3/3 [==============================] - 0s 213ms/step - loss: 0.0946 - val_loss: 0.1216 - lr: 0.0010\n",
      "Epoch 239/1000\n",
      "3/3 [==============================] - 0s 198ms/step - loss: 0.0946 - val_loss: 0.1166 - lr: 0.0010\n",
      "Epoch 240/1000\n",
      "3/3 [==============================] - 0s 226ms/step - loss: 0.0932 - val_loss: 0.1122 - lr: 0.0010\n",
      "Epoch 241/1000\n",
      "3/3 [==============================] - ETA: 0s - loss: 0.0930INFO:tensorflow:Assets written to: /home/user/workdir/main/src/model/nitrate/scaled_o3/input6/final_model-241-0.11/assets\n"
     ]
    },
    {
     "name": "stderr",
     "output_type": "stream",
     "text": [
      "INFO:tensorflow:Assets written to: /home/user/workdir/main/src/model/nitrate/scaled_o3/input6/final_model-241-0.11/assets\n"
     ]
    },
    {
     "name": "stdout",
     "output_type": "stream",
     "text": [
      "3/3 [==============================] - 9s 5s/step - loss: 0.0930 - val_loss: 0.1103 - lr: 0.0010\n",
      "Epoch 242/1000\n",
      "3/3 [==============================] - 0s 197ms/step - loss: 0.0938 - val_loss: 0.1262 - lr: 0.0010\n",
      "Epoch 243/1000\n",
      "3/3 [==============================] - 0s 211ms/step - loss: 0.0942 - val_loss: 0.1104 - lr: 0.0010\n",
      "Epoch 244/1000\n",
      "3/3 [==============================] - ETA: 0s - loss: 0.0933INFO:tensorflow:Assets written to: /home/user/workdir/main/src/model/nitrate/scaled_o3/input6/final_model-244-0.11/assets\n"
     ]
    },
    {
     "name": "stderr",
     "output_type": "stream",
     "text": [
      "INFO:tensorflow:Assets written to: /home/user/workdir/main/src/model/nitrate/scaled_o3/input6/final_model-244-0.11/assets\n"
     ]
    },
    {
     "name": "stdout",
     "output_type": "stream",
     "text": [
      "3/3 [==============================] - 9s 4s/step - loss: 0.0933 - val_loss: 0.1069 - lr: 0.0010\n",
      "Epoch 245/1000\n",
      "3/3 [==============================] - 0s 195ms/step - loss: 0.0934 - val_loss: 0.1100 - lr: 0.0010\n",
      "Epoch 246/1000\n",
      "3/3 [==============================] - 0s 210ms/step - loss: 0.0940 - val_loss: 0.1136 - lr: 0.0010\n",
      "Epoch 247/1000\n",
      "3/3 [==============================] - ETA: 0s - loss: 0.0942INFO:tensorflow:Assets written to: /home/user/workdir/main/src/model/nitrate/scaled_o3/input6/final_model-247-0.11/assets\n"
     ]
    },
    {
     "name": "stderr",
     "output_type": "stream",
     "text": [
      "INFO:tensorflow:Assets written to: /home/user/workdir/main/src/model/nitrate/scaled_o3/input6/final_model-247-0.11/assets\n"
     ]
    },
    {
     "name": "stdout",
     "output_type": "stream",
     "text": [
      "3/3 [==============================] - 14s 7s/step - loss: 0.0942 - val_loss: 0.1057 - lr: 0.0010\n",
      "Epoch 248/1000\n",
      "3/3 [==============================] - 1s 266ms/step - loss: 0.0926 - val_loss: 0.1112 - lr: 0.0010\n",
      "Epoch 249/1000\n",
      "3/3 [==============================] - ETA: 0s - loss: 0.0927INFO:tensorflow:Assets written to: /home/user/workdir/main/src/model/nitrate/scaled_o3/input6/final_model-249-0.10/assets\n"
     ]
    },
    {
     "name": "stderr",
     "output_type": "stream",
     "text": [
      "INFO:tensorflow:Assets written to: /home/user/workdir/main/src/model/nitrate/scaled_o3/input6/final_model-249-0.10/assets\n"
     ]
    },
    {
     "name": "stdout",
     "output_type": "stream",
     "text": [
      "3/3 [==============================] - 10s 5s/step - loss: 0.0927 - val_loss: 0.1030 - lr: 0.0010\n",
      "Epoch 250/1000\n",
      "3/3 [==============================] - ETA: 0s - loss: 0.0928INFO:tensorflow:Assets written to: /home/user/workdir/main/src/model/nitrate/scaled_o3/input6/final_model-250-0.10/assets\n"
     ]
    },
    {
     "name": "stderr",
     "output_type": "stream",
     "text": [
      "INFO:tensorflow:Assets written to: /home/user/workdir/main/src/model/nitrate/scaled_o3/input6/final_model-250-0.10/assets\n"
     ]
    },
    {
     "name": "stdout",
     "output_type": "stream",
     "text": [
      "3/3 [==============================] - 9s 5s/step - loss: 0.0928 - val_loss: 0.1029 - lr: 0.0010\n",
      "Epoch 251/1000\n",
      "3/3 [==============================] - 0s 191ms/step - loss: 0.0925 - val_loss: 0.1073 - lr: 0.0010\n",
      "Epoch 252/1000\n",
      "3/3 [==============================] - 0s 210ms/step - loss: 0.0919 - val_loss: 0.1029 - lr: 0.0010\n",
      "Epoch 253/1000\n",
      "2/3 [===================>..........] - ETA: 0s - loss: 0.0920INFO:tensorflow:Assets written to: /home/user/workdir/main/src/model/nitrate/scaled_o3/input6/final_model-253-0.10/assets\n"
     ]
    },
    {
     "name": "stderr",
     "output_type": "stream",
     "text": [
      "INFO:tensorflow:Assets written to: /home/user/workdir/main/src/model/nitrate/scaled_o3/input6/final_model-253-0.10/assets\n"
     ]
    },
    {
     "name": "stdout",
     "output_type": "stream",
     "text": [
      "3/3 [==============================] - 14s 7s/step - loss: 0.0922 - val_loss: 0.1015 - lr: 0.0010\n",
      "Epoch 254/1000\n",
      "3/3 [==============================] - 1s 256ms/step - loss: 0.0925 - val_loss: 0.1064 - lr: 0.0010\n",
      "Epoch 255/1000\n",
      "3/3 [==============================] - ETA: 0s - loss: 0.0935INFO:tensorflow:Assets written to: /home/user/workdir/main/src/model/nitrate/scaled_o3/input6/final_model-255-0.10/assets\n"
     ]
    },
    {
     "name": "stderr",
     "output_type": "stream",
     "text": [
      "INFO:tensorflow:Assets written to: /home/user/workdir/main/src/model/nitrate/scaled_o3/input6/final_model-255-0.10/assets\n"
     ]
    },
    {
     "name": "stdout",
     "output_type": "stream",
     "text": [
      "3/3 [==============================] - 9s 5s/step - loss: 0.0935 - val_loss: 0.1014 - lr: 0.0010\n",
      "Epoch 256/1000\n",
      "3/3 [==============================] - 1s 239ms/step - loss: 0.0928 - val_loss: 0.1042 - lr: 0.0010\n",
      "Epoch 257/1000\n",
      "3/3 [==============================] - ETA: 0s - loss: 0.0937INFO:tensorflow:Assets written to: /home/user/workdir/main/src/model/nitrate/scaled_o3/input6/final_model-257-0.10/assets\n"
     ]
    },
    {
     "name": "stderr",
     "output_type": "stream",
     "text": [
      "INFO:tensorflow:Assets written to: /home/user/workdir/main/src/model/nitrate/scaled_o3/input6/final_model-257-0.10/assets\n"
     ]
    },
    {
     "name": "stdout",
     "output_type": "stream",
     "text": [
      "3/3 [==============================] - 9s 5s/step - loss: 0.0937 - val_loss: 0.1002 - lr: 0.0010\n",
      "Epoch 258/1000\n",
      "3/3 [==============================] - 1s 248ms/step - loss: 0.0927 - val_loss: 0.1002 - lr: 0.0010\n",
      "Epoch 259/1000\n",
      "3/3 [==============================] - 0s 206ms/step - loss: 0.0930 - val_loss: 0.1017 - lr: 0.0010\n",
      "Epoch 260/1000\n",
      "3/3 [==============================] - 0s 200ms/step - loss: 0.0927 - val_loss: 0.1030 - lr: 0.0010\n",
      "Epoch 261/1000\n",
      "3/3 [==============================] - ETA: 0s - loss: 0.0924INFO:tensorflow:Assets written to: /home/user/workdir/main/src/model/nitrate/scaled_o3/input6/final_model-261-0.10/assets\n"
     ]
    },
    {
     "name": "stderr",
     "output_type": "stream",
     "text": [
      "INFO:tensorflow:Assets written to: /home/user/workdir/main/src/model/nitrate/scaled_o3/input6/final_model-261-0.10/assets\n"
     ]
    },
    {
     "name": "stdout",
     "output_type": "stream",
     "text": [
      "3/3 [==============================] - 14s 7s/step - loss: 0.0924 - val_loss: 0.0988 - lr: 0.0010\n",
      "Epoch 262/1000\n",
      "3/3 [==============================] - 1s 231ms/step - loss: 0.0929 - val_loss: 0.1111 - lr: 0.0010\n",
      "Epoch 263/1000\n",
      "3/3 [==============================] - 1s 236ms/step - loss: 0.0947 - val_loss: 0.1018 - lr: 0.0010\n",
      "Epoch 264/1000\n",
      "3/3 [==============================] - 0s 213ms/step - loss: 0.0942 - val_loss: 0.1045 - lr: 0.0010\n",
      "Epoch 265/1000\n",
      "3/3 [==============================] - 0s 220ms/step - loss: 0.0956 - val_loss: 0.1011 - lr: 0.0010\n",
      "Epoch 266/1000\n",
      "3/3 [==============================] - 1s 243ms/step - loss: 0.0925 - val_loss: 0.1024 - lr: 0.0010\n",
      "Epoch 267/1000\n",
      "3/3 [==============================] - 1s 236ms/step - loss: 0.0933 - val_loss: 0.1031 - lr: 0.0010\n",
      "Epoch 268/1000\n",
      "3/3 [==============================] - 1s 238ms/step - loss: 0.0934 - val_loss: 0.1000 - lr: 0.0010\n",
      "Epoch 269/1000\n",
      "3/3 [==============================] - 0s 222ms/step - loss: 0.0936 - val_loss: 0.1004 - lr: 0.0010\n",
      "Epoch 270/1000\n",
      "3/3 [==============================] - 1s 265ms/step - loss: 0.0936 - val_loss: 0.1032 - lr: 0.0010\n",
      "Epoch 271/1000\n",
      "3/3 [==============================] - ETA: 0s - loss: 0.0933INFO:tensorflow:Assets written to: /home/user/workdir/main/src/model/nitrate/scaled_o3/input6/final_model-271-0.10/assets\n"
     ]
    },
    {
     "name": "stderr",
     "output_type": "stream",
     "text": [
      "INFO:tensorflow:Assets written to: /home/user/workdir/main/src/model/nitrate/scaled_o3/input6/final_model-271-0.10/assets\n"
     ]
    },
    {
     "name": "stdout",
     "output_type": "stream",
     "text": [
      "3/3 [==============================] - 10s 5s/step - loss: 0.0933 - val_loss: 0.0987 - lr: 0.0010\n",
      "Epoch 272/1000\n",
      "3/3 [==============================] - 0s 213ms/step - loss: 0.0932 - val_loss: 0.1001 - lr: 0.0010\n",
      "Epoch 273/1000\n",
      "3/3 [==============================] - ETA: 0s - loss: 0.0927INFO:tensorflow:Assets written to: /home/user/workdir/main/src/model/nitrate/scaled_o3/input6/final_model-273-0.10/assets\n"
     ]
    },
    {
     "name": "stderr",
     "output_type": "stream",
     "text": [
      "INFO:tensorflow:Assets written to: /home/user/workdir/main/src/model/nitrate/scaled_o3/input6/final_model-273-0.10/assets\n"
     ]
    },
    {
     "name": "stdout",
     "output_type": "stream",
     "text": [
      "3/3 [==============================] - 9s 5s/step - loss: 0.0927 - val_loss: 0.0976 - lr: 0.0010\n",
      "Epoch 274/1000\n",
      "3/3 [==============================] - ETA: 0s - loss: 0.0919INFO:tensorflow:Assets written to: /home/user/workdir/main/src/model/nitrate/scaled_o3/input6/final_model-274-0.10/assets\n"
     ]
    },
    {
     "name": "stderr",
     "output_type": "stream",
     "text": [
      "INFO:tensorflow:Assets written to: /home/user/workdir/main/src/model/nitrate/scaled_o3/input6/final_model-274-0.10/assets\n"
     ]
    },
    {
     "name": "stdout",
     "output_type": "stream",
     "text": [
      "3/3 [==============================] - 9s 5s/step - loss: 0.0919 - val_loss: 0.0974 - lr: 0.0010\n",
      "Epoch 275/1000\n",
      "3/3 [==============================] - 0s 202ms/step - loss: 0.0930 - val_loss: 0.0989 - lr: 0.0010\n",
      "Epoch 276/1000\n",
      "3/3 [==============================] - 0s 199ms/step - loss: 0.0929 - val_loss: 0.0978 - lr: 0.0010\n",
      "Epoch 277/1000\n",
      "3/3 [==============================] - 0s 195ms/step - loss: 0.0927 - val_loss: 0.1030 - lr: 0.0010\n",
      "Epoch 278/1000\n",
      "3/3 [==============================] - 1s 246ms/step - loss: 0.0942 - val_loss: 0.1005 - lr: 0.0010\n",
      "Epoch 279/1000\n",
      "3/3 [==============================] - 0s 217ms/step - loss: 0.0934 - val_loss: 0.0983 - lr: 0.0010\n",
      "Epoch 280/1000\n",
      "3/3 [==============================] - 0s 188ms/step - loss: 0.0923 - val_loss: 0.1019 - lr: 0.0010\n",
      "Epoch 281/1000\n",
      "3/3 [==============================] - 0s 202ms/step - loss: 0.0937 - val_loss: 0.0981 - lr: 0.0010\n",
      "Epoch 282/1000\n",
      "3/3 [==============================] - 0s 206ms/step - loss: 0.0925 - val_loss: 0.0993 - lr: 0.0010\n",
      "Epoch 283/1000\n",
      "3/3 [==============================] - ETA: 0s - loss: 0.0931INFO:tensorflow:Assets written to: /home/user/workdir/main/src/model/nitrate/scaled_o3/input6/final_model-283-0.10/assets\n"
     ]
    },
    {
     "name": "stderr",
     "output_type": "stream",
     "text": [
      "INFO:tensorflow:Assets written to: /home/user/workdir/main/src/model/nitrate/scaled_o3/input6/final_model-283-0.10/assets\n"
     ]
    },
    {
     "name": "stdout",
     "output_type": "stream",
     "text": [
      "3/3 [==============================] - 14s 7s/step - loss: 0.0931 - val_loss: 0.0974 - lr: 0.0010\n",
      "Epoch 284/1000\n",
      "3/3 [==============================] - ETA: 0s - loss: 0.0916INFO:tensorflow:Assets written to: /home/user/workdir/main/src/model/nitrate/scaled_o3/input6/final_model-284-0.10/assets\n"
     ]
    },
    {
     "name": "stderr",
     "output_type": "stream",
     "text": [
      "INFO:tensorflow:Assets written to: /home/user/workdir/main/src/model/nitrate/scaled_o3/input6/final_model-284-0.10/assets\n"
     ]
    },
    {
     "name": "stdout",
     "output_type": "stream",
     "text": [
      "3/3 [==============================] - 9s 5s/step - loss: 0.0916 - val_loss: 0.0964 - lr: 0.0010\n",
      "Epoch 285/1000\n",
      "3/3 [==============================] - 0s 199ms/step - loss: 0.0918 - val_loss: 0.0986 - lr: 0.0010\n",
      "Epoch 286/1000\n",
      "3/3 [==============================] - 0s 225ms/step - loss: 0.0922 - val_loss: 0.0972 - lr: 0.0010\n",
      "Epoch 287/1000\n",
      "3/3 [==============================] - 0s 187ms/step - loss: 0.0920 - val_loss: 0.0986 - lr: 0.0010\n",
      "Epoch 288/1000\n",
      "3/3 [==============================] - 1s 230ms/step - loss: 0.0915 - val_loss: 0.0967 - lr: 0.0010\n",
      "Epoch 289/1000\n",
      "3/3 [==============================] - 0s 204ms/step - loss: 0.0914 - val_loss: 0.0991 - lr: 0.0010\n",
      "Epoch 290/1000\n",
      "3/3 [==============================] - 0s 224ms/step - loss: 0.0926 - val_loss: 0.0979 - lr: 0.0010\n",
      "Epoch 291/1000\n",
      "3/3 [==============================] - 0s 227ms/step - loss: 0.0932 - val_loss: 0.0973 - lr: 0.0010\n",
      "Epoch 292/1000\n",
      "3/3 [==============================] - 0s 208ms/step - loss: 0.0929 - val_loss: 0.0992 - lr: 0.0010\n",
      "Epoch 293/1000\n",
      "3/3 [==============================] - 0s 223ms/step - loss: 0.0930 - val_loss: 0.0987 - lr: 0.0010\n",
      "Epoch 294/1000\n",
      "3/3 [==============================] - ETA: 0s - loss: 0.0918INFO:tensorflow:Assets written to: /home/user/workdir/main/src/model/nitrate/scaled_o3/input6/final_model-294-0.10/assets\n"
     ]
    },
    {
     "name": "stderr",
     "output_type": "stream",
     "text": [
      "INFO:tensorflow:Assets written to: /home/user/workdir/main/src/model/nitrate/scaled_o3/input6/final_model-294-0.10/assets\n"
     ]
    },
    {
     "name": "stdout",
     "output_type": "stream",
     "text": [
      "3/3 [==============================] - 10s 5s/step - loss: 0.0918 - val_loss: 0.0964 - lr: 0.0010\n",
      "Epoch 295/1000\n",
      "3/3 [==============================] - ETA: 0s - loss: 0.0919INFO:tensorflow:Assets written to: /home/user/workdir/main/src/model/nitrate/scaled_o3/input6/final_model-295-0.10/assets\n"
     ]
    },
    {
     "name": "stderr",
     "output_type": "stream",
     "text": [
      "INFO:tensorflow:Assets written to: /home/user/workdir/main/src/model/nitrate/scaled_o3/input6/final_model-295-0.10/assets\n"
     ]
    },
    {
     "name": "stdout",
     "output_type": "stream",
     "text": [
      "3/3 [==============================] - 15s 7s/step - loss: 0.0919 - val_loss: 0.0962 - lr: 0.0010\n",
      "Epoch 296/1000\n",
      "3/3 [==============================] - 1s 274ms/step - loss: 0.0917 - val_loss: 0.0968 - lr: 0.0010\n",
      "Epoch 297/1000\n",
      "3/3 [==============================] - 1s 233ms/step - loss: 0.0932 - val_loss: 0.0980 - lr: 0.0010\n",
      "Epoch 298/1000\n",
      "3/3 [==============================] - 0s 207ms/step - loss: 0.0924 - val_loss: 0.1029 - lr: 0.0010\n",
      "Epoch 299/1000\n",
      "3/3 [==============================] - 0s 220ms/step - loss: 0.0929 - val_loss: 0.0988 - lr: 0.0010\n",
      "Epoch 300/1000\n",
      "3/3 [==============================] - 1s 236ms/step - loss: 0.0917 - val_loss: 0.1031 - lr: 0.0010\n",
      "Epoch 301/1000\n",
      "3/3 [==============================] - 0s 209ms/step - loss: 0.0931 - val_loss: 0.1050 - lr: 0.0010\n",
      "Epoch 302/1000\n",
      "3/3 [==============================] - 0s 205ms/step - loss: 0.0924 - val_loss: 0.0997 - lr: 0.0010\n",
      "Epoch 303/1000\n",
      "3/3 [==============================] - 0s 205ms/step - loss: 0.0929 - val_loss: 0.0991 - lr: 0.0010\n",
      "Epoch 304/1000\n",
      "3/3 [==============================] - 0s 204ms/step - loss: 0.0922 - val_loss: 0.0973 - lr: 0.0010\n",
      "Epoch 305/1000\n",
      "3/3 [==============================] - 0s 206ms/step - loss: 0.0917 - val_loss: 0.0973 - lr: 0.0010\n",
      "Epoch 306/1000\n",
      "3/3 [==============================] - 0s 196ms/step - loss: 0.0925 - val_loss: 0.1011 - lr: 0.0010\n",
      "Epoch 307/1000\n",
      "3/3 [==============================] - ETA: 0s - loss: 0.0928INFO:tensorflow:Assets written to: /home/user/workdir/main/src/model/nitrate/scaled_o3/input6/final_model-307-0.10/assets\n"
     ]
    },
    {
     "name": "stderr",
     "output_type": "stream",
     "text": [
      "INFO:tensorflow:Assets written to: /home/user/workdir/main/src/model/nitrate/scaled_o3/input6/final_model-307-0.10/assets\n"
     ]
    },
    {
     "name": "stdout",
     "output_type": "stream",
     "text": [
      "3/3 [==============================] - 9s 5s/step - loss: 0.0928 - val_loss: 0.0953 - lr: 0.0010\n",
      "Epoch 308/1000\n",
      "2/3 [===================>..........] - ETA: 0s - loss: 0.0917INFO:tensorflow:Assets written to: /home/user/workdir/main/src/model/nitrate/scaled_o3/input6/final_model-308-0.09/assets\n"
     ]
    },
    {
     "name": "stderr",
     "output_type": "stream",
     "text": [
      "INFO:tensorflow:Assets written to: /home/user/workdir/main/src/model/nitrate/scaled_o3/input6/final_model-308-0.09/assets\n"
     ]
    },
    {
     "name": "stdout",
     "output_type": "stream",
     "text": [
      "3/3 [==============================] - 10s 5s/step - loss: 0.0918 - val_loss: 0.0948 - lr: 0.0010\n",
      "Epoch 309/1000\n",
      "3/3 [==============================] - 0s 204ms/step - loss: 0.0918 - val_loss: 0.0948 - lr: 0.0010\n",
      "Epoch 310/1000\n",
      "3/3 [==============================] - 0s 199ms/step - loss: 0.0913 - val_loss: 0.0967 - lr: 0.0010\n",
      "Epoch 311/1000\n",
      "3/3 [==============================] - 0s 220ms/step - loss: 0.0924 - val_loss: 0.0960 - lr: 0.0010\n",
      "Epoch 312/1000\n",
      "2/3 [===================>..........] - ETA: 0s - loss: 0.0925INFO:tensorflow:Assets written to: /home/user/workdir/main/src/model/nitrate/scaled_o3/input6/final_model-312-0.09/assets\n"
     ]
    },
    {
     "name": "stderr",
     "output_type": "stream",
     "text": [
      "INFO:tensorflow:Assets written to: /home/user/workdir/main/src/model/nitrate/scaled_o3/input6/final_model-312-0.09/assets\n"
     ]
    },
    {
     "name": "stdout",
     "output_type": "stream",
     "text": [
      "3/3 [==============================] - 9s 5s/step - loss: 0.0932 - val_loss: 0.0943 - lr: 0.0010\n",
      "Epoch 313/1000\n",
      "3/3 [==============================] - 1s 259ms/step - loss: 0.0921 - val_loss: 0.0944 - lr: 0.0010\n",
      "Epoch 314/1000\n",
      "3/3 [==============================] - 1s 227ms/step - loss: 0.0924 - val_loss: 0.0956 - lr: 0.0010\n",
      "Epoch 315/1000\n",
      "3/3 [==============================] - 0s 217ms/step - loss: 0.0913 - val_loss: 0.0953 - lr: 0.0010\n",
      "Epoch 316/1000\n",
      "3/3 [==============================] - 0s 184ms/step - loss: 0.0917 - val_loss: 0.0957 - lr: 0.0010\n",
      "Epoch 317/1000\n",
      "3/3 [==============================] - 0s 217ms/step - loss: 0.0910 - val_loss: 0.1081 - lr: 0.0010\n",
      "Epoch 318/1000\n",
      "3/3 [==============================] - 0s 208ms/step - loss: 0.0923 - val_loss: 0.0959 - lr: 0.0010\n",
      "Epoch 319/1000\n",
      "3/3 [==============================] - 0s 211ms/step - loss: 0.0919 - val_loss: 0.0945 - lr: 0.0010\n",
      "Epoch 320/1000\n",
      "3/3 [==============================] - 5s 3s/step - loss: 0.0916 - val_loss: 0.1009 - lr: 0.0010\n",
      "Epoch 321/1000\n",
      "3/3 [==============================] - 1s 255ms/step - loss: 0.0916 - val_loss: 0.1058 - lr: 0.0010\n",
      "Epoch 322/1000\n",
      "3/3 [==============================] - 0s 212ms/step - loss: 0.0915 - val_loss: 0.0960 - lr: 0.0010\n",
      "Epoch 323/1000\n",
      "3/3 [==============================] - 1s 232ms/step - loss: 0.0934 - val_loss: 0.0983 - lr: 0.0010\n",
      "Epoch 324/1000\n",
      "3/3 [==============================] - 1s 246ms/step - loss: 0.0917 - val_loss: 0.0962 - lr: 0.0010\n",
      "Epoch 325/1000\n",
      "3/3 [==============================] - 1s 233ms/step - loss: 0.0920 - val_loss: 0.0964 - lr: 0.0010\n",
      "Epoch 326/1000\n",
      "3/3 [==============================] - 1s 238ms/step - loss: 0.0907 - val_loss: 0.0945 - lr: 0.0010\n",
      "Epoch 327/1000\n",
      "3/3 [==============================] - 1s 254ms/step - loss: 0.0912 - val_loss: 0.0960 - lr: 0.0010\n",
      "Epoch 328/1000\n",
      "3/3 [==============================] - 1s 227ms/step - loss: 0.0913 - val_loss: 0.0960 - lr: 0.0010\n",
      "Epoch 329/1000\n",
      "3/3 [==============================] - 1s 245ms/step - loss: 0.0916 - val_loss: 0.0958 - lr: 0.0010\n",
      "Epoch 330/1000\n",
      "3/3 [==============================] - 1s 233ms/step - loss: 0.0912 - val_loss: 0.0944 - lr: 0.0010\n",
      "Epoch 331/1000\n",
      "3/3 [==============================] - 1s 256ms/step - loss: 0.0903 - val_loss: 0.0949 - lr: 0.0010\n",
      "Epoch 332/1000\n",
      "3/3 [==============================] - 1s 232ms/step - loss: 0.0938 - val_loss: 0.0952 - lr: 0.0010\n",
      "Epoch 333/1000\n",
      "3/3 [==============================] - 1s 240ms/step - loss: 0.0928 - val_loss: 0.0996 - lr: 0.0010\n",
      "Epoch 334/1000\n",
      "3/3 [==============================] - 0s 217ms/step - loss: 0.0931 - val_loss: 0.0962 - lr: 0.0010\n",
      "Epoch 335/1000\n",
      "3/3 [==============================] - 1s 244ms/step - loss: 0.0928 - val_loss: 0.0989 - lr: 0.0010\n",
      "Epoch 336/1000\n",
      "3/3 [==============================] - 0s 201ms/step - loss: 0.0920 - val_loss: 0.0954 - lr: 0.0010\n",
      "Epoch 337/1000\n",
      "3/3 [==============================] - 1s 262ms/step - loss: 0.0920 - val_loss: 0.0967 - lr: 0.0010\n",
      "Epoch 338/1000\n",
      "3/3 [==============================] - 0s 211ms/step - loss: 0.0909 - val_loss: 0.0957 - lr: 0.0010\n",
      "Epoch 339/1000\n",
      "3/3 [==============================] - 1s 225ms/step - loss: 0.0915 - val_loss: 0.0980 - lr: 0.0010\n",
      "Epoch 340/1000\n",
      "2/3 [===================>..........] - ETA: 0s - loss: 0.0902INFO:tensorflow:Assets written to: /home/user/workdir/main/src/model/nitrate/scaled_o3/input6/final_model-340-0.09/assets\n"
     ]
    },
    {
     "name": "stderr",
     "output_type": "stream",
     "text": [
      "INFO:tensorflow:Assets written to: /home/user/workdir/main/src/model/nitrate/scaled_o3/input6/final_model-340-0.09/assets\n"
     ]
    },
    {
     "name": "stdout",
     "output_type": "stream",
     "text": [
      "3/3 [==============================] - 10s 5s/step - loss: 0.0903 - val_loss: 0.0943 - lr: 0.0010\n",
      "Epoch 341/1000\n",
      "3/3 [==============================] - 1s 235ms/step - loss: 0.0914 - val_loss: 0.1059 - lr: 0.0010\n",
      "Epoch 342/1000\n",
      "3/3 [==============================] - 0s 188ms/step - loss: 0.0933 - val_loss: 0.1012 - lr: 0.0010\n",
      "Epoch 343/1000\n",
      "3/3 [==============================] - 0s 207ms/step - loss: 0.0929 - val_loss: 0.0977 - lr: 0.0010\n",
      "Epoch 344/1000\n",
      "3/3 [==============================] - 0s 196ms/step - loss: 0.0912 - val_loss: 0.0958 - lr: 0.0010\n",
      "Epoch 345/1000\n",
      "3/3 [==============================] - 1s 227ms/step - loss: 0.0914 - val_loss: 0.0959 - lr: 0.0010\n",
      "Epoch 346/1000\n",
      "3/3 [==============================] - 0s 207ms/step - loss: 0.0919 - val_loss: 0.0954 - lr: 0.0010\n",
      "Epoch 347/1000\n",
      "3/3 [==============================] - 0s 206ms/step - loss: 0.0920 - val_loss: 0.0969 - lr: 0.0010\n",
      "Epoch 348/1000\n",
      "3/3 [==============================] - 0s 188ms/step - loss: 0.0917 - val_loss: 0.0978 - lr: 0.0010\n",
      "Epoch 349/1000\n",
      "3/3 [==============================] - 0s 204ms/step - loss: 0.0915 - val_loss: 0.0985 - lr: 0.0010\n",
      "Epoch 350/1000\n",
      "3/3 [==============================] - ETA: 0s - loss: 0.0924INFO:tensorflow:Assets written to: /home/user/workdir/main/src/model/nitrate/scaled_o3/input6/final_model-350-0.09/assets\n"
     ]
    },
    {
     "name": "stderr",
     "output_type": "stream",
     "text": [
      "INFO:tensorflow:Assets written to: /home/user/workdir/main/src/model/nitrate/scaled_o3/input6/final_model-350-0.09/assets\n"
     ]
    },
    {
     "name": "stdout",
     "output_type": "stream",
     "text": [
      "3/3 [==============================] - 9s 5s/step - loss: 0.0924 - val_loss: 0.0936 - lr: 0.0010\n",
      "Epoch 351/1000\n",
      "3/3 [==============================] - 1s 235ms/step - loss: 0.0907 - val_loss: 0.0986 - lr: 0.0010\n",
      "Epoch 352/1000\n",
      "3/3 [==============================] - 0s 219ms/step - loss: 0.0912 - val_loss: 0.0962 - lr: 0.0010\n",
      "Epoch 353/1000\n",
      "3/3 [==============================] - 0s 214ms/step - loss: 0.0925 - val_loss: 0.0958 - lr: 0.0010\n",
      "Epoch 354/1000\n",
      "3/3 [==============================] - 1s 249ms/step - loss: 0.0909 - val_loss: 0.0940 - lr: 0.0010\n",
      "Epoch 355/1000\n",
      "3/3 [==============================] - 0s 202ms/step - loss: 0.0914 - val_loss: 0.0948 - lr: 0.0010\n",
      "Epoch 356/1000\n",
      "3/3 [==============================] - 0s 198ms/step - loss: 0.0905 - val_loss: 0.1031 - lr: 0.0010\n",
      "Epoch 357/1000\n",
      "3/3 [==============================] - 0s 212ms/step - loss: 0.0923 - val_loss: 0.0943 - lr: 0.0010\n",
      "Epoch 358/1000\n",
      "3/3 [==============================] - 0s 215ms/step - loss: 0.0921 - val_loss: 0.0960 - lr: 0.0010\n",
      "Epoch 359/1000\n",
      "3/3 [==============================] - 0s 209ms/step - loss: 0.0939 - val_loss: 0.1032 - lr: 0.0010\n",
      "Epoch 360/1000\n",
      "3/3 [==============================] - 1s 237ms/step - loss: 0.0944 - val_loss: 0.1079 - lr: 0.0010\n",
      "Epoch 361/1000\n",
      "3/3 [==============================] - 0s 215ms/step - loss: 0.0935 - val_loss: 0.0975 - lr: 0.0010\n",
      "Epoch 362/1000\n",
      "3/3 [==============================] - 1s 235ms/step - loss: 0.0919 - val_loss: 0.0960 - lr: 0.0010\n",
      "Epoch 363/1000\n",
      "3/3 [==============================] - 1s 230ms/step - loss: 0.0912 - val_loss: 0.0958 - lr: 0.0010\n",
      "Epoch 364/1000\n",
      "3/3 [==============================] - 0s 219ms/step - loss: 0.0910 - val_loss: 0.1007 - lr: 0.0010\n",
      "Epoch 365/1000\n",
      "3/3 [==============================] - 1s 228ms/step - loss: 0.0917 - val_loss: 0.0964 - lr: 0.0010\n",
      "Epoch 366/1000\n",
      "3/3 [==============================] - 1s 228ms/step - loss: 0.0921 - val_loss: 0.1026 - lr: 0.0010\n",
      "Epoch 367/1000\n",
      "3/3 [==============================] - 1s 265ms/step - loss: 0.0922 - val_loss: 0.0947 - lr: 0.0010\n",
      "Epoch 368/1000\n",
      "3/3 [==============================] - 0s 211ms/step - loss: 0.0921 - val_loss: 0.0959 - lr: 0.0010\n",
      "Epoch 369/1000\n",
      "3/3 [==============================] - 0s 210ms/step - loss: 0.0937 - val_loss: 0.0991 - lr: 0.0010\n",
      "Epoch 370/1000\n",
      "3/3 [==============================] - 0s 218ms/step - loss: 0.0927 - val_loss: 0.0948 - lr: 0.0010\n",
      "Epoch 371/1000\n",
      "3/3 [==============================] - 0s 205ms/step - loss: 0.0922 - val_loss: 0.0956 - lr: 0.0010\n",
      "Epoch 372/1000\n",
      "3/3 [==============================] - 1s 235ms/step - loss: 0.0918 - val_loss: 0.1044 - lr: 0.0010\n",
      "Epoch 373/1000\n",
      "3/3 [==============================] - 0s 208ms/step - loss: 0.0924 - val_loss: 0.1028 - lr: 0.0010\n",
      "Epoch 374/1000\n",
      "3/3 [==============================] - 1s 249ms/step - loss: 0.0935 - val_loss: 0.0985 - lr: 0.0010\n",
      "Epoch 375/1000\n",
      "3/3 [==============================] - 0s 214ms/step - loss: 0.0932 - val_loss: 0.0954 - lr: 0.0010\n",
      "Epoch 376/1000\n",
      "3/3 [==============================] - 0s 210ms/step - loss: 0.0929 - val_loss: 0.1017 - lr: 0.0010\n",
      "Epoch 377/1000\n",
      "3/3 [==============================] - 0s 213ms/step - loss: 0.0927 - val_loss: 0.0987 - lr: 0.0010\n",
      "Epoch 378/1000\n",
      "3/3 [==============================] - 0s 200ms/step - loss: 0.0916 - val_loss: 0.0959 - lr: 0.0010\n",
      "Epoch 379/1000\n",
      "3/3 [==============================] - 0s 219ms/step - loss: 0.0915 - val_loss: 0.0967 - lr: 0.0010\n",
      "Epoch 380/1000\n",
      "3/3 [==============================] - 1s 249ms/step - loss: 0.0922 - val_loss: 0.0996 - lr: 0.0010\n",
      "Epoch 381/1000\n",
      "3/3 [==============================] - 1s 229ms/step - loss: 0.0926 - val_loss: 0.0966 - lr: 0.0010\n",
      "Epoch 382/1000\n",
      "3/3 [==============================] - 0s 212ms/step - loss: 0.0914 - val_loss: 0.0940 - lr: 0.0010\n",
      "Epoch 383/1000\n",
      "3/3 [==============================] - ETA: 0s - loss: 0.0903INFO:tensorflow:Assets written to: /home/user/workdir/main/src/model/nitrate/scaled_o3/input6/final_model-383-0.09/assets\n"
     ]
    },
    {
     "name": "stderr",
     "output_type": "stream",
     "text": [
      "INFO:tensorflow:Assets written to: /home/user/workdir/main/src/model/nitrate/scaled_o3/input6/final_model-383-0.09/assets\n"
     ]
    },
    {
     "name": "stdout",
     "output_type": "stream",
     "text": [
      "3/3 [==============================] - 9s 5s/step - loss: 0.0903 - val_loss: 0.0935 - lr: 0.0010\n",
      "Epoch 384/1000\n",
      "3/3 [==============================] - 0s 214ms/step - loss: 0.0905 - val_loss: 0.0943 - lr: 0.0010\n",
      "Epoch 385/1000\n",
      "2/3 [===================>..........] - ETA: 0s - loss: 0.0903INFO:tensorflow:Assets written to: /home/user/workdir/main/src/model/nitrate/scaled_o3/input6/final_model-385-0.09/assets\n"
     ]
    },
    {
     "name": "stderr",
     "output_type": "stream",
     "text": [
      "INFO:tensorflow:Assets written to: /home/user/workdir/main/src/model/nitrate/scaled_o3/input6/final_model-385-0.09/assets\n"
     ]
    },
    {
     "name": "stdout",
     "output_type": "stream",
     "text": [
      "3/3 [==============================] - 14s 7s/step - loss: 0.0907 - val_loss: 0.0935 - lr: 0.0010\n",
      "Epoch 386/1000\n",
      "3/3 [==============================] - 0s 187ms/step - loss: 0.0919 - val_loss: 0.0945 - lr: 0.0010\n",
      "Epoch 387/1000\n",
      "2/3 [===================>..........] - ETA: 0s - loss: 0.0899INFO:tensorflow:Assets written to: /home/user/workdir/main/src/model/nitrate/scaled_o3/input6/final_model-387-0.09/assets\n"
     ]
    },
    {
     "name": "stderr",
     "output_type": "stream",
     "text": [
      "INFO:tensorflow:Assets written to: /home/user/workdir/main/src/model/nitrate/scaled_o3/input6/final_model-387-0.09/assets\n"
     ]
    },
    {
     "name": "stdout",
     "output_type": "stream",
     "text": [
      "3/3 [==============================] - 9s 4s/step - loss: 0.0912 - val_loss: 0.0934 - lr: 0.0010\n",
      "Epoch 388/1000\n",
      "3/3 [==============================] - 1s 249ms/step - loss: 0.0905 - val_loss: 0.0952 - lr: 0.0010\n",
      "Epoch 389/1000\n",
      "3/3 [==============================] - 1s 234ms/step - loss: 0.0905 - val_loss: 0.0937 - lr: 0.0010\n",
      "Epoch 390/1000\n",
      "3/3 [==============================] - 0s 222ms/step - loss: 0.0925 - val_loss: 0.0980 - lr: 0.0010\n",
      "Epoch 391/1000\n",
      "3/3 [==============================] - 0s 222ms/step - loss: 0.0914 - val_loss: 0.0983 - lr: 0.0010\n",
      "Epoch 392/1000\n",
      "3/3 [==============================] - 0s 214ms/step - loss: 0.0912 - val_loss: 0.0954 - lr: 0.0010\n",
      "Epoch 393/1000\n",
      "3/3 [==============================] - 1s 251ms/step - loss: 0.0903 - val_loss: 0.0959 - lr: 0.0010\n",
      "Epoch 394/1000\n",
      "3/3 [==============================] - 0s 209ms/step - loss: 0.0909 - val_loss: 0.0969 - lr: 0.0010\n",
      "Epoch 395/1000\n",
      "3/3 [==============================] - 1s 230ms/step - loss: 0.0903 - val_loss: 0.0940 - lr: 0.0010\n",
      "Epoch 396/1000\n",
      "3/3 [==============================] - 0s 199ms/step - loss: 0.0912 - val_loss: 0.0956 - lr: 0.0010\n",
      "Epoch 397/1000\n",
      "3/3 [==============================] - 0s 208ms/step - loss: 0.0925 - val_loss: 0.0991 - lr: 0.0010\n",
      "Epoch 398/1000\n",
      "3/3 [==============================] - 0s 197ms/step - loss: 0.0915 - val_loss: 0.0934 - lr: 0.0010\n",
      "Epoch 399/1000\n",
      "3/3 [==============================] - 0s 200ms/step - loss: 0.0906 - val_loss: 0.0941 - lr: 0.0010\n",
      "Epoch 400/1000\n",
      "3/3 [==============================] - 0s 184ms/step - loss: 0.0912 - val_loss: 0.0945 - lr: 0.0010\n",
      "Epoch 401/1000\n",
      "3/3 [==============================] - 0s 223ms/step - loss: 0.0908 - val_loss: 0.0960 - lr: 0.0010\n",
      "Epoch 402/1000\n",
      "3/3 [==============================] - 1s 231ms/step - loss: 0.0900 - val_loss: 0.1026 - lr: 0.0010\n",
      "Epoch 403/1000\n",
      "3/3 [==============================] - 0s 217ms/step - loss: 0.0921 - val_loss: 0.0964 - lr: 0.0010\n",
      "Epoch 404/1000\n",
      "3/3 [==============================] - 0s 212ms/step - loss: 0.0910 - val_loss: 0.0959 - lr: 0.0010\n",
      "Epoch 405/1000\n",
      "3/3 [==============================] - 0s 205ms/step - loss: 0.0901 - val_loss: 0.0961 - lr: 0.0010\n",
      "Epoch 406/1000\n",
      "3/3 [==============================] - 0s 202ms/step - loss: 0.0903 - val_loss: 0.0960 - lr: 0.0010\n",
      "Epoch 407/1000\n",
      "3/3 [==============================] - 0s 220ms/step - loss: 0.0906 - val_loss: 0.0940 - lr: 0.0010\n",
      "Epoch 408/1000\n",
      "3/3 [==============================] - 0s 220ms/step - loss: 0.0905 - val_loss: 0.0937 - lr: 0.0010\n",
      "Epoch 409/1000\n",
      "2/3 [===================>..........] - ETA: 0s - loss: 0.0905INFO:tensorflow:Assets written to: /home/user/workdir/main/src/model/nitrate/scaled_o3/input6/final_model-409-0.09/assets\n"
     ]
    },
    {
     "name": "stderr",
     "output_type": "stream",
     "text": [
      "INFO:tensorflow:Assets written to: /home/user/workdir/main/src/model/nitrate/scaled_o3/input6/final_model-409-0.09/assets\n"
     ]
    },
    {
     "name": "stdout",
     "output_type": "stream",
     "text": [
      "3/3 [==============================] - 9s 5s/step - loss: 0.0906 - val_loss: 0.0932 - lr: 0.0010\n",
      "Epoch 410/1000\n",
      "3/3 [==============================] - 0s 194ms/step - loss: 0.0911 - val_loss: 0.0941 - lr: 0.0010\n",
      "Epoch 411/1000\n",
      "3/3 [==============================] - 1s 244ms/step - loss: 0.0924 - val_loss: 0.0942 - lr: 0.0010\n",
      "Epoch 412/1000\n",
      "2/3 [===================>..........] - ETA: 0s - loss: 0.0912INFO:tensorflow:Assets written to: /home/user/workdir/main/src/model/nitrate/scaled_o3/input6/final_model-412-0.09/assets\n"
     ]
    },
    {
     "name": "stderr",
     "output_type": "stream",
     "text": [
      "INFO:tensorflow:Assets written to: /home/user/workdir/main/src/model/nitrate/scaled_o3/input6/final_model-412-0.09/assets\n"
     ]
    },
    {
     "name": "stdout",
     "output_type": "stream",
     "text": [
      "3/3 [==============================] - 14s 7s/step - loss: 0.0915 - val_loss: 0.0932 - lr: 0.0010\n",
      "Epoch 413/1000\n",
      "3/3 [==============================] - 1s 232ms/step - loss: 0.0906 - val_loss: 0.0960 - lr: 0.0010\n",
      "Epoch 414/1000\n",
      "3/3 [==============================] - 1s 280ms/step - loss: 0.0913 - val_loss: 0.0984 - lr: 0.0010\n",
      "Epoch 415/1000\n",
      "3/3 [==============================] - ETA: 0s - loss: 0.0900INFO:tensorflow:Assets written to: /home/user/workdir/main/src/model/nitrate/scaled_o3/input6/final_model-415-0.09/assets\n"
     ]
    },
    {
     "name": "stderr",
     "output_type": "stream",
     "text": [
      "INFO:tensorflow:Assets written to: /home/user/workdir/main/src/model/nitrate/scaled_o3/input6/final_model-415-0.09/assets\n"
     ]
    },
    {
     "name": "stdout",
     "output_type": "stream",
     "text": [
      "3/3 [==============================] - 10s 5s/step - loss: 0.0900 - val_loss: 0.0930 - lr: 0.0010\n",
      "Epoch 416/1000\n",
      "3/3 [==============================] - 0s 198ms/step - loss: 0.0909 - val_loss: 0.0960 - lr: 0.0010\n",
      "Epoch 417/1000\n",
      "3/3 [==============================] - 0s 226ms/step - loss: 0.0906 - val_loss: 0.0995 - lr: 0.0010\n",
      "Epoch 418/1000\n",
      "3/3 [==============================] - 1s 229ms/step - loss: 0.0905 - val_loss: 0.0933 - lr: 0.0010\n",
      "Epoch 419/1000\n",
      "3/3 [==============================] - 0s 201ms/step - loss: 0.0900 - val_loss: 0.0944 - lr: 0.0010\n",
      "Epoch 420/1000\n",
      "3/3 [==============================] - 0s 216ms/step - loss: 0.0905 - val_loss: 0.0987 - lr: 0.0010\n",
      "Epoch 421/1000\n",
      "3/3 [==============================] - 0s 216ms/step - loss: 0.0903 - val_loss: 0.0952 - lr: 0.0010\n",
      "Epoch 422/1000\n",
      "3/3 [==============================] - ETA: 0s - loss: 0.0904INFO:tensorflow:Assets written to: /home/user/workdir/main/src/model/nitrate/scaled_o3/input6/final_model-422-0.09/assets\n"
     ]
    },
    {
     "name": "stderr",
     "output_type": "stream",
     "text": [
      "INFO:tensorflow:Assets written to: /home/user/workdir/main/src/model/nitrate/scaled_o3/input6/final_model-422-0.09/assets\n"
     ]
    },
    {
     "name": "stdout",
     "output_type": "stream",
     "text": [
      "3/3 [==============================] - 9s 5s/step - loss: 0.0904 - val_loss: 0.0928 - lr: 0.0010\n",
      "Epoch 423/1000\n",
      "3/3 [==============================] - 0s 205ms/step - loss: 0.0906 - val_loss: 0.0978 - lr: 0.0010\n",
      "Epoch 424/1000\n",
      "3/3 [==============================] - 0s 219ms/step - loss: 0.0907 - val_loss: 0.0934 - lr: 0.0010\n",
      "Epoch 425/1000\n",
      "3/3 [==============================] - 0s 219ms/step - loss: 0.0907 - val_loss: 0.0977 - lr: 0.0010\n",
      "Epoch 426/1000\n",
      "3/3 [==============================] - 1s 228ms/step - loss: 0.0912 - val_loss: 0.0946 - lr: 0.0010\n",
      "Epoch 427/1000\n",
      "3/3 [==============================] - 0s 219ms/step - loss: 0.0917 - val_loss: 0.0946 - lr: 0.0010\n",
      "Epoch 428/1000\n",
      "3/3 [==============================] - 0s 189ms/step - loss: 0.0914 - val_loss: 0.0943 - lr: 0.0010\n",
      "Epoch 429/1000\n",
      "3/3 [==============================] - 0s 221ms/step - loss: 0.0903 - val_loss: 0.0931 - lr: 0.0010\n",
      "Epoch 430/1000\n",
      "3/3 [==============================] - 0s 211ms/step - loss: 0.0910 - val_loss: 0.0948 - lr: 0.0010\n",
      "Epoch 431/1000\n",
      "3/3 [==============================] - 0s 215ms/step - loss: 0.0914 - val_loss: 0.0944 - lr: 0.0010\n",
      "Epoch 432/1000\n",
      "3/3 [==============================] - 0s 209ms/step - loss: 0.0900 - val_loss: 0.0949 - lr: 0.0010\n",
      "Epoch 433/1000\n",
      "3/3 [==============================] - 0s 205ms/step - loss: 0.0905 - val_loss: 0.1012 - lr: 0.0010\n",
      "Epoch 434/1000\n",
      "3/3 [==============================] - 0s 211ms/step - loss: 0.0911 - val_loss: 0.0945 - lr: 0.0010\n",
      "Epoch 435/1000\n",
      "3/3 [==============================] - 1s 236ms/step - loss: 0.0909 - val_loss: 0.1019 - lr: 0.0010\n",
      "Epoch 436/1000\n",
      "3/3 [==============================] - 0s 202ms/step - loss: 0.0906 - val_loss: 0.0993 - lr: 0.0010\n",
      "Epoch 437/1000\n",
      "3/3 [==============================] - 0s 191ms/step - loss: 0.0903 - val_loss: 0.0987 - lr: 0.0010\n",
      "Epoch 438/1000\n",
      "3/3 [==============================] - 0s 197ms/step - loss: 0.0897 - val_loss: 0.0998 - lr: 0.0010\n",
      "Epoch 439/1000\n",
      "3/3 [==============================] - 0s 227ms/step - loss: 0.0918 - val_loss: 0.0942 - lr: 0.0010\n",
      "Epoch 440/1000\n",
      "3/3 [==============================] - 1s 229ms/step - loss: 0.0916 - val_loss: 0.0957 - lr: 0.0010\n",
      "Epoch 441/1000\n",
      "3/3 [==============================] - 0s 203ms/step - loss: 0.0898 - val_loss: 0.0960 - lr: 0.0010\n",
      "Epoch 442/1000\n",
      "3/3 [==============================] - 1s 228ms/step - loss: 0.0905 - val_loss: 0.0937 - lr: 0.0010\n",
      "Epoch 443/1000\n",
      "3/3 [==============================] - 0s 208ms/step - loss: 0.0898 - val_loss: 0.0991 - lr: 0.0010\n",
      "Epoch 444/1000\n",
      "3/3 [==============================] - 1s 244ms/step - loss: 0.0906 - val_loss: 0.0957 - lr: 0.0010\n",
      "Epoch 445/1000\n",
      "3/3 [==============================] - 0s 210ms/step - loss: 0.0902 - val_loss: 0.1036 - lr: 0.0010\n",
      "Epoch 446/1000\n",
      "3/3 [==============================] - 0s 197ms/step - loss: 0.0915 - val_loss: 0.0955 - lr: 0.0010\n",
      "Epoch 447/1000\n",
      "3/3 [==============================] - 0s 202ms/step - loss: 0.0904 - val_loss: 0.0967 - lr: 0.0010\n",
      "Epoch 448/1000\n",
      "3/3 [==============================] - 0s 211ms/step - loss: 0.0899 - val_loss: 0.0939 - lr: 0.0010\n",
      "Epoch 449/1000\n",
      "3/3 [==============================] - 1s 235ms/step - loss: 0.0905 - val_loss: 0.0955 - lr: 0.0010\n",
      "Epoch 450/1000\n",
      "3/3 [==============================] - 0s 202ms/step - loss: 0.0924 - val_loss: 0.0971 - lr: 0.0010\n",
      "Epoch 451/1000\n",
      "3/3 [==============================] - 0s 214ms/step - loss: 0.0915 - val_loss: 0.0929 - lr: 0.0010\n",
      "Epoch 452/1000\n",
      "3/3 [==============================] - 0s 201ms/step - loss: 0.0903 - val_loss: 0.0954 - lr: 0.0010\n",
      "Epoch 453/1000\n",
      "3/3 [==============================] - 1s 237ms/step - loss: 0.0901 - val_loss: 0.0977 - lr: 0.0010\n",
      "Epoch 454/1000\n",
      "3/3 [==============================] - 1s 237ms/step - loss: 0.0903 - val_loss: 0.1037 - lr: 0.0010\n",
      "Epoch 455/1000\n",
      "3/3 [==============================] - 0s 193ms/step - loss: 0.0909 - val_loss: 0.0945 - lr: 0.0010\n",
      "Epoch 456/1000\n",
      "3/3 [==============================] - 0s 201ms/step - loss: 0.0907 - val_loss: 0.0954 - lr: 0.0010\n",
      "Epoch 457/1000\n",
      "3/3 [==============================] - 0s 221ms/step - loss: 0.0912 - val_loss: 0.0994 - lr: 0.0010\n",
      "Epoch 458/1000\n",
      "3/3 [==============================] - 1s 245ms/step - loss: 0.0908 - val_loss: 0.0961 - lr: 0.0010\n",
      "Epoch 459/1000\n",
      "3/3 [==============================] - 0s 193ms/step - loss: 0.0900 - val_loss: 0.0934 - lr: 0.0010\n",
      "Epoch 460/1000\n",
      "3/3 [==============================] - 0s 209ms/step - loss: 0.0907 - val_loss: 0.0943 - lr: 0.0010\n",
      "Epoch 461/1000\n",
      "2/3 [===================>..........] - ETA: 0s - loss: 0.0900INFO:tensorflow:Assets written to: /home/user/workdir/main/src/model/nitrate/scaled_o3/input6/final_model-461-0.09/assets\n"
     ]
    },
    {
     "name": "stderr",
     "output_type": "stream",
     "text": [
      "INFO:tensorflow:Assets written to: /home/user/workdir/main/src/model/nitrate/scaled_o3/input6/final_model-461-0.09/assets\n"
     ]
    },
    {
     "name": "stdout",
     "output_type": "stream",
     "text": [
      "3/3 [==============================] - 14s 7s/step - loss: 0.0900 - val_loss: 0.0927 - lr: 0.0010\n",
      "Epoch 462/1000\n",
      "3/3 [==============================] - 1s 237ms/step - loss: 0.0908 - val_loss: 0.0981 - lr: 0.0010\n",
      "Epoch 463/1000\n",
      "3/3 [==============================] - ETA: 0s - loss: 0.0921INFO:tensorflow:Assets written to: /home/user/workdir/main/src/model/nitrate/scaled_o3/input6/final_model-463-0.09/assets\n"
     ]
    },
    {
     "name": "stderr",
     "output_type": "stream",
     "text": [
      "INFO:tensorflow:Assets written to: /home/user/workdir/main/src/model/nitrate/scaled_o3/input6/final_model-463-0.09/assets\n"
     ]
    },
    {
     "name": "stdout",
     "output_type": "stream",
     "text": [
      "3/3 [==============================] - 9s 4s/step - loss: 0.0921 - val_loss: 0.0926 - lr: 0.0010\n",
      "Epoch 464/1000\n",
      "3/3 [==============================] - 0s 187ms/step - loss: 0.0922 - val_loss: 0.0957 - lr: 0.0010\n",
      "Epoch 465/1000\n",
      "3/3 [==============================] - 0s 194ms/step - loss: 0.0914 - val_loss: 0.0930 - lr: 0.0010\n",
      "Epoch 466/1000\n",
      "3/3 [==============================] - 0s 204ms/step - loss: 0.0904 - val_loss: 0.0990 - lr: 0.0010\n",
      "Epoch 467/1000\n",
      "3/3 [==============================] - 1s 231ms/step - loss: 0.0912 - val_loss: 0.0961 - lr: 0.0010\n",
      "Epoch 468/1000\n",
      "3/3 [==============================] - 0s 193ms/step - loss: 0.0913 - val_loss: 0.1010 - lr: 0.0010\n",
      "Epoch 469/1000\n",
      "3/3 [==============================] - 0s 198ms/step - loss: 0.0915 - val_loss: 0.0939 - lr: 0.0010\n",
      "Epoch 470/1000\n",
      "3/3 [==============================] - 0s 187ms/step - loss: 0.0910 - val_loss: 0.0939 - lr: 0.0010\n",
      "Epoch 471/1000\n",
      "3/3 [==============================] - ETA: 0s - loss: 0.0900INFO:tensorflow:Assets written to: /home/user/workdir/main/src/model/nitrate/scaled_o3/input6/final_model-471-0.09/assets\n"
     ]
    },
    {
     "name": "stderr",
     "output_type": "stream",
     "text": [
      "INFO:tensorflow:Assets written to: /home/user/workdir/main/src/model/nitrate/scaled_o3/input6/final_model-471-0.09/assets\n"
     ]
    },
    {
     "name": "stdout",
     "output_type": "stream",
     "text": [
      "3/3 [==============================] - 9s 4s/step - loss: 0.0900 - val_loss: 0.0926 - lr: 0.0010\n",
      "Epoch 472/1000\n",
      "2/3 [===================>..........] - ETA: 0s - loss: 0.0902INFO:tensorflow:Assets written to: /home/user/workdir/main/src/model/nitrate/scaled_o3/input6/final_model-472-0.09/assets\n"
     ]
    },
    {
     "name": "stderr",
     "output_type": "stream",
     "text": [
      "INFO:tensorflow:Assets written to: /home/user/workdir/main/src/model/nitrate/scaled_o3/input6/final_model-472-0.09/assets\n"
     ]
    },
    {
     "name": "stdout",
     "output_type": "stream",
     "text": [
      "3/3 [==============================] - 8s 4s/step - loss: 0.0909 - val_loss: 0.0924 - lr: 0.0010\n",
      "Epoch 473/1000\n",
      "2/3 [===================>..........] - ETA: 0s - loss: 0.0895INFO:tensorflow:Assets written to: /home/user/workdir/main/src/model/nitrate/scaled_o3/input6/final_model-473-0.09/assets\n"
     ]
    },
    {
     "name": "stderr",
     "output_type": "stream",
     "text": [
      "INFO:tensorflow:Assets written to: /home/user/workdir/main/src/model/nitrate/scaled_o3/input6/final_model-473-0.09/assets\n"
     ]
    },
    {
     "name": "stdout",
     "output_type": "stream",
     "text": [
      "3/3 [==============================] - 14s 7s/step - loss: 0.0895 - val_loss: 0.0922 - lr: 0.0010\n",
      "Epoch 474/1000\n",
      "3/3 [==============================] - ETA: 0s - loss: 0.0893INFO:tensorflow:Assets written to: /home/user/workdir/main/src/model/nitrate/scaled_o3/input6/final_model-474-0.09/assets\n"
     ]
    },
    {
     "name": "stderr",
     "output_type": "stream",
     "text": [
      "INFO:tensorflow:Assets written to: /home/user/workdir/main/src/model/nitrate/scaled_o3/input6/final_model-474-0.09/assets\n"
     ]
    },
    {
     "name": "stdout",
     "output_type": "stream",
     "text": [
      "3/3 [==============================] - 9s 4s/step - loss: 0.0893 - val_loss: 0.0919 - lr: 0.0010\n",
      "Epoch 475/1000\n",
      "3/3 [==============================] - 1s 234ms/step - loss: 0.0896 - val_loss: 0.0924 - lr: 0.0010\n",
      "Epoch 476/1000\n",
      "3/3 [==============================] - 0s 227ms/step - loss: 0.0901 - val_loss: 0.0929 - lr: 0.0010\n",
      "Epoch 477/1000\n",
      "3/3 [==============================] - 0s 207ms/step - loss: 0.0905 - val_loss: 0.0947 - lr: 0.0010\n",
      "Epoch 478/1000\n",
      "3/3 [==============================] - 0s 206ms/step - loss: 0.0913 - val_loss: 0.0974 - lr: 0.0010\n",
      "Epoch 479/1000\n",
      "3/3 [==============================] - 0s 185ms/step - loss: 0.0908 - val_loss: 0.0961 - lr: 0.0010\n",
      "Epoch 480/1000\n",
      "3/3 [==============================] - 0s 191ms/step - loss: 0.0906 - val_loss: 0.0938 - lr: 0.0010\n",
      "Epoch 481/1000\n",
      "3/3 [==============================] - 0s 195ms/step - loss: 0.0910 - val_loss: 0.0967 - lr: 0.0010\n",
      "Epoch 482/1000\n",
      "3/3 [==============================] - 0s 184ms/step - loss: 0.0903 - val_loss: 0.0963 - lr: 0.0010\n",
      "Epoch 483/1000\n",
      "3/3 [==============================] - 0s 202ms/step - loss: 0.0913 - val_loss: 0.0937 - lr: 0.0010\n",
      "Epoch 484/1000\n",
      "3/3 [==============================] - 0s 220ms/step - loss: 0.0905 - val_loss: 0.0951 - lr: 0.0010\n",
      "Epoch 485/1000\n",
      "3/3 [==============================] - 0s 214ms/step - loss: 0.0899 - val_loss: 0.0942 - lr: 0.0010\n",
      "Epoch 486/1000\n",
      "3/3 [==============================] - 0s 199ms/step - loss: 0.0896 - val_loss: 0.0947 - lr: 0.0010\n",
      "Epoch 487/1000\n",
      "3/3 [==============================] - 0s 189ms/step - loss: 0.0902 - val_loss: 0.0934 - lr: 0.0010\n",
      "Epoch 488/1000\n",
      "3/3 [==============================] - 0s 206ms/step - loss: 0.0900 - val_loss: 0.0977 - lr: 0.0010\n",
      "Epoch 489/1000\n",
      "3/3 [==============================] - 0s 217ms/step - loss: 0.0909 - val_loss: 0.0932 - lr: 0.0010\n",
      "Epoch 490/1000\n",
      "3/3 [==============================] - 0s 198ms/step - loss: 0.0917 - val_loss: 0.0952 - lr: 0.0010\n",
      "Epoch 491/1000\n",
      "3/3 [==============================] - 0s 201ms/step - loss: 0.0903 - val_loss: 0.0929 - lr: 0.0010\n",
      "Epoch 492/1000\n",
      "3/3 [==============================] - 0s 192ms/step - loss: 0.0911 - val_loss: 0.0951 - lr: 0.0010\n",
      "Epoch 493/1000\n",
      "3/3 [==============================] - 0s 196ms/step - loss: 0.0900 - val_loss: 0.0920 - lr: 0.0010\n",
      "Epoch 494/1000\n",
      "3/3 [==============================] - 1s 232ms/step - loss: 0.0904 - val_loss: 0.0947 - lr: 0.0010\n",
      "Epoch 495/1000\n",
      "3/3 [==============================] - 0s 205ms/step - loss: 0.0903 - val_loss: 0.0922 - lr: 0.0010\n",
      "Epoch 496/1000\n",
      "3/3 [==============================] - 0s 199ms/step - loss: 0.0904 - val_loss: 0.0930 - lr: 0.0010\n",
      "Epoch 497/1000\n",
      "3/3 [==============================] - 0s 194ms/step - loss: 0.0910 - val_loss: 0.0950 - lr: 0.0010\n",
      "Epoch 498/1000\n",
      "3/3 [==============================] - 0s 201ms/step - loss: 0.0901 - val_loss: 0.0925 - lr: 0.0010\n",
      "Epoch 499/1000\n",
      "3/3 [==============================] - 0s 183ms/step - loss: 0.0893 - val_loss: 0.0924 - lr: 0.0010\n",
      "Epoch 500/1000\n",
      "3/3 [==============================] - 0s 190ms/step - loss: 0.0898 - val_loss: 0.0944 - lr: 0.0010\n",
      "Epoch 501/1000\n",
      "3/3 [==============================] - 0s 200ms/step - loss: 0.0893 - val_loss: 0.0923 - lr: 0.0010\n",
      "Epoch 502/1000\n",
      "3/3 [==============================] - 0s 211ms/step - loss: 0.0894 - val_loss: 0.0931 - lr: 0.0010\n",
      "Epoch 503/1000\n",
      "3/3 [==============================] - 0s 211ms/step - loss: 0.0904 - val_loss: 0.0994 - lr: 0.0010\n",
      "Epoch 504/1000\n",
      "3/3 [==============================] - 0s 220ms/step - loss: 0.0904 - val_loss: 0.0988 - lr: 0.0010\n",
      "Epoch 505/1000\n",
      "3/3 [==============================] - 0s 210ms/step - loss: 0.0923 - val_loss: 0.0942 - lr: 0.0010\n",
      "Epoch 506/1000\n",
      "3/3 [==============================] - 0s 189ms/step - loss: 0.0911 - val_loss: 0.0928 - lr: 0.0010\n",
      "Epoch 507/1000\n",
      "3/3 [==============================] - 0s 192ms/step - loss: 0.0903 - val_loss: 0.0947 - lr: 0.0010\n",
      "Epoch 508/1000\n",
      "3/3 [==============================] - 0s 217ms/step - loss: 0.0903 - val_loss: 0.0925 - lr: 0.0010\n",
      "Epoch 509/1000\n",
      "2/3 [===================>..........] - ETA: 0s - loss: 0.0891INFO:tensorflow:Assets written to: /home/user/workdir/main/src/model/nitrate/scaled_o3/input6/final_model-509-0.09/assets\n"
     ]
    },
    {
     "name": "stderr",
     "output_type": "stream",
     "text": [
      "INFO:tensorflow:Assets written to: /home/user/workdir/main/src/model/nitrate/scaled_o3/input6/final_model-509-0.09/assets\n"
     ]
    },
    {
     "name": "stdout",
     "output_type": "stream",
     "text": [
      "3/3 [==============================] - 8s 4s/step - loss: 0.0898 - val_loss: 0.0919 - lr: 0.0010\n",
      "Epoch 510/1000\n",
      "3/3 [==============================] - 0s 202ms/step - loss: 0.0898 - val_loss: 0.0920 - lr: 0.0010\n",
      "Epoch 511/1000\n",
      "3/3 [==============================] - 0s 190ms/step - loss: 0.0904 - val_loss: 0.0919 - lr: 0.0010\n",
      "Epoch 512/1000\n",
      "3/3 [==============================] - 0s 219ms/step - loss: 0.0908 - val_loss: 0.0944 - lr: 0.0010\n",
      "Epoch 513/1000\n",
      "3/3 [==============================] - 0s 194ms/step - loss: 0.0897 - val_loss: 0.0921 - lr: 0.0010\n",
      "Epoch 514/1000\n",
      "3/3 [==============================] - 0s 211ms/step - loss: 0.0904 - val_loss: 0.0935 - lr: 0.0010\n",
      "Epoch 515/1000\n",
      "3/3 [==============================] - ETA: 0s - loss: 0.0896INFO:tensorflow:Assets written to: /home/user/workdir/main/src/model/nitrate/scaled_o3/input6/final_model-515-0.09/assets\n"
     ]
    },
    {
     "name": "stderr",
     "output_type": "stream",
     "text": [
      "INFO:tensorflow:Assets written to: /home/user/workdir/main/src/model/nitrate/scaled_o3/input6/final_model-515-0.09/assets\n"
     ]
    },
    {
     "name": "stdout",
     "output_type": "stream",
     "text": [
      "3/3 [==============================] - 13s 7s/step - loss: 0.0896 - val_loss: 0.0912 - lr: 0.0010\n",
      "Epoch 516/1000\n",
      "3/3 [==============================] - 0s 205ms/step - loss: 0.0899 - val_loss: 0.0925 - lr: 0.0010\n",
      "Epoch 517/1000\n",
      "3/3 [==============================] - 0s 205ms/step - loss: 0.0903 - val_loss: 0.0920 - lr: 0.0010\n",
      "Epoch 518/1000\n",
      "3/3 [==============================] - 1s 240ms/step - loss: 0.0896 - val_loss: 0.0928 - lr: 0.0010\n",
      "Epoch 519/1000\n",
      "3/3 [==============================] - 1s 234ms/step - loss: 0.0892 - val_loss: 0.0922 - lr: 0.0010\n",
      "Epoch 520/1000\n",
      "3/3 [==============================] - 0s 218ms/step - loss: 0.0909 - val_loss: 0.0937 - lr: 0.0010\n",
      "Epoch 521/1000\n",
      "3/3 [==============================] - 0s 192ms/step - loss: 0.0900 - val_loss: 0.0967 - lr: 0.0010\n",
      "Epoch 522/1000\n",
      "3/3 [==============================] - 0s 188ms/step - loss: 0.0924 - val_loss: 0.0916 - lr: 0.0010\n",
      "Epoch 523/1000\n",
      "3/3 [==============================] - 0s 223ms/step - loss: 0.0897 - val_loss: 0.0975 - lr: 0.0010\n",
      "Epoch 524/1000\n",
      "3/3 [==============================] - 0s 198ms/step - loss: 0.0908 - val_loss: 0.0970 - lr: 0.0010\n",
      "Epoch 525/1000\n",
      "3/3 [==============================] - 0s 206ms/step - loss: 0.0917 - val_loss: 0.0948 - lr: 0.0010\n",
      "Epoch 526/1000\n",
      "3/3 [==============================] - 0s 209ms/step - loss: 0.0900 - val_loss: 0.0934 - lr: 0.0010\n",
      "Epoch 527/1000\n",
      "3/3 [==============================] - 0s 202ms/step - loss: 0.0904 - val_loss: 0.0918 - lr: 0.0010\n",
      "Epoch 528/1000\n",
      "3/3 [==============================] - 1s 240ms/step - loss: 0.0905 - val_loss: 0.0977 - lr: 0.0010\n",
      "Epoch 529/1000\n",
      "3/3 [==============================] - 0s 220ms/step - loss: 0.0896 - val_loss: 0.0940 - lr: 0.0010\n",
      "Epoch 530/1000\n",
      "3/3 [==============================] - 0s 203ms/step - loss: 0.0905 - val_loss: 0.0921 - lr: 0.0010\n",
      "Epoch 531/1000\n",
      "3/3 [==============================] - 0s 189ms/step - loss: 0.0902 - val_loss: 0.0932 - lr: 0.0010\n",
      "Epoch 532/1000\n",
      "3/3 [==============================] - 0s 183ms/step - loss: 0.0903 - val_loss: 0.0924 - lr: 0.0010\n",
      "Epoch 533/1000\n",
      "3/3 [==============================] - 0s 215ms/step - loss: 0.0903 - val_loss: 0.0925 - lr: 0.0010\n",
      "Epoch 534/1000\n",
      "3/3 [==============================] - 0s 207ms/step - loss: 0.0898 - val_loss: 0.0925 - lr: 0.0010\n",
      "Epoch 535/1000\n",
      "3/3 [==============================] - 0s 188ms/step - loss: 0.0899 - val_loss: 0.0933 - lr: 0.0010\n",
      "Epoch 536/1000\n",
      "3/3 [==============================] - 0s 187ms/step - loss: 0.0892 - val_loss: 0.0921 - lr: 0.0010\n",
      "Epoch 537/1000\n",
      "3/3 [==============================] - 0s 188ms/step - loss: 0.0902 - val_loss: 0.0954 - lr: 0.0010\n",
      "Epoch 538/1000\n",
      "3/3 [==============================] - 1s 230ms/step - loss: 0.0905 - val_loss: 0.0920 - lr: 0.0010\n",
      "Epoch 539/1000\n",
      "3/3 [==============================] - 0s 220ms/step - loss: 0.0906 - val_loss: 0.0928 - lr: 0.0010\n",
      "Epoch 540/1000\n",
      "3/3 [==============================] - 0s 197ms/step - loss: 0.0902 - val_loss: 0.0996 - lr: 0.0010\n",
      "Epoch 541/1000\n",
      "3/3 [==============================] - 0s 189ms/step - loss: 0.0913 - val_loss: 0.0956 - lr: 0.0010\n",
      "Epoch 542/1000\n",
      "3/3 [==============================] - 0s 210ms/step - loss: 0.0924 - val_loss: 0.0950 - lr: 0.0010\n",
      "Epoch 543/1000\n",
      "3/3 [==============================] - 0s 200ms/step - loss: 0.0908 - val_loss: 0.1010 - lr: 0.0010\n",
      "Epoch 544/1000\n",
      "3/3 [==============================] - 0s 203ms/step - loss: 0.0913 - val_loss: 0.0947 - lr: 0.0010\n",
      "Epoch 545/1000\n",
      "3/3 [==============================] - 0s 223ms/step - loss: 0.0905 - val_loss: 0.0986 - lr: 0.0010\n",
      "Epoch 546/1000\n",
      "3/3 [==============================] - 0s 202ms/step - loss: 0.0894 - val_loss: 0.0922 - lr: 0.0010\n",
      "Epoch 547/1000\n",
      "3/3 [==============================] - 0s 202ms/step - loss: 0.0898 - val_loss: 0.0934 - lr: 0.0010\n",
      "Epoch 548/1000\n",
      "3/3 [==============================] - 0s 187ms/step - loss: 0.0893 - val_loss: 0.0964 - lr: 0.0010\n",
      "Epoch 549/1000\n",
      "3/3 [==============================] - 1s 229ms/step - loss: 0.0904 - val_loss: 0.0920 - lr: 0.0010\n",
      "Epoch 550/1000\n",
      "3/3 [==============================] - 0s 198ms/step - loss: 0.0904 - val_loss: 0.0923 - lr: 0.0010\n",
      "Epoch 551/1000\n",
      "3/3 [==============================] - 0s 207ms/step - loss: 0.0909 - val_loss: 0.0954 - lr: 0.0010\n",
      "Epoch 552/1000\n",
      "3/3 [==============================] - 0s 180ms/step - loss: 0.0898 - val_loss: 0.0921 - lr: 0.0010\n",
      "Epoch 553/1000\n",
      "3/3 [==============================] - 0s 189ms/step - loss: 0.0900 - val_loss: 0.0925 - lr: 0.0010\n",
      "Epoch 554/1000\n",
      "3/3 [==============================] - 0s 192ms/step - loss: 0.0905 - val_loss: 0.0963 - lr: 0.0010\n",
      "Epoch 555/1000\n",
      "3/3 [==============================] - 0s 198ms/step - loss: 0.0904 - val_loss: 0.0950 - lr: 0.0010\n",
      "Epoch 556/1000\n",
      "3/3 [==============================] - 0s 201ms/step - loss: 0.0901 - val_loss: 0.0981 - lr: 0.0010\n",
      "Epoch 557/1000\n",
      "3/3 [==============================] - 1s 238ms/step - loss: 0.0905 - val_loss: 0.0923 - lr: 0.0010\n",
      "Epoch 558/1000\n",
      "3/3 [==============================] - 0s 196ms/step - loss: 0.0892 - val_loss: 0.0930 - lr: 0.0010\n",
      "Epoch 559/1000\n",
      "3/3 [==============================] - 0s 190ms/step - loss: 0.0899 - val_loss: 0.0916 - lr: 0.0010\n",
      "Epoch 560/1000\n",
      "3/3 [==============================] - 0s 183ms/step - loss: 0.0901 - val_loss: 0.0937 - lr: 0.0010\n",
      "Epoch 561/1000\n",
      "3/3 [==============================] - 1s 235ms/step - loss: 0.0896 - val_loss: 0.0919 - lr: 0.0010\n",
      "Epoch 562/1000\n",
      "3/3 [==============================] - 0s 201ms/step - loss: 0.0901 - val_loss: 0.0928 - lr: 0.0010\n",
      "Epoch 563/1000\n",
      "3/3 [==============================] - 0s 186ms/step - loss: 0.0904 - val_loss: 0.0952 - lr: 0.0010\n",
      "Epoch 564/1000\n",
      "3/3 [==============================] - 0s 197ms/step - loss: 0.0905 - val_loss: 0.0930 - lr: 0.0010\n",
      "Epoch 565/1000\n",
      "3/3 [==============================] - 0s 219ms/step - loss: 0.0901 - val_loss: 0.0919 - lr: 0.0010\n",
      "Epoch 566/1000\n",
      "3/3 [==============================] - 0s 215ms/step - loss: 0.0900 - val_loss: 0.0916 - lr: 0.0010\n",
      "Epoch 567/1000\n",
      "3/3 [==============================] - 1s 238ms/step - loss: 0.0892 - val_loss: 0.0958 - lr: 0.0010\n",
      "Epoch 568/1000\n",
      "3/3 [==============================] - 0s 199ms/step - loss: 0.0894 - val_loss: 0.0934 - lr: 0.0010\n",
      "Epoch 569/1000\n",
      "3/3 [==============================] - 0s 199ms/step - loss: 0.0901 - val_loss: 0.0927 - lr: 0.0010\n",
      "Epoch 570/1000\n",
      "3/3 [==============================] - 1s 247ms/step - loss: 0.0905 - val_loss: 0.0962 - lr: 0.0010\n",
      "Epoch 571/1000\n",
      "3/3 [==============================] - 0s 208ms/step - loss: 0.0905 - val_loss: 0.0934 - lr: 0.0010\n",
      "Epoch 572/1000\n",
      "3/3 [==============================] - 0s 188ms/step - loss: 0.0894 - val_loss: 0.0983 - lr: 0.0010\n",
      "Epoch 573/1000\n",
      "3/3 [==============================] - 0s 182ms/step - loss: 0.0910 - val_loss: 0.0949 - lr: 0.0010\n",
      "Epoch 574/1000\n",
      "3/3 [==============================] - 0s 192ms/step - loss: 0.0915 - val_loss: 0.0934 - lr: 0.0010\n",
      "Epoch 575/1000\n",
      "3/3 [==============================] - 0s 203ms/step - loss: 0.0910 - val_loss: 0.0950 - lr: 0.0010\n",
      "Epoch 576/1000\n",
      "3/3 [==============================] - 0s 182ms/step - loss: 0.0908 - val_loss: 0.0983 - lr: 0.0010\n",
      "Epoch 577/1000\n",
      "3/3 [==============================] - 0s 226ms/step - loss: 0.0907 - val_loss: 0.0943 - lr: 0.0010\n",
      "Epoch 578/1000\n",
      "3/3 [==============================] - 0s 198ms/step - loss: 0.0907 - val_loss: 0.0992 - lr: 0.0010\n",
      "Epoch 579/1000\n",
      "3/3 [==============================] - 1s 228ms/step - loss: 0.0912 - val_loss: 0.1006 - lr: 0.0010\n",
      "Epoch 580/1000\n",
      "3/3 [==============================] - 0s 222ms/step - loss: 0.0894 - val_loss: 0.0932 - lr: 0.0010\n",
      "Epoch 581/1000\n",
      "3/3 [==============================] - 0s 188ms/step - loss: 0.0902 - val_loss: 0.0958 - lr: 0.0010\n",
      "Epoch 582/1000\n",
      "3/3 [==============================] - 0s 211ms/step - loss: 0.0921 - val_loss: 0.0997 - lr: 0.0010\n",
      "Epoch 583/1000\n",
      "3/3 [==============================] - 0s 214ms/step - loss: 0.0906 - val_loss: 0.1009 - lr: 0.0010\n",
      "Epoch 584/1000\n",
      "3/3 [==============================] - 1s 228ms/step - loss: 0.0918 - val_loss: 0.0932 - lr: 0.0010\n",
      "Epoch 585/1000\n",
      "3/3 [==============================] - 0s 188ms/step - loss: 0.0901 - val_loss: 0.0961 - lr: 0.0010\n",
      "Epoch 586/1000\n",
      "3/3 [==============================] - 0s 220ms/step - loss: 0.0921 - val_loss: 0.0965 - lr: 0.0010\n",
      "Epoch 587/1000\n",
      "3/3 [==============================] - 0s 186ms/step - loss: 0.0906 - val_loss: 0.0955 - lr: 0.0010\n",
      "Epoch 588/1000\n",
      "3/3 [==============================] - 0s 206ms/step - loss: 0.0918 - val_loss: 0.0937 - lr: 0.0010\n",
      "Epoch 589/1000\n",
      "3/3 [==============================] - 0s 193ms/step - loss: 0.0905 - val_loss: 0.0960 - lr: 0.0010\n",
      "Epoch 590/1000\n",
      "3/3 [==============================] - 0s 222ms/step - loss: 0.0909 - val_loss: 0.0935 - lr: 0.0010\n",
      "Epoch 591/1000\n",
      "3/3 [==============================] - 0s 199ms/step - loss: 0.0901 - val_loss: 0.0919 - lr: 0.0010\n",
      "Epoch 592/1000\n",
      "3/3 [==============================] - 0s 191ms/step - loss: 0.0899 - val_loss: 0.0920 - lr: 0.0010\n",
      "Epoch 593/1000\n",
      "3/3 [==============================] - 0s 195ms/step - loss: 0.0893 - val_loss: 0.0915 - lr: 0.0010\n",
      "Epoch 594/1000\n",
      "3/3 [==============================] - 1s 239ms/step - loss: 0.0895 - val_loss: 0.0918 - lr: 0.0010\n",
      "Epoch 595/1000\n",
      "3/3 [==============================] - 0s 188ms/step - loss: 0.0895 - val_loss: 0.0918 - lr: 0.0010\n",
      "Epoch 596/1000\n",
      "3/3 [==============================] - 0s 221ms/step - loss: 0.0903 - val_loss: 0.0920 - lr: 0.0010\n",
      "Epoch 597/1000\n",
      "3/3 [==============================] - 0s 205ms/step - loss: 0.0893 - val_loss: 0.0913 - lr: 0.0010\n",
      "Epoch 598/1000\n",
      "3/3 [==============================] - 0s 218ms/step - loss: 0.0892 - val_loss: 0.0915 - lr: 0.0010\n",
      "Epoch 599/1000\n",
      "3/3 [==============================] - 0s 188ms/step - loss: 0.0899 - val_loss: 0.0920 - lr: 0.0010\n",
      "Epoch 600/1000\n",
      "3/3 [==============================] - 0s 182ms/step - loss: 0.0893 - val_loss: 0.0932 - lr: 0.0010\n",
      "Epoch 601/1000\n",
      "3/3 [==============================] - 0s 185ms/step - loss: 0.0899 - val_loss: 0.0922 - lr: 0.0010\n",
      "Epoch 602/1000\n",
      "2/3 [===================>..........] - ETA: 0s - loss: 0.0903INFO:tensorflow:Assets written to: /home/user/workdir/main/src/model/nitrate/scaled_o3/input6/final_model-602-0.09/assets\n"
     ]
    },
    {
     "name": "stderr",
     "output_type": "stream",
     "text": [
      "INFO:tensorflow:Assets written to: /home/user/workdir/main/src/model/nitrate/scaled_o3/input6/final_model-602-0.09/assets\n"
     ]
    },
    {
     "name": "stdout",
     "output_type": "stream",
     "text": [
      "3/3 [==============================] - 9s 4s/step - loss: 0.0906 - val_loss: 0.0911 - lr: 0.0010\n",
      "Epoch 603/1000\n",
      "3/3 [==============================] - 0s 210ms/step - loss: 0.0896 - val_loss: 0.0918 - lr: 0.0010\n",
      "Epoch 604/1000\n",
      "3/3 [==============================] - 0s 222ms/step - loss: 0.0893 - val_loss: 0.0927 - lr: 0.0010\n",
      "Epoch 605/1000\n",
      "2/3 [===================>..........] - ETA: 0s - loss: 0.0896INFO:tensorflow:Assets written to: /home/user/workdir/main/src/model/nitrate/scaled_o3/input6/final_model-605-0.09/assets\n"
     ]
    },
    {
     "name": "stderr",
     "output_type": "stream",
     "text": [
      "INFO:tensorflow:Assets written to: /home/user/workdir/main/src/model/nitrate/scaled_o3/input6/final_model-605-0.09/assets\n"
     ]
    },
    {
     "name": "stdout",
     "output_type": "stream",
     "text": [
      "3/3 [==============================] - 8s 4s/step - loss: 0.0905 - val_loss: 0.0909 - lr: 0.0010\n",
      "Epoch 606/1000\n",
      "3/3 [==============================] - 0s 230ms/step - loss: 0.0903 - val_loss: 0.0922 - lr: 0.0010\n",
      "Epoch 607/1000\n",
      "3/3 [==============================] - 0s 185ms/step - loss: 0.0913 - val_loss: 0.0924 - lr: 0.0010\n",
      "Epoch 608/1000\n",
      "3/3 [==============================] - 0s 189ms/step - loss: 0.0903 - val_loss: 0.0937 - lr: 0.0010\n",
      "Epoch 609/1000\n",
      "3/3 [==============================] - 0s 188ms/step - loss: 0.0897 - val_loss: 0.0917 - lr: 0.0010\n",
      "Epoch 610/1000\n",
      "3/3 [==============================] - 1s 226ms/step - loss: 0.0891 - val_loss: 0.0916 - lr: 0.0010\n",
      "Epoch 611/1000\n",
      "3/3 [==============================] - 0s 184ms/step - loss: 0.0900 - val_loss: 0.0918 - lr: 0.0010\n",
      "Epoch 612/1000\n",
      "3/3 [==============================] - 0s 176ms/step - loss: 0.0900 - val_loss: 0.0918 - lr: 0.0010\n",
      "Epoch 613/1000\n",
      "3/3 [==============================] - 0s 196ms/step - loss: 0.0897 - val_loss: 0.0946 - lr: 0.0010\n",
      "Epoch 614/1000\n",
      "3/3 [==============================] - 0s 203ms/step - loss: 0.0896 - val_loss: 0.0925 - lr: 0.0010\n",
      "Epoch 615/1000\n",
      "3/3 [==============================] - 0s 213ms/step - loss: 0.0893 - val_loss: 0.0926 - lr: 0.0010\n",
      "Epoch 616/1000\n",
      "3/3 [==============================] - 0s 216ms/step - loss: 0.0898 - val_loss: 0.0935 - lr: 0.0010\n",
      "Epoch 617/1000\n",
      "3/3 [==============================] - 0s 186ms/step - loss: 0.0893 - val_loss: 0.0934 - lr: 0.0010\n",
      "Epoch 618/1000\n",
      "3/3 [==============================] - 0s 215ms/step - loss: 0.0906 - val_loss: 0.0923 - lr: 0.0010\n",
      "Epoch 619/1000\n",
      "3/3 [==============================] - 0s 214ms/step - loss: 0.0891 - val_loss: 0.0912 - lr: 0.0010\n",
      "Epoch 620/1000\n",
      "3/3 [==============================] - 0s 190ms/step - loss: 0.0890 - val_loss: 0.0953 - lr: 0.0010\n",
      "Epoch 621/1000\n",
      "3/3 [==============================] - 0s 184ms/step - loss: 0.0897 - val_loss: 0.0965 - lr: 0.0010\n",
      "Epoch 622/1000\n",
      "3/3 [==============================] - 0s 206ms/step - loss: 0.0899 - val_loss: 0.0924 - lr: 0.0010\n",
      "Epoch 623/1000\n",
      "3/3 [==============================] - 0s 181ms/step - loss: 0.0902 - val_loss: 0.0930 - lr: 0.0010\n",
      "Epoch 624/1000\n",
      "3/3 [==============================] - 0s 226ms/step - loss: 0.0901 - val_loss: 0.0918 - lr: 0.0010\n",
      "Epoch 625/1000\n",
      "3/3 [==============================] - 0s 200ms/step - loss: 0.0891 - val_loss: 0.0910 - lr: 0.0010\n",
      "Epoch 626/1000\n",
      "3/3 [==============================] - 0s 186ms/step - loss: 0.0897 - val_loss: 0.0914 - lr: 0.0010\n",
      "Epoch 627/1000\n",
      "3/3 [==============================] - 0s 182ms/step - loss: 0.0887 - val_loss: 0.0913 - lr: 0.0010\n",
      "Epoch 628/1000\n",
      "3/3 [==============================] - 0s 205ms/step - loss: 0.0892 - val_loss: 0.0910 - lr: 0.0010\n",
      "Epoch 629/1000\n",
      "3/3 [==============================] - 0s 209ms/step - loss: 0.0904 - val_loss: 0.0935 - lr: 0.0010\n",
      "Epoch 630/1000\n",
      "3/3 [==============================] - 1s 236ms/step - loss: 0.0902 - val_loss: 0.0972 - lr: 0.0010\n",
      "Epoch 631/1000\n",
      "3/3 [==============================] - 0s 199ms/step - loss: 0.0911 - val_loss: 0.0947 - lr: 0.0010\n",
      "Epoch 632/1000\n",
      "3/3 [==============================] - 0s 185ms/step - loss: 0.0911 - val_loss: 0.0938 - lr: 0.0010\n",
      "Epoch 633/1000\n",
      "3/3 [==============================] - 0s 190ms/step - loss: 0.0895 - val_loss: 0.0938 - lr: 0.0010\n",
      "Epoch 634/1000\n",
      "3/3 [==============================] - 0s 186ms/step - loss: 0.0906 - val_loss: 0.0932 - lr: 0.0010\n",
      "Epoch 635/1000\n",
      "3/3 [==============================] - 0s 195ms/step - loss: 0.0905 - val_loss: 0.1007 - lr: 0.0010\n",
      "Epoch 636/1000\n",
      "3/3 [==============================] - 0s 199ms/step - loss: 0.0909 - val_loss: 0.0943 - lr: 0.0010\n",
      "Epoch 637/1000\n",
      "3/3 [==============================] - 0s 183ms/step - loss: 0.0902 - val_loss: 0.0952 - lr: 0.0010\n",
      "Epoch 638/1000\n",
      "3/3 [==============================] - 1s 237ms/step - loss: 0.0905 - val_loss: 0.0919 - lr: 0.0010\n",
      "Epoch 639/1000\n",
      "3/3 [==============================] - 0s 205ms/step - loss: 0.0893 - val_loss: 0.0922 - lr: 0.0010\n",
      "Epoch 640/1000\n",
      "3/3 [==============================] - 0s 201ms/step - loss: 0.0906 - val_loss: 0.0949 - lr: 0.0010\n",
      "Epoch 641/1000\n",
      "3/3 [==============================] - 0s 187ms/step - loss: 0.0895 - val_loss: 0.0913 - lr: 0.0010\n",
      "Epoch 642/1000\n",
      "3/3 [==============================] - 0s 195ms/step - loss: 0.0896 - val_loss: 0.0965 - lr: 0.0010\n",
      "Epoch 643/1000\n",
      "3/3 [==============================] - 0s 213ms/step - loss: 0.0892 - val_loss: 0.0913 - lr: 0.0010\n",
      "Epoch 644/1000\n",
      "3/3 [==============================] - 0s 183ms/step - loss: 0.0895 - val_loss: 0.0930 - lr: 0.0010\n",
      "Epoch 645/1000\n",
      "3/3 [==============================] - 1s 232ms/step - loss: 0.0912 - val_loss: 0.0916 - lr: 0.0010\n",
      "Epoch 646/1000\n",
      "3/3 [==============================] - 0s 220ms/step - loss: 0.0899 - val_loss: 0.0922 - lr: 0.0010\n",
      "Epoch 647/1000\n",
      "3/3 [==============================] - 0s 184ms/step - loss: 0.0899 - val_loss: 0.0937 - lr: 0.0010\n",
      "Epoch 648/1000\n",
      "3/3 [==============================] - 0s 207ms/step - loss: 0.0893 - val_loss: 0.0923 - lr: 0.0010\n",
      "Epoch 649/1000\n",
      "3/3 [==============================] - 0s 193ms/step - loss: 0.0892 - val_loss: 0.0963 - lr: 0.0010\n",
      "Epoch 650/1000\n",
      "3/3 [==============================] - 0s 223ms/step - loss: 0.0900 - val_loss: 0.0917 - lr: 0.0010\n",
      "Epoch 651/1000\n",
      "3/3 [==============================] - 0s 195ms/step - loss: 0.0892 - val_loss: 0.0912 - lr: 0.0010\n",
      "Epoch 652/1000\n",
      "3/3 [==============================] - 1s 252ms/step - loss: 0.0899 - val_loss: 0.0914 - lr: 0.0010\n",
      "Epoch 653/1000\n",
      "2/3 [===================>..........] - ETA: 0s - loss: 0.0889INFO:tensorflow:Assets written to: /home/user/workdir/main/src/model/nitrate/scaled_o3/input6/final_model-653-0.09/assets\n"
     ]
    },
    {
     "name": "stderr",
     "output_type": "stream",
     "text": [
      "INFO:tensorflow:Assets written to: /home/user/workdir/main/src/model/nitrate/scaled_o3/input6/final_model-653-0.09/assets\n"
     ]
    },
    {
     "name": "stdout",
     "output_type": "stream",
     "text": [
      "3/3 [==============================] - 13s 7s/step - loss: 0.0889 - val_loss: 0.0905 - lr: 0.0010\n",
      "Epoch 654/1000\n",
      "3/3 [==============================] - 0s 213ms/step - loss: 0.0885 - val_loss: 0.0921 - lr: 0.0010\n",
      "Epoch 655/1000\n",
      "3/3 [==============================] - 0s 209ms/step - loss: 0.0903 - val_loss: 0.0910 - lr: 0.0010\n",
      "Epoch 656/1000\n",
      "3/3 [==============================] - 1s 232ms/step - loss: 0.0889 - val_loss: 0.0917 - lr: 0.0010\n",
      "Epoch 657/1000\n",
      "3/3 [==============================] - 1s 247ms/step - loss: 0.0893 - val_loss: 0.0917 - lr: 0.0010\n",
      "Epoch 658/1000\n",
      "3/3 [==============================] - 0s 206ms/step - loss: 0.0896 - val_loss: 0.0919 - lr: 0.0010\n",
      "Epoch 659/1000\n",
      "3/3 [==============================] - 0s 198ms/step - loss: 0.0887 - val_loss: 0.0908 - lr: 0.0010\n",
      "Epoch 660/1000\n",
      "3/3 [==============================] - 0s 200ms/step - loss: 0.0892 - val_loss: 0.0910 - lr: 0.0010\n",
      "Epoch 661/1000\n",
      "3/3 [==============================] - 0s 213ms/step - loss: 0.0893 - val_loss: 0.0909 - lr: 0.0010\n",
      "Epoch 662/1000\n",
      "3/3 [==============================] - 0s 217ms/step - loss: 0.0891 - val_loss: 0.0905 - lr: 0.0010\n",
      "Epoch 663/1000\n",
      "3/3 [==============================] - 0s 222ms/step - loss: 0.0889 - val_loss: 0.0922 - lr: 0.0010\n",
      "Epoch 664/1000\n",
      "3/3 [==============================] - 0s 199ms/step - loss: 0.0888 - val_loss: 0.0918 - lr: 0.0010\n",
      "Epoch 665/1000\n",
      "3/3 [==============================] - 1s 239ms/step - loss: 0.0897 - val_loss: 0.0914 - lr: 0.0010\n",
      "Epoch 666/1000\n",
      "3/3 [==============================] - 0s 197ms/step - loss: 0.0891 - val_loss: 0.0905 - lr: 0.0010\n",
      "Epoch 667/1000\n",
      "3/3 [==============================] - 1s 236ms/step - loss: 0.0887 - val_loss: 0.0915 - lr: 0.0010\n",
      "Epoch 668/1000\n",
      "3/3 [==============================] - 0s 202ms/step - loss: 0.0891 - val_loss: 0.0919 - lr: 0.0010\n",
      "Epoch 669/1000\n",
      "3/3 [==============================] - 0s 218ms/step - loss: 0.0891 - val_loss: 0.0927 - lr: 0.0010\n",
      "Epoch 670/1000\n",
      "3/3 [==============================] - 1s 237ms/step - loss: 0.0892 - val_loss: 0.0908 - lr: 0.0010\n",
      "Epoch 671/1000\n",
      "3/3 [==============================] - 0s 209ms/step - loss: 0.0888 - val_loss: 0.0922 - lr: 0.0010\n",
      "Epoch 672/1000\n",
      "3/3 [==============================] - 0s 198ms/step - loss: 0.0896 - val_loss: 0.0920 - lr: 0.0010\n",
      "Epoch 673/1000\n",
      "3/3 [==============================] - 0s 186ms/step - loss: 0.0901 - val_loss: 0.0915 - lr: 0.0010\n",
      "Epoch 674/1000\n",
      "3/3 [==============================] - 0s 209ms/step - loss: 0.0904 - val_loss: 0.0927 - lr: 0.0010\n",
      "Epoch 675/1000\n",
      "3/3 [==============================] - 0s 216ms/step - loss: 0.0914 - val_loss: 0.0928 - lr: 0.0010\n",
      "Epoch 676/1000\n",
      "3/3 [==============================] - 0s 207ms/step - loss: 0.0900 - val_loss: 0.0929 - lr: 0.0010\n",
      "Epoch 677/1000\n",
      "3/3 [==============================] - 0s 225ms/step - loss: 0.0906 - val_loss: 0.0937 - lr: 0.0010\n",
      "Epoch 678/1000\n",
      "3/3 [==============================] - 0s 203ms/step - loss: 0.0897 - val_loss: 0.0918 - lr: 0.0010\n",
      "Epoch 679/1000\n",
      "3/3 [==============================] - 1s 226ms/step - loss: 0.0897 - val_loss: 0.0916 - lr: 0.0010\n",
      "Epoch 680/1000\n",
      "3/3 [==============================] - 0s 191ms/step - loss: 0.0900 - val_loss: 0.0915 - lr: 0.0010\n",
      "Epoch 681/1000\n",
      "3/3 [==============================] - 0s 190ms/step - loss: 0.0894 - val_loss: 0.0914 - lr: 0.0010\n",
      "Epoch 682/1000\n",
      "3/3 [==============================] - 0s 216ms/step - loss: 0.0893 - val_loss: 0.0913 - lr: 0.0010\n",
      "Epoch 683/1000\n",
      "3/3 [==============================] - 0s 187ms/step - loss: 0.0891 - val_loss: 0.0914 - lr: 0.0010\n",
      "Epoch 684/1000\n",
      "3/3 [==============================] - 0s 203ms/step - loss: 0.0898 - val_loss: 0.0906 - lr: 0.0010\n",
      "Epoch 685/1000\n",
      "3/3 [==============================] - 0s 223ms/step - loss: 0.0892 - val_loss: 0.0911 - lr: 0.0010\n",
      "Epoch 686/1000\n",
      "3/3 [==============================] - 0s 203ms/step - loss: 0.0887 - val_loss: 0.0927 - lr: 0.0010\n",
      "Epoch 687/1000\n",
      "3/3 [==============================] - 0s 206ms/step - loss: 0.0890 - val_loss: 0.0911 - lr: 0.0010\n",
      "Epoch 688/1000\n",
      "3/3 [==============================] - 0s 223ms/step - loss: 0.0884 - val_loss: 0.0911 - lr: 0.0010\n",
      "Epoch 689/1000\n",
      "3/3 [==============================] - 1s 243ms/step - loss: 0.0890 - val_loss: 0.0907 - lr: 0.0010\n",
      "Epoch 690/1000\n",
      "3/3 [==============================] - 0s 211ms/step - loss: 0.0897 - val_loss: 0.0911 - lr: 0.0010\n",
      "Epoch 691/1000\n",
      "3/3 [==============================] - 0s 191ms/step - loss: 0.0888 - val_loss: 0.0934 - lr: 0.0010\n",
      "Epoch 692/1000\n",
      "3/3 [==============================] - 0s 206ms/step - loss: 0.0904 - val_loss: 0.0931 - lr: 0.0010\n",
      "Epoch 693/1000\n",
      "3/3 [==============================] - 0s 208ms/step - loss: 0.0892 - val_loss: 0.0931 - lr: 0.0010\n",
      "Epoch 694/1000\n",
      "3/3 [==============================] - 0s 214ms/step - loss: 0.0904 - val_loss: 0.0924 - lr: 0.0010\n",
      "Epoch 695/1000\n",
      "3/3 [==============================] - 0s 194ms/step - loss: 0.0895 - val_loss: 0.0922 - lr: 0.0010\n",
      "Epoch 696/1000\n",
      "3/3 [==============================] - 0s 200ms/step - loss: 0.0898 - val_loss: 0.0924 - lr: 0.0010\n",
      "Epoch 697/1000\n",
      "3/3 [==============================] - 0s 195ms/step - loss: 0.0915 - val_loss: 0.0926 - lr: 0.0010\n",
      "Epoch 698/1000\n",
      "3/3 [==============================] - 0s 213ms/step - loss: 0.0896 - val_loss: 0.0915 - lr: 0.0010\n",
      "Epoch 699/1000\n",
      "3/3 [==============================] - 0s 215ms/step - loss: 0.0891 - val_loss: 0.0913 - lr: 0.0010\n",
      "Epoch 700/1000\n",
      "3/3 [==============================] - 0s 185ms/step - loss: 0.0896 - val_loss: 0.0909 - lr: 0.0010\n",
      "Epoch 701/1000\n",
      "3/3 [==============================] - 0s 195ms/step - loss: 0.0891 - val_loss: 0.0914 - lr: 0.0010\n",
      "Epoch 702/1000\n",
      "3/3 [==============================] - 0s 197ms/step - loss: 0.0901 - val_loss: 0.0939 - lr: 0.0010\n",
      "Epoch 703/1000\n",
      "3/3 [==============================] - 0s 176ms/step - loss: 0.0893 - val_loss: 0.0918 - lr: 0.0010\n",
      "Epoch 704/1000\n",
      "3/3 [==============================] - 0s 201ms/step - loss: 0.0891 - val_loss: 0.0910 - lr: 0.0010\n",
      "Epoch 705/1000\n",
      "3/3 [==============================] - 0s 194ms/step - loss: 0.0888 - val_loss: 0.0910 - lr: 0.0010\n",
      "Epoch 706/1000\n",
      "3/3 [==============================] - 0s 209ms/step - loss: 0.0894 - val_loss: 0.0915 - lr: 0.0010\n",
      "Epoch 707/1000\n",
      "3/3 [==============================] - 0s 214ms/step - loss: 0.0897 - val_loss: 0.0917 - lr: 0.0010\n",
      "Epoch 708/1000\n",
      "3/3 [==============================] - ETA: 0s - loss: 0.0894INFO:tensorflow:Assets written to: /home/user/workdir/main/src/model/nitrate/scaled_o3/input6/final_model-708-0.09/assets\n"
     ]
    },
    {
     "name": "stderr",
     "output_type": "stream",
     "text": [
      "INFO:tensorflow:Assets written to: /home/user/workdir/main/src/model/nitrate/scaled_o3/input6/final_model-708-0.09/assets\n"
     ]
    },
    {
     "name": "stdout",
     "output_type": "stream",
     "text": [
      "3/3 [==============================] - 9s 4s/step - loss: 0.0894 - val_loss: 0.0905 - lr: 0.0010\n",
      "Epoch 709/1000\n",
      "3/3 [==============================] - 0s 200ms/step - loss: 0.0897 - val_loss: 0.0914 - lr: 0.0010\n",
      "Epoch 710/1000\n",
      "3/3 [==============================] - 0s 217ms/step - loss: 0.0895 - val_loss: 0.0907 - lr: 0.0010\n",
      "Epoch 711/1000\n",
      "2/3 [===================>..........] - ETA: 0s - loss: 0.0885INFO:tensorflow:Assets written to: /home/user/workdir/main/src/model/nitrate/scaled_o3/input6/final_model-711-0.09/assets\n"
     ]
    },
    {
     "name": "stderr",
     "output_type": "stream",
     "text": [
      "INFO:tensorflow:Assets written to: /home/user/workdir/main/src/model/nitrate/scaled_o3/input6/final_model-711-0.09/assets\n"
     ]
    },
    {
     "name": "stdout",
     "output_type": "stream",
     "text": [
      "3/3 [==============================] - 8s 4s/step - loss: 0.0886 - val_loss: 0.0902 - lr: 0.0010\n",
      "Epoch 712/1000\n",
      "3/3 [==============================] - 0s 191ms/step - loss: 0.0890 - val_loss: 0.0902 - lr: 0.0010\n",
      "Epoch 713/1000\n",
      "3/3 [==============================] - 0s 212ms/step - loss: 0.0899 - val_loss: 0.0955 - lr: 0.0010\n",
      "Epoch 714/1000\n",
      "3/3 [==============================] - 0s 211ms/step - loss: 0.0892 - val_loss: 0.0916 - lr: 0.0010\n",
      "Epoch 715/1000\n",
      "3/3 [==============================] - 0s 218ms/step - loss: 0.0889 - val_loss: 0.0953 - lr: 0.0010\n",
      "Epoch 716/1000\n",
      "3/3 [==============================] - 0s 196ms/step - loss: 0.0895 - val_loss: 0.0973 - lr: 0.0010\n",
      "Epoch 717/1000\n",
      "3/3 [==============================] - 0s 200ms/step - loss: 0.0898 - val_loss: 0.0920 - lr: 0.0010\n",
      "Epoch 718/1000\n",
      "3/3 [==============================] - 0s 181ms/step - loss: 0.0895 - val_loss: 0.0932 - lr: 0.0010\n",
      "Epoch 719/1000\n",
      "3/3 [==============================] - 0s 198ms/step - loss: 0.0913 - val_loss: 0.0930 - lr: 0.0010\n",
      "Epoch 720/1000\n",
      "3/3 [==============================] - 0s 198ms/step - loss: 0.0902 - val_loss: 0.0929 - lr: 0.0010\n",
      "Epoch 721/1000\n",
      "3/3 [==============================] - 0s 217ms/step - loss: 0.0904 - val_loss: 0.0952 - lr: 0.0010\n",
      "Epoch 722/1000\n",
      "3/3 [==============================] - 0s 213ms/step - loss: 0.0903 - val_loss: 0.0945 - lr: 0.0010\n",
      "Epoch 723/1000\n",
      "3/3 [==============================] - 1s 234ms/step - loss: 0.0901 - val_loss: 0.0918 - lr: 0.0010\n",
      "Epoch 724/1000\n",
      "3/3 [==============================] - 0s 198ms/step - loss: 0.0904 - val_loss: 0.0978 - lr: 0.0010\n",
      "Epoch 725/1000\n",
      "3/3 [==============================] - 0s 189ms/step - loss: 0.0899 - val_loss: 0.0920 - lr: 0.0010\n",
      "Epoch 726/1000\n",
      "3/3 [==============================] - 0s 195ms/step - loss: 0.0901 - val_loss: 0.0926 - lr: 0.0010\n",
      "Epoch 727/1000\n",
      "3/3 [==============================] - 0s 178ms/step - loss: 0.0902 - val_loss: 0.0910 - lr: 0.0010\n",
      "Epoch 728/1000\n",
      "3/3 [==============================] - 1s 245ms/step - loss: 0.0904 - val_loss: 0.0951 - lr: 0.0010\n",
      "Epoch 729/1000\n",
      "3/3 [==============================] - 0s 199ms/step - loss: 0.0905 - val_loss: 0.0918 - lr: 0.0010\n",
      "Epoch 730/1000\n",
      "3/3 [==============================] - 0s 188ms/step - loss: 0.0896 - val_loss: 0.0917 - lr: 0.0010\n",
      "Epoch 731/1000\n",
      "3/3 [==============================] - 0s 194ms/step - loss: 0.0892 - val_loss: 0.0912 - lr: 0.0010\n",
      "Epoch 732/1000\n",
      "3/3 [==============================] - 0s 192ms/step - loss: 0.0898 - val_loss: 0.0927 - lr: 0.0010\n",
      "Epoch 733/1000\n",
      "3/3 [==============================] - 0s 194ms/step - loss: 0.0896 - val_loss: 0.0923 - lr: 0.0010\n",
      "Epoch 734/1000\n",
      "3/3 [==============================] - 0s 200ms/step - loss: 0.0901 - val_loss: 0.0914 - lr: 0.0010\n",
      "Epoch 735/1000\n",
      "3/3 [==============================] - 0s 226ms/step - loss: 0.0890 - val_loss: 0.0931 - lr: 0.0010\n",
      "Epoch 736/1000\n",
      "3/3 [==============================] - 0s 175ms/step - loss: 0.0901 - val_loss: 0.0908 - lr: 0.0010\n",
      "Epoch 737/1000\n",
      "3/3 [==============================] - 0s 191ms/step - loss: 0.0887 - val_loss: 0.0908 - lr: 0.0010\n",
      "Epoch 738/1000\n",
      "3/3 [==============================] - 0s 187ms/step - loss: 0.0890 - val_loss: 0.0908 - lr: 0.0010\n",
      "Epoch 739/1000\n",
      "3/3 [==============================] - 1s 224ms/step - loss: 0.0904 - val_loss: 0.1012 - lr: 0.0010\n",
      "Epoch 740/1000\n",
      "3/3 [==============================] - 0s 185ms/step - loss: 0.0911 - val_loss: 0.0930 - lr: 0.0010\n",
      "Epoch 741/1000\n",
      "3/3 [==============================] - 0s 214ms/step - loss: 0.0908 - val_loss: 0.0926 - lr: 0.0010\n",
      "Epoch 742/1000\n",
      "3/3 [==============================] - 1s 254ms/step - loss: 0.0905 - val_loss: 0.0921 - lr: 0.0010\n",
      "Epoch 743/1000\n",
      "3/3 [==============================] - 0s 190ms/step - loss: 0.0898 - val_loss: 0.0924 - lr: 0.0010\n",
      "Epoch 744/1000\n",
      "3/3 [==============================] - 0s 198ms/step - loss: 0.0906 - val_loss: 0.0935 - lr: 0.0010\n",
      "Epoch 745/1000\n",
      "3/3 [==============================] - 0s 195ms/step - loss: 0.0901 - val_loss: 0.0925 - lr: 0.0010\n",
      "Epoch 746/1000\n",
      "3/3 [==============================] - 0s 195ms/step - loss: 0.0891 - val_loss: 0.0909 - lr: 0.0010\n",
      "Epoch 747/1000\n",
      "3/3 [==============================] - 0s 215ms/step - loss: 0.0899 - val_loss: 0.0912 - lr: 0.0010\n",
      "Epoch 748/1000\n",
      "3/3 [==============================] - 0s 208ms/step - loss: 0.0886 - val_loss: 0.0926 - lr: 0.0010\n",
      "Epoch 749/1000\n",
      "3/3 [==============================] - 0s 208ms/step - loss: 0.0897 - val_loss: 0.0911 - lr: 0.0010\n",
      "Epoch 750/1000\n",
      "3/3 [==============================] - 0s 189ms/step - loss: 0.0888 - val_loss: 0.0907 - lr: 0.0010\n",
      "Epoch 751/1000\n",
      "3/3 [==============================] - 0s 219ms/step - loss: 0.0890 - val_loss: 0.0909 - lr: 0.0010\n",
      "Epoch 752/1000\n",
      "3/3 [==============================] - 0s 198ms/step - loss: 0.0898 - val_loss: 0.0917 - lr: 0.0010\n",
      "Epoch 753/1000\n",
      "3/3 [==============================] - 0s 204ms/step - loss: 0.0898 - val_loss: 0.0923 - lr: 0.0010\n",
      "Epoch 754/1000\n",
      "3/3 [==============================] - 0s 205ms/step - loss: 0.0900 - val_loss: 0.0912 - lr: 0.0010\n",
      "Epoch 755/1000\n",
      "3/3 [==============================] - 0s 204ms/step - loss: 0.0892 - val_loss: 0.0914 - lr: 0.0010\n",
      "Epoch 756/1000\n",
      "3/3 [==============================] - 1s 248ms/step - loss: 0.0889 - val_loss: 0.0968 - lr: 0.0010\n",
      "Epoch 757/1000\n",
      "3/3 [==============================] - 0s 190ms/step - loss: 0.0897 - val_loss: 0.0965 - lr: 0.0010\n",
      "Epoch 758/1000\n",
      "3/3 [==============================] - 0s 200ms/step - loss: 0.0900 - val_loss: 0.0932 - lr: 0.0010\n",
      "Epoch 759/1000\n",
      "3/3 [==============================] - 0s 218ms/step - loss: 0.0906 - val_loss: 0.0949 - lr: 0.0010\n",
      "Epoch 760/1000\n",
      "3/3 [==============================] - 1s 237ms/step - loss: 0.0905 - val_loss: 0.0916 - lr: 0.0010\n",
      "Epoch 761/1000\n",
      "3/3 [==============================] - 0s 186ms/step - loss: 0.0912 - val_loss: 0.0968 - lr: 0.0010\n",
      "Epoch 762/1000\n",
      "3/3 [==============================] - 0s 177ms/step - loss: 0.0920 - val_loss: 0.0922 - lr: 0.0010\n",
      "Epoch 763/1000\n",
      "3/3 [==============================] - 0s 195ms/step - loss: 0.0911 - val_loss: 0.0925 - lr: 0.0010\n",
      "Epoch 764/1000\n",
      "3/3 [==============================] - 1s 229ms/step - loss: 0.0898 - val_loss: 0.0955 - lr: 0.0010\n",
      "Epoch 765/1000\n",
      "3/3 [==============================] - 1s 249ms/step - loss: 0.0907 - val_loss: 0.0917 - lr: 0.0010\n",
      "Epoch 766/1000\n",
      "3/3 [==============================] - 1s 226ms/step - loss: 0.0906 - val_loss: 0.0917 - lr: 0.0010\n",
      "Epoch 767/1000\n",
      "3/3 [==============================] - 0s 200ms/step - loss: 0.0890 - val_loss: 0.0925 - lr: 0.0010\n",
      "Epoch 768/1000\n",
      "3/3 [==============================] - 0s 207ms/step - loss: 0.0889 - val_loss: 0.0931 - lr: 0.0010\n",
      "Epoch 769/1000\n",
      "3/3 [==============================] - 0s 181ms/step - loss: 0.0894 - val_loss: 0.0940 - lr: 0.0010\n",
      "Epoch 770/1000\n",
      "3/3 [==============================] - 0s 215ms/step - loss: 0.0897 - val_loss: 0.0911 - lr: 0.0010\n",
      "Epoch 771/1000\n",
      "3/3 [==============================] - 0s 184ms/step - loss: 0.0899 - val_loss: 0.0919 - lr: 0.0010\n",
      "Epoch 772/1000\n",
      "3/3 [==============================] - 0s 206ms/step - loss: 0.0891 - val_loss: 0.0911 - lr: 0.0010\n",
      "Epoch 773/1000\n",
      "3/3 [==============================] - 0s 191ms/step - loss: 0.0891 - val_loss: 0.0922 - lr: 0.0010\n",
      "Epoch 774/1000\n",
      "3/3 [==============================] - 1s 235ms/step - loss: 0.0888 - val_loss: 0.0917 - lr: 0.0010\n",
      "Epoch 775/1000\n",
      "3/3 [==============================] - 0s 203ms/step - loss: 0.0901 - val_loss: 0.0931 - lr: 0.0010\n",
      "Epoch 776/1000\n",
      "3/3 [==============================] - 0s 199ms/step - loss: 0.0889 - val_loss: 0.0911 - lr: 0.0010\n",
      "Epoch 777/1000\n",
      "3/3 [==============================] - 0s 188ms/step - loss: 0.0905 - val_loss: 0.0914 - lr: 0.0010\n",
      "Epoch 778/1000\n",
      "3/3 [==============================] - 0s 212ms/step - loss: 0.0894 - val_loss: 0.0904 - lr: 0.0010\n",
      "Epoch 779/1000\n",
      "3/3 [==============================] - 0s 210ms/step - loss: 0.0885 - val_loss: 0.0904 - lr: 0.0010\n",
      "Epoch 780/1000\n",
      "3/3 [==============================] - 0s 206ms/step - loss: 0.0894 - val_loss: 0.0914 - lr: 0.0010\n",
      "Epoch 781/1000\n",
      "3/3 [==============================] - 0s 190ms/step - loss: 0.0890 - val_loss: 0.0910 - lr: 0.0010\n",
      "Epoch 782/1000\n",
      "3/3 [==============================] - 0s 197ms/step - loss: 0.0895 - val_loss: 0.0906 - lr: 0.0010\n",
      "Epoch 783/1000\n",
      "3/3 [==============================] - 0s 189ms/step - loss: 0.0887 - val_loss: 0.0948 - lr: 0.0010\n",
      "Epoch 784/1000\n",
      "3/3 [==============================] - 0s 209ms/step - loss: 0.0892 - val_loss: 0.0930 - lr: 0.0010\n",
      "Epoch 785/1000\n",
      "3/3 [==============================] - 0s 187ms/step - loss: 0.0896 - val_loss: 0.0936 - lr: 0.0010\n",
      "Epoch 786/1000\n",
      "3/3 [==============================] - 0s 211ms/step - loss: 0.0906 - val_loss: 0.0967 - lr: 0.0010\n",
      "Epoch 787/1000\n",
      "3/3 [==============================] - 0s 177ms/step - loss: 0.0896 - val_loss: 0.0925 - lr: 0.0010\n",
      "Epoch 788/1000\n",
      "3/3 [==============================] - 0s 203ms/step - loss: 0.0891 - val_loss: 0.0910 - lr: 0.0010\n",
      "Epoch 789/1000\n",
      "3/3 [==============================] - 0s 190ms/step - loss: 0.0897 - val_loss: 0.0910 - lr: 0.0010\n",
      "Epoch 790/1000\n",
      "3/3 [==============================] - 0s 189ms/step - loss: 0.0895 - val_loss: 0.0913 - lr: 0.0010\n",
      "Epoch 791/1000\n",
      "3/3 [==============================] - 0s 179ms/step - loss: 0.0897 - val_loss: 0.0930 - lr: 0.0010\n",
      "Epoch 792/1000\n",
      "3/3 [==============================] - 0s 193ms/step - loss: 0.0897 - val_loss: 0.0905 - lr: 0.0010\n",
      "Epoch 793/1000\n",
      "3/3 [==============================] - 0s 203ms/step - loss: 0.0897 - val_loss: 0.0932 - lr: 0.0010\n",
      "Epoch 794/1000\n",
      "3/3 [==============================] - 0s 210ms/step - loss: 0.0906 - val_loss: 0.0915 - lr: 0.0010\n",
      "Epoch 795/1000\n",
      "3/3 [==============================] - 0s 222ms/step - loss: 0.0894 - val_loss: 0.0935 - lr: 0.0010\n",
      "Epoch 796/1000\n",
      "3/3 [==============================] - 0s 210ms/step - loss: 0.0890 - val_loss: 0.0910 - lr: 0.0010\n",
      "Epoch 797/1000\n",
      "3/3 [==============================] - 0s 189ms/step - loss: 0.0890 - val_loss: 0.0914 - lr: 0.0010\n",
      "Epoch 798/1000\n",
      "3/3 [==============================] - 0s 214ms/step - loss: 0.0895 - val_loss: 0.0941 - lr: 0.0010\n",
      "Epoch 799/1000\n",
      "3/3 [==============================] - 0s 203ms/step - loss: 0.0888 - val_loss: 0.0916 - lr: 0.0010\n",
      "Epoch 800/1000\n",
      "3/3 [==============================] - 0s 194ms/step - loss: 0.0887 - val_loss: 0.0905 - lr: 0.0010\n",
      "Epoch 801/1000\n",
      "3/3 [==============================] - 0s 198ms/step - loss: 0.0889 - val_loss: 0.0906 - lr: 0.0010\n",
      "Epoch 802/1000\n",
      "3/3 [==============================] - 0s 197ms/step - loss: 0.0890 - val_loss: 0.0919 - lr: 0.0010\n",
      "Epoch 803/1000\n",
      "3/3 [==============================] - 0s 222ms/step - loss: 0.0889 - val_loss: 0.0917 - lr: 0.0010\n",
      "Epoch 804/1000\n",
      "3/3 [==============================] - 0s 189ms/step - loss: 0.0892 - val_loss: 0.0906 - lr: 0.0010\n",
      "Epoch 805/1000\n",
      "3/3 [==============================] - 0s 205ms/step - loss: 0.0897 - val_loss: 0.0915 - lr: 0.0010\n",
      "Epoch 806/1000\n",
      "3/3 [==============================] - 0s 217ms/step - loss: 0.0893 - val_loss: 0.0933 - lr: 0.0010\n",
      "Epoch 807/1000\n",
      "3/3 [==============================] - 0s 193ms/step - loss: 0.0888 - val_loss: 0.0909 - lr: 0.0010\n",
      "Epoch 808/1000\n",
      "3/3 [==============================] - 0s 205ms/step - loss: 0.0892 - val_loss: 0.0921 - lr: 0.0010\n",
      "Epoch 809/1000\n",
      "3/3 [==============================] - 0s 208ms/step - loss: 0.0900 - val_loss: 0.0969 - lr: 0.0010\n",
      "Epoch 810/1000\n",
      "3/3 [==============================] - 0s 217ms/step - loss: 0.0905 - val_loss: 0.0911 - lr: 0.0010\n",
      "Epoch 811/1000\n",
      "3/3 [==============================] - 0s 200ms/step - loss: 0.0889 - val_loss: 0.0904 - lr: 0.0010\n",
      "Epoch 812/1000\n",
      "3/3 [==============================] - 1s 232ms/step - loss: 0.0900 - val_loss: 0.0914 - lr: 0.0010\n",
      "Epoch 813/1000\n",
      "3/3 [==============================] - 0s 196ms/step - loss: 0.0900 - val_loss: 0.0937 - lr: 0.0010\n",
      "Epoch 814/1000\n",
      "3/3 [==============================] - 0s 196ms/step - loss: 0.0901 - val_loss: 0.0924 - lr: 0.0010\n",
      "Epoch 815/1000\n",
      "3/3 [==============================] - 1s 229ms/step - loss: 0.0887 - val_loss: 0.0925 - lr: 0.0010\n",
      "Epoch 816/1000\n",
      "3/3 [==============================] - 0s 200ms/step - loss: 0.0899 - val_loss: 0.0923 - lr: 0.0010\n",
      "Epoch 817/1000\n",
      "3/3 [==============================] - 0s 196ms/step - loss: 0.0895 - val_loss: 0.0918 - lr: 0.0010\n",
      "Epoch 818/1000\n",
      "3/3 [==============================] - 0s 190ms/step - loss: 0.0894 - val_loss: 0.0908 - lr: 0.0010\n",
      "Epoch 819/1000\n",
      "3/3 [==============================] - 0s 194ms/step - loss: 0.0884 - val_loss: 0.0907 - lr: 0.0010\n",
      "Epoch 820/1000\n",
      "3/3 [==============================] - 0s 188ms/step - loss: 0.0891 - val_loss: 0.0910 - lr: 0.0010\n",
      "Epoch 821/1000\n",
      "3/3 [==============================] - 0s 197ms/step - loss: 0.0901 - val_loss: 0.0937 - lr: 0.0010\n",
      "Epoch 822/1000\n",
      "3/3 [==============================] - 0s 226ms/step - loss: 0.0896 - val_loss: 0.0910 - lr: 0.0010\n",
      "Epoch 823/1000\n",
      "3/3 [==============================] - 0s 202ms/step - loss: 0.0886 - val_loss: 0.0904 - lr: 0.0010\n",
      "Epoch 824/1000\n",
      "3/3 [==============================] - 0s 185ms/step - loss: 0.0894 - val_loss: 0.0964 - lr: 0.0010\n",
      "Epoch 825/1000\n",
      "3/3 [==============================] - 0s 208ms/step - loss: 0.0911 - val_loss: 0.0907 - lr: 0.0010\n",
      "Epoch 826/1000\n",
      "3/3 [==============================] - 0s 206ms/step - loss: 0.0893 - val_loss: 0.0907 - lr: 0.0010\n",
      "Epoch 827/1000\n",
      "3/3 [==============================] - 0s 188ms/step - loss: 0.0895 - val_loss: 0.0910 - lr: 0.0010\n",
      "Epoch 828/1000\n",
      "3/3 [==============================] - 0s 184ms/step - loss: 0.0895 - val_loss: 0.0924 - lr: 0.0010\n",
      "Epoch 829/1000\n",
      "3/3 [==============================] - 0s 215ms/step - loss: 0.0891 - val_loss: 0.0907 - lr: 0.0010\n",
      "Epoch 830/1000\n",
      "3/3 [==============================] - 0s 210ms/step - loss: 0.0889 - val_loss: 0.0907 - lr: 0.0010\n",
      "Epoch 831/1000\n",
      "3/3 [==============================] - 0s 218ms/step - loss: 0.0891 - val_loss: 0.0907 - lr: 0.0010\n",
      "Epoch 832/1000\n",
      "3/3 [==============================] - 0s 188ms/step - loss: 0.0884 - val_loss: 0.0903 - lr: 0.0010\n",
      "Epoch 833/1000\n",
      "3/3 [==============================] - 0s 182ms/step - loss: 0.0884 - val_loss: 0.0903 - lr: 0.0010\n",
      "Epoch 834/1000\n",
      "3/3 [==============================] - 0s 201ms/step - loss: 0.0886 - val_loss: 0.0919 - lr: 0.0010\n",
      "Epoch 835/1000\n",
      "3/3 [==============================] - 0s 188ms/step - loss: 0.0887 - val_loss: 0.0911 - lr: 0.0010\n",
      "Epoch 836/1000\n",
      "3/3 [==============================] - 0s 196ms/step - loss: 0.0902 - val_loss: 0.0927 - lr: 0.0010\n",
      "Epoch 837/1000\n",
      "3/3 [==============================] - 0s 218ms/step - loss: 0.0894 - val_loss: 0.0925 - lr: 0.0010\n",
      "Epoch 838/1000\n",
      "3/3 [==============================] - 0s 197ms/step - loss: 0.0899 - val_loss: 0.0913 - lr: 0.0010\n",
      "Epoch 839/1000\n",
      "3/3 [==============================] - 0s 189ms/step - loss: 0.0889 - val_loss: 0.0916 - lr: 0.0010\n",
      "Epoch 840/1000\n",
      "3/3 [==============================] - 0s 207ms/step - loss: 0.0908 - val_loss: 0.0922 - lr: 0.0010\n",
      "Epoch 841/1000\n",
      "3/3 [==============================] - 0s 193ms/step - loss: 0.0907 - val_loss: 0.0921 - lr: 0.0010\n",
      "Epoch 842/1000\n",
      "3/3 [==============================] - 0s 185ms/step - loss: 0.0891 - val_loss: 0.0919 - lr: 0.0010\n",
      "Epoch 843/1000\n",
      "3/3 [==============================] - 0s 195ms/step - loss: 0.0886 - val_loss: 0.0909 - lr: 0.0010\n",
      "Epoch 844/1000\n",
      "3/3 [==============================] - 0s 189ms/step - loss: 0.0906 - val_loss: 0.0956 - lr: 0.0010\n",
      "Epoch 845/1000\n",
      "3/3 [==============================] - 0s 210ms/step - loss: 0.0898 - val_loss: 0.0919 - lr: 0.0010\n",
      "Epoch 846/1000\n",
      "3/3 [==============================] - 0s 194ms/step - loss: 0.0891 - val_loss: 0.0907 - lr: 0.0010\n",
      "Epoch 847/1000\n",
      "2/3 [===================>..........] - ETA: 0s - loss: 0.0886INFO:tensorflow:Assets written to: /home/user/workdir/main/src/model/nitrate/scaled_o3/input6/final_model-847-0.09/assets\n"
     ]
    },
    {
     "name": "stderr",
     "output_type": "stream",
     "text": [
      "INFO:tensorflow:Assets written to: /home/user/workdir/main/src/model/nitrate/scaled_o3/input6/final_model-847-0.09/assets\n"
     ]
    },
    {
     "name": "stdout",
     "output_type": "stream",
     "text": [
      "3/3 [==============================] - 13s 7s/step - loss: 0.0889 - val_loss: 0.0902 - lr: 0.0010\n",
      "Epoch 848/1000\n",
      "3/3 [==============================] - 0s 208ms/step - loss: 0.0900 - val_loss: 0.1042 - lr: 0.0010\n",
      "Epoch 849/1000\n",
      "3/3 [==============================] - 0s 208ms/step - loss: 0.0903 - val_loss: 0.0916 - lr: 0.0010\n",
      "Epoch 850/1000\n",
      "3/3 [==============================] - 0s 222ms/step - loss: 0.0910 - val_loss: 0.0909 - lr: 0.0010\n",
      "Epoch 851/1000\n",
      "3/3 [==============================] - 0s 209ms/step - loss: 0.0894 - val_loss: 0.0919 - lr: 0.0010\n",
      "Epoch 852/1000\n",
      "3/3 [==============================] - 1s 229ms/step - loss: 0.0896 - val_loss: 0.0931 - lr: 0.0010\n",
      "Epoch 853/1000\n",
      "3/3 [==============================] - 0s 225ms/step - loss: 0.0898 - val_loss: 0.0916 - lr: 0.0010\n",
      "Epoch 854/1000\n",
      "3/3 [==============================] - 0s 210ms/step - loss: 0.0890 - val_loss: 0.0919 - lr: 0.0010\n",
      "Epoch 855/1000\n",
      "3/3 [==============================] - 1s 240ms/step - loss: 0.0898 - val_loss: 0.0914 - lr: 0.0010\n",
      "Epoch 856/1000\n",
      "3/3 [==============================] - 0s 212ms/step - loss: 0.0901 - val_loss: 0.0906 - lr: 0.0010\n",
      "Epoch 857/1000\n",
      "3/3 [==============================] - 0s 209ms/step - loss: 0.0889 - val_loss: 0.0927 - lr: 0.0010\n",
      "Epoch 858/1000\n",
      "3/3 [==============================] - 0s 215ms/step - loss: 0.0892 - val_loss: 0.0931 - lr: 0.0010\n",
      "Epoch 859/1000\n",
      "3/3 [==============================] - 0s 224ms/step - loss: 0.0897 - val_loss: 0.0953 - lr: 0.0010\n",
      "Epoch 860/1000\n",
      "3/3 [==============================] - 0s 227ms/step - loss: 0.0895 - val_loss: 0.0930 - lr: 0.0010\n",
      "Epoch 861/1000\n",
      "3/3 [==============================] - 0s 208ms/step - loss: 0.0894 - val_loss: 0.0924 - lr: 0.0010\n",
      "Epoch 862/1000\n",
      "3/3 [==============================] - 0s 205ms/step - loss: 0.0901 - val_loss: 0.0915 - lr: 0.0010\n",
      "Epoch 863/1000\n",
      "3/3 [==============================] - 0s 198ms/step - loss: 0.0907 - val_loss: 0.0923 - lr: 0.0010\n",
      "Epoch 864/1000\n",
      "3/3 [==============================] - 0s 226ms/step - loss: 0.0902 - val_loss: 0.0976 - lr: 0.0010\n",
      "Epoch 865/1000\n",
      "3/3 [==============================] - 0s 198ms/step - loss: 0.0902 - val_loss: 0.0957 - lr: 0.0010\n",
      "Epoch 866/1000\n",
      "3/3 [==============================] - 0s 194ms/step - loss: 0.0899 - val_loss: 0.0953 - lr: 0.0010\n",
      "Epoch 867/1000\n",
      "3/3 [==============================] - 0s 206ms/step - loss: 0.0904 - val_loss: 0.0917 - lr: 0.0010\n",
      "Epoch 868/1000\n",
      "3/3 [==============================] - 0s 214ms/step - loss: 0.0905 - val_loss: 0.0911 - lr: 0.0010\n",
      "Epoch 869/1000\n",
      "3/3 [==============================] - 0s 219ms/step - loss: 0.0894 - val_loss: 0.0917 - lr: 0.0010\n",
      "Epoch 870/1000\n",
      "3/3 [==============================] - 0s 195ms/step - loss: 0.0908 - val_loss: 0.0911 - lr: 0.0010\n",
      "Epoch 871/1000\n",
      "3/3 [==============================] - 0s 193ms/step - loss: 0.0911 - val_loss: 0.0988 - lr: 0.0010\n",
      "Epoch 872/1000\n",
      "3/3 [==============================] - 0s 195ms/step - loss: 0.0902 - val_loss: 0.0950 - lr: 0.0010\n",
      "Epoch 873/1000\n",
      "3/3 [==============================] - 0s 198ms/step - loss: 0.0896 - val_loss: 0.0943 - lr: 0.0010\n",
      "Epoch 874/1000\n",
      "3/3 [==============================] - 0s 177ms/step - loss: 0.0900 - val_loss: 0.0928 - lr: 0.0010\n",
      "Epoch 875/1000\n",
      "3/3 [==============================] - 0s 202ms/step - loss: 0.0891 - val_loss: 0.0912 - lr: 0.0010\n",
      "Epoch 876/1000\n",
      "3/3 [==============================] - 0s 217ms/step - loss: 0.0888 - val_loss: 0.0914 - lr: 0.0010\n",
      "Epoch 877/1000\n",
      "3/3 [==============================] - 0s 188ms/step - loss: 0.0891 - val_loss: 0.0911 - lr: 0.0010\n",
      "Epoch 878/1000\n",
      "3/3 [==============================] - 0s 210ms/step - loss: 0.0899 - val_loss: 0.0931 - lr: 0.0010\n",
      "Epoch 879/1000\n",
      "3/3 [==============================] - 0s 196ms/step - loss: 0.0888 - val_loss: 0.0908 - lr: 0.0010\n",
      "Epoch 880/1000\n",
      "3/3 [==============================] - 0s 188ms/step - loss: 0.0897 - val_loss: 0.0951 - lr: 0.0010\n",
      "Epoch 881/1000\n",
      "3/3 [==============================] - 0s 188ms/step - loss: 0.0891 - val_loss: 0.0924 - lr: 0.0010\n",
      "Epoch 882/1000\n",
      "3/3 [==============================] - 1s 238ms/step - loss: 0.0896 - val_loss: 0.0942 - lr: 0.0010\n",
      "Epoch 883/1000\n",
      "3/3 [==============================] - 0s 201ms/step - loss: 0.0908 - val_loss: 0.0912 - lr: 0.0010\n",
      "Epoch 884/1000\n",
      "3/3 [==============================] - 0s 197ms/step - loss: 0.0896 - val_loss: 0.0904 - lr: 0.0010\n",
      "Epoch 885/1000\n",
      "3/3 [==============================] - 0s 194ms/step - loss: 0.0890 - val_loss: 0.0949 - lr: 0.0010\n",
      "Epoch 886/1000\n",
      "3/3 [==============================] - 0s 207ms/step - loss: 0.0899 - val_loss: 0.0918 - lr: 0.0010\n",
      "Epoch 887/1000\n",
      "3/3 [==============================] - 0s 220ms/step - loss: 0.0890 - val_loss: 0.0913 - lr: 0.0010\n",
      "Epoch 888/1000\n",
      "3/3 [==============================] - 0s 196ms/step - loss: 0.0890 - val_loss: 0.0930 - lr: 0.0010\n",
      "Epoch 889/1000\n",
      "3/3 [==============================] - 0s 183ms/step - loss: 0.0882 - val_loss: 0.0908 - lr: 0.0010\n",
      "Epoch 890/1000\n",
      "3/3 [==============================] - 0s 202ms/step - loss: 0.0886 - val_loss: 0.0919 - lr: 0.0010\n",
      "Epoch 891/1000\n",
      "3/3 [==============================] - ETA: 0s - loss: 0.0901INFO:tensorflow:Assets written to: /home/user/workdir/main/src/model/nitrate/scaled_o3/input6/final_model-891-0.09/assets\n"
     ]
    },
    {
     "name": "stderr",
     "output_type": "stream",
     "text": [
      "INFO:tensorflow:Assets written to: /home/user/workdir/main/src/model/nitrate/scaled_o3/input6/final_model-891-0.09/assets\n"
     ]
    },
    {
     "name": "stdout",
     "output_type": "stream",
     "text": [
      "3/3 [==============================] - 9s 4s/step - loss: 0.0901 - val_loss: 0.0901 - lr: 0.0010\n",
      "Epoch 892/1000\n",
      "3/3 [==============================] - 0s 199ms/step - loss: 0.0891 - val_loss: 0.0909 - lr: 0.0010\n",
      "Epoch 893/1000\n",
      "3/3 [==============================] - 0s 210ms/step - loss: 0.0895 - val_loss: 0.0906 - lr: 0.0010\n",
      "Epoch 894/1000\n",
      "3/3 [==============================] - 0s 207ms/step - loss: 0.0886 - val_loss: 0.0902 - lr: 0.0010\n",
      "Epoch 895/1000\n",
      "3/3 [==============================] - 0s 184ms/step - loss: 0.0887 - val_loss: 0.0921 - lr: 0.0010\n",
      "Epoch 896/1000\n",
      "3/3 [==============================] - ETA: 0s - loss: 0.0888INFO:tensorflow:Assets written to: /home/user/workdir/main/src/model/nitrate/scaled_o3/input6/final_model-896-0.09/assets\n"
     ]
    },
    {
     "name": "stderr",
     "output_type": "stream",
     "text": [
      "INFO:tensorflow:Assets written to: /home/user/workdir/main/src/model/nitrate/scaled_o3/input6/final_model-896-0.09/assets\n"
     ]
    },
    {
     "name": "stdout",
     "output_type": "stream",
     "text": [
      "3/3 [==============================] - 8s 4s/step - loss: 0.0888 - val_loss: 0.0900 - lr: 0.0010\n",
      "Epoch 897/1000\n",
      "3/3 [==============================] - 0s 200ms/step - loss: 0.0888 - val_loss: 0.0909 - lr: 0.0010\n",
      "Epoch 898/1000\n",
      "3/3 [==============================] - 0s 199ms/step - loss: 0.0896 - val_loss: 0.0908 - lr: 0.0010\n",
      "Epoch 899/1000\n",
      "3/3 [==============================] - 0s 216ms/step - loss: 0.0883 - val_loss: 0.0907 - lr: 0.0010\n",
      "Epoch 900/1000\n",
      "3/3 [==============================] - 0s 211ms/step - loss: 0.0892 - val_loss: 0.0907 - lr: 0.0010\n",
      "Epoch 901/1000\n",
      "3/3 [==============================] - 0s 181ms/step - loss: 0.0891 - val_loss: 0.0906 - lr: 0.0010\n",
      "Epoch 902/1000\n",
      "2/3 [===================>..........] - ETA: 0s - loss: 0.0881INFO:tensorflow:Assets written to: /home/user/workdir/main/src/model/nitrate/scaled_o3/input6/final_model-902-0.09/assets\n"
     ]
    },
    {
     "name": "stderr",
     "output_type": "stream",
     "text": [
      "INFO:tensorflow:Assets written to: /home/user/workdir/main/src/model/nitrate/scaled_o3/input6/final_model-902-0.09/assets\n"
     ]
    },
    {
     "name": "stdout",
     "output_type": "stream",
     "text": [
      "3/3 [==============================] - 8s 4s/step - loss: 0.0886 - val_loss: 0.0898 - lr: 0.0010\n",
      "Epoch 903/1000\n",
      "3/3 [==============================] - 0s 208ms/step - loss: 0.0875 - val_loss: 0.0899 - lr: 0.0010\n",
      "Epoch 904/1000\n",
      "3/3 [==============================] - 0s 206ms/step - loss: 0.0882 - val_loss: 0.0923 - lr: 0.0010\n",
      "Epoch 905/1000\n",
      "3/3 [==============================] - 0s 181ms/step - loss: 0.0901 - val_loss: 0.0921 - lr: 0.0010\n",
      "Epoch 906/1000\n",
      "3/3 [==============================] - 0s 212ms/step - loss: 0.0888 - val_loss: 0.0912 - lr: 0.0010\n",
      "Epoch 907/1000\n",
      "3/3 [==============================] - 0s 178ms/step - loss: 0.0887 - val_loss: 0.0908 - lr: 0.0010\n",
      "Epoch 908/1000\n",
      "3/3 [==============================] - 0s 192ms/step - loss: 0.0890 - val_loss: 0.0899 - lr: 0.0010\n",
      "Epoch 909/1000\n",
      "3/3 [==============================] - 0s 207ms/step - loss: 0.0879 - val_loss: 0.0905 - lr: 0.0010\n",
      "Epoch 910/1000\n",
      "3/3 [==============================] - 0s 198ms/step - loss: 0.0889 - val_loss: 0.0905 - lr: 0.0010\n",
      "Epoch 911/1000\n",
      "3/3 [==============================] - 0s 221ms/step - loss: 0.0888 - val_loss: 0.0902 - lr: 0.0010\n",
      "Epoch 912/1000\n",
      "3/3 [==============================] - 0s 206ms/step - loss: 0.0895 - val_loss: 0.0900 - lr: 0.0010\n",
      "Epoch 913/1000\n",
      "3/3 [==============================] - 0s 191ms/step - loss: 0.0886 - val_loss: 0.0915 - lr: 0.0010\n",
      "Epoch 914/1000\n",
      "3/3 [==============================] - 0s 186ms/step - loss: 0.0899 - val_loss: 0.0940 - lr: 0.0010\n",
      "Epoch 915/1000\n",
      "3/3 [==============================] - 0s 188ms/step - loss: 0.0897 - val_loss: 0.0937 - lr: 0.0010\n",
      "Epoch 916/1000\n",
      "3/3 [==============================] - 0s 195ms/step - loss: 0.0907 - val_loss: 0.0923 - lr: 0.0010\n",
      "Epoch 917/1000\n",
      "3/3 [==============================] - 0s 193ms/step - loss: 0.0898 - val_loss: 0.0931 - lr: 0.0010\n",
      "Epoch 918/1000\n",
      "3/3 [==============================] - 0s 190ms/step - loss: 0.0894 - val_loss: 0.0906 - lr: 0.0010\n",
      "Epoch 919/1000\n",
      "3/3 [==============================] - 0s 197ms/step - loss: 0.0886 - val_loss: 0.0914 - lr: 0.0010\n",
      "Epoch 920/1000\n",
      "3/3 [==============================] - 1s 246ms/step - loss: 0.0891 - val_loss: 0.0930 - lr: 0.0010\n",
      "Epoch 921/1000\n",
      "3/3 [==============================] - 0s 216ms/step - loss: 0.0896 - val_loss: 0.0936 - lr: 0.0010\n",
      "Epoch 922/1000\n",
      "3/3 [==============================] - 1s 231ms/step - loss: 0.0894 - val_loss: 0.0920 - lr: 0.0010\n",
      "Epoch 923/1000\n",
      "3/3 [==============================] - 0s 200ms/step - loss: 0.0907 - val_loss: 0.0952 - lr: 0.0010\n",
      "Epoch 924/1000\n",
      "3/3 [==============================] - 0s 195ms/step - loss: 0.0904 - val_loss: 0.0930 - lr: 0.0010\n",
      "Epoch 925/1000\n",
      "3/3 [==============================] - 0s 203ms/step - loss: 0.0907 - val_loss: 0.0942 - lr: 0.0010\n",
      "Epoch 926/1000\n",
      "3/3 [==============================] - 0s 192ms/step - loss: 0.0900 - val_loss: 0.0917 - lr: 0.0010\n",
      "Epoch 927/1000\n",
      "3/3 [==============================] - 0s 196ms/step - loss: 0.0897 - val_loss: 0.0935 - lr: 0.0010\n",
      "Epoch 928/1000\n",
      "3/3 [==============================] - 0s 201ms/step - loss: 0.0902 - val_loss: 0.0908 - lr: 0.0010\n",
      "Epoch 929/1000\n",
      "3/3 [==============================] - 0s 197ms/step - loss: 0.0887 - val_loss: 0.0903 - lr: 0.0010\n",
      "Epoch 930/1000\n",
      "3/3 [==============================] - 0s 193ms/step - loss: 0.0881 - val_loss: 0.0902 - lr: 0.0010\n",
      "Epoch 931/1000\n",
      "3/3 [==============================] - 0s 195ms/step - loss: 0.0883 - val_loss: 0.0901 - lr: 0.0010\n",
      "Epoch 932/1000\n",
      "3/3 [==============================] - 0s 207ms/step - loss: 0.0883 - val_loss: 0.0913 - lr: 0.0010\n",
      "Epoch 933/1000\n",
      "3/3 [==============================] - 0s 179ms/step - loss: 0.0882 - val_loss: 0.0912 - lr: 0.0010\n",
      "Epoch 934/1000\n",
      "3/3 [==============================] - 0s 180ms/step - loss: 0.0887 - val_loss: 0.0913 - lr: 0.0010\n",
      "Epoch 935/1000\n",
      "3/3 [==============================] - 1s 232ms/step - loss: 0.0888 - val_loss: 0.0907 - lr: 0.0010\n",
      "Epoch 936/1000\n",
      "3/3 [==============================] - 0s 189ms/step - loss: 0.0886 - val_loss: 0.0911 - lr: 0.0010\n",
      "Epoch 937/1000\n",
      "3/3 [==============================] - 0s 178ms/step - loss: 0.0893 - val_loss: 0.0901 - lr: 0.0010\n",
      "Epoch 938/1000\n",
      "3/3 [==============================] - 0s 193ms/step - loss: 0.0894 - val_loss: 0.0927 - lr: 0.0010\n",
      "Epoch 939/1000\n",
      "3/3 [==============================] - 0s 217ms/step - loss: 0.0894 - val_loss: 0.0908 - lr: 0.0010\n",
      "Epoch 940/1000\n",
      "3/3 [==============================] - 0s 190ms/step - loss: 0.0902 - val_loss: 0.0913 - lr: 0.0010\n",
      "Epoch 941/1000\n",
      "3/3 [==============================] - 0s 184ms/step - loss: 0.0885 - val_loss: 0.0906 - lr: 0.0010\n",
      "Epoch 942/1000\n",
      "3/3 [==============================] - 0s 190ms/step - loss: 0.0883 - val_loss: 0.0905 - lr: 0.0010\n",
      "Epoch 943/1000\n",
      "3/3 [==============================] - 0s 206ms/step - loss: 0.0890 - val_loss: 0.0911 - lr: 0.0010\n",
      "Epoch 944/1000\n",
      "3/3 [==============================] - 0s 207ms/step - loss: 0.0887 - val_loss: 0.0898 - lr: 0.0010\n",
      "Epoch 945/1000\n",
      "3/3 [==============================] - 0s 210ms/step - loss: 0.0888 - val_loss: 0.0904 - lr: 0.0010\n",
      "Epoch 946/1000\n",
      "3/3 [==============================] - 0s 197ms/step - loss: 0.0904 - val_loss: 0.0924 - lr: 0.0010\n",
      "Epoch 947/1000\n",
      "3/3 [==============================] - 0s 185ms/step - loss: 0.0895 - val_loss: 0.0916 - lr: 0.0010\n",
      "Epoch 948/1000\n",
      "3/3 [==============================] - 0s 195ms/step - loss: 0.0888 - val_loss: 0.0919 - lr: 0.0010\n",
      "Epoch 949/1000\n",
      "3/3 [==============================] - 0s 197ms/step - loss: 0.0886 - val_loss: 0.0915 - lr: 0.0010\n",
      "Epoch 950/1000\n",
      "3/3 [==============================] - 0s 190ms/step - loss: 0.0899 - val_loss: 0.0914 - lr: 0.0010\n",
      "Epoch 951/1000\n",
      "3/3 [==============================] - 0s 177ms/step - loss: 0.0887 - val_loss: 0.0906 - lr: 0.0010\n",
      "Epoch 952/1000\n",
      "3/3 [==============================] - 0s 215ms/step - loss: 0.0894 - val_loss: 0.0902 - lr: 0.0010\n",
      "Epoch 953/1000\n",
      "3/3 [==============================] - 0s 196ms/step - loss: 0.0889 - val_loss: 0.0933 - lr: 0.0010\n",
      "Epoch 954/1000\n",
      "3/3 [==============================] - 0s 190ms/step - loss: 0.0885 - val_loss: 0.0910 - lr: 0.0010\n",
      "Epoch 955/1000\n",
      "3/3 [==============================] - 0s 202ms/step - loss: 0.0884 - val_loss: 0.0942 - lr: 0.0010\n",
      "Epoch 956/1000\n",
      "3/3 [==============================] - 0s 221ms/step - loss: 0.0892 - val_loss: 0.0925 - lr: 0.0010\n",
      "Epoch 957/1000\n",
      "3/3 [==============================] - 0s 197ms/step - loss: 0.0892 - val_loss: 0.0923 - lr: 0.0010\n",
      "Epoch 958/1000\n",
      "3/3 [==============================] - 0s 199ms/step - loss: 0.0890 - val_loss: 0.0904 - lr: 0.0010\n",
      "Epoch 959/1000\n",
      "3/3 [==============================] - 1s 233ms/step - loss: 0.0895 - val_loss: 0.0918 - lr: 0.0010\n",
      "Epoch 960/1000\n",
      "3/3 [==============================] - 1s 241ms/step - loss: 0.0885 - val_loss: 0.0969 - lr: 0.0010\n",
      "Epoch 961/1000\n",
      "3/3 [==============================] - 0s 191ms/step - loss: 0.0896 - val_loss: 0.0920 - lr: 0.0010\n",
      "Epoch 962/1000\n",
      "3/3 [==============================] - 1s 230ms/step - loss: 0.0896 - val_loss: 0.0965 - lr: 0.0010\n",
      "Epoch 963/1000\n",
      "3/3 [==============================] - 0s 193ms/step - loss: 0.0900 - val_loss: 0.0935 - lr: 0.0010\n",
      "Epoch 964/1000\n",
      "3/3 [==============================] - 0s 192ms/step - loss: 0.0893 - val_loss: 0.0908 - lr: 0.0010\n",
      "Epoch 965/1000\n",
      "3/3 [==============================] - 0s 180ms/step - loss: 0.0890 - val_loss: 0.0922 - lr: 0.0010\n",
      "Epoch 966/1000\n",
      "3/3 [==============================] - 0s 184ms/step - loss: 0.0899 - val_loss: 0.0916 - lr: 0.0010\n",
      "Epoch 967/1000\n",
      "3/3 [==============================] - 0s 186ms/step - loss: 0.0893 - val_loss: 0.0908 - lr: 0.0010\n",
      "Epoch 968/1000\n",
      "3/3 [==============================] - 0s 218ms/step - loss: 0.0888 - val_loss: 0.0906 - lr: 0.0010\n",
      "Epoch 969/1000\n",
      "3/3 [==============================] - 0s 209ms/step - loss: 0.0897 - val_loss: 0.0903 - lr: 0.0010\n",
      "Epoch 970/1000\n",
      "3/3 [==============================] - 0s 193ms/step - loss: 0.0892 - val_loss: 0.0913 - lr: 0.0010\n",
      "Epoch 971/1000\n",
      "3/3 [==============================] - 0s 182ms/step - loss: 0.0890 - val_loss: 0.0906 - lr: 0.0010\n",
      "Epoch 972/1000\n",
      "3/3 [==============================] - 1s 233ms/step - loss: 0.0879 - val_loss: 0.0901 - lr: 0.0010\n",
      "Epoch 973/1000\n",
      "3/3 [==============================] - 0s 218ms/step - loss: 0.0898 - val_loss: 0.0937 - lr: 0.0010\n",
      "Epoch 974/1000\n",
      "3/3 [==============================] - 0s 183ms/step - loss: 0.0893 - val_loss: 0.0932 - lr: 0.0010\n",
      "Epoch 975/1000\n",
      "3/3 [==============================] - 0s 183ms/step - loss: 0.0892 - val_loss: 0.0919 - lr: 0.0010\n",
      "Epoch 976/1000\n",
      "3/3 [==============================] - 0s 225ms/step - loss: 0.0895 - val_loss: 0.0943 - lr: 0.0010\n",
      "Epoch 977/1000\n",
      "3/3 [==============================] - 0s 219ms/step - loss: 0.0896 - val_loss: 0.0925 - lr: 0.0010\n",
      "Epoch 978/1000\n",
      "3/3 [==============================] - 0s 191ms/step - loss: 0.0894 - val_loss: 0.0913 - lr: 0.0010\n",
      "Epoch 979/1000\n",
      "3/3 [==============================] - 0s 179ms/step - loss: 0.0896 - val_loss: 0.0928 - lr: 0.0010\n",
      "Epoch 980/1000\n",
      "3/3 [==============================] - 0s 183ms/step - loss: 0.0891 - val_loss: 0.0902 - lr: 0.0010\n",
      "Epoch 981/1000\n",
      "3/3 [==============================] - 0s 195ms/step - loss: 0.0888 - val_loss: 0.0907 - lr: 0.0010\n",
      "Epoch 982/1000\n",
      "3/3 [==============================] - 0s 204ms/step - loss: 0.0893 - val_loss: 0.0902 - lr: 0.0010\n",
      "Epoch 983/1000\n",
      "2/3 [===================>..........] - ETA: 0s - loss: 0.0886INFO:tensorflow:Assets written to: /home/user/workdir/main/src/model/nitrate/scaled_o3/input6/final_model-983-0.09/assets\n"
     ]
    },
    {
     "name": "stderr",
     "output_type": "stream",
     "text": [
      "INFO:tensorflow:Assets written to: /home/user/workdir/main/src/model/nitrate/scaled_o3/input6/final_model-983-0.09/assets\n"
     ]
    },
    {
     "name": "stdout",
     "output_type": "stream",
     "text": [
      "3/3 [==============================] - 14s 7s/step - loss: 0.0884 - val_loss: 0.0896 - lr: 0.0010\n",
      "Epoch 984/1000\n",
      "3/3 [==============================] - 0s 211ms/step - loss: 0.0889 - val_loss: 0.0899 - lr: 0.0010\n",
      "Epoch 985/1000\n",
      "3/3 [==============================] - 0s 204ms/step - loss: 0.0883 - val_loss: 0.0904 - lr: 0.0010\n",
      "Epoch 986/1000\n",
      "3/3 [==============================] - 0s 213ms/step - loss: 0.0890 - val_loss: 0.0933 - lr: 0.0010\n",
      "Epoch 987/1000\n",
      "3/3 [==============================] - 0s 188ms/step - loss: 0.0897 - val_loss: 0.0911 - lr: 0.0010\n",
      "Epoch 988/1000\n",
      "3/3 [==============================] - 0s 188ms/step - loss: 0.0891 - val_loss: 0.0905 - lr: 0.0010\n",
      "Epoch 989/1000\n",
      "3/3 [==============================] - 0s 224ms/step - loss: 0.0892 - val_loss: 0.0896 - lr: 0.0010\n",
      "Epoch 990/1000\n",
      "3/3 [==============================] - 0s 225ms/step - loss: 0.0896 - val_loss: 0.0949 - lr: 0.0010\n",
      "Epoch 991/1000\n",
      "3/3 [==============================] - 0s 196ms/step - loss: 0.0894 - val_loss: 0.0946 - lr: 0.0010\n",
      "Epoch 992/1000\n",
      "3/3 [==============================] - 0s 206ms/step - loss: 0.0900 - val_loss: 0.0951 - lr: 0.0010\n",
      "Epoch 993/1000\n",
      "3/3 [==============================] - 0s 187ms/step - loss: 0.0904 - val_loss: 0.0910 - lr: 0.0010\n",
      "Epoch 994/1000\n",
      "3/3 [==============================] - 0s 224ms/step - loss: 0.0885 - val_loss: 0.0909 - lr: 0.0010\n",
      "Epoch 995/1000\n",
      "3/3 [==============================] - 0s 194ms/step - loss: 0.0885 - val_loss: 0.0898 - lr: 0.0010\n",
      "Epoch 996/1000\n",
      "3/3 [==============================] - 0s 196ms/step - loss: 0.0886 - val_loss: 0.0904 - lr: 0.0010\n",
      "Epoch 997/1000\n",
      "3/3 [==============================] - ETA: 0s - loss: 0.0882INFO:tensorflow:Assets written to: /home/user/workdir/main/src/model/nitrate/scaled_o3/input6/final_model-997-0.09/assets\n"
     ]
    },
    {
     "name": "stderr",
     "output_type": "stream",
     "text": [
      "INFO:tensorflow:Assets written to: /home/user/workdir/main/src/model/nitrate/scaled_o3/input6/final_model-997-0.09/assets\n"
     ]
    },
    {
     "name": "stdout",
     "output_type": "stream",
     "text": [
      "3/3 [==============================] - 8s 4s/step - loss: 0.0882 - val_loss: 0.0895 - lr: 0.0010\n",
      "Epoch 998/1000\n",
      "3/3 [==============================] - 0s 185ms/step - loss: 0.0890 - val_loss: 0.0926 - lr: 0.0010\n",
      "Epoch 999/1000\n",
      "3/3 [==============================] - 1s 234ms/step - loss: 0.0892 - val_loss: 0.0910 - lr: 0.0010\n",
      "Epoch 1000/1000\n",
      "3/3 [==============================] - 0s 195ms/step - loss: 0.0891 - val_loss: 0.0925 - lr: 0.0010\n",
      "INFO:tensorflow:Assets written to: /home/user/workdir/main/src/model/nitrate/scaled_o3/input6/final_model/assets\n"
     ]
    },
    {
     "name": "stderr",
     "output_type": "stream",
     "text": [
      "INFO:tensorflow:Assets written to: /home/user/workdir/main/src/model/nitrate/scaled_o3/input6/final_model/assets\n"
     ]
    },
    {
     "data": {
      "text/plain": [
       "' '"
      ]
     },
     "execution_count": 3,
     "metadata": {},
     "output_type": "execute_result"
    }
   ],
   "source": [
    "from src.model.cmaqnet_cond_unet import build_model\n",
    "\n",
    "model_path = '/home/user/workdir/main/src/model/nitrate/scaled_o3/input6/final_model'  # 모델 저장 경로\n",
    "\n",
    "epochs = 1000  # 훈련 반복 횟수\n",
    "batch_size = 32  # 배치 크기\n",
    "test_split = 0.4  # 테스트 데이터 비율 (50%)\n",
    "random_seed = 42  # 랜덤 시드\n",
    "\n",
    "X_emis_train, X_emis_test, X_boundary_train, X_boundary_test, y_train, y_test = train_test_split(emis_data, boundary_data, conc_data, test_size=test_split, random_state=random_seed)\n",
    "\n",
    "gpus = tf.config.list_physical_devices('GPU')\n",
    "if gpus:\n",
    "    try:\n",
    "        for gpu in gpus:\n",
    "            tf.config.experimental.set_memory_growth(gpu, True)\n",
    "        print(\"Memory growth enabled for GPUs\")\n",
    "    except RuntimeError as e:\n",
    "        print(e)\n",
    "\n",
    "# devices=[\"/GPU:1\",\"/GPU:2\",\"/GPU:3\"]\n",
    "strategy = tf.distribute.MirroredStrategy()\n",
    "with strategy.scope():\n",
    "    model = build_model(\n",
    "        ctrl_dim=17*6,\n",
    "        cond_dim=[1],\n",
    "        emb_dims=[64],\n",
    "        emb_type=['normal'],\n",
    "        out_channel=1,\n",
    "        hidden_size=[64, 96],\n",
    "        hidden_depth=4,\n",
    "        in_filters=5,\n",
    "        kernel_size=3,\n",
    "        activation='silu',\n",
    "        dropout=0.0,\n",
    "        use_abs=True\n",
    "    )\n",
    "    model.compile(\n",
    "        optimizer=tf.keras.optimizers.Adam(1e-3),\n",
    "        loss=tf.keras.losses.MeanSquaredError(),\n",
    "    )\n",
    "    \n",
    "# define callback\n",
    "def scheduler(epoch, lr):\n",
    "    if epoch <= 1000: return 1e-3\n",
    "    else: return 1e-4\n",
    "callback_lr = tf.keras.callbacks.LearningRateScheduler(scheduler)\n",
    "\n",
    "callback_ckpt = tf.keras.callbacks.ModelCheckpoint(\n",
    "    filepath='/home/user/workdir/main/src/model/nitrate/scaled_o3/input6/final_model-{epoch:02d}-{val_loss:.2f}',\n",
    "    monitor='val_loss',\n",
    "    save_best_only=True,\n",
    "    save_weights_only=False,\n",
    "    mode='min',\n",
    "    save_freq='epoch')\n",
    "\n",
    "history = model.fit(\n",
    "    x=[X_emis_train, X_boundary_train],   # 입력 데이터 (지역 별 배출량, 경계 조건 값)\n",
    "    y=y_train,                                          # 입력 데이터의 Label 값 (netCDF에서 PM2.5 값)\n",
    "    epochs=epochs,\n",
    "    batch_size=batch_size,\n",
    "    validation_data=[[X_emis_test, X_boundary_test], y_test], # test 데이터\n",
    "    callbacks=[callback_lr, callback_ckpt])\n",
    "model.save(model_path)\n",
    "\n",
    "def plot_loss(history):\n",
    "    plt.figure(figsize=(10, 6))\n",
    "    \n",
    "    # 학습 손실\n",
    "    plt.plot(history.history['loss'], label='Training Loss', color='blue')\n",
    "    # 검증 손실\n",
    "    plt.plot(history.history['val_loss'], label='Validation Loss', color='orange')\n",
    "\n",
    "    plt.title('Training and Validation Loss')\n",
    "    plt.xlabel('Epochs')\n",
    "    plt.ylabel('Loss')\n",
    "    plt.legend()\n",
    "    plt.grid(alpha=0.3)\n",
    "    plt.show()\n",
    "''' '''"
   ]
  },
  {
   "cell_type": "code",
   "execution_count": 4,
   "metadata": {},
   "outputs": [
    {
     "data": {
      "image/png": "[encoded data removed]",
      "text/plain": [
       "<Figure size 1000x600 with 1 Axes>"
      ]
     },
     "metadata": {},
     "output_type": "display_data"
    }
   ],
   "source": [
    "plot_loss(history)"
   ]
  },
  {
   "cell_type": "code",
   "execution_count": 5,
   "metadata": {},
   "outputs": [],
   "source": [
    "# 2D Map 결과 도출을 위한 지도 파라미터 세팅\n",
    "proj = '+proj=lcc +lat_1=30 +lat_2=60 +lon_1=126 +lat_0=38 +lon_0=126 +ellps=GRS80 +units=m'\n",
    "atob = {\n",
    "    0: 'G', 1: 'F', 2: 'K', 3: 'J', 4: 'E', 5: 'D',\n",
    "    6: 'O', 7: 'C', 8: 'A', 9: 'Q', 10: 'P', 11: 'B',\n",
    "    12: 'M', 13: 'L', 14: 'N', 15: 'I', 16: 'H'}\n",
    "region_columns = {\n",
    "    'A': 'Seoul City', 'B': 'Incheon City', 'C': 'Busan City', 'D': 'Daegu City',\n",
    "    'E': 'Gwangju City', 'F': 'Gyeonggi-do', 'G': 'Gangwon-do', 'H': 'Chungbuk-do',\n",
    "    'I': 'Chungnam-do', 'J': 'Gyeongbuk-do', 'K': 'Gyeongnam-do', 'L': 'Jeonbuk-do',\n",
    "    'M': 'Jeonnam-do', 'N': 'Jeju-do', 'O': 'Daejeon City', 'P': 'Ulsan City', 'Q': 'Sejong City'}\n",
    "\n",
    "def get_ctprvn_map() -> gpd.GeoDataFrame:\n",
    "    path = '/home/user/workdir/main/resources/geom/ctp_rvn.shp'\n",
    "    ctprvn = gpd.GeoDataFrame.from_file(path, encoding='cp949')\n",
    "    ctprvn.crs = 'EPSG:5179'\n",
    "    return ctprvn\n",
    "\n",
    "def get_base_raster(ctprvn:gpd.GeoDataFrame) -> gpd.GeoDataFrame:\n",
    "    points = [Point(i, j)\n",
    "                for i in range(-180000, -180000 + 9000 * 67, 9000)\n",
    "                for j in range(-585000, -585000 + 9000 * 82, 9000)]\n",
    "    grid_data = gpd.GeoDataFrame(points, geometry='geometry', columns=['geometry'])\n",
    "    grid_data.crs = ctprvn.to_crs(proj).crs\n",
    "    grid_data.loc[:,'x_m'] = grid_data.geometry.x\n",
    "    grid_data.loc[:,'y_m'] = grid_data.geometry.y\n",
    "    grid_data.loc[:,'value'] = 0\n",
    "    grid_data.loc[:,'index'] = grid_data.index\n",
    "    return grid_data\n",
    "\n",
    "def get_region_pixel_indices() -> list:\n",
    "    ctprvn = get_ctprvn_map()\n",
    "    grid_data = get_base_raster(ctprvn)\n",
    "\n",
    "    cities = {\n",
    "        0: '강원도', 1: '경기도', 2: '경상남도', 3: '경상북도',\n",
    "        4: '광주광역시', 5: '대구광역시', 6: '대전광역시', 7: '부산광역시',\n",
    "        8: '서울특별시', 9: '세종특별자치시', 10: '울산광역시', 11: '인천광역시',\n",
    "        12: '전라남도', 13: '전라북도', 14: '제주특별자치도', 15: '충청남도',\n",
    "        16: '충청북도'\n",
    "    }\n",
    "\n",
    "    gdf_joined_loc = ['CTPRVN_CD', 'CTP_ENG_NM', 'CTP_KOR_NM', 'index_right0']\n",
    "    gdf_joined = gpd.sjoin(ctprvn, grid_data.to_crs(5179), predicate='contains')\n",
    "\n",
    "    indices = gpd.GeoDataFrame(pd.merge(\n",
    "        left=grid_data, right=gdf_joined.loc[:,gdf_joined_loc], \n",
    "        how='left', left_on='index', right_on='index_right0'\n",
    "    ), geometry='geometry').dropna()\n",
    "    pixel_indices = \\\n",
    "        [[(idx%82, idx//82) for idx in indices.loc[indices.CTP_KOR_NM==cities[region]].index.tolist()]\n",
    "         for region, _ in cities.items()]\n",
    "    return pixel_indices\n",
    "\n",
    "ctprvn = get_ctprvn_map()\n",
    "ctprvn_proj = ctprvn.to_crs(proj)\n",
    "\n",
    "# 건국대(서울대)에서 제공한 대한민국 국토 grid 정보\n",
    "grid_alloc = (\n",
    "    pd.read_csv('/home/user/workdir/main/resources/geom/grid_allocation.csv') # load grid allocation data\n",
    "    .sort_values(by=['Row', 'Column', 'Ratio'], ascending=[True, True, False]) # sort by row, column, ratio\n",
    "    .drop_duplicates(subset=['Row', 'Column'], keep='first') # drop duplicates\n",
    "    .reset_index(drop=True) # reset index\n",
    ")\n",
    "\n",
    "# 정부에서 배포하는 대한민국 국토 grid 정보\n",
    "pixel_indices = get_region_pixel_indices()\n",
    "total_index = []\n",
    "for idx, grids in enumerate(pixel_indices):\n",
    "    for grid in grids:\n",
    "        total_index.append([\n",
    "            grid[1], grid[0], 100.0, atob[idx], region_columns[atob[idx]]\n",
    "        ])\n",
    "total_index = pd.DataFrame(total_index, columns=grid_alloc.columns)\n",
    "\n",
    "# 두 기관에서 주는 grid에 한두픽셀씩 비어있는 부분이 있어, 두 기관 데이터를 모두 참조하여 중복되는 픽셀을 정리 후 최종 국토 grid 정보를 취득\n",
    "grid_alloc = pd.concat([\n",
    "    grid_alloc.drop(columns=['Ratio', 'Region_Name']),\n",
    "    total_index.drop(columns=['Ratio', 'Region_Name'])\n",
    "]).sort_values(by=['Region_Code']).drop_duplicates().reset_index(drop=True)\n",
    "grid_alloc[['Row', 'Column']] = grid_alloc[['Row', 'Column']] - 1\n",
    "\n",
    "row_indices, col_indices = zip(*grid_alloc[['Row', 'Column']].values)\n",
    "offset_x, offset_y = 4500, 4500 # 지도 위치 맞추기\n",
    "\n",
    "# 마스킹 처리\n",
    "mask = np.zeros((82, 67))\n",
    "mask[row_indices, col_indices] = 1\n",
    "\n",
    "cmap_white = mpl.colormaps['jet']\n",
    "cmap_white.set_under('white')"
   ]
  },
  {
   "cell_type": "markdown",
   "metadata": {},
   "source": [
    "# Prediction & Performance"
   ]
  },
  {
   "cell_type": "code",
   "execution_count": null,
   "metadata": {},
   "outputs": [],
   "source": [
    "test_split = 0.4  # 테스트 데이터 비율 (20%)\n",
    "random_seed = 42  # 랜덤 시드\n",
    "model = tf.keras.models.load_model('/home/user/workdir/main/src/model/nitrate/scaled_o3/input6/final_model')\n",
    "\n",
    "pred_emis_data = []\n",
    "pred_time_data = []\n",
    "pred_boundary_data = []\n",
    "\n",
    "# Load Test Data\n",
    "emis_ctrl_2019_10 = pd.read_csv(\n",
    "    '/home/user/workdir/main/resources/ctrl/precursor_control_2019_with_scaled_o3.csv')\n",
    "emis_ctrl_2019_10['Boundary'] = 1.0\n",
    "\n",
    "ctrl_data = pd.concat([emis_ctrl_2019_10], axis=0)\n",
    "ctrl_data = ctrl_data.reset_index(drop=True).values\n",
    "\n",
    "base_path_2019 = \"/home/user/workdir/main/datasets/concentration/2019/\"\n",
    "\n",
    "conc_path = []\n",
    "for i in range(1, 120): \n",
    "    conc_path.append(os.path.join(base_path_2019, '1.00', f'ACONC.{i}'))\n",
    "\n",
    "conc_data = []\n",
    "for path in conc_path:\n",
    "    with nc.Dataset(path) as f:\n",
    "        conc_data.append(f.variables['Nitrate'][:].data.squeeze())  # ncf 파일 내 목적변수를 지정 \n",
    "conc_data = np.array(conc_data).reshape(len(conc_path), 82, 67, 1)\n",
    "    \n",
    "pred_emis_data, pred_boundary_data = ctrl_data[:, :17*6], ctrl_data[:, 17*6]\n",
    "\n",
    "_, X_emis_test, _, X_boundary_test, _, y_test = train_test_split(pred_emis_data, pred_boundary_data, conc_data, test_size=test_split, random_state=random_seed)\n",
    "\n",
    "y_preds = model.predict([X_emis_test,  X_boundary_test]) # 2가지 경계 조건에 따른 1년치 PM2.5 데이터 예측\n",
    "y_pred = y_preds.squeeze()\n",
    "y_true = y_test.squeeze()"
   ]
  },
  {
   "cell_type": "code",
   "execution_count": 7,
   "metadata": {},
   "outputs": [
    {
     "name": "stdout",
     "output_type": "stream",
     "text": [
      "(48, 82, 67)\n",
      "(48, 82, 67)\n",
      "(48, 82, 67)\n",
      "(48, 82, 67)\n"
     ]
    }
   ],
   "source": [
    "mask_expanded = np.repeat(mask[np.newaxis, :, :], repeats=y_true.shape[0], axis=0) # (24, 82, 67)\n",
    "\n",
    "pred_conc_map_w_lines = np.where(mask_expanded == 1, y_pred, 0)  # 마스킹 적용\n",
    "true_conc_map_w_lines = np.where(mask_expanded == 1, y_true, 0) # 마스킹 적용\n",
    "print(y_pred.shape)\n",
    "print(y_true.shape)\n",
    "print(pred_conc_map_w_lines.shape)\n",
    "print(true_conc_map_w_lines.shape)"
   ]
  },
  {
   "cell_type": "code",
   "execution_count": 8,
   "metadata": {},
   "outputs": [],
   "source": [
    "def plot_scatter(ax, y_true, y_pred):\n",
    "    r_x, r_y = np.polyfit(y_true, y_pred, 1)\n",
    "    ax.hist2d(\n",
    "        y_true, y_pred,\n",
    "        bins=150, cmap='jet', cmin=1,\n",
    "        norm=mpl.colors.LogNorm(vmin=1, vmax=1000),\n",
    "    )\n",
    "    ax.plot(\n",
    "        y_true, r_x*y_true + r_y,\n",
    "        color='red', label=f\"y={r_x:.4f}x+{r_y:.4f}\")\n",
    "    r2 = r2_score(y_true, y_pred)\n",
    "    ax.text(\n",
    "        0.05, 0.95, f\"$R^2={r2:.4f}$ \\nSlope={r_x:.4f}\\nIntercept={r_y:.4f}\",\n",
    "        verticalalignment='top', horizontalalignment='left',\n",
    "        transform=ax.transAxes, fontsize=11\n",
    "    )\n",
    "    ax.grid(alpha=0.25)\n",
    "    return ax\n",
    "\n",
    "def get_score(y_true, y_pred):\n",
    "    batch_size = y_true.shape[0]\n",
    "    y_true = y_true.reshape(batch_size, -1)\n",
    "    y_pred = y_pred.reshape(batch_size, -1)\n",
    "    y_norm_err = np.abs(y_true - y_pred) / np.mean(y_true, axis=1, keepdims=True)\n",
    "    y_err_mean = np.mean(y_norm_err, axis=1)\n",
    "    y_err_std = np.percentile(y_norm_err, q=5, axis=1)\n",
    "    return y_err_mean, y_err_std"
   ]
  },
  {
   "cell_type": "code",
   "execution_count": 9,
   "metadata": {},
   "outputs": [
    {
     "name": "stdout",
     "output_type": "stream",
     "text": [
      "(48, 82, 67)\n",
      "(48, 82, 67)\n",
      "(48, 82, 67)\n",
      "(48, 82, 67)\n"
     ]
    }
   ],
   "source": [
    "print(y_pred.shape)\n",
    "print(y_true.shape)\n",
    "print(pred_conc_map_w_lines.shape)\n",
    "print(true_conc_map_w_lines.shape)"
   ]
  },
  {
   "cell_type": "code",
   "execution_count": 10,
   "metadata": {},
   "outputs": [
    {
     "data": {
      "image/png": "[encoded data removed]",
      "text/plain": [
       "<Figure size 1500x1500 with 1 Axes>"
      ]
     },
     "metadata": {},
     "output_type": "display_data"
    }
   ],
   "source": [
    "y_true_modi = true_conc_map_w_lines.reshape(-1)\n",
    "y_pred_modi = pred_conc_map_w_lines.reshape(-1)\n",
    "\n",
    "fig, axes = plt.subplots(1, 1, figsize=(5, 5), dpi=300)\n",
    "axes = plot_scatter(axes, y_true_modi, y_pred_modi)\n",
    "axes.grid(alpha=0.25)\n",
    "axes.set_title(\"True vs. Pred scatter plot\")\n",
    "axes.set_xlabel('True Nitrate [$\\mu \\mathrm{g}/\\mathrm{m}^3$]')\n",
    "axes.set_ylabel('Pred Nitrate [$\\mu \\mathrm{g}/\\mathrm{m}^3$]')\n",
    "cbaxes = axes.inset_axes([0.5, 0.2, 0.35, 0.03])\n",
    "cb = plt.colorbar(\n",
    "    mpl.cm.ScalarMappable(norm=mpl.colors.LogNorm(vmin=1, vmax=1000), cmap='jet'),\n",
    "    cax=cbaxes, label='Number of samples', orientation='horizontal')\n",
    "cb.set_label(label='Number of samples', fontsize=10)"
   ]
  },
  {
   "cell_type": "code",
   "execution_count": 11,
   "metadata": {},
   "outputs": [
    {
     "data": {
      "image/png": "[encoded data removed]",
      "text/plain": [
       "<Figure size 3900x1800 with 1 Axes>"
      ]
     },
     "metadata": {},
     "output_type": "display_data"
    }
   ],
   "source": [
    "fig, axes = plt.subplots(1, 1, figsize=(13, 6), dpi=300)\n",
    "score, score_std = get_score(true_conc_map_w_lines, pred_conc_map_w_lines)\n",
    "label_text = f'NMAE: {np.mean(score):.3f}±{np.std(score):.3f}'\n",
    "\n",
    "axes.bar(np.arange(y_test.shape[0]), score, yerr=score_std, label=label_text, capsize=2)\n",
    "axes.set_xticks(np.arange(y_test.shape[0]), range(y_test.shape[0]))\n",
    "axes.grid(alpha=0.25)\n",
    "axes.legend()\n",
    "axes.set_title(\"NMAE of Cond. U-Net Nitrate\")\n",
    "axes.set_xlabel('Scenario')\n",
    "axes.set_ylabel('NMAE [%]')\n",
    "plt.show()"
   ]
  },
  {
   "cell_type": "code",
   "execution_count": 12,
   "metadata": {},
   "outputs": [
    {
     "name": "stdout",
     "output_type": "stream",
     "text": [
      "[0]\n"
     ]
    },
    {
     "name": "stderr",
     "output_type": "stream",
     "text": [
      "/tmp/ipykernel_1462047/815748241.py:28: UserWarning: set_ticklabels() should only be used with a fixed number of ticks, i.e. after set_ticks() or using a FixedLocator.\n",
      "  axes[i, 0].set_xticklabels([f\"{i}\" for i in range(124, 132, 1)])\n",
      "/tmp/ipykernel_1462047/815748241.py:29: UserWarning: set_ticklabels() should only be used with a fixed number of ticks, i.e. after set_ticks() or using a FixedLocator.\n",
      "  axes[i, 0].set_yticklabels([f\"{i}\" for i in range(32, 40, 1)])\n",
      "/tmp/ipykernel_1462047/815748241.py:47: UserWarning: set_ticklabels() should only be used with a fixed number of ticks, i.e. after set_ticks() or using a FixedLocator.\n",
      "  axes[i, 1].set_xticklabels([f\"{i}\" for i in range(124, 132, 1)])\n",
      "/tmp/ipykernel_1462047/815748241.py:48: UserWarning: set_ticklabels() should only be used with a fixed number of ticks, i.e. after set_ticks() or using a FixedLocator.\n",
      "  axes[i, 1].set_yticklabels([f\"{i}\" for i in range(32, 40, 1)])\n",
      "/tmp/ipykernel_1462047/815748241.py:67: UserWarning: set_ticklabels() should only be used with a fixed number of ticks, i.e. after set_ticks() or using a FixedLocator.\n",
      "  axes[i, 2].set_xticklabels([f\"{i}\" for i in range(124, 132, 1)])\n",
      "/tmp/ipykernel_1462047/815748241.py:68: UserWarning: set_ticklabels() should only be used with a fixed number of ticks, i.e. after set_ticks() or using a FixedLocator.\n",
      "  axes[i, 2].set_yticklabels([f\"{i}\" for i in range(32, 40, 1)])\n"
     ]
    },
    {
     "data": {
      "image/png": "[encoded data removed]",
      "text/plain": [
       "<Figure size 1500x500 with 3 Axes>"
      ]
     },
     "metadata": {},
     "output_type": "display_data"
    }
   ],
   "source": [
    "def plot_prediction_loss(y_true, y_pred, num_samples=1, indices=-1):\n",
    "    if indices == -1 or indices < 0:\n",
    "        indices = np.random.choice(len(y_true), num_samples, replace=False)\n",
    "    else:\n",
    "        index = indices\n",
    "        indices = []\n",
    "        indices.append(index) \n",
    "    print(indices)  # 선택된 인덱스 확인\n",
    "    fig, axes = plt.subplots(num_samples, 3, figsize=(15, 5 * num_samples))\n",
    "    if num_samples == 1:\n",
    "        axes = np.expand_dims(axes, axis=0)  # 2차원으로 변환\n",
    "\n",
    "    fig.suptitle(\"Prediction vs True Values and Difference\", fontsize=16, y=1.02)\n",
    "    for i, idx in enumerate(indices):\n",
    "        # True 이미지\n",
    "        axes[i, 0].imshow(\n",
    "            y_true[idx][::-1], \n",
    "            cmap=cmap_white,\n",
    "            extent=(-180000+offset_x, 414000+offset_x, -585000+offset_y, 144000+offset_y),\n",
    "            vmin=0.001)\n",
    "        axes[i, 0] = ctprvn_proj.boundary.plot(ax=axes[i, 0], edgecolor='black', facecolor='none', linewidth=1, alpha=0.25)\n",
    "        axes[i, 0].set_xlim(-180000, 414000)\n",
    "        axes[i, 0].set_ylim(-585000, 144000)\n",
    "        axes[i, 0].set_xlabel('Longitude [°]')\n",
    "        axes[i, 0].set_ylabel('Latitude [°]')\n",
    "        axes[i, 0].set_title(f\"True (#{idx})\")\n",
    "        axes[i, 0].grid(alpha=0.25, color='silver')\n",
    "        axes[i, 0].set_xticklabels([f\"{i}\" for i in range(124, 132, 1)])\n",
    "        axes[i, 0].set_yticklabels([f\"{i}\" for i in range(32, 40, 1)])\n",
    "        cbaxes = axes[i, 0].inset_axes([0.6, 0.15, 0.35, 0.03])\n",
    "        cb = plt.colorbar(axes[i, 0].images[0], cax=cbaxes, orientation='horizontal', label='Nitrate ($\\mu g/m^3$)')\n",
    "        cb.set_label(label='conc. [$\\mu \\mathrm{g}/\\mathrm{m}^3$]')\n",
    "\n",
    "        # Predicted 이미지\n",
    "        axes[i, 1].imshow(\n",
    "            y_pred[idx][::-1], \n",
    "            cmap=cmap_white,\n",
    "            extent=(-180000+offset_x, 414000+offset_x, -585000+offset_y, 144000+offset_y),\n",
    "            vmin=0.001)\n",
    "        axes[i, 1] = ctprvn_proj.boundary.plot(ax=axes[i, 1], edgecolor='black', facecolor='none', linewidth=1, alpha=0.25)\n",
    "        axes[i, 1].set_xlim(-180000, 414000)\n",
    "        axes[i, 1].set_ylim(-585000, 144000)\n",
    "        axes[i, 1].set_xlabel('Longitude [°]')\n",
    "        axes[i, 1].set_ylabel('Latitude [°]')\n",
    "        axes[i, 1].set_title(f\"Predicted (#{idx})\")\n",
    "        axes[i, 1].grid(alpha=0.25, color='silver')\n",
    "        axes[i, 1].set_xticklabels([f\"{i}\" for i in range(124, 132, 1)])\n",
    "        axes[i, 1].set_yticklabels([f\"{i}\" for i in range(32, 40, 1)])\n",
    "        cbaxes = axes[i, 1].inset_axes([0.6, 0.15, 0.35, 0.03])\n",
    "        cb = plt.colorbar(axes[i, 1].images[0], cax=cbaxes, orientation='horizontal', label='Nitrate ($\\mu g/m^3$)')\n",
    "        cb.set_label(label='conc. [$\\mu \\mathrm{g}/\\mathrm{m}^3$]')\n",
    "        \n",
    "        # Difference 이미지\n",
    "        difference = np.abs(y_true[idx] - y_pred[idx])  # 차이 절대값\n",
    "        axes[i, 2].imshow(\n",
    "            difference[::-1], \n",
    "            cmap=cmap_white,\n",
    "            extent=(-180000+offset_x, 414000+offset_x, -585000+offset_y, 144000+offset_y),\n",
    "            vmin=0.001)\n",
    "        axes[i, 2] = ctprvn_proj.boundary.plot(ax=axes[i, 2], edgecolor='black', facecolor='none', linewidth=1, alpha=0.25)\n",
    "        axes[i, 2].set_xlim(-180000, 414000)\n",
    "        axes[i, 2].set_ylim(-585000, 144000)\n",
    "        axes[i, 2].set_xlabel('Longitude [°]')\n",
    "        axes[i, 2].set_ylabel('Latitude [°]')\n",
    "        axes[i, 2].set_title(f\"Difference (#{idx})\")\n",
    "        axes[i, 2].grid(alpha=0.25, color='silver')\n",
    "        axes[i, 2].set_xticklabels([f\"{i}\" for i in range(124, 132, 1)])\n",
    "        axes[i, 2].set_yticklabels([f\"{i}\" for i in range(32, 40, 1)])\n",
    "        cbaxes = axes[i, 2].inset_axes([0.6, 0.15, 0.35, 0.03])\n",
    "        cb = plt.colorbar(axes[i, 2].images[0], cax=cbaxes, orientation='horizontal', label='Nitrate ($\\mu g/m^3$)')\n",
    "        cb.set_label(label='conc. [$\\mu \\mathrm{g}/\\mathrm{m}^3$]')\n",
    "        \n",
    "    plt.tight_layout(rect=[0, 0, 1, 1])\n",
    "    plt.subplots_adjust(wspace=-0.4, hspace=0.2)\n",
    "    plt.show()\n",
    "\n",
    "plot_prediction_loss(true_conc_map_w_lines, pred_conc_map_w_lines, indices=0)"
   ]
  }
 ],
 "metadata": {
  "kernelspec": {
   "display_name": "Python 3",
   "language": "python",
   "name": "python3"
  },
  "language_info": {
   "codemirror_mode": {
    "name": "ipython",
    "version": 3
   },
   "file_extension": ".py",
   "mimetype": "text/x-python",
   "name": "python",
   "nbconvert_exporter": "python",
   "pygments_lexer": "ipython3",
   "version": "3.10.16"
  }
 },
 "nbformat": 4,
 "nbformat_minor": 2
}
