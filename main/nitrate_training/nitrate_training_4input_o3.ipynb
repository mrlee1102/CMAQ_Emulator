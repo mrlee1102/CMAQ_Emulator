{
 "cells": [
  {
   "cell_type": "code",
   "execution_count": 2,
   "metadata": {},
   "outputs": [
    {
     "name": "stderr",
     "output_type": "stream",
     "text": [
      "2025-02-05 09:34:35.221775: I tensorflow/core/util/port.cc:111] oneDNN custom operations are on. You may see slightly different numerical results due to floating-point round-off errors from different computation orders. To turn them off, set the environment variable `TF_ENABLE_ONEDNN_OPTS=0`.\n",
      "2025-02-05 09:34:35.251584: E tensorflow/compiler/xla/stream_executor/cuda/cuda_dnn.cc:9342] Unable to register cuDNN factory: Attempting to register factory for plugin cuDNN when one has already been registered\n",
      "2025-02-05 09:34:35.251614: E tensorflow/compiler/xla/stream_executor/cuda/cuda_fft.cc:609] Unable to register cuFFT factory: Attempting to register factory for plugin cuFFT when one has already been registered\n",
      "2025-02-05 09:34:35.251629: E tensorflow/compiler/xla/stream_executor/cuda/cuda_blas.cc:1518] Unable to register cuBLAS factory: Attempting to register factory for plugin cuBLAS when one has already been registered\n",
      "2025-02-05 09:34:35.257336: I tensorflow/core/platform/cpu_feature_guard.cc:182] This TensorFlow binary is optimized to use available CPU instructions in performance-critical operations.\n",
      "To enable the following instructions: AVX2 AVX512F AVX512_VNNI FMA, in other operations, rebuild TensorFlow with the appropriate compiler flags.\n",
      "2025-02-05 09:34:36.025321: W tensorflow/compiler/tf2tensorrt/utils/py_utils.cc:38] TF-TRT Warning: Could not find TensorRT\n"
     ]
    }
   ],
   "source": [
    "# Import\n",
    "import os\n",
    "import sys\n",
    "sys.path.append(os.path.dirname(os.path.abspath(os.path.dirname('/home/user/workdir/main/src/'))))\n",
    "\n",
    "import numpy as np\n",
    "import pandas as pd\n",
    "import netCDF4 as nc\n",
    "from netCDF4 import Dataset\n",
    "\n",
    "from sklearn.model_selection import train_test_split\n",
    "import tensorflow as tf\n",
    "from src.model.cmaqnet_cond_unet import build_model\n",
    "from sklearn.metrics import mean_squared_error, r2_score\n",
    "\n",
    "import geopandas as gpd\n",
    "from shapely.geometry import Point\n",
    "import matplotlib as mpl\n",
    "import matplotlib.pyplot as plt"
   ]
  },
  {
   "cell_type": "markdown",
   "metadata": {},
   "source": [
    "# Training (Nitrate)"
   ]
  },
  {
   "cell_type": "code",
   "execution_count": 2,
   "metadata": {},
   "outputs": [],
   "source": [
    "emis_ctrl_2019_10 = pd.read_csv('/home/user/workdir/main/resources/ctrl/precursor_control_2019_4input_scaled_o3.csv')\n",
    "emis_ctrl_2019_10['Boundary'] = 1.0\n",
    "\n",
    "ctrl_data = pd.concat([emis_ctrl_2019_10], axis=0)\n",
    "ctrl_data = ctrl_data.reset_index(drop=True).values\n",
    "emis_data, boundary_data = ctrl_data[:, :17*5], ctrl_data[:, 17*5]\n",
    "# -------------\n",
    "base_path_2019 = '/home/user/workdir/main/datasets/concentration/2019'\n",
    "\n",
    "conc_path = []\n",
    "for i in range(1, 120): \n",
    "    conc_path.append(os.path.join(base_path_2019, '1.00', f'ACONC.{i}'))\n",
    "\n",
    "conc_data = []\n",
    "for path in conc_path:\n",
    "    with nc.Dataset(path) as f:\n",
    "        conc_data.append(f.variables['Nitrate'][:].data.squeeze())  # ncf 파일 내 목적변수를 지정 \n",
    "conc_data = np.array(conc_data).reshape(len(conc_path), 82, 67, 1)"
   ]
  },
  {
   "cell_type": "code",
   "execution_count": 3,
   "metadata": {},
   "outputs": [
    {
     "name": "stdout",
     "output_type": "stream",
     "text": [
      "Memory growth enabled for GPUs\n",
      "INFO:tensorflow:Using MirroredStrategy with devices ('/job:localhost/replica:0/task:0/device:GPU:0', '/job:localhost/replica:0/task:0/device:GPU:1', '/job:localhost/replica:0/task:0/device:GPU:2', '/job:localhost/replica:0/task:0/device:GPU:3')\n"
     ]
    },
    {
     "name": "stderr",
     "output_type": "stream",
     "text": [
      "2025-01-31 14:38:20.999850: I tensorflow/core/common_runtime/gpu/gpu_device.cc:1886] Created device /job:localhost/replica:0/task:0/device:GPU:0 with 22341 MB memory:  -> device: 0, name: NVIDIA GeForce RTX 3090, pci bus id: 0000:19:00.0, compute capability: 8.6\n",
      "2025-01-31 14:38:21.001419: I tensorflow/core/common_runtime/gpu/gpu_device.cc:1886] Created device /job:localhost/replica:0/task:0/device:GPU:1 with 22341 MB memory:  -> device: 1, name: NVIDIA GeForce RTX 3090, pci bus id: 0000:1a:00.0, compute capability: 8.6\n",
      "2025-01-31 14:38:21.002979: I tensorflow/core/common_runtime/gpu/gpu_device.cc:1886] Created device /job:localhost/replica:0/task:0/device:GPU:2 with 22341 MB memory:  -> device: 2, name: NVIDIA GeForce RTX 3090, pci bus id: 0000:67:00.0, compute capability: 8.6\n",
      "2025-01-31 14:38:21.004378: I tensorflow/core/common_runtime/gpu/gpu_device.cc:1886] Created device /job:localhost/replica:0/task:0/device:GPU:3 with 22217 MB memory:  -> device: 3, name: NVIDIA GeForce RTX 3090, pci bus id: 0000:68:00.0, compute capability: 8.6\n"
     ]
    },
    {
     "name": "stdout",
     "output_type": "stream",
     "text": [
      "INFO:tensorflow:Reduce to /job:localhost/replica:0/task:0/device:CPU:0 then broadcast to ('/job:localhost/replica:0/task:0/device:CPU:0',).\n",
      "INFO:tensorflow:Reduce to /job:localhost/replica:0/task:0/device:CPU:0 then broadcast to ('/job:localhost/replica:0/task:0/device:CPU:0',).\n",
      "INFO:tensorflow:Reduce to /job:localhost/replica:0/task:0/device:CPU:0 then broadcast to ('/job:localhost/replica:0/task:0/device:CPU:0',).\n",
      "INFO:tensorflow:Reduce to /job:localhost/replica:0/task:0/device:CPU:0 then broadcast to ('/job:localhost/replica:0/task:0/device:CPU:0',).\n",
      "INFO:tensorflow:Reduce to /job:localhost/replica:0/task:0/device:CPU:0 then broadcast to ('/job:localhost/replica:0/task:0/device:CPU:0',).\n",
      "INFO:tensorflow:Reduce to /job:localhost/replica:0/task:0/device:CPU:0 then broadcast to ('/job:localhost/replica:0/task:0/device:CPU:0',).\n",
      "INFO:tensorflow:Reduce to /job:localhost/replica:0/task:0/device:CPU:0 then broadcast to ('/job:localhost/replica:0/task:0/device:CPU:0',).\n",
      "INFO:tensorflow:Reduce to /job:localhost/replica:0/task:0/device:CPU:0 then broadcast to ('/job:localhost/replica:0/task:0/device:CPU:0',).\n",
      "INFO:tensorflow:Reduce to /job:localhost/replica:0/task:0/device:CPU:0 then broadcast to ('/job:localhost/replica:0/task:0/device:CPU:0',).\n",
      "INFO:tensorflow:Reduce to /job:localhost/replica:0/task:0/device:CPU:0 then broadcast to ('/job:localhost/replica:0/task:0/device:CPU:0',).\n",
      "Epoch 1/1000\n",
      "INFO:tensorflow:Collective all_reduce tensors: 84 all_reduces, num_devices = 4, group_size = 4, implementation = CommunicationImplementation.NCCL, num_packs = 1\n",
      "INFO:tensorflow:Collective all_reduce tensors: 84 all_reduces, num_devices = 4, group_size = 4, implementation = CommunicationImplementation.NCCL, num_packs = 1\n"
     ]
    },
    {
     "name": "stderr",
     "output_type": "stream",
     "text": [
      "2025-01-31 14:38:47.441366: I tensorflow/compiler/xla/stream_executor/cuda/cuda_dnn.cc:442] Loaded cuDNN version 8907\n",
      "2025-01-31 14:38:47.485714: I tensorflow/compiler/xla/stream_executor/cuda/cuda_dnn.cc:442] Loaded cuDNN version 8907\n",
      "2025-01-31 14:38:47.500725: I tensorflow/compiler/xla/stream_executor/cuda/cuda_dnn.cc:442] Loaded cuDNN version 8907\n",
      "2025-01-31 14:38:47.624771: I tensorflow/compiler/xla/stream_executor/cuda/cuda_dnn.cc:442] Loaded cuDNN version 8907\n",
      "2025-01-31 14:38:50.053464: I tensorflow/compiler/xla/service/service.cc:168] XLA service 0x7fd45088e760 initialized for platform CUDA (this does not guarantee that XLA will be used). Devices:\n",
      "2025-01-31 14:38:50.053495: I tensorflow/compiler/xla/service/service.cc:176]   StreamExecutor device (0): NVIDIA GeForce RTX 3090, Compute Capability 8.6\n",
      "2025-01-31 14:38:50.053499: I tensorflow/compiler/xla/service/service.cc:176]   StreamExecutor device (1): NVIDIA GeForce RTX 3090, Compute Capability 8.6\n",
      "2025-01-31 14:38:50.053503: I tensorflow/compiler/xla/service/service.cc:176]   StreamExecutor device (2): NVIDIA GeForce RTX 3090, Compute Capability 8.6\n",
      "2025-01-31 14:38:50.053506: I tensorflow/compiler/xla/service/service.cc:176]   StreamExecutor device (3): NVIDIA GeForce RTX 3090, Compute Capability 8.6\n",
      "2025-01-31 14:38:50.057807: I tensorflow/compiler/mlir/tensorflow/utils/dump_mlir_util.cc:269] disabling MLIR crash reproducer, set env var `MLIR_CRASH_REPRODUCER_DIRECTORY` to enable.\n",
      "2025-01-31 14:38:50.156247: I ./tensorflow/compiler/jit/device_compiler.h:186] Compiled cluster using XLA!  This line is logged at most once for the lifetime of the process.\n"
     ]
    },
    {
     "name": "stdout",
     "output_type": "stream",
     "text": [
      "3/3 [==============================] - ETA: 0s - loss: 22.5838  INFO:tensorflow:Assets written to: /home/user/workdir/main/src/model/nitrate/scaled_o3/input5/final_model-01-29.63/assets\n"
     ]
    },
    {
     "name": "stderr",
     "output_type": "stream",
     "text": [
      "INFO:tensorflow:Assets written to: /home/user/workdir/main/src/model/nitrate/scaled_o3/input5/final_model-01-29.63/assets\n"
     ]
    },
    {
     "name": "stdout",
     "output_type": "stream",
     "text": [
      "3/3 [==============================] - 46s 7s/step - loss: 22.5838 - val_loss: 29.6342 - lr: 0.0010\n",
      "Epoch 2/1000\n",
      "2/3 [===================>..........] - ETA: 0s - loss: 17.7337INFO:tensorflow:Assets written to: /home/user/workdir/main/src/model/nitrate/scaled_o3/input5/final_model-02-29.23/assets\n"
     ]
    },
    {
     "name": "stderr",
     "output_type": "stream",
     "text": [
      "INFO:tensorflow:Assets written to: /home/user/workdir/main/src/model/nitrate/scaled_o3/input5/final_model-02-29.23/assets\n"
     ]
    },
    {
     "name": "stdout",
     "output_type": "stream",
     "text": [
      "3/3 [==============================] - 9s 5s/step - loss: 17.4800 - val_loss: 29.2317 - lr: 0.0010\n",
      "Epoch 3/1000\n",
      "3/3 [==============================] - ETA: 0s - loss: 13.8019INFO:tensorflow:Assets written to: /home/user/workdir/main/src/model/nitrate/scaled_o3/input5/final_model-03-28.53/assets\n"
     ]
    },
    {
     "name": "stderr",
     "output_type": "stream",
     "text": [
      "INFO:tensorflow:Assets written to: /home/user/workdir/main/src/model/nitrate/scaled_o3/input5/final_model-03-28.53/assets\n"
     ]
    },
    {
     "name": "stdout",
     "output_type": "stream",
     "text": [
      "3/3 [==============================] - 10s 5s/step - loss: 13.8019 - val_loss: 28.5344 - lr: 0.0010\n",
      "Epoch 4/1000\n",
      "3/3 [==============================] - ETA: 0s - loss: 11.7623INFO:tensorflow:Assets written to: /home/user/workdir/main/src/model/nitrate/scaled_o3/input5/final_model-04-27.49/assets\n"
     ]
    },
    {
     "name": "stderr",
     "output_type": "stream",
     "text": [
      "INFO:tensorflow:Assets written to: /home/user/workdir/main/src/model/nitrate/scaled_o3/input5/final_model-04-27.49/assets\n"
     ]
    },
    {
     "name": "stdout",
     "output_type": "stream",
     "text": [
      "3/3 [==============================] - 10s 5s/step - loss: 11.7623 - val_loss: 27.4855 - lr: 0.0010\n",
      "Epoch 5/1000\n",
      "3/3 [==============================] - ETA: 0s - loss: 10.7317INFO:tensorflow:Assets written to: /home/user/workdir/main/src/model/nitrate/scaled_o3/input5/final_model-05-26.13/assets\n"
     ]
    },
    {
     "name": "stderr",
     "output_type": "stream",
     "text": [
      "INFO:tensorflow:Assets written to: /home/user/workdir/main/src/model/nitrate/scaled_o3/input5/final_model-05-26.13/assets\n"
     ]
    },
    {
     "name": "stdout",
     "output_type": "stream",
     "text": [
      "3/3 [==============================] - 10s 5s/step - loss: 10.7317 - val_loss: 26.1272 - lr: 0.0010\n",
      "Epoch 6/1000\n",
      "3/3 [==============================] - ETA: 0s - loss: 10.1590INFO:tensorflow:Assets written to: /home/user/workdir/main/src/model/nitrate/scaled_o3/input5/final_model-06-24.62/assets\n"
     ]
    },
    {
     "name": "stderr",
     "output_type": "stream",
     "text": [
      "INFO:tensorflow:Assets written to: /home/user/workdir/main/src/model/nitrate/scaled_o3/input5/final_model-06-24.62/assets\n"
     ]
    },
    {
     "name": "stdout",
     "output_type": "stream",
     "text": [
      "3/3 [==============================] - 11s 5s/step - loss: 10.1590 - val_loss: 24.6246 - lr: 0.0010\n",
      "Epoch 7/1000\n",
      "3/3 [==============================] - ETA: 0s - loss: 9.7329INFO:tensorflow:Assets written to: /home/user/workdir/main/src/model/nitrate/scaled_o3/input5/final_model-07-23.16/assets\n"
     ]
    },
    {
     "name": "stderr",
     "output_type": "stream",
     "text": [
      "INFO:tensorflow:Assets written to: /home/user/workdir/main/src/model/nitrate/scaled_o3/input5/final_model-07-23.16/assets\n"
     ]
    },
    {
     "name": "stdout",
     "output_type": "stream",
     "text": [
      "3/3 [==============================] - 10s 5s/step - loss: 9.7329 - val_loss: 23.1596 - lr: 0.0010\n",
      "Epoch 8/1000\n",
      "3/3 [==============================] - ETA: 0s - loss: 9.3866INFO:tensorflow:Assets written to: /home/user/workdir/main/src/model/nitrate/scaled_o3/input5/final_model-08-21.87/assets\n"
     ]
    },
    {
     "name": "stderr",
     "output_type": "stream",
     "text": [
      "INFO:tensorflow:Assets written to: /home/user/workdir/main/src/model/nitrate/scaled_o3/input5/final_model-08-21.87/assets\n"
     ]
    },
    {
     "name": "stdout",
     "output_type": "stream",
     "text": [
      "3/3 [==============================] - 10s 5s/step - loss: 9.3866 - val_loss: 21.8661 - lr: 0.0010\n",
      "Epoch 9/1000\n",
      "3/3 [==============================] - ETA: 0s - loss: 9.0612INFO:tensorflow:Assets written to: /home/user/workdir/main/src/model/nitrate/scaled_o3/input5/final_model-09-20.82/assets\n"
     ]
    },
    {
     "name": "stderr",
     "output_type": "stream",
     "text": [
      "INFO:tensorflow:Assets written to: /home/user/workdir/main/src/model/nitrate/scaled_o3/input5/final_model-09-20.82/assets\n"
     ]
    },
    {
     "name": "stdout",
     "output_type": "stream",
     "text": [
      "3/3 [==============================] - 10s 5s/step - loss: 9.0612 - val_loss: 20.8165 - lr: 0.0010\n",
      "Epoch 10/1000\n",
      "3/3 [==============================] - ETA: 0s - loss: 8.7322INFO:tensorflow:Assets written to: /home/user/workdir/main/src/model/nitrate/scaled_o3/input5/final_model-10-19.99/assets\n"
     ]
    },
    {
     "name": "stderr",
     "output_type": "stream",
     "text": [
      "INFO:tensorflow:Assets written to: /home/user/workdir/main/src/model/nitrate/scaled_o3/input5/final_model-10-19.99/assets\n"
     ]
    },
    {
     "name": "stdout",
     "output_type": "stream",
     "text": [
      "3/3 [==============================] - 10s 5s/step - loss: 8.7322 - val_loss: 19.9875 - lr: 0.0010\n",
      "Epoch 11/1000\n",
      "3/3 [==============================] - ETA: 0s - loss: 8.4113INFO:tensorflow:Assets written to: /home/user/workdir/main/src/model/nitrate/scaled_o3/input5/final_model-11-19.31/assets\n"
     ]
    },
    {
     "name": "stderr",
     "output_type": "stream",
     "text": [
      "INFO:tensorflow:Assets written to: /home/user/workdir/main/src/model/nitrate/scaled_o3/input5/final_model-11-19.31/assets\n"
     ]
    },
    {
     "name": "stdout",
     "output_type": "stream",
     "text": [
      "3/3 [==============================] - 10s 5s/step - loss: 8.4113 - val_loss: 19.3094 - lr: 0.0010\n",
      "Epoch 12/1000\n",
      "3/3 [==============================] - ETA: 0s - loss: 8.1223INFO:tensorflow:Assets written to: /home/user/workdir/main/src/model/nitrate/scaled_o3/input5/final_model-12-18.68/assets\n"
     ]
    },
    {
     "name": "stderr",
     "output_type": "stream",
     "text": [
      "INFO:tensorflow:Assets written to: /home/user/workdir/main/src/model/nitrate/scaled_o3/input5/final_model-12-18.68/assets\n"
     ]
    },
    {
     "name": "stdout",
     "output_type": "stream",
     "text": [
      "3/3 [==============================] - 10s 5s/step - loss: 8.1223 - val_loss: 18.6816 - lr: 0.0010\n",
      "Epoch 13/1000\n",
      "2/3 [===================>..........] - ETA: 0s - loss: 7.8534INFO:tensorflow:Assets written to: /home/user/workdir/main/src/model/nitrate/scaled_o3/input5/final_model-13-18.18/assets\n"
     ]
    },
    {
     "name": "stderr",
     "output_type": "stream",
     "text": [
      "INFO:tensorflow:Assets written to: /home/user/workdir/main/src/model/nitrate/scaled_o3/input5/final_model-13-18.18/assets\n"
     ]
    },
    {
     "name": "stdout",
     "output_type": "stream",
     "text": [
      "3/3 [==============================] - 10s 5s/step - loss: 7.8362 - val_loss: 18.1835 - lr: 0.0010\n",
      "Epoch 14/1000\n",
      "3/3 [==============================] - ETA: 0s - loss: 7.5607INFO:tensorflow:Assets written to: /home/user/workdir/main/src/model/nitrate/scaled_o3/input5/final_model-14-17.80/assets\n"
     ]
    },
    {
     "name": "stderr",
     "output_type": "stream",
     "text": [
      "INFO:tensorflow:Assets written to: /home/user/workdir/main/src/model/nitrate/scaled_o3/input5/final_model-14-17.80/assets\n"
     ]
    },
    {
     "name": "stdout",
     "output_type": "stream",
     "text": [
      "3/3 [==============================] - 10s 5s/step - loss: 7.5607 - val_loss: 17.8012 - lr: 0.0010\n",
      "Epoch 15/1000\n",
      "3/3 [==============================] - ETA: 0s - loss: 7.2917INFO:tensorflow:Assets written to: /home/user/workdir/main/src/model/nitrate/scaled_o3/input5/final_model-15-17.45/assets\n"
     ]
    },
    {
     "name": "stderr",
     "output_type": "stream",
     "text": [
      "INFO:tensorflow:Assets written to: /home/user/workdir/main/src/model/nitrate/scaled_o3/input5/final_model-15-17.45/assets\n"
     ]
    },
    {
     "name": "stdout",
     "output_type": "stream",
     "text": [
      "3/3 [==============================] - 10s 5s/step - loss: 7.2917 - val_loss: 17.4461 - lr: 0.0010\n",
      "Epoch 16/1000\n",
      "3/3 [==============================] - ETA: 0s - loss: 7.0346INFO:tensorflow:Assets written to: /home/user/workdir/main/src/model/nitrate/scaled_o3/input5/final_model-16-17.14/assets\n"
     ]
    },
    {
     "name": "stderr",
     "output_type": "stream",
     "text": [
      "INFO:tensorflow:Assets written to: /home/user/workdir/main/src/model/nitrate/scaled_o3/input5/final_model-16-17.14/assets\n"
     ]
    },
    {
     "name": "stdout",
     "output_type": "stream",
     "text": [
      "3/3 [==============================] - 10s 5s/step - loss: 7.0346 - val_loss: 17.1359 - lr: 0.0010\n",
      "Epoch 17/1000\n",
      "3/3 [==============================] - ETA: 0s - loss: 6.7869INFO:tensorflow:Assets written to: /home/user/workdir/main/src/model/nitrate/scaled_o3/input5/final_model-17-16.80/assets\n"
     ]
    },
    {
     "name": "stderr",
     "output_type": "stream",
     "text": [
      "INFO:tensorflow:Assets written to: /home/user/workdir/main/src/model/nitrate/scaled_o3/input5/final_model-17-16.80/assets\n"
     ]
    },
    {
     "name": "stdout",
     "output_type": "stream",
     "text": [
      "3/3 [==============================] - 10s 5s/step - loss: 6.7869 - val_loss: 16.8030 - lr: 0.0010\n",
      "Epoch 18/1000\n",
      "3/3 [==============================] - ETA: 0s - loss: 6.5470INFO:tensorflow:Assets written to: /home/user/workdir/main/src/model/nitrate/scaled_o3/input5/final_model-18-16.52/assets\n"
     ]
    },
    {
     "name": "stderr",
     "output_type": "stream",
     "text": [
      "INFO:tensorflow:Assets written to: /home/user/workdir/main/src/model/nitrate/scaled_o3/input5/final_model-18-16.52/assets\n"
     ]
    },
    {
     "name": "stdout",
     "output_type": "stream",
     "text": [
      "3/3 [==============================] - 10s 5s/step - loss: 6.5470 - val_loss: 16.5187 - lr: 0.0010\n",
      "Epoch 19/1000\n",
      "3/3 [==============================] - ETA: 0s - loss: 6.3184INFO:tensorflow:Assets written to: /home/user/workdir/main/src/model/nitrate/scaled_o3/input5/final_model-19-16.29/assets\n"
     ]
    },
    {
     "name": "stderr",
     "output_type": "stream",
     "text": [
      "INFO:tensorflow:Assets written to: /home/user/workdir/main/src/model/nitrate/scaled_o3/input5/final_model-19-16.29/assets\n"
     ]
    },
    {
     "name": "stdout",
     "output_type": "stream",
     "text": [
      "3/3 [==============================] - 10s 5s/step - loss: 6.3184 - val_loss: 16.2925 - lr: 0.0010\n",
      "Epoch 20/1000\n",
      "3/3 [==============================] - ETA: 0s - loss: 6.0985INFO:tensorflow:Assets written to: /home/user/workdir/main/src/model/nitrate/scaled_o3/input5/final_model-20-16.04/assets\n"
     ]
    },
    {
     "name": "stderr",
     "output_type": "stream",
     "text": [
      "INFO:tensorflow:Assets written to: /home/user/workdir/main/src/model/nitrate/scaled_o3/input5/final_model-20-16.04/assets\n"
     ]
    },
    {
     "name": "stdout",
     "output_type": "stream",
     "text": [
      "3/3 [==============================] - 9s 4s/step - loss: 6.0985 - val_loss: 16.0412 - lr: 0.0010\n",
      "Epoch 21/1000\n",
      "3/3 [==============================] - ETA: 0s - loss: 5.8850INFO:tensorflow:Assets written to: /home/user/workdir/main/src/model/nitrate/scaled_o3/input5/final_model-21-15.82/assets\n"
     ]
    },
    {
     "name": "stderr",
     "output_type": "stream",
     "text": [
      "INFO:tensorflow:Assets written to: /home/user/workdir/main/src/model/nitrate/scaled_o3/input5/final_model-21-15.82/assets\n"
     ]
    },
    {
     "name": "stdout",
     "output_type": "stream",
     "text": [
      "3/3 [==============================] - 10s 5s/step - loss: 5.8850 - val_loss: 15.8227 - lr: 0.0010\n",
      "Epoch 22/1000\n",
      "3/3 [==============================] - ETA: 0s - loss: 5.6733INFO:tensorflow:Assets written to: /home/user/workdir/main/src/model/nitrate/scaled_o3/input5/final_model-22-15.60/assets\n"
     ]
    },
    {
     "name": "stderr",
     "output_type": "stream",
     "text": [
      "INFO:tensorflow:Assets written to: /home/user/workdir/main/src/model/nitrate/scaled_o3/input5/final_model-22-15.60/assets\n"
     ]
    },
    {
     "name": "stdout",
     "output_type": "stream",
     "text": [
      "3/3 [==============================] - 11s 5s/step - loss: 5.6733 - val_loss: 15.6037 - lr: 0.0010\n",
      "Epoch 23/1000\n",
      "3/3 [==============================] - ETA: 0s - loss: 5.4713INFO:tensorflow:Assets written to: /home/user/workdir/main/src/model/nitrate/scaled_o3/input5/final_model-23-15.33/assets\n"
     ]
    },
    {
     "name": "stderr",
     "output_type": "stream",
     "text": [
      "INFO:tensorflow:Assets written to: /home/user/workdir/main/src/model/nitrate/scaled_o3/input5/final_model-23-15.33/assets\n"
     ]
    },
    {
     "name": "stdout",
     "output_type": "stream",
     "text": [
      "3/3 [==============================] - 9s 4s/step - loss: 5.4713 - val_loss: 15.3335 - lr: 0.0010\n",
      "Epoch 24/1000\n",
      "2/3 [===================>..........] - ETA: 0s - loss: 5.2877INFO:tensorflow:Assets written to: /home/user/workdir/main/src/model/nitrate/scaled_o3/input5/final_model-24-15.10/assets\n"
     ]
    },
    {
     "name": "stderr",
     "output_type": "stream",
     "text": [
      "INFO:tensorflow:Assets written to: /home/user/workdir/main/src/model/nitrate/scaled_o3/input5/final_model-24-15.10/assets\n"
     ]
    },
    {
     "name": "stdout",
     "output_type": "stream",
     "text": [
      "3/3 [==============================] - 10s 5s/step - loss: 5.2772 - val_loss: 15.0994 - lr: 0.0010\n",
      "Epoch 25/1000\n",
      "3/3 [==============================] - ETA: 0s - loss: 5.0919INFO:tensorflow:Assets written to: /home/user/workdir/main/src/model/nitrate/scaled_o3/input5/final_model-25-14.84/assets\n"
     ]
    },
    {
     "name": "stderr",
     "output_type": "stream",
     "text": [
      "INFO:tensorflow:Assets written to: /home/user/workdir/main/src/model/nitrate/scaled_o3/input5/final_model-25-14.84/assets\n"
     ]
    },
    {
     "name": "stdout",
     "output_type": "stream",
     "text": [
      "3/3 [==============================] - 10s 5s/step - loss: 5.0919 - val_loss: 14.8397 - lr: 0.0010\n",
      "Epoch 26/1000\n",
      "3/3 [==============================] - ETA: 0s - loss: 4.9145INFO:tensorflow:Assets written to: /home/user/workdir/main/src/model/nitrate/scaled_o3/input5/final_model-26-14.60/assets\n"
     ]
    },
    {
     "name": "stderr",
     "output_type": "stream",
     "text": [
      "INFO:tensorflow:Assets written to: /home/user/workdir/main/src/model/nitrate/scaled_o3/input5/final_model-26-14.60/assets\n"
     ]
    },
    {
     "name": "stdout",
     "output_type": "stream",
     "text": [
      "3/3 [==============================] - 10s 5s/step - loss: 4.9145 - val_loss: 14.6030 - lr: 0.0010\n",
      "Epoch 27/1000\n",
      "3/3 [==============================] - ETA: 0s - loss: 4.7424INFO:tensorflow:Assets written to: /home/user/workdir/main/src/model/nitrate/scaled_o3/input5/final_model-27-14.31/assets\n"
     ]
    },
    {
     "name": "stderr",
     "output_type": "stream",
     "text": [
      "INFO:tensorflow:Assets written to: /home/user/workdir/main/src/model/nitrate/scaled_o3/input5/final_model-27-14.31/assets\n"
     ]
    },
    {
     "name": "stdout",
     "output_type": "stream",
     "text": [
      "3/3 [==============================] - 10s 5s/step - loss: 4.7424 - val_loss: 14.3057 - lr: 0.0010\n",
      "Epoch 28/1000\n",
      "3/3 [==============================] - ETA: 0s - loss: 4.5773INFO:tensorflow:Assets written to: /home/user/workdir/main/src/model/nitrate/scaled_o3/input5/final_model-28-14.05/assets\n"
     ]
    },
    {
     "name": "stderr",
     "output_type": "stream",
     "text": [
      "INFO:tensorflow:Assets written to: /home/user/workdir/main/src/model/nitrate/scaled_o3/input5/final_model-28-14.05/assets\n"
     ]
    },
    {
     "name": "stdout",
     "output_type": "stream",
     "text": [
      "3/3 [==============================] - 10s 5s/step - loss: 4.5773 - val_loss: 14.0507 - lr: 0.0010\n",
      "Epoch 29/1000\n",
      "3/3 [==============================] - ETA: 0s - loss: 4.4181INFO:tensorflow:Assets written to: /home/user/workdir/main/src/model/nitrate/scaled_o3/input5/final_model-29-13.83/assets\n"
     ]
    },
    {
     "name": "stderr",
     "output_type": "stream",
     "text": [
      "INFO:tensorflow:Assets written to: /home/user/workdir/main/src/model/nitrate/scaled_o3/input5/final_model-29-13.83/assets\n"
     ]
    },
    {
     "name": "stdout",
     "output_type": "stream",
     "text": [
      "3/3 [==============================] - 10s 5s/step - loss: 4.4181 - val_loss: 13.8349 - lr: 0.0010\n",
      "Epoch 30/1000\n",
      "2/3 [===================>..........] - ETA: 0s - loss: 4.2858INFO:tensorflow:Assets written to: /home/user/workdir/main/src/model/nitrate/scaled_o3/input5/final_model-30-13.57/assets\n"
     ]
    },
    {
     "name": "stderr",
     "output_type": "stream",
     "text": [
      "INFO:tensorflow:Assets written to: /home/user/workdir/main/src/model/nitrate/scaled_o3/input5/final_model-30-13.57/assets\n"
     ]
    },
    {
     "name": "stdout",
     "output_type": "stream",
     "text": [
      "3/3 [==============================] - 10s 5s/step - loss: 4.2652 - val_loss: 13.5688 - lr: 0.0010\n",
      "Epoch 31/1000\n",
      "2/3 [===================>..........] - ETA: 0s - loss: 4.1289INFO:tensorflow:Assets written to: /home/user/workdir/main/src/model/nitrate/scaled_o3/input5/final_model-31-13.33/assets\n"
     ]
    },
    {
     "name": "stderr",
     "output_type": "stream",
     "text": [
      "INFO:tensorflow:Assets written to: /home/user/workdir/main/src/model/nitrate/scaled_o3/input5/final_model-31-13.33/assets\n"
     ]
    },
    {
     "name": "stdout",
     "output_type": "stream",
     "text": [
      "3/3 [==============================] - 10s 5s/step - loss: 4.1179 - val_loss: 13.3310 - lr: 0.0010\n",
      "Epoch 32/1000\n",
      "3/3 [==============================] - ETA: 0s - loss: 3.9741INFO:tensorflow:Assets written to: /home/user/workdir/main/src/model/nitrate/scaled_o3/input5/final_model-32-13.02/assets\n"
     ]
    },
    {
     "name": "stderr",
     "output_type": "stream",
     "text": [
      "INFO:tensorflow:Assets written to: /home/user/workdir/main/src/model/nitrate/scaled_o3/input5/final_model-32-13.02/assets\n"
     ]
    },
    {
     "name": "stdout",
     "output_type": "stream",
     "text": [
      "3/3 [==============================] - 10s 5s/step - loss: 3.9741 - val_loss: 13.0235 - lr: 0.0010\n",
      "Epoch 33/1000\n",
      "3/3 [==============================] - ETA: 0s - loss: 3.8409INFO:tensorflow:Assets written to: /home/user/workdir/main/src/model/nitrate/scaled_o3/input5/final_model-33-12.82/assets\n"
     ]
    },
    {
     "name": "stderr",
     "output_type": "stream",
     "text": [
      "INFO:tensorflow:Assets written to: /home/user/workdir/main/src/model/nitrate/scaled_o3/input5/final_model-33-12.82/assets\n"
     ]
    },
    {
     "name": "stdout",
     "output_type": "stream",
     "text": [
      "3/3 [==============================] - 10s 5s/step - loss: 3.8409 - val_loss: 12.8247 - lr: 0.0010\n",
      "Epoch 34/1000\n",
      "2/3 [===================>..........] - ETA: 0s - loss: 3.7037INFO:tensorflow:Assets written to: /home/user/workdir/main/src/model/nitrate/scaled_o3/input5/final_model-34-12.52/assets\n"
     ]
    },
    {
     "name": "stderr",
     "output_type": "stream",
     "text": [
      "INFO:tensorflow:Assets written to: /home/user/workdir/main/src/model/nitrate/scaled_o3/input5/final_model-34-12.52/assets\n"
     ]
    },
    {
     "name": "stdout",
     "output_type": "stream",
     "text": [
      "3/3 [==============================] - 10s 5s/step - loss: 3.7031 - val_loss: 12.5167 - lr: 0.0010\n",
      "Epoch 35/1000\n",
      "3/3 [==============================] - ETA: 0s - loss: 3.5735INFO:tensorflow:Assets written to: /home/user/workdir/main/src/model/nitrate/scaled_o3/input5/final_model-35-12.23/assets\n"
     ]
    },
    {
     "name": "stderr",
     "output_type": "stream",
     "text": [
      "INFO:tensorflow:Assets written to: /home/user/workdir/main/src/model/nitrate/scaled_o3/input5/final_model-35-12.23/assets\n"
     ]
    },
    {
     "name": "stdout",
     "output_type": "stream",
     "text": [
      "3/3 [==============================] - 9s 4s/step - loss: 3.5735 - val_loss: 12.2250 - lr: 0.0010\n",
      "Epoch 36/1000\n",
      "3/3 [==============================] - ETA: 0s - loss: 3.4417INFO:tensorflow:Assets written to: /home/user/workdir/main/src/model/nitrate/scaled_o3/input5/final_model-36-12.09/assets\n"
     ]
    },
    {
     "name": "stderr",
     "output_type": "stream",
     "text": [
      "INFO:tensorflow:Assets written to: /home/user/workdir/main/src/model/nitrate/scaled_o3/input5/final_model-36-12.09/assets\n"
     ]
    },
    {
     "name": "stdout",
     "output_type": "stream",
     "text": [
      "3/3 [==============================] - 11s 5s/step - loss: 3.4417 - val_loss: 12.0899 - lr: 0.0010\n",
      "Epoch 37/1000\n",
      "3/3 [==============================] - ETA: 0s - loss: 3.3165INFO:tensorflow:Assets written to: /home/user/workdir/main/src/model/nitrate/scaled_o3/input5/final_model-37-11.88/assets\n"
     ]
    },
    {
     "name": "stderr",
     "output_type": "stream",
     "text": [
      "INFO:tensorflow:Assets written to: /home/user/workdir/main/src/model/nitrate/scaled_o3/input5/final_model-37-11.88/assets\n"
     ]
    },
    {
     "name": "stdout",
     "output_type": "stream",
     "text": [
      "3/3 [==============================] - 10s 5s/step - loss: 3.3165 - val_loss: 11.8835 - lr: 0.0010\n",
      "Epoch 38/1000\n",
      "3/3 [==============================] - ETA: 0s - loss: 3.1957INFO:tensorflow:Assets written to: /home/user/workdir/main/src/model/nitrate/scaled_o3/input5/final_model-38-11.60/assets\n"
     ]
    },
    {
     "name": "stderr",
     "output_type": "stream",
     "text": [
      "INFO:tensorflow:Assets written to: /home/user/workdir/main/src/model/nitrate/scaled_o3/input5/final_model-38-11.60/assets\n"
     ]
    },
    {
     "name": "stdout",
     "output_type": "stream",
     "text": [
      "3/3 [==============================] - 10s 5s/step - loss: 3.1957 - val_loss: 11.5994 - lr: 0.0010\n",
      "Epoch 39/1000\n",
      "2/3 [===================>..........] - ETA: 0s - loss: 3.0680INFO:tensorflow:Assets written to: /home/user/workdir/main/src/model/nitrate/scaled_o3/input5/final_model-39-11.37/assets\n"
     ]
    },
    {
     "name": "stderr",
     "output_type": "stream",
     "text": [
      "INFO:tensorflow:Assets written to: /home/user/workdir/main/src/model/nitrate/scaled_o3/input5/final_model-39-11.37/assets\n"
     ]
    },
    {
     "name": "stdout",
     "output_type": "stream",
     "text": [
      "3/3 [==============================] - 10s 5s/step - loss: 3.0764 - val_loss: 11.3747 - lr: 0.0010\n",
      "Epoch 40/1000\n",
      "3/3 [==============================] - ETA: 0s - loss: 2.9624INFO:tensorflow:Assets written to: /home/user/workdir/main/src/model/nitrate/scaled_o3/input5/final_model-40-11.12/assets\n"
     ]
    },
    {
     "name": "stderr",
     "output_type": "stream",
     "text": [
      "INFO:tensorflow:Assets written to: /home/user/workdir/main/src/model/nitrate/scaled_o3/input5/final_model-40-11.12/assets\n"
     ]
    },
    {
     "name": "stdout",
     "output_type": "stream",
     "text": [
      "3/3 [==============================] - 10s 5s/step - loss: 2.9624 - val_loss: 11.1219 - lr: 0.0010\n",
      "Epoch 41/1000\n",
      "3/3 [==============================] - ETA: 0s - loss: 2.8509INFO:tensorflow:Assets written to: /home/user/workdir/main/src/model/nitrate/scaled_o3/input5/final_model-41-10.88/assets\n"
     ]
    },
    {
     "name": "stderr",
     "output_type": "stream",
     "text": [
      "INFO:tensorflow:Assets written to: /home/user/workdir/main/src/model/nitrate/scaled_o3/input5/final_model-41-10.88/assets\n"
     ]
    },
    {
     "name": "stdout",
     "output_type": "stream",
     "text": [
      "3/3 [==============================] - 9s 4s/step - loss: 2.8509 - val_loss: 10.8840 - lr: 0.0010\n",
      "Epoch 42/1000\n",
      "3/3 [==============================] - ETA: 0s - loss: 2.7460INFO:tensorflow:Assets written to: /home/user/workdir/main/src/model/nitrate/scaled_o3/input5/final_model-42-10.69/assets\n"
     ]
    },
    {
     "name": "stderr",
     "output_type": "stream",
     "text": [
      "INFO:tensorflow:Assets written to: /home/user/workdir/main/src/model/nitrate/scaled_o3/input5/final_model-42-10.69/assets\n"
     ]
    },
    {
     "name": "stdout",
     "output_type": "stream",
     "text": [
      "3/3 [==============================] - 11s 5s/step - loss: 2.7460 - val_loss: 10.6864 - lr: 0.0010\n",
      "Epoch 43/1000\n",
      "3/3 [==============================] - ETA: 0s - loss: 2.6407INFO:tensorflow:Assets written to: /home/user/workdir/main/src/model/nitrate/scaled_o3/input5/final_model-43-10.41/assets\n"
     ]
    },
    {
     "name": "stderr",
     "output_type": "stream",
     "text": [
      "INFO:tensorflow:Assets written to: /home/user/workdir/main/src/model/nitrate/scaled_o3/input5/final_model-43-10.41/assets\n"
     ]
    },
    {
     "name": "stdout",
     "output_type": "stream",
     "text": [
      "3/3 [==============================] - 10s 5s/step - loss: 2.6407 - val_loss: 10.4123 - lr: 0.0010\n",
      "Epoch 44/1000\n",
      "3/3 [==============================] - ETA: 0s - loss: 2.5401INFO:tensorflow:Assets written to: /home/user/workdir/main/src/model/nitrate/scaled_o3/input5/final_model-44-10.25/assets\n"
     ]
    },
    {
     "name": "stderr",
     "output_type": "stream",
     "text": [
      "INFO:tensorflow:Assets written to: /home/user/workdir/main/src/model/nitrate/scaled_o3/input5/final_model-44-10.25/assets\n"
     ]
    },
    {
     "name": "stdout",
     "output_type": "stream",
     "text": [
      "3/3 [==============================] - 10s 5s/step - loss: 2.5401 - val_loss: 10.2536 - lr: 0.0010\n",
      "Epoch 45/1000\n",
      "2/3 [===================>..........] - ETA: 0s - loss: 2.4477INFO:tensorflow:Assets written to: /home/user/workdir/main/src/model/nitrate/scaled_o3/input5/final_model-45-10.07/assets\n"
     ]
    },
    {
     "name": "stderr",
     "output_type": "stream",
     "text": [
      "INFO:tensorflow:Assets written to: /home/user/workdir/main/src/model/nitrate/scaled_o3/input5/final_model-45-10.07/assets\n"
     ]
    },
    {
     "name": "stdout",
     "output_type": "stream",
     "text": [
      "3/3 [==============================] - 9s 4s/step - loss: 2.4403 - val_loss: 10.0706 - lr: 0.0010\n",
      "Epoch 46/1000\n",
      "3/3 [==============================] - ETA: 0s - loss: 2.3476INFO:tensorflow:Assets written to: /home/user/workdir/main/src/model/nitrate/scaled_o3/input5/final_model-46-9.82/assets\n"
     ]
    },
    {
     "name": "stderr",
     "output_type": "stream",
     "text": [
      "INFO:tensorflow:Assets written to: /home/user/workdir/main/src/model/nitrate/scaled_o3/input5/final_model-46-9.82/assets\n"
     ]
    },
    {
     "name": "stdout",
     "output_type": "stream",
     "text": [
      "3/3 [==============================] - 11s 5s/step - loss: 2.3476 - val_loss: 9.8215 - lr: 0.0010\n",
      "Epoch 47/1000\n",
      "3/3 [==============================] - ETA: 0s - loss: 2.2555INFO:tensorflow:Assets written to: /home/user/workdir/main/src/model/nitrate/scaled_o3/input5/final_model-47-9.51/assets\n"
     ]
    },
    {
     "name": "stderr",
     "output_type": "stream",
     "text": [
      "INFO:tensorflow:Assets written to: /home/user/workdir/main/src/model/nitrate/scaled_o3/input5/final_model-47-9.51/assets\n"
     ]
    },
    {
     "name": "stdout",
     "output_type": "stream",
     "text": [
      "3/3 [==============================] - 10s 5s/step - loss: 2.2555 - val_loss: 9.5134 - lr: 0.0010\n",
      "Epoch 48/1000\n",
      "3/3 [==============================] - ETA: 0s - loss: 2.1682INFO:tensorflow:Assets written to: /home/user/workdir/main/src/model/nitrate/scaled_o3/input5/final_model-48-9.24/assets\n"
     ]
    },
    {
     "name": "stderr",
     "output_type": "stream",
     "text": [
      "INFO:tensorflow:Assets written to: /home/user/workdir/main/src/model/nitrate/scaled_o3/input5/final_model-48-9.24/assets\n"
     ]
    },
    {
     "name": "stdout",
     "output_type": "stream",
     "text": [
      "3/3 [==============================] - 9s 4s/step - loss: 2.1682 - val_loss: 9.2377 - lr: 0.0010\n",
      "Epoch 49/1000\n",
      "3/3 [==============================] - ETA: 0s - loss: 2.0817INFO:tensorflow:Assets written to: /home/user/workdir/main/src/model/nitrate/scaled_o3/input5/final_model-49-8.98/assets\n"
     ]
    },
    {
     "name": "stderr",
     "output_type": "stream",
     "text": [
      "INFO:tensorflow:Assets written to: /home/user/workdir/main/src/model/nitrate/scaled_o3/input5/final_model-49-8.98/assets\n"
     ]
    },
    {
     "name": "stdout",
     "output_type": "stream",
     "text": [
      "3/3 [==============================] - 11s 5s/step - loss: 2.0817 - val_loss: 8.9844 - lr: 0.0010\n",
      "Epoch 50/1000\n",
      "2/3 [===================>..........] - ETA: 0s - loss: 2.0058INFO:tensorflow:Assets written to: /home/user/workdir/main/src/model/nitrate/scaled_o3/input5/final_model-50-8.62/assets\n"
     ]
    },
    {
     "name": "stderr",
     "output_type": "stream",
     "text": [
      "INFO:tensorflow:Assets written to: /home/user/workdir/main/src/model/nitrate/scaled_o3/input5/final_model-50-8.62/assets\n"
     ]
    },
    {
     "name": "stdout",
     "output_type": "stream",
     "text": [
      "3/3 [==============================] - 11s 5s/step - loss: 2.0007 - val_loss: 8.6152 - lr: 0.0010\n",
      "Epoch 51/1000\n",
      "3/3 [==============================] - ETA: 0s - loss: 1.9177INFO:tensorflow:Assets written to: /home/user/workdir/main/src/model/nitrate/scaled_o3/input5/final_model-51-8.39/assets\n"
     ]
    },
    {
     "name": "stderr",
     "output_type": "stream",
     "text": [
      "INFO:tensorflow:Assets written to: /home/user/workdir/main/src/model/nitrate/scaled_o3/input5/final_model-51-8.39/assets\n"
     ]
    },
    {
     "name": "stdout",
     "output_type": "stream",
     "text": [
      "3/3 [==============================] - 11s 5s/step - loss: 1.9177 - val_loss: 8.3922 - lr: 0.0010\n",
      "Epoch 52/1000\n",
      "3/3 [==============================] - ETA: 0s - loss: 1.8408INFO:tensorflow:Assets written to: /home/user/workdir/main/src/model/nitrate/scaled_o3/input5/final_model-52-8.23/assets\n"
     ]
    },
    {
     "name": "stderr",
     "output_type": "stream",
     "text": [
      "INFO:tensorflow:Assets written to: /home/user/workdir/main/src/model/nitrate/scaled_o3/input5/final_model-52-8.23/assets\n"
     ]
    },
    {
     "name": "stdout",
     "output_type": "stream",
     "text": [
      "3/3 [==============================] - 9s 4s/step - loss: 1.8408 - val_loss: 8.2266 - lr: 0.0010\n",
      "Epoch 53/1000\n",
      "3/3 [==============================] - ETA: 0s - loss: 1.7705INFO:tensorflow:Assets written to: /home/user/workdir/main/src/model/nitrate/scaled_o3/input5/final_model-53-8.00/assets\n"
     ]
    },
    {
     "name": "stderr",
     "output_type": "stream",
     "text": [
      "INFO:tensorflow:Assets written to: /home/user/workdir/main/src/model/nitrate/scaled_o3/input5/final_model-53-8.00/assets\n"
     ]
    },
    {
     "name": "stdout",
     "output_type": "stream",
     "text": [
      "3/3 [==============================] - 11s 5s/step - loss: 1.7705 - val_loss: 8.0029 - lr: 0.0010\n",
      "Epoch 54/1000\n",
      "3/3 [==============================] - ETA: 0s - loss: 1.6969INFO:tensorflow:Assets written to: /home/user/workdir/main/src/model/nitrate/scaled_o3/input5/final_model-54-7.70/assets\n"
     ]
    },
    {
     "name": "stderr",
     "output_type": "stream",
     "text": [
      "INFO:tensorflow:Assets written to: /home/user/workdir/main/src/model/nitrate/scaled_o3/input5/final_model-54-7.70/assets\n"
     ]
    },
    {
     "name": "stdout",
     "output_type": "stream",
     "text": [
      "3/3 [==============================] - 11s 5s/step - loss: 1.6969 - val_loss: 7.7028 - lr: 0.0010\n",
      "Epoch 55/1000\n",
      "3/3 [==============================] - ETA: 0s - loss: 1.6262INFO:tensorflow:Assets written to: /home/user/workdir/main/src/model/nitrate/scaled_o3/input5/final_model-55-7.58/assets\n"
     ]
    },
    {
     "name": "stderr",
     "output_type": "stream",
     "text": [
      "INFO:tensorflow:Assets written to: /home/user/workdir/main/src/model/nitrate/scaled_o3/input5/final_model-55-7.58/assets\n"
     ]
    },
    {
     "name": "stdout",
     "output_type": "stream",
     "text": [
      "3/3 [==============================] - 9s 4s/step - loss: 1.6262 - val_loss: 7.5837 - lr: 0.0010\n",
      "Epoch 56/1000\n",
      "3/3 [==============================] - ETA: 0s - loss: 1.5610INFO:tensorflow:Assets written to: /home/user/workdir/main/src/model/nitrate/scaled_o3/input5/final_model-56-7.32/assets\n"
     ]
    },
    {
     "name": "stderr",
     "output_type": "stream",
     "text": [
      "INFO:tensorflow:Assets written to: /home/user/workdir/main/src/model/nitrate/scaled_o3/input5/final_model-56-7.32/assets\n"
     ]
    },
    {
     "name": "stdout",
     "output_type": "stream",
     "text": [
      "3/3 [==============================] - 11s 5s/step - loss: 1.5610 - val_loss: 7.3216 - lr: 0.0010\n",
      "Epoch 57/1000\n",
      "3/3 [==============================] - ETA: 0s - loss: 1.4939INFO:tensorflow:Assets written to: /home/user/workdir/main/src/model/nitrate/scaled_o3/input5/final_model-57-7.06/assets\n"
     ]
    },
    {
     "name": "stderr",
     "output_type": "stream",
     "text": [
      "INFO:tensorflow:Assets written to: /home/user/workdir/main/src/model/nitrate/scaled_o3/input5/final_model-57-7.06/assets\n"
     ]
    },
    {
     "name": "stdout",
     "output_type": "stream",
     "text": [
      "3/3 [==============================] - 11s 5s/step - loss: 1.4939 - val_loss: 7.0561 - lr: 0.0010\n",
      "Epoch 58/1000\n",
      "3/3 [==============================] - ETA: 0s - loss: 1.4282INFO:tensorflow:Assets written to: /home/user/workdir/main/src/model/nitrate/scaled_o3/input5/final_model-58-6.99/assets\n"
     ]
    },
    {
     "name": "stderr",
     "output_type": "stream",
     "text": [
      "INFO:tensorflow:Assets written to: /home/user/workdir/main/src/model/nitrate/scaled_o3/input5/final_model-58-6.99/assets\n"
     ]
    },
    {
     "name": "stdout",
     "output_type": "stream",
     "text": [
      "3/3 [==============================] - 9s 4s/step - loss: 1.4282 - val_loss: 6.9896 - lr: 0.0010\n",
      "Epoch 59/1000\n",
      "3/3 [==============================] - ETA: 0s - loss: 1.3662INFO:tensorflow:Assets written to: /home/user/workdir/main/src/model/nitrate/scaled_o3/input5/final_model-59-6.87/assets\n"
     ]
    },
    {
     "name": "stderr",
     "output_type": "stream",
     "text": [
      "INFO:tensorflow:Assets written to: /home/user/workdir/main/src/model/nitrate/scaled_o3/input5/final_model-59-6.87/assets\n"
     ]
    },
    {
     "name": "stdout",
     "output_type": "stream",
     "text": [
      "3/3 [==============================] - 11s 5s/step - loss: 1.3662 - val_loss: 6.8745 - lr: 0.0010\n",
      "Epoch 60/1000\n",
      "3/3 [==============================] - ETA: 0s - loss: 1.3075INFO:tensorflow:Assets written to: /home/user/workdir/main/src/model/nitrate/scaled_o3/input5/final_model-60-6.55/assets\n"
     ]
    },
    {
     "name": "stderr",
     "output_type": "stream",
     "text": [
      "INFO:tensorflow:Assets written to: /home/user/workdir/main/src/model/nitrate/scaled_o3/input5/final_model-60-6.55/assets\n"
     ]
    },
    {
     "name": "stdout",
     "output_type": "stream",
     "text": [
      "3/3 [==============================] - 11s 5s/step - loss: 1.3075 - val_loss: 6.5502 - lr: 0.0010\n",
      "Epoch 61/1000\n",
      "3/3 [==============================] - ETA: 0s - loss: 1.2500INFO:tensorflow:Assets written to: /home/user/workdir/main/src/model/nitrate/scaled_o3/input5/final_model-61-6.46/assets\n"
     ]
    },
    {
     "name": "stderr",
     "output_type": "stream",
     "text": [
      "INFO:tensorflow:Assets written to: /home/user/workdir/main/src/model/nitrate/scaled_o3/input5/final_model-61-6.46/assets\n"
     ]
    },
    {
     "name": "stdout",
     "output_type": "stream",
     "text": [
      "3/3 [==============================] - 9s 4s/step - loss: 1.2500 - val_loss: 6.4643 - lr: 0.0010\n",
      "Epoch 62/1000\n",
      "3/3 [==============================] - ETA: 0s - loss: 1.1950INFO:tensorflow:Assets written to: /home/user/workdir/main/src/model/nitrate/scaled_o3/input5/final_model-62-6.30/assets\n"
     ]
    },
    {
     "name": "stderr",
     "output_type": "stream",
     "text": [
      "INFO:tensorflow:Assets written to: /home/user/workdir/main/src/model/nitrate/scaled_o3/input5/final_model-62-6.30/assets\n"
     ]
    },
    {
     "name": "stdout",
     "output_type": "stream",
     "text": [
      "3/3 [==============================] - 11s 5s/step - loss: 1.1950 - val_loss: 6.3036 - lr: 0.0010\n",
      "Epoch 63/1000\n",
      "3/3 [==============================] - ETA: 0s - loss: 1.1424INFO:tensorflow:Assets written to: /home/user/workdir/main/src/model/nitrate/scaled_o3/input5/final_model-63-6.12/assets\n"
     ]
    },
    {
     "name": "stderr",
     "output_type": "stream",
     "text": [
      "INFO:tensorflow:Assets written to: /home/user/workdir/main/src/model/nitrate/scaled_o3/input5/final_model-63-6.12/assets\n"
     ]
    },
    {
     "name": "stdout",
     "output_type": "stream",
     "text": [
      "3/3 [==============================] - 11s 5s/step - loss: 1.1424 - val_loss: 6.1203 - lr: 0.0010\n",
      "Epoch 64/1000\n",
      "3/3 [==============================] - ETA: 0s - loss: 1.0918INFO:tensorflow:Assets written to: /home/user/workdir/main/src/model/nitrate/scaled_o3/input5/final_model-64-6.07/assets\n"
     ]
    },
    {
     "name": "stderr",
     "output_type": "stream",
     "text": [
      "INFO:tensorflow:Assets written to: /home/user/workdir/main/src/model/nitrate/scaled_o3/input5/final_model-64-6.07/assets\n"
     ]
    },
    {
     "name": "stdout",
     "output_type": "stream",
     "text": [
      "3/3 [==============================] - 9s 4s/step - loss: 1.0918 - val_loss: 6.0721 - lr: 0.0010\n",
      "Epoch 65/1000\n",
      "3/3 [==============================] - ETA: 0s - loss: 1.0460INFO:tensorflow:Assets written to: /home/user/workdir/main/src/model/nitrate/scaled_o3/input5/final_model-65-5.82/assets\n"
     ]
    },
    {
     "name": "stderr",
     "output_type": "stream",
     "text": [
      "INFO:tensorflow:Assets written to: /home/user/workdir/main/src/model/nitrate/scaled_o3/input5/final_model-65-5.82/assets\n"
     ]
    },
    {
     "name": "stdout",
     "output_type": "stream",
     "text": [
      "3/3 [==============================] - 11s 5s/step - loss: 1.0460 - val_loss: 5.8191 - lr: 0.0010\n",
      "Epoch 66/1000\n",
      "2/3 [===================>..........] - ETA: 0s - loss: 1.0081INFO:tensorflow:Assets written to: /home/user/workdir/main/src/model/nitrate/scaled_o3/input5/final_model-66-5.63/assets\n"
     ]
    },
    {
     "name": "stderr",
     "output_type": "stream",
     "text": [
      "INFO:tensorflow:Assets written to: /home/user/workdir/main/src/model/nitrate/scaled_o3/input5/final_model-66-5.63/assets\n"
     ]
    },
    {
     "name": "stdout",
     "output_type": "stream",
     "text": [
      "3/3 [==============================] - 9s 4s/step - loss: 1.0001 - val_loss: 5.6314 - lr: 0.0010\n",
      "Epoch 67/1000\n",
      "2/3 [===================>..........] - ETA: 0s - loss: 0.9528INFO:tensorflow:Assets written to: /home/user/workdir/main/src/model/nitrate/scaled_o3/input5/final_model-67-5.42/assets\n"
     ]
    },
    {
     "name": "stderr",
     "output_type": "stream",
     "text": [
      "INFO:tensorflow:Assets written to: /home/user/workdir/main/src/model/nitrate/scaled_o3/input5/final_model-67-5.42/assets\n"
     ]
    },
    {
     "name": "stdout",
     "output_type": "stream",
     "text": [
      "3/3 [==============================] - 11s 6s/step - loss: 0.9547 - val_loss: 5.4202 - lr: 0.0010\n",
      "Epoch 68/1000\n",
      "3/3 [==============================] - ETA: 0s - loss: 0.9147INFO:tensorflow:Assets written to: /home/user/workdir/main/src/model/nitrate/scaled_o3/input5/final_model-68-5.20/assets\n"
     ]
    },
    {
     "name": "stderr",
     "output_type": "stream",
     "text": [
      "INFO:tensorflow:Assets written to: /home/user/workdir/main/src/model/nitrate/scaled_o3/input5/final_model-68-5.20/assets\n"
     ]
    },
    {
     "name": "stdout",
     "output_type": "stream",
     "text": [
      "3/3 [==============================] - 11s 5s/step - loss: 0.9147 - val_loss: 5.1971 - lr: 0.0010\n",
      "Epoch 69/1000\n",
      "3/3 [==============================] - ETA: 0s - loss: 0.8754INFO:tensorflow:Assets written to: /home/user/workdir/main/src/model/nitrate/scaled_o3/input5/final_model-69-5.06/assets\n"
     ]
    },
    {
     "name": "stderr",
     "output_type": "stream",
     "text": [
      "INFO:tensorflow:Assets written to: /home/user/workdir/main/src/model/nitrate/scaled_o3/input5/final_model-69-5.06/assets\n"
     ]
    },
    {
     "name": "stdout",
     "output_type": "stream",
     "text": [
      "3/3 [==============================] - 9s 4s/step - loss: 0.8754 - val_loss: 5.0616 - lr: 0.0010\n",
      "Epoch 70/1000\n",
      "3/3 [==============================] - ETA: 0s - loss: 0.8354INFO:tensorflow:Assets written to: /home/user/workdir/main/src/model/nitrate/scaled_o3/input5/final_model-70-5.00/assets\n"
     ]
    },
    {
     "name": "stderr",
     "output_type": "stream",
     "text": [
      "INFO:tensorflow:Assets written to: /home/user/workdir/main/src/model/nitrate/scaled_o3/input5/final_model-70-5.00/assets\n"
     ]
    },
    {
     "name": "stdout",
     "output_type": "stream",
     "text": [
      "3/3 [==============================] - 11s 6s/step - loss: 0.8354 - val_loss: 5.0031 - lr: 0.0010\n",
      "Epoch 71/1000\n",
      "2/3 [===================>..........] - ETA: 0s - loss: 0.8069INFO:tensorflow:Assets written to: /home/user/workdir/main/src/model/nitrate/scaled_o3/input5/final_model-71-4.88/assets\n"
     ]
    },
    {
     "name": "stderr",
     "output_type": "stream",
     "text": [
      "INFO:tensorflow:Assets written to: /home/user/workdir/main/src/model/nitrate/scaled_o3/input5/final_model-71-4.88/assets\n"
     ]
    },
    {
     "name": "stdout",
     "output_type": "stream",
     "text": [
      "3/3 [==============================] - 9s 4s/step - loss: 0.7963 - val_loss: 4.8829 - lr: 0.0010\n",
      "Epoch 72/1000\n",
      "3/3 [==============================] - ETA: 0s - loss: 0.7615INFO:tensorflow:Assets written to: /home/user/workdir/main/src/model/nitrate/scaled_o3/input5/final_model-72-4.61/assets\n"
     ]
    },
    {
     "name": "stderr",
     "output_type": "stream",
     "text": [
      "INFO:tensorflow:Assets written to: /home/user/workdir/main/src/model/nitrate/scaled_o3/input5/final_model-72-4.61/assets\n"
     ]
    },
    {
     "name": "stdout",
     "output_type": "stream",
     "text": [
      "3/3 [==============================] - 11s 6s/step - loss: 0.7615 - val_loss: 4.6087 - lr: 0.0010\n",
      "Epoch 73/1000\n",
      "3/3 [==============================] - ETA: 0s - loss: 0.7242INFO:tensorflow:Assets written to: /home/user/workdir/main/src/model/nitrate/scaled_o3/input5/final_model-73-4.42/assets\n"
     ]
    },
    {
     "name": "stderr",
     "output_type": "stream",
     "text": [
      "INFO:tensorflow:Assets written to: /home/user/workdir/main/src/model/nitrate/scaled_o3/input5/final_model-73-4.42/assets\n"
     ]
    },
    {
     "name": "stdout",
     "output_type": "stream",
     "text": [
      "3/3 [==============================] - 11s 5s/step - loss: 0.7242 - val_loss: 4.4216 - lr: 0.0010\n",
      "Epoch 74/1000\n",
      "3/3 [==============================] - ETA: 0s - loss: 0.6946INFO:tensorflow:Assets written to: /home/user/workdir/main/src/model/nitrate/scaled_o3/input5/final_model-74-4.34/assets\n"
     ]
    },
    {
     "name": "stderr",
     "output_type": "stream",
     "text": [
      "INFO:tensorflow:Assets written to: /home/user/workdir/main/src/model/nitrate/scaled_o3/input5/final_model-74-4.34/assets\n"
     ]
    },
    {
     "name": "stdout",
     "output_type": "stream",
     "text": [
      "3/3 [==============================] - 9s 4s/step - loss: 0.6946 - val_loss: 4.3433 - lr: 0.0010\n",
      "Epoch 75/1000\n",
      "3/3 [==============================] - ETA: 0s - loss: 0.6602INFO:tensorflow:Assets written to: /home/user/workdir/main/src/model/nitrate/scaled_o3/input5/final_model-75-4.32/assets\n"
     ]
    },
    {
     "name": "stderr",
     "output_type": "stream",
     "text": [
      "INFO:tensorflow:Assets written to: /home/user/workdir/main/src/model/nitrate/scaled_o3/input5/final_model-75-4.32/assets\n"
     ]
    },
    {
     "name": "stdout",
     "output_type": "stream",
     "text": [
      "3/3 [==============================] - 11s 6s/step - loss: 0.6602 - val_loss: 4.3182 - lr: 0.0010\n",
      "Epoch 76/1000\n",
      "3/3 [==============================] - ETA: 0s - loss: 0.6327INFO:tensorflow:Assets written to: /home/user/workdir/main/src/model/nitrate/scaled_o3/input5/final_model-76-4.14/assets\n"
     ]
    },
    {
     "name": "stderr",
     "output_type": "stream",
     "text": [
      "INFO:tensorflow:Assets written to: /home/user/workdir/main/src/model/nitrate/scaled_o3/input5/final_model-76-4.14/assets\n"
     ]
    },
    {
     "name": "stdout",
     "output_type": "stream",
     "text": [
      "3/3 [==============================] - 9s 4s/step - loss: 0.6327 - val_loss: 4.1421 - lr: 0.0010\n",
      "Epoch 77/1000\n",
      "2/3 [===================>..........] - ETA: 0s - loss: 0.6139INFO:tensorflow:Assets written to: /home/user/workdir/main/src/model/nitrate/scaled_o3/input5/final_model-77-4.07/assets\n"
     ]
    },
    {
     "name": "stderr",
     "output_type": "stream",
     "text": [
      "INFO:tensorflow:Assets written to: /home/user/workdir/main/src/model/nitrate/scaled_o3/input5/final_model-77-4.07/assets\n"
     ]
    },
    {
     "name": "stdout",
     "output_type": "stream",
     "text": [
      "3/3 [==============================] - 11s 6s/step - loss: 0.6009 - val_loss: 4.0658 - lr: 0.0010\n",
      "Epoch 78/1000\n",
      "3/3 [==============================] - 0s 224ms/step - loss: 0.5743 - val_loss: 4.0817 - lr: 0.0010\n",
      "Epoch 79/1000\n",
      "2/3 [===================>..........] - ETA: 0s - loss: 0.5518INFO:tensorflow:Assets written to: /home/user/workdir/main/src/model/nitrate/scaled_o3/input5/final_model-79-3.97/assets\n"
     ]
    },
    {
     "name": "stderr",
     "output_type": "stream",
     "text": [
      "INFO:tensorflow:Assets written to: /home/user/workdir/main/src/model/nitrate/scaled_o3/input5/final_model-79-3.97/assets\n"
     ]
    },
    {
     "name": "stdout",
     "output_type": "stream",
     "text": [
      "3/3 [==============================] - 9s 4s/step - loss: 0.5506 - val_loss: 3.9660 - lr: 0.0010\n",
      "Epoch 80/1000\n",
      "3/3 [==============================] - ETA: 0s - loss: 0.5256INFO:tensorflow:Assets written to: /home/user/workdir/main/src/model/nitrate/scaled_o3/input5/final_model-80-3.88/assets\n"
     ]
    },
    {
     "name": "stderr",
     "output_type": "stream",
     "text": [
      "INFO:tensorflow:Assets written to: /home/user/workdir/main/src/model/nitrate/scaled_o3/input5/final_model-80-3.88/assets\n"
     ]
    },
    {
     "name": "stdout",
     "output_type": "stream",
     "text": [
      "3/3 [==============================] - 11s 6s/step - loss: 0.5256 - val_loss: 3.8780 - lr: 0.0010\n",
      "Epoch 81/1000\n",
      "3/3 [==============================] - ETA: 0s - loss: 0.5016INFO:tensorflow:Assets written to: /home/user/workdir/main/src/model/nitrate/scaled_o3/input5/final_model-81-3.74/assets\n"
     ]
    },
    {
     "name": "stderr",
     "output_type": "stream",
     "text": [
      "INFO:tensorflow:Assets written to: /home/user/workdir/main/src/model/nitrate/scaled_o3/input5/final_model-81-3.74/assets\n"
     ]
    },
    {
     "name": "stdout",
     "output_type": "stream",
     "text": [
      "3/3 [==============================] - 11s 5s/step - loss: 0.5016 - val_loss: 3.7353 - lr: 0.0010\n",
      "Epoch 82/1000\n",
      "3/3 [==============================] - ETA: 0s - loss: 0.4779INFO:tensorflow:Assets written to: /home/user/workdir/main/src/model/nitrate/scaled_o3/input5/final_model-82-3.69/assets\n"
     ]
    },
    {
     "name": "stderr",
     "output_type": "stream",
     "text": [
      "INFO:tensorflow:Assets written to: /home/user/workdir/main/src/model/nitrate/scaled_o3/input5/final_model-82-3.69/assets\n"
     ]
    },
    {
     "name": "stdout",
     "output_type": "stream",
     "text": [
      "3/3 [==============================] - 9s 4s/step - loss: 0.4779 - val_loss: 3.6852 - lr: 0.0010\n",
      "Epoch 83/1000\n",
      "3/3 [==============================] - ETA: 0s - loss: 0.4564INFO:tensorflow:Assets written to: /home/user/workdir/main/src/model/nitrate/scaled_o3/input5/final_model-83-3.60/assets\n"
     ]
    },
    {
     "name": "stderr",
     "output_type": "stream",
     "text": [
      "INFO:tensorflow:Assets written to: /home/user/workdir/main/src/model/nitrate/scaled_o3/input5/final_model-83-3.60/assets\n"
     ]
    },
    {
     "name": "stdout",
     "output_type": "stream",
     "text": [
      "3/3 [==============================] - 11s 6s/step - loss: 0.4564 - val_loss: 3.6049 - lr: 0.0010\n",
      "Epoch 84/1000\n",
      "2/3 [===================>..........] - ETA: 0s - loss: 0.4365INFO:tensorflow:Assets written to: /home/user/workdir/main/src/model/nitrate/scaled_o3/input5/final_model-84-3.48/assets\n"
     ]
    },
    {
     "name": "stderr",
     "output_type": "stream",
     "text": [
      "INFO:tensorflow:Assets written to: /home/user/workdir/main/src/model/nitrate/scaled_o3/input5/final_model-84-3.48/assets\n"
     ]
    },
    {
     "name": "stdout",
     "output_type": "stream",
     "text": [
      "3/3 [==============================] - 9s 4s/step - loss: 0.4357 - val_loss: 3.4803 - lr: 0.0010\n",
      "Epoch 85/1000\n",
      "3/3 [==============================] - ETA: 0s - loss: 0.4151INFO:tensorflow:Assets written to: /home/user/workdir/main/src/model/nitrate/scaled_o3/input5/final_model-85-3.39/assets\n"
     ]
    },
    {
     "name": "stderr",
     "output_type": "stream",
     "text": [
      "INFO:tensorflow:Assets written to: /home/user/workdir/main/src/model/nitrate/scaled_o3/input5/final_model-85-3.39/assets\n"
     ]
    },
    {
     "name": "stdout",
     "output_type": "stream",
     "text": [
      "3/3 [==============================] - 11s 6s/step - loss: 0.4151 - val_loss: 3.3889 - lr: 0.0010\n",
      "Epoch 86/1000\n",
      "2/3 [===================>..........] - ETA: 0s - loss: 0.3956INFO:tensorflow:Assets written to: /home/user/workdir/main/src/model/nitrate/scaled_o3/input5/final_model-86-3.26/assets\n"
     ]
    },
    {
     "name": "stderr",
     "output_type": "stream",
     "text": [
      "INFO:tensorflow:Assets written to: /home/user/workdir/main/src/model/nitrate/scaled_o3/input5/final_model-86-3.26/assets\n"
     ]
    },
    {
     "name": "stdout",
     "output_type": "stream",
     "text": [
      "3/3 [==============================] - 9s 4s/step - loss: 0.3969 - val_loss: 3.2620 - lr: 0.0010\n",
      "Epoch 87/1000\n",
      "3/3 [==============================] - ETA: 0s - loss: 0.3801INFO:tensorflow:Assets written to: /home/user/workdir/main/src/model/nitrate/scaled_o3/input5/final_model-87-3.22/assets\n"
     ]
    },
    {
     "name": "stderr",
     "output_type": "stream",
     "text": [
      "INFO:tensorflow:Assets written to: /home/user/workdir/main/src/model/nitrate/scaled_o3/input5/final_model-87-3.22/assets\n"
     ]
    },
    {
     "name": "stdout",
     "output_type": "stream",
     "text": [
      "3/3 [==============================] - 12s 6s/step - loss: 0.3801 - val_loss: 3.2220 - lr: 0.0010\n",
      "Epoch 88/1000\n",
      "2/3 [===================>..........] - ETA: 0s - loss: 0.3622INFO:tensorflow:Assets written to: /home/user/workdir/main/src/model/nitrate/scaled_o3/input5/final_model-88-3.11/assets\n"
     ]
    },
    {
     "name": "stderr",
     "output_type": "stream",
     "text": [
      "INFO:tensorflow:Assets written to: /home/user/workdir/main/src/model/nitrate/scaled_o3/input5/final_model-88-3.11/assets\n"
     ]
    },
    {
     "name": "stdout",
     "output_type": "stream",
     "text": [
      "3/3 [==============================] - 9s 4s/step - loss: 0.3627 - val_loss: 3.1097 - lr: 0.0010\n",
      "Epoch 89/1000\n",
      "3/3 [==============================] - 0s 228ms/step - loss: 0.3469 - val_loss: 3.1803 - lr: 0.0010\n",
      "Epoch 90/1000\n",
      "3/3 [==============================] - ETA: 0s - loss: 0.3340INFO:tensorflow:Assets written to: /home/user/workdir/main/src/model/nitrate/scaled_o3/input5/final_model-90-3.05/assets\n"
     ]
    },
    {
     "name": "stderr",
     "output_type": "stream",
     "text": [
      "INFO:tensorflow:Assets written to: /home/user/workdir/main/src/model/nitrate/scaled_o3/input5/final_model-90-3.05/assets\n"
     ]
    },
    {
     "name": "stdout",
     "output_type": "stream",
     "text": [
      "3/3 [==============================] - 11s 6s/step - loss: 0.3340 - val_loss: 3.0484 - lr: 0.0010\n",
      "Epoch 91/1000\n",
      "3/3 [==============================] - ETA: 0s - loss: 0.3185INFO:tensorflow:Assets written to: /home/user/workdir/main/src/model/nitrate/scaled_o3/input5/final_model-91-2.95/assets\n"
     ]
    },
    {
     "name": "stderr",
     "output_type": "stream",
     "text": [
      "INFO:tensorflow:Assets written to: /home/user/workdir/main/src/model/nitrate/scaled_o3/input5/final_model-91-2.95/assets\n"
     ]
    },
    {
     "name": "stdout",
     "output_type": "stream",
     "text": [
      "3/3 [==============================] - 9s 4s/step - loss: 0.3185 - val_loss: 2.9494 - lr: 0.0010\n",
      "Epoch 92/1000\n",
      "3/3 [==============================] - ETA: 0s - loss: 0.3057INFO:tensorflow:Assets written to: /home/user/workdir/main/src/model/nitrate/scaled_o3/input5/final_model-92-2.91/assets\n"
     ]
    },
    {
     "name": "stderr",
     "output_type": "stream",
     "text": [
      "INFO:tensorflow:Assets written to: /home/user/workdir/main/src/model/nitrate/scaled_o3/input5/final_model-92-2.91/assets\n"
     ]
    },
    {
     "name": "stdout",
     "output_type": "stream",
     "text": [
      "3/3 [==============================] - 11s 6s/step - loss: 0.3057 - val_loss: 2.9054 - lr: 0.0010\n",
      "Epoch 93/1000\n",
      "3/3 [==============================] - ETA: 0s - loss: 0.2941INFO:tensorflow:Assets written to: /home/user/workdir/main/src/model/nitrate/scaled_o3/input5/final_model-93-2.77/assets\n"
     ]
    },
    {
     "name": "stderr",
     "output_type": "stream",
     "text": [
      "INFO:tensorflow:Assets written to: /home/user/workdir/main/src/model/nitrate/scaled_o3/input5/final_model-93-2.77/assets\n"
     ]
    },
    {
     "name": "stdout",
     "output_type": "stream",
     "text": [
      "3/3 [==============================] - 11s 5s/step - loss: 0.2941 - val_loss: 2.7675 - lr: 0.0010\n",
      "Epoch 94/1000\n",
      "3/3 [==============================] - ETA: 0s - loss: 0.2808INFO:tensorflow:Assets written to: /home/user/workdir/main/src/model/nitrate/scaled_o3/input5/final_model-94-2.66/assets\n"
     ]
    },
    {
     "name": "stderr",
     "output_type": "stream",
     "text": [
      "INFO:tensorflow:Assets written to: /home/user/workdir/main/src/model/nitrate/scaled_o3/input5/final_model-94-2.66/assets\n"
     ]
    },
    {
     "name": "stdout",
     "output_type": "stream",
     "text": [
      "3/3 [==============================] - 9s 4s/step - loss: 0.2808 - val_loss: 2.6580 - lr: 0.0010\n",
      "Epoch 95/1000\n",
      "3/3 [==============================] - ETA: 0s - loss: 0.2674INFO:tensorflow:Assets written to: /home/user/workdir/main/src/model/nitrate/scaled_o3/input5/final_model-95-2.58/assets\n"
     ]
    },
    {
     "name": "stderr",
     "output_type": "stream",
     "text": [
      "INFO:tensorflow:Assets written to: /home/user/workdir/main/src/model/nitrate/scaled_o3/input5/final_model-95-2.58/assets\n"
     ]
    },
    {
     "name": "stdout",
     "output_type": "stream",
     "text": [
      "3/3 [==============================] - 11s 6s/step - loss: 0.2674 - val_loss: 2.5774 - lr: 0.0010\n",
      "Epoch 96/1000\n",
      "2/3 [===================>..........] - ETA: 0s - loss: 0.2588INFO:tensorflow:Assets written to: /home/user/workdir/main/src/model/nitrate/scaled_o3/input5/final_model-96-2.57/assets\n"
     ]
    },
    {
     "name": "stderr",
     "output_type": "stream",
     "text": [
      "INFO:tensorflow:Assets written to: /home/user/workdir/main/src/model/nitrate/scaled_o3/input5/final_model-96-2.57/assets\n"
     ]
    },
    {
     "name": "stdout",
     "output_type": "stream",
     "text": [
      "3/3 [==============================] - 9s 4s/step - loss: 0.2579 - val_loss: 2.5663 - lr: 0.0010\n",
      "Epoch 97/1000\n",
      "3/3 [==============================] - 0s 209ms/step - loss: 0.2446 - val_loss: 2.5832 - lr: 0.0010\n",
      "Epoch 98/1000\n",
      "3/3 [==============================] - 0s 207ms/step - loss: 0.2366 - val_loss: 2.5766 - lr: 0.0010\n",
      "Epoch 99/1000\n",
      "3/3 [==============================] - ETA: 0s - loss: 0.2265INFO:tensorflow:Assets written to: /home/user/workdir/main/src/model/nitrate/scaled_o3/input5/final_model-99-2.56/assets\n"
     ]
    },
    {
     "name": "stderr",
     "output_type": "stream",
     "text": [
      "INFO:tensorflow:Assets written to: /home/user/workdir/main/src/model/nitrate/scaled_o3/input5/final_model-99-2.56/assets\n"
     ]
    },
    {
     "name": "stdout",
     "output_type": "stream",
     "text": [
      "3/3 [==============================] - 9s 4s/step - loss: 0.2265 - val_loss: 2.5608 - lr: 0.0010\n",
      "Epoch 100/1000\n",
      "3/3 [==============================] - ETA: 0s - loss: 0.2179INFO:tensorflow:Assets written to: /home/user/workdir/main/src/model/nitrate/scaled_o3/input5/final_model-100-2.47/assets\n"
     ]
    },
    {
     "name": "stderr",
     "output_type": "stream",
     "text": [
      "INFO:tensorflow:Assets written to: /home/user/workdir/main/src/model/nitrate/scaled_o3/input5/final_model-100-2.47/assets\n"
     ]
    },
    {
     "name": "stdout",
     "output_type": "stream",
     "text": [
      "3/3 [==============================] - 12s 6s/step - loss: 0.2179 - val_loss: 2.4701 - lr: 0.0010\n",
      "Epoch 101/1000\n",
      "3/3 [==============================] - ETA: 0s - loss: 0.2110INFO:tensorflow:Assets written to: /home/user/workdir/main/src/model/nitrate/scaled_o3/input5/final_model-101-2.38/assets\n"
     ]
    },
    {
     "name": "stderr",
     "output_type": "stream",
     "text": [
      "INFO:tensorflow:Assets written to: /home/user/workdir/main/src/model/nitrate/scaled_o3/input5/final_model-101-2.38/assets\n"
     ]
    },
    {
     "name": "stdout",
     "output_type": "stream",
     "text": [
      "3/3 [==============================] - 11s 6s/step - loss: 0.2110 - val_loss: 2.3814 - lr: 0.0010\n",
      "Epoch 102/1000\n",
      "3/3 [==============================] - ETA: 0s - loss: 0.2039INFO:tensorflow:Assets written to: /home/user/workdir/main/src/model/nitrate/scaled_o3/input5/final_model-102-2.29/assets\n"
     ]
    },
    {
     "name": "stderr",
     "output_type": "stream",
     "text": [
      "INFO:tensorflow:Assets written to: /home/user/workdir/main/src/model/nitrate/scaled_o3/input5/final_model-102-2.29/assets\n"
     ]
    },
    {
     "name": "stdout",
     "output_type": "stream",
     "text": [
      "3/3 [==============================] - 9s 4s/step - loss: 0.2039 - val_loss: 2.2917 - lr: 0.0010\n",
      "Epoch 103/1000\n",
      "3/3 [==============================] - ETA: 0s - loss: 0.1954INFO:tensorflow:Assets written to: /home/user/workdir/main/src/model/nitrate/scaled_o3/input5/final_model-103-2.27/assets\n"
     ]
    },
    {
     "name": "stderr",
     "output_type": "stream",
     "text": [
      "INFO:tensorflow:Assets written to: /home/user/workdir/main/src/model/nitrate/scaled_o3/input5/final_model-103-2.27/assets\n"
     ]
    },
    {
     "name": "stdout",
     "output_type": "stream",
     "text": [
      "3/3 [==============================] - 9s 4s/step - loss: 0.1954 - val_loss: 2.2718 - lr: 0.0010\n",
      "Epoch 104/1000\n",
      "3/3 [==============================] - ETA: 0s - loss: 0.1887INFO:tensorflow:Assets written to: /home/user/workdir/main/src/model/nitrate/scaled_o3/input5/final_model-104-2.22/assets\n"
     ]
    },
    {
     "name": "stderr",
     "output_type": "stream",
     "text": [
      "INFO:tensorflow:Assets written to: /home/user/workdir/main/src/model/nitrate/scaled_o3/input5/final_model-104-2.22/assets\n"
     ]
    },
    {
     "name": "stdout",
     "output_type": "stream",
     "text": [
      "3/3 [==============================] - 12s 6s/step - loss: 0.1887 - val_loss: 2.2247 - lr: 0.0010\n",
      "Epoch 105/1000\n",
      "3/3 [==============================] - ETA: 0s - loss: 0.1835INFO:tensorflow:Assets written to: /home/user/workdir/main/src/model/nitrate/scaled_o3/input5/final_model-105-2.10/assets\n"
     ]
    },
    {
     "name": "stderr",
     "output_type": "stream",
     "text": [
      "INFO:tensorflow:Assets written to: /home/user/workdir/main/src/model/nitrate/scaled_o3/input5/final_model-105-2.10/assets\n"
     ]
    },
    {
     "name": "stdout",
     "output_type": "stream",
     "text": [
      "3/3 [==============================] - 9s 4s/step - loss: 0.1835 - val_loss: 2.1045 - lr: 0.0010\n",
      "Epoch 106/1000\n",
      "3/3 [==============================] - ETA: 0s - loss: 0.1756INFO:tensorflow:Assets written to: /home/user/workdir/main/src/model/nitrate/scaled_o3/input5/final_model-106-2.01/assets\n"
     ]
    },
    {
     "name": "stderr",
     "output_type": "stream",
     "text": [
      "INFO:tensorflow:Assets written to: /home/user/workdir/main/src/model/nitrate/scaled_o3/input5/final_model-106-2.01/assets\n"
     ]
    },
    {
     "name": "stdout",
     "output_type": "stream",
     "text": [
      "3/3 [==============================] - 12s 6s/step - loss: 0.1756 - val_loss: 2.0108 - lr: 0.0010\n",
      "Epoch 107/1000\n",
      "3/3 [==============================] - ETA: 0s - loss: 0.1725INFO:tensorflow:Assets written to: /home/user/workdir/main/src/model/nitrate/scaled_o3/input5/final_model-107-1.88/assets\n"
     ]
    },
    {
     "name": "stderr",
     "output_type": "stream",
     "text": [
      "INFO:tensorflow:Assets written to: /home/user/workdir/main/src/model/nitrate/scaled_o3/input5/final_model-107-1.88/assets\n"
     ]
    },
    {
     "name": "stdout",
     "output_type": "stream",
     "text": [
      "3/3 [==============================] - 11s 6s/step - loss: 0.1725 - val_loss: 1.8846 - lr: 0.0010\n",
      "Epoch 108/1000\n",
      "3/3 [==============================] - ETA: 0s - loss: 0.1655INFO:tensorflow:Assets written to: /home/user/workdir/main/src/model/nitrate/scaled_o3/input5/final_model-108-1.86/assets\n"
     ]
    },
    {
     "name": "stderr",
     "output_type": "stream",
     "text": [
      "INFO:tensorflow:Assets written to: /home/user/workdir/main/src/model/nitrate/scaled_o3/input5/final_model-108-1.86/assets\n"
     ]
    },
    {
     "name": "stdout",
     "output_type": "stream",
     "text": [
      "3/3 [==============================] - 9s 4s/step - loss: 0.1655 - val_loss: 1.8631 - lr: 0.0010\n",
      "Epoch 109/1000\n",
      "3/3 [==============================] - ETA: 0s - loss: 0.1594INFO:tensorflow:Assets written to: /home/user/workdir/main/src/model/nitrate/scaled_o3/input5/final_model-109-1.84/assets\n"
     ]
    },
    {
     "name": "stderr",
     "output_type": "stream",
     "text": [
      "INFO:tensorflow:Assets written to: /home/user/workdir/main/src/model/nitrate/scaled_o3/input5/final_model-109-1.84/assets\n"
     ]
    },
    {
     "name": "stdout",
     "output_type": "stream",
     "text": [
      "3/3 [==============================] - 9s 4s/step - loss: 0.1594 - val_loss: 1.8397 - lr: 0.0010\n",
      "Epoch 110/1000\n",
      "2/3 [===================>..........] - ETA: 0s - loss: 0.1549INFO:tensorflow:Assets written to: /home/user/workdir/main/src/model/nitrate/scaled_o3/input5/final_model-110-1.76/assets\n"
     ]
    },
    {
     "name": "stderr",
     "output_type": "stream",
     "text": [
      "INFO:tensorflow:Assets written to: /home/user/workdir/main/src/model/nitrate/scaled_o3/input5/final_model-110-1.76/assets\n"
     ]
    },
    {
     "name": "stdout",
     "output_type": "stream",
     "text": [
      "3/3 [==============================] - 12s 6s/step - loss: 0.1543 - val_loss: 1.7642 - lr: 0.0010\n",
      "Epoch 111/1000\n",
      "3/3 [==============================] - 0s 216ms/step - loss: 0.1501 - val_loss: 1.7784 - lr: 0.0010\n",
      "Epoch 112/1000\n",
      "3/3 [==============================] - ETA: 0s - loss: 0.1472INFO:tensorflow:Assets written to: /home/user/workdir/main/src/model/nitrate/scaled_o3/input5/final_model-112-1.70/assets\n"
     ]
    },
    {
     "name": "stderr",
     "output_type": "stream",
     "text": [
      "INFO:tensorflow:Assets written to: /home/user/workdir/main/src/model/nitrate/scaled_o3/input5/final_model-112-1.70/assets\n"
     ]
    },
    {
     "name": "stdout",
     "output_type": "stream",
     "text": [
      "3/3 [==============================] - 9s 4s/step - loss: 0.1472 - val_loss: 1.7016 - lr: 0.0010\n",
      "Epoch 113/1000\n",
      "3/3 [==============================] - ETA: 0s - loss: 0.1423INFO:tensorflow:Assets written to: /home/user/workdir/main/src/model/nitrate/scaled_o3/input5/final_model-113-1.62/assets\n"
     ]
    },
    {
     "name": "stderr",
     "output_type": "stream",
     "text": [
      "INFO:tensorflow:Assets written to: /home/user/workdir/main/src/model/nitrate/scaled_o3/input5/final_model-113-1.62/assets\n"
     ]
    },
    {
     "name": "stdout",
     "output_type": "stream",
     "text": [
      "3/3 [==============================] - 12s 6s/step - loss: 0.1423 - val_loss: 1.6161 - lr: 0.0010\n",
      "Epoch 114/1000\n",
      "3/3 [==============================] - ETA: 0s - loss: 0.1378INFO:tensorflow:Assets written to: /home/user/workdir/main/src/model/nitrate/scaled_o3/input5/final_model-114-1.56/assets\n"
     ]
    },
    {
     "name": "stderr",
     "output_type": "stream",
     "text": [
      "INFO:tensorflow:Assets written to: /home/user/workdir/main/src/model/nitrate/scaled_o3/input5/final_model-114-1.56/assets\n"
     ]
    },
    {
     "name": "stdout",
     "output_type": "stream",
     "text": [
      "3/3 [==============================] - 9s 4s/step - loss: 0.1378 - val_loss: 1.5551 - lr: 0.0010\n",
      "Epoch 115/1000\n",
      "3/3 [==============================] - ETA: 0s - loss: 0.1388INFO:tensorflow:Assets written to: /home/user/workdir/main/src/model/nitrate/scaled_o3/input5/final_model-115-1.46/assets\n"
     ]
    },
    {
     "name": "stderr",
     "output_type": "stream",
     "text": [
      "INFO:tensorflow:Assets written to: /home/user/workdir/main/src/model/nitrate/scaled_o3/input5/final_model-115-1.46/assets\n"
     ]
    },
    {
     "name": "stdout",
     "output_type": "stream",
     "text": [
      "3/3 [==============================] - 12s 6s/step - loss: 0.1388 - val_loss: 1.4641 - lr: 0.0010\n",
      "Epoch 116/1000\n",
      "2/3 [===================>..........] - ETA: 0s - loss: 0.1403INFO:tensorflow:Assets written to: /home/user/workdir/main/src/model/nitrate/scaled_o3/input5/final_model-116-1.38/assets\n"
     ]
    },
    {
     "name": "stderr",
     "output_type": "stream",
     "text": [
      "INFO:tensorflow:Assets written to: /home/user/workdir/main/src/model/nitrate/scaled_o3/input5/final_model-116-1.38/assets\n"
     ]
    },
    {
     "name": "stdout",
     "output_type": "stream",
     "text": [
      "3/3 [==============================] - 9s 4s/step - loss: 0.1391 - val_loss: 1.3786 - lr: 0.0010\n",
      "Epoch 117/1000\n",
      "3/3 [==============================] - ETA: 0s - loss: 0.1317INFO:tensorflow:Assets written to: /home/user/workdir/main/src/model/nitrate/scaled_o3/input5/final_model-117-1.31/assets\n"
     ]
    },
    {
     "name": "stderr",
     "output_type": "stream",
     "text": [
      "INFO:tensorflow:Assets written to: /home/user/workdir/main/src/model/nitrate/scaled_o3/input5/final_model-117-1.31/assets\n"
     ]
    },
    {
     "name": "stdout",
     "output_type": "stream",
     "text": [
      "3/3 [==============================] - 12s 6s/step - loss: 0.1317 - val_loss: 1.3051 - lr: 0.0010\n",
      "Epoch 118/1000\n",
      "2/3 [===================>..........] - ETA: 0s - loss: 0.1297INFO:tensorflow:Assets written to: /home/user/workdir/main/src/model/nitrate/scaled_o3/input5/final_model-118-1.25/assets\n"
     ]
    },
    {
     "name": "stderr",
     "output_type": "stream",
     "text": [
      "INFO:tensorflow:Assets written to: /home/user/workdir/main/src/model/nitrate/scaled_o3/input5/final_model-118-1.25/assets\n"
     ]
    },
    {
     "name": "stdout",
     "output_type": "stream",
     "text": [
      "3/3 [==============================] - 9s 4s/step - loss: 0.1291 - val_loss: 1.2458 - lr: 0.0010\n",
      "Epoch 119/1000\n",
      "3/3 [==============================] - 0s 201ms/step - loss: 0.1253 - val_loss: 1.2832 - lr: 0.0010\n",
      "Epoch 120/1000\n",
      "3/3 [==============================] - ETA: 0s - loss: 0.1222INFO:tensorflow:Assets written to: /home/user/workdir/main/src/model/nitrate/scaled_o3/input5/final_model-120-1.24/assets\n"
     ]
    },
    {
     "name": "stderr",
     "output_type": "stream",
     "text": [
      "INFO:tensorflow:Assets written to: /home/user/workdir/main/src/model/nitrate/scaled_o3/input5/final_model-120-1.24/assets\n"
     ]
    },
    {
     "name": "stdout",
     "output_type": "stream",
     "text": [
      "3/3 [==============================] - 12s 6s/step - loss: 0.1222 - val_loss: 1.2383 - lr: 0.0010\n",
      "Epoch 121/1000\n",
      "3/3 [==============================] - ETA: 0s - loss: 0.1181INFO:tensorflow:Assets written to: /home/user/workdir/main/src/model/nitrate/scaled_o3/input5/final_model-121-1.18/assets\n"
     ]
    },
    {
     "name": "stderr",
     "output_type": "stream",
     "text": [
      "INFO:tensorflow:Assets written to: /home/user/workdir/main/src/model/nitrate/scaled_o3/input5/final_model-121-1.18/assets\n"
     ]
    },
    {
     "name": "stdout",
     "output_type": "stream",
     "text": [
      "3/3 [==============================] - 9s 4s/step - loss: 0.1181 - val_loss: 1.1778 - lr: 0.0010\n",
      "Epoch 122/1000\n",
      "3/3 [==============================] - ETA: 0s - loss: 0.1166INFO:tensorflow:Assets written to: /home/user/workdir/main/src/model/nitrate/scaled_o3/input5/final_model-122-1.05/assets\n"
     ]
    },
    {
     "name": "stderr",
     "output_type": "stream",
     "text": [
      "INFO:tensorflow:Assets written to: /home/user/workdir/main/src/model/nitrate/scaled_o3/input5/final_model-122-1.05/assets\n"
     ]
    },
    {
     "name": "stdout",
     "output_type": "stream",
     "text": [
      "3/3 [==============================] - 12s 6s/step - loss: 0.1166 - val_loss: 1.0450 - lr: 0.0010\n",
      "Epoch 123/1000\n",
      "3/3 [==============================] - ETA: 0s - loss: 0.1166INFO:tensorflow:Assets written to: /home/user/workdir/main/src/model/nitrate/scaled_o3/input5/final_model-123-1.04/assets\n"
     ]
    },
    {
     "name": "stderr",
     "output_type": "stream",
     "text": [
      "INFO:tensorflow:Assets written to: /home/user/workdir/main/src/model/nitrate/scaled_o3/input5/final_model-123-1.04/assets\n"
     ]
    },
    {
     "name": "stdout",
     "output_type": "stream",
     "text": [
      "3/3 [==============================] - 9s 4s/step - loss: 0.1166 - val_loss: 1.0416 - lr: 0.0010\n",
      "Epoch 124/1000\n",
      "3/3 [==============================] - ETA: 0s - loss: 0.1135INFO:tensorflow:Assets written to: /home/user/workdir/main/src/model/nitrate/scaled_o3/input5/final_model-124-1.01/assets\n"
     ]
    },
    {
     "name": "stderr",
     "output_type": "stream",
     "text": [
      "INFO:tensorflow:Assets written to: /home/user/workdir/main/src/model/nitrate/scaled_o3/input5/final_model-124-1.01/assets\n"
     ]
    },
    {
     "name": "stdout",
     "output_type": "stream",
     "text": [
      "3/3 [==============================] - 9s 4s/step - loss: 0.1135 - val_loss: 1.0073 - lr: 0.0010\n",
      "Epoch 125/1000\n",
      "3/3 [==============================] - ETA: 0s - loss: 0.1121INFO:tensorflow:Assets written to: /home/user/workdir/main/src/model/nitrate/scaled_o3/input5/final_model-125-0.98/assets\n"
     ]
    },
    {
     "name": "stderr",
     "output_type": "stream",
     "text": [
      "INFO:tensorflow:Assets written to: /home/user/workdir/main/src/model/nitrate/scaled_o3/input5/final_model-125-0.98/assets\n"
     ]
    },
    {
     "name": "stdout",
     "output_type": "stream",
     "text": [
      "3/3 [==============================] - 12s 6s/step - loss: 0.1121 - val_loss: 0.9810 - lr: 0.0010\n",
      "Epoch 126/1000\n",
      "3/3 [==============================] - ETA: 0s - loss: 0.1100INFO:tensorflow:Assets written to: /home/user/workdir/main/src/model/nitrate/scaled_o3/input5/final_model-126-0.94/assets\n"
     ]
    },
    {
     "name": "stderr",
     "output_type": "stream",
     "text": [
      "INFO:tensorflow:Assets written to: /home/user/workdir/main/src/model/nitrate/scaled_o3/input5/final_model-126-0.94/assets\n"
     ]
    },
    {
     "name": "stdout",
     "output_type": "stream",
     "text": [
      "3/3 [==============================] - 9s 4s/step - loss: 0.1100 - val_loss: 0.9390 - lr: 0.0010\n",
      "Epoch 127/1000\n",
      "3/3 [==============================] - 0s 217ms/step - loss: 0.1073 - val_loss: 0.9525 - lr: 0.0010\n",
      "Epoch 128/1000\n",
      "3/3 [==============================] - ETA: 0s - loss: 0.1057INFO:tensorflow:Assets written to: /home/user/workdir/main/src/model/nitrate/scaled_o3/input5/final_model-128-0.87/assets\n"
     ]
    },
    {
     "name": "stderr",
     "output_type": "stream",
     "text": [
      "INFO:tensorflow:Assets written to: /home/user/workdir/main/src/model/nitrate/scaled_o3/input5/final_model-128-0.87/assets\n"
     ]
    },
    {
     "name": "stdout",
     "output_type": "stream",
     "text": [
      "3/3 [==============================] - 12s 6s/step - loss: 0.1057 - val_loss: 0.8710 - lr: 0.0010\n",
      "Epoch 129/1000\n",
      "2/3 [===================>..........] - ETA: 0s - loss: 0.1037INFO:tensorflow:Assets written to: /home/user/workdir/main/src/model/nitrate/scaled_o3/input5/final_model-129-0.83/assets\n"
     ]
    },
    {
     "name": "stderr",
     "output_type": "stream",
     "text": [
      "INFO:tensorflow:Assets written to: /home/user/workdir/main/src/model/nitrate/scaled_o3/input5/final_model-129-0.83/assets\n"
     ]
    },
    {
     "name": "stdout",
     "output_type": "stream",
     "text": [
      "3/3 [==============================] - 9s 4s/step - loss: 0.1044 - val_loss: 0.8285 - lr: 0.0010\n",
      "Epoch 130/1000\n",
      "3/3 [==============================] - 0s 194ms/step - loss: 0.1025 - val_loss: 0.8430 - lr: 0.0010\n",
      "Epoch 131/1000\n",
      "3/3 [==============================] - ETA: 0s - loss: 0.1006INFO:tensorflow:Assets written to: /home/user/workdir/main/src/model/nitrate/scaled_o3/input5/final_model-131-0.77/assets\n"
     ]
    },
    {
     "name": "stderr",
     "output_type": "stream",
     "text": [
      "INFO:tensorflow:Assets written to: /home/user/workdir/main/src/model/nitrate/scaled_o3/input5/final_model-131-0.77/assets\n"
     ]
    },
    {
     "name": "stdout",
     "output_type": "stream",
     "text": [
      "3/3 [==============================] - 12s 6s/step - loss: 0.1006 - val_loss: 0.7715 - lr: 0.0010\n",
      "Epoch 132/1000\n",
      "3/3 [==============================] - ETA: 0s - loss: 0.0998INFO:tensorflow:Assets written to: /home/user/workdir/main/src/model/nitrate/scaled_o3/input5/final_model-132-0.76/assets\n"
     ]
    },
    {
     "name": "stderr",
     "output_type": "stream",
     "text": [
      "INFO:tensorflow:Assets written to: /home/user/workdir/main/src/model/nitrate/scaled_o3/input5/final_model-132-0.76/assets\n"
     ]
    },
    {
     "name": "stdout",
     "output_type": "stream",
     "text": [
      "3/3 [==============================] - 9s 4s/step - loss: 0.0998 - val_loss: 0.7591 - lr: 0.0010\n",
      "Epoch 133/1000\n",
      "3/3 [==============================] - 0s 222ms/step - loss: 0.0980 - val_loss: 0.7876 - lr: 0.0010\n",
      "Epoch 134/1000\n",
      "3/3 [==============================] - ETA: 0s - loss: 0.0964INFO:tensorflow:Assets written to: /home/user/workdir/main/src/model/nitrate/scaled_o3/input5/final_model-134-0.74/assets\n"
     ]
    },
    {
     "name": "stderr",
     "output_type": "stream",
     "text": [
      "INFO:tensorflow:Assets written to: /home/user/workdir/main/src/model/nitrate/scaled_o3/input5/final_model-134-0.74/assets\n"
     ]
    },
    {
     "name": "stdout",
     "output_type": "stream",
     "text": [
      "3/3 [==============================] - 9s 4s/step - loss: 0.0964 - val_loss: 0.7351 - lr: 0.0010\n",
      "Epoch 135/1000\n",
      "3/3 [==============================] - 0s 205ms/step - loss: 0.0946 - val_loss: 0.7851 - lr: 0.0010\n",
      "Epoch 136/1000\n",
      "3/3 [==============================] - ETA: 0s - loss: 0.0951INFO:tensorflow:Assets written to: /home/user/workdir/main/src/model/nitrate/scaled_o3/input5/final_model-136-0.66/assets\n"
     ]
    },
    {
     "name": "stderr",
     "output_type": "stream",
     "text": [
      "INFO:tensorflow:Assets written to: /home/user/workdir/main/src/model/nitrate/scaled_o3/input5/final_model-136-0.66/assets\n"
     ]
    },
    {
     "name": "stdout",
     "output_type": "stream",
     "text": [
      "3/3 [==============================] - 12s 6s/step - loss: 0.0951 - val_loss: 0.6609 - lr: 0.0010\n",
      "Epoch 137/1000\n",
      "3/3 [==============================] - ETA: 0s - loss: 0.0964INFO:tensorflow:Assets written to: /home/user/workdir/main/src/model/nitrate/scaled_o3/input5/final_model-137-0.63/assets\n"
     ]
    },
    {
     "name": "stderr",
     "output_type": "stream",
     "text": [
      "INFO:tensorflow:Assets written to: /home/user/workdir/main/src/model/nitrate/scaled_o3/input5/final_model-137-0.63/assets\n"
     ]
    },
    {
     "name": "stdout",
     "output_type": "stream",
     "text": [
      "3/3 [==============================] - 9s 4s/step - loss: 0.0964 - val_loss: 0.6314 - lr: 0.0010\n",
      "Epoch 138/1000\n",
      "3/3 [==============================] - ETA: 0s - loss: 0.0934INFO:tensorflow:Assets written to: /home/user/workdir/main/src/model/nitrate/scaled_o3/input5/final_model-138-0.57/assets\n"
     ]
    },
    {
     "name": "stderr",
     "output_type": "stream",
     "text": [
      "INFO:tensorflow:Assets written to: /home/user/workdir/main/src/model/nitrate/scaled_o3/input5/final_model-138-0.57/assets\n"
     ]
    },
    {
     "name": "stdout",
     "output_type": "stream",
     "text": [
      "3/3 [==============================] - 12s 6s/step - loss: 0.0934 - val_loss: 0.5735 - lr: 0.0010\n",
      "Epoch 139/1000\n",
      "3/3 [==============================] - ETA: 0s - loss: 0.0931INFO:tensorflow:Assets written to: /home/user/workdir/main/src/model/nitrate/scaled_o3/input5/final_model-139-0.52/assets\n"
     ]
    },
    {
     "name": "stderr",
     "output_type": "stream",
     "text": [
      "INFO:tensorflow:Assets written to: /home/user/workdir/main/src/model/nitrate/scaled_o3/input5/final_model-139-0.52/assets\n"
     ]
    },
    {
     "name": "stdout",
     "output_type": "stream",
     "text": [
      "3/3 [==============================] - 9s 4s/step - loss: 0.0931 - val_loss: 0.5156 - lr: 0.0010\n",
      "Epoch 140/1000\n",
      "3/3 [==============================] - ETA: 0s - loss: 0.0923INFO:tensorflow:Assets written to: /home/user/workdir/main/src/model/nitrate/scaled_o3/input5/final_model-140-0.47/assets\n"
     ]
    },
    {
     "name": "stderr",
     "output_type": "stream",
     "text": [
      "INFO:tensorflow:Assets written to: /home/user/workdir/main/src/model/nitrate/scaled_o3/input5/final_model-140-0.47/assets\n"
     ]
    },
    {
     "name": "stdout",
     "output_type": "stream",
     "text": [
      "3/3 [==============================] - 12s 6s/step - loss: 0.0923 - val_loss: 0.4704 - lr: 0.0010\n",
      "Epoch 141/1000\n",
      "3/3 [==============================] - ETA: 0s - loss: 0.0921INFO:tensorflow:Assets written to: /home/user/workdir/main/src/model/nitrate/scaled_o3/input5/final_model-141-0.45/assets\n"
     ]
    },
    {
     "name": "stderr",
     "output_type": "stream",
     "text": [
      "INFO:tensorflow:Assets written to: /home/user/workdir/main/src/model/nitrate/scaled_o3/input5/final_model-141-0.45/assets\n"
     ]
    },
    {
     "name": "stdout",
     "output_type": "stream",
     "text": [
      "3/3 [==============================] - 9s 5s/step - loss: 0.0921 - val_loss: 0.4513 - lr: 0.0010\n",
      "Epoch 142/1000\n",
      "3/3 [==============================] - ETA: 0s - loss: 0.0926INFO:tensorflow:Assets written to: /home/user/workdir/main/src/model/nitrate/scaled_o3/input5/final_model-142-0.42/assets\n"
     ]
    },
    {
     "name": "stderr",
     "output_type": "stream",
     "text": [
      "INFO:tensorflow:Assets written to: /home/user/workdir/main/src/model/nitrate/scaled_o3/input5/final_model-142-0.42/assets\n"
     ]
    },
    {
     "name": "stdout",
     "output_type": "stream",
     "text": [
      "3/3 [==============================] - 9s 4s/step - loss: 0.0926 - val_loss: 0.4218 - lr: 0.0010\n",
      "Epoch 143/1000\n",
      "3/3 [==============================] - ETA: 0s - loss: 0.0912INFO:tensorflow:Assets written to: /home/user/workdir/main/src/model/nitrate/scaled_o3/input5/final_model-143-0.41/assets\n"
     ]
    },
    {
     "name": "stderr",
     "output_type": "stream",
     "text": [
      "INFO:tensorflow:Assets written to: /home/user/workdir/main/src/model/nitrate/scaled_o3/input5/final_model-143-0.41/assets\n"
     ]
    },
    {
     "name": "stdout",
     "output_type": "stream",
     "text": [
      "3/3 [==============================] - 12s 6s/step - loss: 0.0912 - val_loss: 0.4099 - lr: 0.0010\n",
      "Epoch 144/1000\n",
      "3/3 [==============================] - 0s 201ms/step - loss: 0.0904 - val_loss: 0.4138 - lr: 0.0010\n",
      "Epoch 145/1000\n",
      "3/3 [==============================] - ETA: 0s - loss: 0.0875INFO:tensorflow:Assets written to: /home/user/workdir/main/src/model/nitrate/scaled_o3/input5/final_model-145-0.38/assets\n"
     ]
    },
    {
     "name": "stderr",
     "output_type": "stream",
     "text": [
      "INFO:tensorflow:Assets written to: /home/user/workdir/main/src/model/nitrate/scaled_o3/input5/final_model-145-0.38/assets\n"
     ]
    },
    {
     "name": "stdout",
     "output_type": "stream",
     "text": [
      "3/3 [==============================] - 9s 4s/step - loss: 0.0875 - val_loss: 0.3843 - lr: 0.0010\n",
      "Epoch 146/1000\n",
      "3/3 [==============================] - 0s 212ms/step - loss: 0.0868 - val_loss: 0.3962 - lr: 0.0010\n",
      "Epoch 147/1000\n",
      "3/3 [==============================] - 0s 204ms/step - loss: 0.0879 - val_loss: 0.4020 - lr: 0.0010\n",
      "Epoch 148/1000\n",
      "3/3 [==============================] - 0s 197ms/step - loss: 0.0865 - val_loss: 0.4052 - lr: 0.0010\n",
      "Epoch 149/1000\n",
      "3/3 [==============================] - 0s 186ms/step - loss: 0.0849 - val_loss: 0.3995 - lr: 0.0010\n",
      "Epoch 150/1000\n",
      "3/3 [==============================] - 0s 204ms/step - loss: 0.0849 - val_loss: 0.3980 - lr: 0.0010\n",
      "Epoch 151/1000\n",
      "3/3 [==============================] - ETA: 0s - loss: 0.0856INFO:tensorflow:Assets written to: /home/user/workdir/main/src/model/nitrate/scaled_o3/input5/final_model-151-0.37/assets\n"
     ]
    },
    {
     "name": "stderr",
     "output_type": "stream",
     "text": [
      "INFO:tensorflow:Assets written to: /home/user/workdir/main/src/model/nitrate/scaled_o3/input5/final_model-151-0.37/assets\n"
     ]
    },
    {
     "name": "stdout",
     "output_type": "stream",
     "text": [
      "3/3 [==============================] - 12s 6s/step - loss: 0.0856 - val_loss: 0.3741 - lr: 0.0010\n",
      "Epoch 152/1000\n",
      "3/3 [==============================] - ETA: 0s - loss: 0.0843INFO:tensorflow:Assets written to: /home/user/workdir/main/src/model/nitrate/scaled_o3/input5/final_model-152-0.33/assets\n"
     ]
    },
    {
     "name": "stderr",
     "output_type": "stream",
     "text": [
      "INFO:tensorflow:Assets written to: /home/user/workdir/main/src/model/nitrate/scaled_o3/input5/final_model-152-0.33/assets\n"
     ]
    },
    {
     "name": "stdout",
     "output_type": "stream",
     "text": [
      "3/3 [==============================] - 9s 4s/step - loss: 0.0843 - val_loss: 0.3273 - lr: 0.0010\n",
      "Epoch 153/1000\n",
      "3/3 [==============================] - ETA: 0s - loss: 0.0849INFO:tensorflow:Assets written to: /home/user/workdir/main/src/model/nitrate/scaled_o3/input5/final_model-153-0.30/assets\n"
     ]
    },
    {
     "name": "stderr",
     "output_type": "stream",
     "text": [
      "INFO:tensorflow:Assets written to: /home/user/workdir/main/src/model/nitrate/scaled_o3/input5/final_model-153-0.30/assets\n"
     ]
    },
    {
     "name": "stdout",
     "output_type": "stream",
     "text": [
      "3/3 [==============================] - 9s 4s/step - loss: 0.0849 - val_loss: 0.3038 - lr: 0.0010\n",
      "Epoch 154/1000\n",
      "3/3 [==============================] - ETA: 0s - loss: 0.0842INFO:tensorflow:Assets written to: /home/user/workdir/main/src/model/nitrate/scaled_o3/input5/final_model-154-0.28/assets\n"
     ]
    },
    {
     "name": "stderr",
     "output_type": "stream",
     "text": [
      "INFO:tensorflow:Assets written to: /home/user/workdir/main/src/model/nitrate/scaled_o3/input5/final_model-154-0.28/assets\n"
     ]
    },
    {
     "name": "stdout",
     "output_type": "stream",
     "text": [
      "3/3 [==============================] - 13s 6s/step - loss: 0.0842 - val_loss: 0.2785 - lr: 0.0010\n",
      "Epoch 155/1000\n",
      "3/3 [==============================] - ETA: 0s - loss: 0.0828INFO:tensorflow:Assets written to: /home/user/workdir/main/src/model/nitrate/scaled_o3/input5/final_model-155-0.25/assets\n"
     ]
    },
    {
     "name": "stderr",
     "output_type": "stream",
     "text": [
      "INFO:tensorflow:Assets written to: /home/user/workdir/main/src/model/nitrate/scaled_o3/input5/final_model-155-0.25/assets\n"
     ]
    },
    {
     "name": "stdout",
     "output_type": "stream",
     "text": [
      "3/3 [==============================] - 9s 4s/step - loss: 0.0828 - val_loss: 0.2546 - lr: 0.0010\n",
      "Epoch 156/1000\n",
      "3/3 [==============================] - 0s 199ms/step - loss: 0.0850 - val_loss: 0.2770 - lr: 0.0010\n",
      "Epoch 157/1000\n",
      "3/3 [==============================] - 0s 208ms/step - loss: 0.0847 - val_loss: 0.2934 - lr: 0.0010\n",
      "Epoch 158/1000\n",
      "3/3 [==============================] - ETA: 0s - loss: 0.0834INFO:tensorflow:Assets written to: /home/user/workdir/main/src/model/nitrate/scaled_o3/input5/final_model-158-0.25/assets\n"
     ]
    },
    {
     "name": "stderr",
     "output_type": "stream",
     "text": [
      "INFO:tensorflow:Assets written to: /home/user/workdir/main/src/model/nitrate/scaled_o3/input5/final_model-158-0.25/assets\n"
     ]
    },
    {
     "name": "stdout",
     "output_type": "stream",
     "text": [
      "3/3 [==============================] - 9s 4s/step - loss: 0.0834 - val_loss: 0.2545 - lr: 0.0010\n",
      "Epoch 159/1000\n",
      "3/3 [==============================] - ETA: 0s - loss: 0.0827INFO:tensorflow:Assets written to: /home/user/workdir/main/src/model/nitrate/scaled_o3/input5/final_model-159-0.23/assets\n"
     ]
    },
    {
     "name": "stderr",
     "output_type": "stream",
     "text": [
      "INFO:tensorflow:Assets written to: /home/user/workdir/main/src/model/nitrate/scaled_o3/input5/final_model-159-0.23/assets\n"
     ]
    },
    {
     "name": "stdout",
     "output_type": "stream",
     "text": [
      "3/3 [==============================] - 12s 6s/step - loss: 0.0827 - val_loss: 0.2253 - lr: 0.0010\n",
      "Epoch 160/1000\n",
      "3/3 [==============================] - ETA: 0s - loss: 0.0826INFO:tensorflow:Assets written to: /home/user/workdir/main/src/model/nitrate/scaled_o3/input5/final_model-160-0.20/assets\n"
     ]
    },
    {
     "name": "stderr",
     "output_type": "stream",
     "text": [
      "INFO:tensorflow:Assets written to: /home/user/workdir/main/src/model/nitrate/scaled_o3/input5/final_model-160-0.20/assets\n"
     ]
    },
    {
     "name": "stdout",
     "output_type": "stream",
     "text": [
      "3/3 [==============================] - 9s 4s/step - loss: 0.0826 - val_loss: 0.2041 - lr: 0.0010\n",
      "Epoch 161/1000\n",
      "3/3 [==============================] - ETA: 0s - loss: 0.0837INFO:tensorflow:Assets written to: /home/user/workdir/main/src/model/nitrate/scaled_o3/input5/final_model-161-0.20/assets\n"
     ]
    },
    {
     "name": "stderr",
     "output_type": "stream",
     "text": [
      "INFO:tensorflow:Assets written to: /home/user/workdir/main/src/model/nitrate/scaled_o3/input5/final_model-161-0.20/assets\n"
     ]
    },
    {
     "name": "stdout",
     "output_type": "stream",
     "text": [
      "3/3 [==============================] - 12s 6s/step - loss: 0.0837 - val_loss: 0.2035 - lr: 0.0010\n",
      "Epoch 162/1000\n",
      "3/3 [==============================] - 0s 223ms/step - loss: 0.0829 - val_loss: 0.2037 - lr: 0.0010\n",
      "Epoch 163/1000\n",
      "2/3 [===================>..........] - ETA: 0s - loss: 0.0834INFO:tensorflow:Assets written to: /home/user/workdir/main/src/model/nitrate/scaled_o3/input5/final_model-163-0.20/assets\n"
     ]
    },
    {
     "name": "stderr",
     "output_type": "stream",
     "text": [
      "INFO:tensorflow:Assets written to: /home/user/workdir/main/src/model/nitrate/scaled_o3/input5/final_model-163-0.20/assets\n"
     ]
    },
    {
     "name": "stdout",
     "output_type": "stream",
     "text": [
      "3/3 [==============================] - 9s 4s/step - loss: 0.0839 - val_loss: 0.1966 - lr: 0.0010\n",
      "Epoch 164/1000\n",
      "3/3 [==============================] - ETA: 0s - loss: 0.0833INFO:tensorflow:Assets written to: /home/user/workdir/main/src/model/nitrate/scaled_o3/input5/final_model-164-0.19/assets\n"
     ]
    },
    {
     "name": "stderr",
     "output_type": "stream",
     "text": [
      "INFO:tensorflow:Assets written to: /home/user/workdir/main/src/model/nitrate/scaled_o3/input5/final_model-164-0.19/assets\n"
     ]
    },
    {
     "name": "stdout",
     "output_type": "stream",
     "text": [
      "3/3 [==============================] - 9s 4s/step - loss: 0.0833 - val_loss: 0.1922 - lr: 0.0010\n",
      "Epoch 165/1000\n",
      "3/3 [==============================] - ETA: 0s - loss: 0.0807INFO:tensorflow:Assets written to: /home/user/workdir/main/src/model/nitrate/scaled_o3/input5/final_model-165-0.19/assets\n"
     ]
    },
    {
     "name": "stderr",
     "output_type": "stream",
     "text": [
      "INFO:tensorflow:Assets written to: /home/user/workdir/main/src/model/nitrate/scaled_o3/input5/final_model-165-0.19/assets\n"
     ]
    },
    {
     "name": "stdout",
     "output_type": "stream",
     "text": [
      "3/3 [==============================] - 13s 6s/step - loss: 0.0807 - val_loss: 0.1867 - lr: 0.0010\n",
      "Epoch 166/1000\n",
      "3/3 [==============================] - 1s 230ms/step - loss: 0.0809 - val_loss: 0.1912 - lr: 0.0010\n",
      "Epoch 167/1000\n",
      "3/3 [==============================] - ETA: 0s - loss: 0.0824INFO:tensorflow:Assets written to: /home/user/workdir/main/src/model/nitrate/scaled_o3/input5/final_model-167-0.16/assets\n"
     ]
    },
    {
     "name": "stderr",
     "output_type": "stream",
     "text": [
      "INFO:tensorflow:Assets written to: /home/user/workdir/main/src/model/nitrate/scaled_o3/input5/final_model-167-0.16/assets\n"
     ]
    },
    {
     "name": "stdout",
     "output_type": "stream",
     "text": [
      "3/3 [==============================] - 9s 4s/step - loss: 0.0824 - val_loss: 0.1588 - lr: 0.0010\n",
      "Epoch 168/1000\n",
      "3/3 [==============================] - ETA: 0s - loss: 0.0829INFO:tensorflow:Assets written to: /home/user/workdir/main/src/model/nitrate/scaled_o3/input5/final_model-168-0.16/assets\n"
     ]
    },
    {
     "name": "stderr",
     "output_type": "stream",
     "text": [
      "INFO:tensorflow:Assets written to: /home/user/workdir/main/src/model/nitrate/scaled_o3/input5/final_model-168-0.16/assets\n"
     ]
    },
    {
     "name": "stdout",
     "output_type": "stream",
     "text": [
      "3/3 [==============================] - 12s 6s/step - loss: 0.0829 - val_loss: 0.1574 - lr: 0.0010\n",
      "Epoch 169/1000\n",
      "3/3 [==============================] - ETA: 0s - loss: 0.0807INFO:tensorflow:Assets written to: /home/user/workdir/main/src/model/nitrate/scaled_o3/input5/final_model-169-0.15/assets\n"
     ]
    },
    {
     "name": "stderr",
     "output_type": "stream",
     "text": [
      "INFO:tensorflow:Assets written to: /home/user/workdir/main/src/model/nitrate/scaled_o3/input5/final_model-169-0.15/assets\n"
     ]
    },
    {
     "name": "stdout",
     "output_type": "stream",
     "text": [
      "3/3 [==============================] - 9s 5s/step - loss: 0.0807 - val_loss: 0.1485 - lr: 0.0010\n",
      "Epoch 170/1000\n",
      "3/3 [==============================] - 0s 195ms/step - loss: 0.0816 - val_loss: 0.1511 - lr: 0.0010\n",
      "Epoch 171/1000\n",
      "3/3 [==============================] - ETA: 0s - loss: 0.0816INFO:tensorflow:Assets written to: /home/user/workdir/main/src/model/nitrate/scaled_o3/input5/final_model-171-0.14/assets\n"
     ]
    },
    {
     "name": "stderr",
     "output_type": "stream",
     "text": [
      "INFO:tensorflow:Assets written to: /home/user/workdir/main/src/model/nitrate/scaled_o3/input5/final_model-171-0.14/assets\n"
     ]
    },
    {
     "name": "stdout",
     "output_type": "stream",
     "text": [
      "3/3 [==============================] - 9s 4s/step - loss: 0.0816 - val_loss: 0.1403 - lr: 0.0010\n",
      "Epoch 172/1000\n",
      "3/3 [==============================] - ETA: 0s - loss: 0.0839INFO:tensorflow:Assets written to: /home/user/workdir/main/src/model/nitrate/scaled_o3/input5/final_model-172-0.13/assets\n"
     ]
    },
    {
     "name": "stderr",
     "output_type": "stream",
     "text": [
      "INFO:tensorflow:Assets written to: /home/user/workdir/main/src/model/nitrate/scaled_o3/input5/final_model-172-0.13/assets\n"
     ]
    },
    {
     "name": "stdout",
     "output_type": "stream",
     "text": [
      "3/3 [==============================] - 13s 6s/step - loss: 0.0839 - val_loss: 0.1314 - lr: 0.0010\n",
      "Epoch 173/1000\n",
      "3/3 [==============================] - ETA: 0s - loss: 0.0836INFO:tensorflow:Assets written to: /home/user/workdir/main/src/model/nitrate/scaled_o3/input5/final_model-173-0.12/assets\n"
     ]
    },
    {
     "name": "stderr",
     "output_type": "stream",
     "text": [
      "INFO:tensorflow:Assets written to: /home/user/workdir/main/src/model/nitrate/scaled_o3/input5/final_model-173-0.12/assets\n"
     ]
    },
    {
     "name": "stdout",
     "output_type": "stream",
     "text": [
      "3/3 [==============================] - 9s 4s/step - loss: 0.0836 - val_loss: 0.1233 - lr: 0.0010\n",
      "Epoch 174/1000\n",
      "3/3 [==============================] - ETA: 0s - loss: 0.0824INFO:tensorflow:Assets written to: /home/user/workdir/main/src/model/nitrate/scaled_o3/input5/final_model-174-0.12/assets\n"
     ]
    },
    {
     "name": "stderr",
     "output_type": "stream",
     "text": [
      "INFO:tensorflow:Assets written to: /home/user/workdir/main/src/model/nitrate/scaled_o3/input5/final_model-174-0.12/assets\n"
     ]
    },
    {
     "name": "stdout",
     "output_type": "stream",
     "text": [
      "3/3 [==============================] - 12s 6s/step - loss: 0.0824 - val_loss: 0.1210 - lr: 0.0010\n",
      "Epoch 175/1000\n",
      "3/3 [==============================] - 0s 222ms/step - loss: 0.0811 - val_loss: 0.1289 - lr: 0.0010\n",
      "Epoch 176/1000\n",
      "3/3 [==============================] - 0s 208ms/step - loss: 0.0801 - val_loss: 0.1319 - lr: 0.0010\n",
      "Epoch 177/1000\n",
      "3/3 [==============================] - 0s 200ms/step - loss: 0.0807 - val_loss: 0.1347 - lr: 0.0010\n",
      "Epoch 178/1000\n",
      "3/3 [==============================] - 0s 196ms/step - loss: 0.0797 - val_loss: 0.1632 - lr: 0.0010\n",
      "Epoch 179/1000\n",
      "3/3 [==============================] - 0s 203ms/step - loss: 0.0801 - val_loss: 0.1383 - lr: 0.0010\n",
      "Epoch 180/1000\n",
      "2/3 [===================>..........] - ETA: 0s - loss: 0.0798INFO:tensorflow:Assets written to: /home/user/workdir/main/src/model/nitrate/scaled_o3/input5/final_model-180-0.12/assets\n"
     ]
    },
    {
     "name": "stderr",
     "output_type": "stream",
     "text": [
      "INFO:tensorflow:Assets written to: /home/user/workdir/main/src/model/nitrate/scaled_o3/input5/final_model-180-0.12/assets\n"
     ]
    },
    {
     "name": "stdout",
     "output_type": "stream",
     "text": [
      "3/3 [==============================] - 9s 4s/step - loss: 0.0797 - val_loss: 0.1162 - lr: 0.0010\n",
      "Epoch 181/1000\n",
      "3/3 [==============================] - 0s 203ms/step - loss: 0.0811 - val_loss: 0.1166 - lr: 0.0010\n",
      "Epoch 182/1000\n",
      "3/3 [==============================] - ETA: 0s - loss: 0.0835INFO:tensorflow:Assets written to: /home/user/workdir/main/src/model/nitrate/scaled_o3/input5/final_model-182-0.11/assets\n"
     ]
    },
    {
     "name": "stderr",
     "output_type": "stream",
     "text": [
      "INFO:tensorflow:Assets written to: /home/user/workdir/main/src/model/nitrate/scaled_o3/input5/final_model-182-0.11/assets\n"
     ]
    },
    {
     "name": "stdout",
     "output_type": "stream",
     "text": [
      "3/3 [==============================] - 9s 4s/step - loss: 0.0835 - val_loss: 0.1090 - lr: 0.0010\n",
      "Epoch 183/1000\n",
      "3/3 [==============================] - ETA: 0s - loss: 0.0837INFO:tensorflow:Assets written to: /home/user/workdir/main/src/model/nitrate/scaled_o3/input5/final_model-183-0.10/assets\n"
     ]
    },
    {
     "name": "stderr",
     "output_type": "stream",
     "text": [
      "INFO:tensorflow:Assets written to: /home/user/workdir/main/src/model/nitrate/scaled_o3/input5/final_model-183-0.10/assets\n"
     ]
    },
    {
     "name": "stdout",
     "output_type": "stream",
     "text": [
      "3/3 [==============================] - 13s 6s/step - loss: 0.0837 - val_loss: 0.1032 - lr: 0.0010\n",
      "Epoch 184/1000\n",
      "3/3 [==============================] - 0s 202ms/step - loss: 0.0810 - val_loss: 0.1035 - lr: 0.0010\n",
      "Epoch 185/1000\n",
      "2/3 [===================>..........] - ETA: 0s - loss: 0.0798INFO:tensorflow:Assets written to: /home/user/workdir/main/src/model/nitrate/scaled_o3/input5/final_model-185-0.10/assets\n"
     ]
    },
    {
     "name": "stderr",
     "output_type": "stream",
     "text": [
      "INFO:tensorflow:Assets written to: /home/user/workdir/main/src/model/nitrate/scaled_o3/input5/final_model-185-0.10/assets\n"
     ]
    },
    {
     "name": "stdout",
     "output_type": "stream",
     "text": [
      "3/3 [==============================] - 9s 4s/step - loss: 0.0797 - val_loss: 0.0979 - lr: 0.0010\n",
      "Epoch 186/1000\n",
      "3/3 [==============================] - 0s 181ms/step - loss: 0.0789 - val_loss: 0.1020 - lr: 0.0010\n",
      "Epoch 187/1000\n",
      "2/3 [===================>..........] - ETA: 0s - loss: 0.0784INFO:tensorflow:Assets written to: /home/user/workdir/main/src/model/nitrate/scaled_o3/input5/final_model-187-0.10/assets\n"
     ]
    },
    {
     "name": "stderr",
     "output_type": "stream",
     "text": [
      "INFO:tensorflow:Assets written to: /home/user/workdir/main/src/model/nitrate/scaled_o3/input5/final_model-187-0.10/assets\n"
     ]
    },
    {
     "name": "stdout",
     "output_type": "stream",
     "text": [
      "3/3 [==============================] - 9s 4s/step - loss: 0.0784 - val_loss: 0.0973 - lr: 0.0010\n",
      "Epoch 188/1000\n",
      "3/3 [==============================] - 0s 192ms/step - loss: 0.0794 - val_loss: 0.0982 - lr: 0.0010\n",
      "Epoch 189/1000\n",
      "3/3 [==============================] - ETA: 0s - loss: 0.0788INFO:tensorflow:Assets written to: /home/user/workdir/main/src/model/nitrate/scaled_o3/input5/final_model-189-0.10/assets\n"
     ]
    },
    {
     "name": "stderr",
     "output_type": "stream",
     "text": [
      "INFO:tensorflow:Assets written to: /home/user/workdir/main/src/model/nitrate/scaled_o3/input5/final_model-189-0.10/assets\n"
     ]
    },
    {
     "name": "stdout",
     "output_type": "stream",
     "text": [
      "3/3 [==============================] - 13s 6s/step - loss: 0.0788 - val_loss: 0.0967 - lr: 0.0010\n",
      "Epoch 190/1000\n",
      "3/3 [==============================] - 0s 188ms/step - loss: 0.0807 - val_loss: 0.0979 - lr: 0.0010\n",
      "Epoch 191/1000\n",
      "2/3 [===================>..........] - ETA: 0s - loss: 0.0774INFO:tensorflow:Assets written to: /home/user/workdir/main/src/model/nitrate/scaled_o3/input5/final_model-191-0.10/assets\n"
     ]
    },
    {
     "name": "stderr",
     "output_type": "stream",
     "text": [
      "INFO:tensorflow:Assets written to: /home/user/workdir/main/src/model/nitrate/scaled_o3/input5/final_model-191-0.10/assets\n"
     ]
    },
    {
     "name": "stdout",
     "output_type": "stream",
     "text": [
      "3/3 [==============================] - 9s 4s/step - loss: 0.0776 - val_loss: 0.0967 - lr: 0.0010\n",
      "Epoch 192/1000\n",
      "3/3 [==============================] - ETA: 0s - loss: 0.0787INFO:tensorflow:Assets written to: /home/user/workdir/main/src/model/nitrate/scaled_o3/input5/final_model-192-0.10/assets\n"
     ]
    },
    {
     "name": "stderr",
     "output_type": "stream",
     "text": [
      "INFO:tensorflow:Assets written to: /home/user/workdir/main/src/model/nitrate/scaled_o3/input5/final_model-192-0.10/assets\n"
     ]
    },
    {
     "name": "stdout",
     "output_type": "stream",
     "text": [
      "3/3 [==============================] - 9s 4s/step - loss: 0.0787 - val_loss: 0.0955 - lr: 0.0010\n",
      "Epoch 193/1000\n",
      "3/3 [==============================] - 0s 200ms/step - loss: 0.0779 - val_loss: 0.0960 - lr: 0.0010\n",
      "Epoch 194/1000\n",
      "3/3 [==============================] - ETA: 0s - loss: 0.0788INFO:tensorflow:Assets written to: /home/user/workdir/main/src/model/nitrate/scaled_o3/input5/final_model-194-0.09/assets\n"
     ]
    },
    {
     "name": "stderr",
     "output_type": "stream",
     "text": [
      "INFO:tensorflow:Assets written to: /home/user/workdir/main/src/model/nitrate/scaled_o3/input5/final_model-194-0.09/assets\n"
     ]
    },
    {
     "name": "stdout",
     "output_type": "stream",
     "text": [
      "3/3 [==============================] - 13s 6s/step - loss: 0.0788 - val_loss: 0.0935 - lr: 0.0010\n",
      "Epoch 195/1000\n",
      "3/3 [==============================] - ETA: 0s - loss: 0.0782INFO:tensorflow:Assets written to: /home/user/workdir/main/src/model/nitrate/scaled_o3/input5/final_model-195-0.09/assets\n"
     ]
    },
    {
     "name": "stderr",
     "output_type": "stream",
     "text": [
      "INFO:tensorflow:Assets written to: /home/user/workdir/main/src/model/nitrate/scaled_o3/input5/final_model-195-0.09/assets\n"
     ]
    },
    {
     "name": "stdout",
     "output_type": "stream",
     "text": [
      "3/3 [==============================] - 9s 5s/step - loss: 0.0782 - val_loss: 0.0928 - lr: 0.0010\n",
      "Epoch 196/1000\n",
      "2/3 [===================>..........] - ETA: 0s - loss: 0.0775INFO:tensorflow:Assets written to: /home/user/workdir/main/src/model/nitrate/scaled_o3/input5/final_model-196-0.09/assets\n"
     ]
    },
    {
     "name": "stderr",
     "output_type": "stream",
     "text": [
      "INFO:tensorflow:Assets written to: /home/user/workdir/main/src/model/nitrate/scaled_o3/input5/final_model-196-0.09/assets\n"
     ]
    },
    {
     "name": "stdout",
     "output_type": "stream",
     "text": [
      "3/3 [==============================] - 9s 4s/step - loss: 0.0779 - val_loss: 0.0924 - lr: 0.0010\n",
      "Epoch 197/1000\n",
      "3/3 [==============================] - 0s 197ms/step - loss: 0.0790 - val_loss: 0.1032 - lr: 0.0010\n",
      "Epoch 198/1000\n",
      "3/3 [==============================] - ETA: 0s - loss: 0.0812INFO:tensorflow:Assets written to: /home/user/workdir/main/src/model/nitrate/scaled_o3/input5/final_model-198-0.09/assets\n"
     ]
    },
    {
     "name": "stderr",
     "output_type": "stream",
     "text": [
      "INFO:tensorflow:Assets written to: /home/user/workdir/main/src/model/nitrate/scaled_o3/input5/final_model-198-0.09/assets\n"
     ]
    },
    {
     "name": "stdout",
     "output_type": "stream",
     "text": [
      "3/3 [==============================] - 13s 6s/step - loss: 0.0812 - val_loss: 0.0893 - lr: 0.0010\n",
      "Epoch 199/1000\n",
      "3/3 [==============================] - 0s 203ms/step - loss: 0.0783 - val_loss: 0.0913 - lr: 0.0010\n",
      "Epoch 200/1000\n",
      "3/3 [==============================] - 0s 208ms/step - loss: 0.0807 - val_loss: 0.0986 - lr: 0.0010\n",
      "Epoch 201/1000\n",
      "3/3 [==============================] - 0s 218ms/step - loss: 0.0784 - val_loss: 0.1042 - lr: 0.0010\n",
      "Epoch 202/1000\n",
      "3/3 [==============================] - 0s 192ms/step - loss: 0.0779 - val_loss: 0.0974 - lr: 0.0010\n",
      "Epoch 203/1000\n",
      "3/3 [==============================] - 0s 204ms/step - loss: 0.0782 - val_loss: 0.0977 - lr: 0.0010\n",
      "Epoch 204/1000\n",
      "3/3 [==============================] - ETA: 0s - loss: 0.0783INFO:tensorflow:Assets written to: /home/user/workdir/main/src/model/nitrate/scaled_o3/input5/final_model-204-0.09/assets\n"
     ]
    },
    {
     "name": "stderr",
     "output_type": "stream",
     "text": [
      "INFO:tensorflow:Assets written to: /home/user/workdir/main/src/model/nitrate/scaled_o3/input5/final_model-204-0.09/assets\n"
     ]
    },
    {
     "name": "stdout",
     "output_type": "stream",
     "text": [
      "3/3 [==============================] - 9s 4s/step - loss: 0.0783 - val_loss: 0.0866 - lr: 0.0010\n",
      "Epoch 205/1000\n",
      "3/3 [==============================] - 0s 200ms/step - loss: 0.0787 - val_loss: 0.0886 - lr: 0.0010\n",
      "Epoch 206/1000\n",
      "3/3 [==============================] - ETA: 0s - loss: 0.0801INFO:tensorflow:Assets written to: /home/user/workdir/main/src/model/nitrate/scaled_o3/input5/final_model-206-0.09/assets\n"
     ]
    },
    {
     "name": "stderr",
     "output_type": "stream",
     "text": [
      "INFO:tensorflow:Assets written to: /home/user/workdir/main/src/model/nitrate/scaled_o3/input5/final_model-206-0.09/assets\n"
     ]
    },
    {
     "name": "stdout",
     "output_type": "stream",
     "text": [
      "3/3 [==============================] - 9s 4s/step - loss: 0.0801 - val_loss: 0.0856 - lr: 0.0010\n",
      "Epoch 207/1000\n",
      "3/3 [==============================] - 0s 202ms/step - loss: 0.0783 - val_loss: 0.0886 - lr: 0.0010\n",
      "Epoch 208/1000\n",
      "3/3 [==============================] - ETA: 0s - loss: 0.0794INFO:tensorflow:Assets written to: /home/user/workdir/main/src/model/nitrate/scaled_o3/input5/final_model-208-0.08/assets\n"
     ]
    },
    {
     "name": "stderr",
     "output_type": "stream",
     "text": [
      "INFO:tensorflow:Assets written to: /home/user/workdir/main/src/model/nitrate/scaled_o3/input5/final_model-208-0.08/assets\n"
     ]
    },
    {
     "name": "stdout",
     "output_type": "stream",
     "text": [
      "3/3 [==============================] - 13s 7s/step - loss: 0.0794 - val_loss: 0.0833 - lr: 0.0010\n",
      "Epoch 209/1000\n",
      "3/3 [==============================] - 0s 205ms/step - loss: 0.0792 - val_loss: 0.0873 - lr: 0.0010\n",
      "Epoch 210/1000\n",
      "3/3 [==============================] - 1s 230ms/step - loss: 0.0781 - val_loss: 0.0853 - lr: 0.0010\n",
      "Epoch 211/1000\n",
      "3/3 [==============================] - 0s 192ms/step - loss: 0.0778 - val_loss: 0.0906 - lr: 0.0010\n",
      "Epoch 212/1000\n",
      "3/3 [==============================] - 0s 199ms/step - loss: 0.0797 - val_loss: 0.0903 - lr: 0.0010\n",
      "Epoch 213/1000\n",
      "3/3 [==============================] - 0s 193ms/step - loss: 0.0788 - val_loss: 0.0865 - lr: 0.0010\n",
      "Epoch 214/1000\n",
      "3/3 [==============================] - 1s 238ms/step - loss: 0.0780 - val_loss: 0.0852 - lr: 0.0010\n",
      "Epoch 215/1000\n",
      "3/3 [==============================] - 0s 186ms/step - loss: 0.0779 - val_loss: 0.0845 - lr: 0.0010\n",
      "Epoch 216/1000\n",
      "3/3 [==============================] - 1s 228ms/step - loss: 0.0783 - val_loss: 0.0932 - lr: 0.0010\n",
      "Epoch 217/1000\n",
      "3/3 [==============================] - 0s 204ms/step - loss: 0.0792 - val_loss: 0.0844 - lr: 0.0010\n",
      "Epoch 218/1000\n",
      "3/3 [==============================] - 1s 234ms/step - loss: 0.0792 - val_loss: 0.0835 - lr: 0.0010\n",
      "Epoch 219/1000\n",
      "3/3 [==============================] - 1s 231ms/step - loss: 0.0779 - val_loss: 0.0852 - lr: 0.0010\n",
      "Epoch 220/1000\n",
      "3/3 [==============================] - 0s 204ms/step - loss: 0.0776 - val_loss: 0.0972 - lr: 0.0010\n",
      "Epoch 221/1000\n",
      "3/3 [==============================] - 0s 214ms/step - loss: 0.0787 - val_loss: 0.0928 - lr: 0.0010\n",
      "Epoch 222/1000\n",
      "3/3 [==============================] - 0s 221ms/step - loss: 0.0813 - val_loss: 0.0866 - lr: 0.0010\n",
      "Epoch 223/1000\n",
      "3/3 [==============================] - 1s 246ms/step - loss: 0.0814 - val_loss: 0.0847 - lr: 0.0010\n",
      "Epoch 224/1000\n",
      "3/3 [==============================] - ETA: 0s - loss: 0.0790INFO:tensorflow:Assets written to: /home/user/workdir/main/src/model/nitrate/scaled_o3/input5/final_model-224-0.08/assets\n"
     ]
    },
    {
     "name": "stderr",
     "output_type": "stream",
     "text": [
      "INFO:tensorflow:Assets written to: /home/user/workdir/main/src/model/nitrate/scaled_o3/input5/final_model-224-0.08/assets\n"
     ]
    },
    {
     "name": "stdout",
     "output_type": "stream",
     "text": [
      "3/3 [==============================] - 9s 4s/step - loss: 0.0790 - val_loss: 0.0823 - lr: 0.0010\n",
      "Epoch 225/1000\n",
      "3/3 [==============================] - 0s 226ms/step - loss: 0.0782 - val_loss: 0.0907 - lr: 0.0010\n",
      "Epoch 226/1000\n",
      "3/3 [==============================] - 0s 206ms/step - loss: 0.0778 - val_loss: 0.0840 - lr: 0.0010\n",
      "Epoch 227/1000\n",
      "3/3 [==============================] - ETA: 0s - loss: 0.0789INFO:tensorflow:Assets written to: /home/user/workdir/main/src/model/nitrate/scaled_o3/input5/final_model-227-0.08/assets\n"
     ]
    },
    {
     "name": "stderr",
     "output_type": "stream",
     "text": [
      "INFO:tensorflow:Assets written to: /home/user/workdir/main/src/model/nitrate/scaled_o3/input5/final_model-227-0.08/assets\n"
     ]
    },
    {
     "name": "stdout",
     "output_type": "stream",
     "text": [
      "3/3 [==============================] - 13s 6s/step - loss: 0.0789 - val_loss: 0.0818 - lr: 0.0010\n",
      "Epoch 228/1000\n",
      "3/3 [==============================] - 1s 231ms/step - loss: 0.0778 - val_loss: 0.0849 - lr: 0.0010\n",
      "Epoch 229/1000\n",
      "3/3 [==============================] - 1s 232ms/step - loss: 0.0783 - val_loss: 0.0855 - lr: 0.0010\n",
      "Epoch 230/1000\n",
      "3/3 [==============================] - 0s 212ms/step - loss: 0.0779 - val_loss: 0.0821 - lr: 0.0010\n",
      "Epoch 231/1000\n",
      "3/3 [==============================] - 0s 221ms/step - loss: 0.0783 - val_loss: 0.0827 - lr: 0.0010\n",
      "Epoch 232/1000\n",
      "3/3 [==============================] - ETA: 0s - loss: 0.0769INFO:tensorflow:Assets written to: /home/user/workdir/main/src/model/nitrate/scaled_o3/input5/final_model-232-0.08/assets\n"
     ]
    },
    {
     "name": "stderr",
     "output_type": "stream",
     "text": [
      "INFO:tensorflow:Assets written to: /home/user/workdir/main/src/model/nitrate/scaled_o3/input5/final_model-232-0.08/assets\n"
     ]
    },
    {
     "name": "stdout",
     "output_type": "stream",
     "text": [
      "3/3 [==============================] - 9s 4s/step - loss: 0.0769 - val_loss: 0.0812 - lr: 0.0010\n",
      "Epoch 233/1000\n",
      "3/3 [==============================] - 0s 205ms/step - loss: 0.0764 - val_loss: 0.0835 - lr: 0.0010\n",
      "Epoch 234/1000\n",
      "3/3 [==============================] - 0s 185ms/step - loss: 0.0773 - val_loss: 0.0824 - lr: 0.0010\n",
      "Epoch 235/1000\n",
      "3/3 [==============================] - 0s 196ms/step - loss: 0.0760 - val_loss: 0.0812 - lr: 0.0010\n",
      "Epoch 236/1000\n",
      "3/3 [==============================] - 0s 195ms/step - loss: 0.0758 - val_loss: 0.0820 - lr: 0.0010\n",
      "Epoch 237/1000\n",
      "3/3 [==============================] - ETA: 0s - loss: 0.0764INFO:tensorflow:Assets written to: /home/user/workdir/main/src/model/nitrate/scaled_o3/input5/final_model-237-0.08/assets\n"
     ]
    },
    {
     "name": "stderr",
     "output_type": "stream",
     "text": [
      "INFO:tensorflow:Assets written to: /home/user/workdir/main/src/model/nitrate/scaled_o3/input5/final_model-237-0.08/assets\n"
     ]
    },
    {
     "name": "stdout",
     "output_type": "stream",
     "text": [
      "3/3 [==============================] - 9s 4s/step - loss: 0.0764 - val_loss: 0.0796 - lr: 0.0010\n",
      "Epoch 238/1000\n",
      "3/3 [==============================] - 0s 205ms/step - loss: 0.0762 - val_loss: 0.0852 - lr: 0.0010\n",
      "Epoch 239/1000\n",
      "3/3 [==============================] - 0s 199ms/step - loss: 0.0757 - val_loss: 0.0866 - lr: 0.0010\n",
      "Epoch 240/1000\n",
      "3/3 [==============================] - 0s 218ms/step - loss: 0.0755 - val_loss: 0.0805 - lr: 0.0010\n",
      "Epoch 241/1000\n",
      "3/3 [==============================] - 0s 206ms/step - loss: 0.0762 - val_loss: 0.0823 - lr: 0.0010\n",
      "Epoch 242/1000\n",
      "3/3 [==============================] - 0s 220ms/step - loss: 0.0762 - val_loss: 0.0829 - lr: 0.0010\n",
      "Epoch 243/1000\n",
      "3/3 [==============================] - 0s 186ms/step - loss: 0.0756 - val_loss: 0.0839 - lr: 0.0010\n",
      "Epoch 244/1000\n",
      "3/3 [==============================] - 0s 202ms/step - loss: 0.0758 - val_loss: 0.0985 - lr: 0.0010\n",
      "Epoch 245/1000\n",
      "3/3 [==============================] - 0s 189ms/step - loss: 0.0770 - val_loss: 0.0819 - lr: 0.0010\n",
      "Epoch 246/1000\n",
      "3/3 [==============================] - 0s 188ms/step - loss: 0.0771 - val_loss: 0.0879 - lr: 0.0010\n",
      "Epoch 247/1000\n",
      "3/3 [==============================] - 0s 206ms/step - loss: 0.0766 - val_loss: 0.0900 - lr: 0.0010\n",
      "Epoch 248/1000\n",
      "3/3 [==============================] - 0s 191ms/step - loss: 0.0773 - val_loss: 0.0919 - lr: 0.0010\n",
      "Epoch 249/1000\n",
      "3/3 [==============================] - 0s 179ms/step - loss: 0.0762 - val_loss: 0.0841 - lr: 0.0010\n",
      "Epoch 250/1000\n",
      "3/3 [==============================] - 1s 238ms/step - loss: 0.0773 - val_loss: 0.0867 - lr: 0.0010\n",
      "Epoch 251/1000\n",
      "3/3 [==============================] - 0s 198ms/step - loss: 0.0784 - val_loss: 0.0842 - lr: 0.0010\n",
      "Epoch 252/1000\n",
      "3/3 [==============================] - 0s 207ms/step - loss: 0.0786 - val_loss: 0.0863 - lr: 0.0010\n",
      "Epoch 253/1000\n",
      "3/3 [==============================] - 0s 222ms/step - loss: 0.0764 - val_loss: 0.0891 - lr: 0.0010\n",
      "Epoch 254/1000\n",
      "3/3 [==============================] - 0s 207ms/step - loss: 0.0775 - val_loss: 0.0838 - lr: 0.0010\n",
      "Epoch 255/1000\n",
      "3/3 [==============================] - 0s 193ms/step - loss: 0.0787 - val_loss: 0.0859 - lr: 0.0010\n",
      "Epoch 256/1000\n",
      "3/3 [==============================] - 0s 195ms/step - loss: 0.0762 - val_loss: 0.0807 - lr: 0.0010\n",
      "Epoch 257/1000\n",
      "3/3 [==============================] - 0s 191ms/step - loss: 0.0778 - val_loss: 0.0838 - lr: 0.0010\n",
      "Epoch 258/1000\n",
      "3/3 [==============================] - 0s 184ms/step - loss: 0.0768 - val_loss: 0.0831 - lr: 0.0010\n",
      "Epoch 259/1000\n",
      "3/3 [==============================] - 0s 201ms/step - loss: 0.0755 - val_loss: 0.0799 - lr: 0.0010\n",
      "Epoch 260/1000\n",
      "3/3 [==============================] - 0s 207ms/step - loss: 0.0755 - val_loss: 0.0832 - lr: 0.0010\n",
      "Epoch 261/1000\n",
      "3/3 [==============================] - 0s 196ms/step - loss: 0.0750 - val_loss: 0.0827 - lr: 0.0010\n",
      "Epoch 262/1000\n",
      "3/3 [==============================] - 0s 188ms/step - loss: 0.0754 - val_loss: 0.0828 - lr: 0.0010\n",
      "Epoch 263/1000\n",
      "3/3 [==============================] - 0s 223ms/step - loss: 0.0755 - val_loss: 0.0819 - lr: 0.0010\n",
      "Epoch 264/1000\n",
      "3/3 [==============================] - 0s 200ms/step - loss: 0.0750 - val_loss: 0.0817 - lr: 0.0010\n",
      "Epoch 265/1000\n",
      "3/3 [==============================] - 0s 178ms/step - loss: 0.0771 - val_loss: 0.0874 - lr: 0.0010\n",
      "Epoch 266/1000\n",
      "3/3 [==============================] - 1s 234ms/step - loss: 0.0763 - val_loss: 0.0890 - lr: 0.0010\n",
      "Epoch 267/1000\n",
      "3/3 [==============================] - 0s 215ms/step - loss: 0.0757 - val_loss: 0.0857 - lr: 0.0010\n",
      "Epoch 268/1000\n",
      "3/3 [==============================] - 0s 192ms/step - loss: 0.0760 - val_loss: 0.0876 - lr: 0.0010\n",
      "Epoch 269/1000\n",
      "3/3 [==============================] - 0s 191ms/step - loss: 0.0757 - val_loss: 0.0819 - lr: 0.0010\n",
      "Epoch 270/1000\n",
      "3/3 [==============================] - 0s 225ms/step - loss: 0.0757 - val_loss: 0.0865 - lr: 0.0010\n",
      "Epoch 271/1000\n",
      "3/3 [==============================] - 0s 207ms/step - loss: 0.0774 - val_loss: 0.0836 - lr: 0.0010\n",
      "Epoch 272/1000\n",
      "3/3 [==============================] - 0s 220ms/step - loss: 0.0774 - val_loss: 0.0836 - lr: 0.0010\n",
      "Epoch 273/1000\n",
      "3/3 [==============================] - 1s 241ms/step - loss: 0.0769 - val_loss: 0.0852 - lr: 0.0010\n",
      "Epoch 274/1000\n",
      "3/3 [==============================] - 0s 207ms/step - loss: 0.0759 - val_loss: 0.0854 - lr: 0.0010\n",
      "Epoch 275/1000\n",
      "2/3 [===================>..........] - ETA: 0s - loss: 0.0749INFO:tensorflow:Assets written to: /home/user/workdir/main/src/model/nitrate/scaled_o3/input5/final_model-275-0.08/assets\n"
     ]
    },
    {
     "name": "stderr",
     "output_type": "stream",
     "text": [
      "INFO:tensorflow:Assets written to: /home/user/workdir/main/src/model/nitrate/scaled_o3/input5/final_model-275-0.08/assets\n"
     ]
    },
    {
     "name": "stdout",
     "output_type": "stream",
     "text": [
      "3/3 [==============================] - 13s 7s/step - loss: 0.0757 - val_loss: 0.0796 - lr: 0.0010\n",
      "Epoch 276/1000\n",
      "3/3 [==============================] - 0s 209ms/step - loss: 0.0767 - val_loss: 0.0810 - lr: 0.0010\n",
      "Epoch 277/1000\n",
      "3/3 [==============================] - 0s 200ms/step - loss: 0.0763 - val_loss: 0.0829 - lr: 0.0010\n",
      "Epoch 278/1000\n",
      "3/3 [==============================] - 0s 219ms/step - loss: 0.0751 - val_loss: 0.0836 - lr: 0.0010\n",
      "Epoch 279/1000\n",
      "3/3 [==============================] - 0s 191ms/step - loss: 0.0758 - val_loss: 0.0813 - lr: 0.0010\n",
      "Epoch 280/1000\n",
      "3/3 [==============================] - ETA: 0s - loss: 0.0751INFO:tensorflow:Assets written to: /home/user/workdir/main/src/model/nitrate/scaled_o3/input5/final_model-280-0.08/assets\n"
     ]
    },
    {
     "name": "stderr",
     "output_type": "stream",
     "text": [
      "INFO:tensorflow:Assets written to: /home/user/workdir/main/src/model/nitrate/scaled_o3/input5/final_model-280-0.08/assets\n"
     ]
    },
    {
     "name": "stdout",
     "output_type": "stream",
     "text": [
      "3/3 [==============================] - 9s 5s/step - loss: 0.0751 - val_loss: 0.0790 - lr: 0.0010\n",
      "Epoch 281/1000\n",
      "3/3 [==============================] - 1s 228ms/step - loss: 0.0744 - val_loss: 0.0862 - lr: 0.0010\n",
      "Epoch 282/1000\n",
      "3/3 [==============================] - 0s 207ms/step - loss: 0.0758 - val_loss: 0.0817 - lr: 0.0010\n",
      "Epoch 283/1000\n",
      "3/3 [==============================] - 1s 256ms/step - loss: 0.0746 - val_loss: 0.0856 - lr: 0.0010\n",
      "Epoch 284/1000\n",
      "3/3 [==============================] - 0s 183ms/step - loss: 0.0752 - val_loss: 0.0914 - lr: 0.0010\n",
      "Epoch 285/1000\n",
      "3/3 [==============================] - 0s 202ms/step - loss: 0.0746 - val_loss: 0.0806 - lr: 0.0010\n",
      "Epoch 286/1000\n",
      "3/3 [==============================] - 0s 212ms/step - loss: 0.0777 - val_loss: 0.0818 - lr: 0.0010\n",
      "Epoch 287/1000\n",
      "3/3 [==============================] - 0s 214ms/step - loss: 0.0750 - val_loss: 0.0813 - lr: 0.0010\n",
      "Epoch 288/1000\n",
      "3/3 [==============================] - 0s 199ms/step - loss: 0.0766 - val_loss: 0.0841 - lr: 0.0010\n",
      "Epoch 289/1000\n",
      "3/3 [==============================] - 0s 197ms/step - loss: 0.0755 - val_loss: 0.0817 - lr: 0.0010\n",
      "Epoch 290/1000\n",
      "3/3 [==============================] - 0s 221ms/step - loss: 0.0757 - val_loss: 0.0833 - lr: 0.0010\n",
      "Epoch 291/1000\n",
      "3/3 [==============================] - 0s 183ms/step - loss: 0.0752 - val_loss: 0.0869 - lr: 0.0010\n",
      "Epoch 292/1000\n",
      "3/3 [==============================] - ETA: 0s - loss: 0.0760INFO:tensorflow:Assets written to: /home/user/workdir/main/src/model/nitrate/scaled_o3/input5/final_model-292-0.08/assets\n"
     ]
    },
    {
     "name": "stderr",
     "output_type": "stream",
     "text": [
      "INFO:tensorflow:Assets written to: /home/user/workdir/main/src/model/nitrate/scaled_o3/input5/final_model-292-0.08/assets\n"
     ]
    },
    {
     "name": "stdout",
     "output_type": "stream",
     "text": [
      "3/3 [==============================] - 9s 4s/step - loss: 0.0760 - val_loss: 0.0786 - lr: 0.0010\n",
      "Epoch 293/1000\n",
      "3/3 [==============================] - 0s 210ms/step - loss: 0.0740 - val_loss: 0.0848 - lr: 0.0010\n",
      "Epoch 294/1000\n",
      "3/3 [==============================] - 0s 200ms/step - loss: 0.0746 - val_loss: 0.0813 - lr: 0.0010\n",
      "Epoch 295/1000\n",
      "3/3 [==============================] - 0s 184ms/step - loss: 0.0748 - val_loss: 0.0853 - lr: 0.0010\n",
      "Epoch 296/1000\n",
      "3/3 [==============================] - 0s 198ms/step - loss: 0.0746 - val_loss: 0.0948 - lr: 0.0010\n",
      "Epoch 297/1000\n",
      "3/3 [==============================] - 0s 195ms/step - loss: 0.0745 - val_loss: 0.0921 - lr: 0.0010\n",
      "Epoch 298/1000\n",
      "3/3 [==============================] - 0s 205ms/step - loss: 0.0756 - val_loss: 0.0841 - lr: 0.0010\n",
      "Epoch 299/1000\n",
      "3/3 [==============================] - 0s 202ms/step - loss: 0.0749 - val_loss: 0.0887 - lr: 0.0010\n",
      "Epoch 300/1000\n",
      "3/3 [==============================] - 0s 209ms/step - loss: 0.0744 - val_loss: 0.0827 - lr: 0.0010\n",
      "Epoch 301/1000\n",
      "3/3 [==============================] - 0s 199ms/step - loss: 0.0743 - val_loss: 0.0945 - lr: 0.0010\n",
      "Epoch 302/1000\n",
      "3/3 [==============================] - 0s 225ms/step - loss: 0.0752 - val_loss: 0.0921 - lr: 0.0010\n",
      "Epoch 303/1000\n",
      "3/3 [==============================] - 1s 234ms/step - loss: 0.0737 - val_loss: 0.0796 - lr: 0.0010\n",
      "Epoch 304/1000\n",
      "3/3 [==============================] - 0s 197ms/step - loss: 0.0737 - val_loss: 0.0824 - lr: 0.0010\n",
      "Epoch 305/1000\n",
      "3/3 [==============================] - 0s 222ms/step - loss: 0.0736 - val_loss: 0.0791 - lr: 0.0010\n",
      "Epoch 306/1000\n",
      "3/3 [==============================] - 0s 202ms/step - loss: 0.0740 - val_loss: 0.0798 - lr: 0.0010\n",
      "Epoch 307/1000\n",
      "3/3 [==============================] - 0s 207ms/step - loss: 0.0747 - val_loss: 0.0865 - lr: 0.0010\n",
      "Epoch 308/1000\n",
      "3/3 [==============================] - 0s 203ms/step - loss: 0.0744 - val_loss: 0.0825 - lr: 0.0010\n",
      "Epoch 309/1000\n",
      "3/3 [==============================] - 0s 192ms/step - loss: 0.0755 - val_loss: 0.0813 - lr: 0.0010\n",
      "Epoch 310/1000\n",
      "3/3 [==============================] - 0s 192ms/step - loss: 0.0748 - val_loss: 0.0951 - lr: 0.0010\n",
      "Epoch 311/1000\n",
      "3/3 [==============================] - 0s 195ms/step - loss: 0.0761 - val_loss: 0.0821 - lr: 0.0010\n",
      "Epoch 312/1000\n",
      "3/3 [==============================] - 0s 200ms/step - loss: 0.0747 - val_loss: 0.0938 - lr: 0.0010\n",
      "Epoch 313/1000\n",
      "3/3 [==============================] - 0s 208ms/step - loss: 0.0749 - val_loss: 0.0796 - lr: 0.0010\n",
      "Epoch 314/1000\n",
      "3/3 [==============================] - 0s 187ms/step - loss: 0.0751 - val_loss: 0.0821 - lr: 0.0010\n",
      "Epoch 315/1000\n",
      "3/3 [==============================] - 0s 189ms/step - loss: 0.0759 - val_loss: 0.0812 - lr: 0.0010\n",
      "Epoch 316/1000\n",
      "3/3 [==============================] - 0s 187ms/step - loss: 0.0745 - val_loss: 0.0832 - lr: 0.0010\n",
      "Epoch 317/1000\n",
      "3/3 [==============================] - ETA: 0s - loss: 0.0742INFO:tensorflow:Assets written to: /home/user/workdir/main/src/model/nitrate/scaled_o3/input5/final_model-317-0.08/assets\n"
     ]
    },
    {
     "name": "stderr",
     "output_type": "stream",
     "text": [
      "INFO:tensorflow:Assets written to: /home/user/workdir/main/src/model/nitrate/scaled_o3/input5/final_model-317-0.08/assets\n"
     ]
    },
    {
     "name": "stdout",
     "output_type": "stream",
     "text": [
      "3/3 [==============================] - 13s 7s/step - loss: 0.0742 - val_loss: 0.0766 - lr: 0.0010\n",
      "Epoch 318/1000\n",
      "3/3 [==============================] - 0s 201ms/step - loss: 0.0739 - val_loss: 0.0777 - lr: 0.0010\n",
      "Epoch 319/1000\n",
      "3/3 [==============================] - 0s 217ms/step - loss: 0.0741 - val_loss: 0.0776 - lr: 0.0010\n",
      "Epoch 320/1000\n",
      "3/3 [==============================] - 0s 208ms/step - loss: 0.0742 - val_loss: 0.0854 - lr: 0.0010\n",
      "Epoch 321/1000\n",
      "3/3 [==============================] - 1s 243ms/step - loss: 0.0753 - val_loss: 0.0850 - lr: 0.0010\n",
      "Epoch 322/1000\n",
      "3/3 [==============================] - 0s 213ms/step - loss: 0.0760 - val_loss: 0.0794 - lr: 0.0010\n",
      "Epoch 323/1000\n",
      "3/3 [==============================] - 0s 202ms/step - loss: 0.0762 - val_loss: 0.0780 - lr: 0.0010\n",
      "Epoch 324/1000\n",
      "3/3 [==============================] - 0s 191ms/step - loss: 0.0749 - val_loss: 0.0772 - lr: 0.0010\n",
      "Epoch 325/1000\n",
      "3/3 [==============================] - 0s 208ms/step - loss: 0.0739 - val_loss: 0.0777 - lr: 0.0010\n",
      "Epoch 326/1000\n",
      "3/3 [==============================] - 0s 194ms/step - loss: 0.0752 - val_loss: 0.0809 - lr: 0.0010\n",
      "Epoch 327/1000\n",
      "3/3 [==============================] - 0s 190ms/step - loss: 0.0748 - val_loss: 0.0773 - lr: 0.0010\n",
      "Epoch 328/1000\n",
      "3/3 [==============================] - 0s 190ms/step - loss: 0.0740 - val_loss: 0.0788 - lr: 0.0010\n",
      "Epoch 329/1000\n",
      "3/3 [==============================] - 0s 198ms/step - loss: 0.0746 - val_loss: 0.0770 - lr: 0.0010\n",
      "Epoch 330/1000\n",
      "3/3 [==============================] - 0s 191ms/step - loss: 0.0742 - val_loss: 0.0791 - lr: 0.0010\n",
      "Epoch 331/1000\n",
      "3/3 [==============================] - 0s 220ms/step - loss: 0.0746 - val_loss: 0.0842 - lr: 0.0010\n",
      "Epoch 332/1000\n",
      "3/3 [==============================] - 0s 200ms/step - loss: 0.0756 - val_loss: 0.0838 - lr: 0.0010\n",
      "Epoch 333/1000\n",
      "3/3 [==============================] - 0s 214ms/step - loss: 0.0755 - val_loss: 0.0934 - lr: 0.0010\n",
      "Epoch 334/1000\n",
      "3/3 [==============================] - 0s 228ms/step - loss: 0.0742 - val_loss: 0.0920 - lr: 0.0010\n",
      "Epoch 335/1000\n",
      "3/3 [==============================] - 1s 253ms/step - loss: 0.0748 - val_loss: 0.0837 - lr: 0.0010\n",
      "Epoch 336/1000\n",
      "3/3 [==============================] - 0s 198ms/step - loss: 0.0748 - val_loss: 0.0806 - lr: 0.0010\n",
      "Epoch 337/1000\n",
      "3/3 [==============================] - 0s 191ms/step - loss: 0.0745 - val_loss: 0.0824 - lr: 0.0010\n",
      "Epoch 338/1000\n",
      "3/3 [==============================] - 0s 208ms/step - loss: 0.0740 - val_loss: 0.0800 - lr: 0.0010\n",
      "Epoch 339/1000\n",
      "3/3 [==============================] - 0s 196ms/step - loss: 0.0745 - val_loss: 0.0775 - lr: 0.0010\n",
      "Epoch 340/1000\n",
      "3/3 [==============================] - 0s 190ms/step - loss: 0.0751 - val_loss: 0.0800 - lr: 0.0010\n",
      "Epoch 341/1000\n",
      "3/3 [==============================] - 0s 196ms/step - loss: 0.0741 - val_loss: 0.0772 - lr: 0.0010\n",
      "Epoch 342/1000\n",
      "3/3 [==============================] - 0s 186ms/step - loss: 0.0740 - val_loss: 0.0777 - lr: 0.0010\n",
      "Epoch 343/1000\n",
      "3/3 [==============================] - 0s 183ms/step - loss: 0.0752 - val_loss: 0.0823 - lr: 0.0010\n",
      "Epoch 344/1000\n",
      "3/3 [==============================] - 0s 192ms/step - loss: 0.0754 - val_loss: 0.0794 - lr: 0.0010\n",
      "Epoch 345/1000\n",
      "3/3 [==============================] - 0s 212ms/step - loss: 0.0741 - val_loss: 0.0769 - lr: 0.0010\n",
      "Epoch 346/1000\n",
      "3/3 [==============================] - 0s 198ms/step - loss: 0.0734 - val_loss: 0.0837 - lr: 0.0010\n",
      "Epoch 347/1000\n",
      "3/3 [==============================] - 0s 182ms/step - loss: 0.0740 - val_loss: 0.0788 - lr: 0.0010\n",
      "Epoch 348/1000\n",
      "3/3 [==============================] - 0s 200ms/step - loss: 0.0753 - val_loss: 0.0815 - lr: 0.0010\n",
      "Epoch 349/1000\n",
      "3/3 [==============================] - 0s 208ms/step - loss: 0.0742 - val_loss: 0.0773 - lr: 0.0010\n",
      "Epoch 350/1000\n",
      "3/3 [==============================] - 0s 203ms/step - loss: 0.0742 - val_loss: 0.0797 - lr: 0.0010\n",
      "Epoch 351/1000\n",
      "3/3 [==============================] - 0s 215ms/step - loss: 0.0740 - val_loss: 0.0779 - lr: 0.0010\n",
      "Epoch 352/1000\n",
      "2/3 [===================>..........] - ETA: 0s - loss: 0.0737INFO:tensorflow:Assets written to: /home/user/workdir/main/src/model/nitrate/scaled_o3/input5/final_model-352-0.08/assets\n"
     ]
    },
    {
     "name": "stderr",
     "output_type": "stream",
     "text": [
      "INFO:tensorflow:Assets written to: /home/user/workdir/main/src/model/nitrate/scaled_o3/input5/final_model-352-0.08/assets\n"
     ]
    },
    {
     "name": "stdout",
     "output_type": "stream",
     "text": [
      "3/3 [==============================] - 9s 4s/step - loss: 0.0741 - val_loss: 0.0763 - lr: 0.0010\n",
      "Epoch 353/1000\n",
      "3/3 [==============================] - 0s 197ms/step - loss: 0.0741 - val_loss: 0.0776 - lr: 0.0010\n",
      "Epoch 354/1000\n",
      "3/3 [==============================] - 0s 217ms/step - loss: 0.0753 - val_loss: 0.0783 - lr: 0.0010\n",
      "Epoch 355/1000\n",
      "3/3 [==============================] - 0s 227ms/step - loss: 0.0745 - val_loss: 0.0788 - lr: 0.0010\n",
      "Epoch 356/1000\n",
      "3/3 [==============================] - 1s 234ms/step - loss: 0.0736 - val_loss: 0.0769 - lr: 0.0010\n",
      "Epoch 357/1000\n",
      "3/3 [==============================] - ETA: 0s - loss: 0.0743INFO:tensorflow:Assets written to: /home/user/workdir/main/src/model/nitrate/scaled_o3/input5/final_model-357-0.08/assets\n"
     ]
    },
    {
     "name": "stderr",
     "output_type": "stream",
     "text": [
      "INFO:tensorflow:Assets written to: /home/user/workdir/main/src/model/nitrate/scaled_o3/input5/final_model-357-0.08/assets\n"
     ]
    },
    {
     "name": "stdout",
     "output_type": "stream",
     "text": [
      "3/3 [==============================] - 9s 4s/step - loss: 0.0743 - val_loss: 0.0752 - lr: 0.0010\n",
      "Epoch 358/1000\n",
      "3/3 [==============================] - 0s 217ms/step - loss: 0.0725 - val_loss: 0.0772 - lr: 0.0010\n",
      "Epoch 359/1000\n",
      "3/3 [==============================] - 0s 192ms/step - loss: 0.0728 - val_loss: 0.0754 - lr: 0.0010\n",
      "Epoch 360/1000\n",
      "3/3 [==============================] - 1s 228ms/step - loss: 0.0730 - val_loss: 0.0806 - lr: 0.0010\n",
      "Epoch 361/1000\n",
      "3/3 [==============================] - 0s 201ms/step - loss: 0.0735 - val_loss: 0.0795 - lr: 0.0010\n",
      "Epoch 362/1000\n",
      "3/3 [==============================] - 0s 199ms/step - loss: 0.0740 - val_loss: 0.0810 - lr: 0.0010\n",
      "Epoch 363/1000\n",
      "3/3 [==============================] - 0s 200ms/step - loss: 0.0739 - val_loss: 0.0871 - lr: 0.0010\n",
      "Epoch 364/1000\n",
      "3/3 [==============================] - 1s 223ms/step - loss: 0.0741 - val_loss: 0.0822 - lr: 0.0010\n",
      "Epoch 365/1000\n",
      "3/3 [==============================] - 0s 218ms/step - loss: 0.0734 - val_loss: 0.0756 - lr: 0.0010\n",
      "Epoch 366/1000\n",
      "3/3 [==============================] - 0s 202ms/step - loss: 0.0731 - val_loss: 0.0815 - lr: 0.0010\n",
      "Epoch 367/1000\n",
      "3/3 [==============================] - 0s 183ms/step - loss: 0.0739 - val_loss: 0.0782 - lr: 0.0010\n",
      "Epoch 368/1000\n",
      "3/3 [==============================] - 0s 210ms/step - loss: 0.0747 - val_loss: 0.0786 - lr: 0.0010\n",
      "Epoch 369/1000\n",
      "3/3 [==============================] - 1s 257ms/step - loss: 0.0738 - val_loss: 0.0810 - lr: 0.0010\n",
      "Epoch 370/1000\n",
      "3/3 [==============================] - 0s 209ms/step - loss: 0.0747 - val_loss: 0.0784 - lr: 0.0010\n",
      "Epoch 371/1000\n",
      "3/3 [==============================] - 0s 209ms/step - loss: 0.0748 - val_loss: 0.0805 - lr: 0.0010\n",
      "Epoch 372/1000\n",
      "3/3 [==============================] - 0s 210ms/step - loss: 0.0754 - val_loss: 0.0769 - lr: 0.0010\n",
      "Epoch 373/1000\n",
      "3/3 [==============================] - 0s 189ms/step - loss: 0.0738 - val_loss: 0.0775 - lr: 0.0010\n",
      "Epoch 374/1000\n",
      "3/3 [==============================] - 0s 205ms/step - loss: 0.0735 - val_loss: 0.0764 - lr: 0.0010\n",
      "Epoch 375/1000\n",
      "3/3 [==============================] - 0s 186ms/step - loss: 0.0729 - val_loss: 0.0752 - lr: 0.0010\n",
      "Epoch 376/1000\n",
      "3/3 [==============================] - 0s 184ms/step - loss: 0.0730 - val_loss: 0.0888 - lr: 0.0010\n",
      "Epoch 377/1000\n",
      "3/3 [==============================] - ETA: 0s - loss: 0.0734INFO:tensorflow:Assets written to: /home/user/workdir/main/src/model/nitrate/scaled_o3/input5/final_model-377-0.07/assets\n"
     ]
    },
    {
     "name": "stderr",
     "output_type": "stream",
     "text": [
      "INFO:tensorflow:Assets written to: /home/user/workdir/main/src/model/nitrate/scaled_o3/input5/final_model-377-0.07/assets\n"
     ]
    },
    {
     "name": "stdout",
     "output_type": "stream",
     "text": [
      "3/3 [==============================] - 13s 7s/step - loss: 0.0734 - val_loss: 0.0749 - lr: 0.0010\n",
      "Epoch 378/1000\n",
      "3/3 [==============================] - 0s 188ms/step - loss: 0.0730 - val_loss: 0.0775 - lr: 0.0010\n",
      "Epoch 379/1000\n",
      "3/3 [==============================] - 0s 214ms/step - loss: 0.0730 - val_loss: 0.0779 - lr: 0.0010\n",
      "Epoch 380/1000\n",
      "3/3 [==============================] - 0s 212ms/step - loss: 0.0736 - val_loss: 0.0761 - lr: 0.0010\n",
      "Epoch 381/1000\n",
      "3/3 [==============================] - 0s 219ms/step - loss: 0.0738 - val_loss: 0.0795 - lr: 0.0010\n",
      "Epoch 382/1000\n",
      "3/3 [==============================] - 0s 196ms/step - loss: 0.0729 - val_loss: 0.0758 - lr: 0.0010\n",
      "Epoch 383/1000\n",
      "3/3 [==============================] - 0s 199ms/step - loss: 0.0738 - val_loss: 0.0759 - lr: 0.0010\n",
      "Epoch 384/1000\n",
      "3/3 [==============================] - 0s 210ms/step - loss: 0.0727 - val_loss: 0.0760 - lr: 0.0010\n",
      "Epoch 385/1000\n",
      "3/3 [==============================] - 0s 181ms/step - loss: 0.0733 - val_loss: 0.0809 - lr: 0.0010\n",
      "Epoch 386/1000\n",
      "3/3 [==============================] - 0s 211ms/step - loss: 0.0747 - val_loss: 0.0786 - lr: 0.0010\n",
      "Epoch 387/1000\n",
      "3/3 [==============================] - 0s 206ms/step - loss: 0.0734 - val_loss: 0.0771 - lr: 0.0010\n",
      "Epoch 388/1000\n",
      "3/3 [==============================] - 0s 216ms/step - loss: 0.0734 - val_loss: 0.0765 - lr: 0.0010\n",
      "Epoch 389/1000\n",
      "3/3 [==============================] - 0s 189ms/step - loss: 0.0744 - val_loss: 0.0860 - lr: 0.0010\n",
      "Epoch 390/1000\n",
      "3/3 [==============================] - 1s 239ms/step - loss: 0.0735 - val_loss: 0.0754 - lr: 0.0010\n",
      "Epoch 391/1000\n",
      "3/3 [==============================] - 0s 196ms/step - loss: 0.0730 - val_loss: 0.0756 - lr: 0.0010\n",
      "Epoch 392/1000\n",
      "3/3 [==============================] - 0s 210ms/step - loss: 0.0731 - val_loss: 0.0803 - lr: 0.0010\n",
      "Epoch 393/1000\n",
      "3/3 [==============================] - ETA: 0s - loss: 0.0736INFO:tensorflow:Assets written to: /home/user/workdir/main/src/model/nitrate/scaled_o3/input5/final_model-393-0.07/assets\n"
     ]
    },
    {
     "name": "stderr",
     "output_type": "stream",
     "text": [
      "INFO:tensorflow:Assets written to: /home/user/workdir/main/src/model/nitrate/scaled_o3/input5/final_model-393-0.07/assets\n"
     ]
    },
    {
     "name": "stdout",
     "output_type": "stream",
     "text": [
      "3/3 [==============================] - 9s 5s/step - loss: 0.0736 - val_loss: 0.0741 - lr: 0.0010\n",
      "Epoch 394/1000\n",
      "3/3 [==============================] - 0s 199ms/step - loss: 0.0735 - val_loss: 0.0803 - lr: 0.0010\n",
      "Epoch 395/1000\n",
      "3/3 [==============================] - 0s 209ms/step - loss: 0.0737 - val_loss: 0.0763 - lr: 0.0010\n",
      "Epoch 396/1000\n",
      "3/3 [==============================] - 0s 192ms/step - loss: 0.0738 - val_loss: 0.0750 - lr: 0.0010\n",
      "Epoch 397/1000\n",
      "3/3 [==============================] - 1s 262ms/step - loss: 0.0734 - val_loss: 0.0761 - lr: 0.0010\n",
      "Epoch 398/1000\n",
      "3/3 [==============================] - 0s 218ms/step - loss: 0.0740 - val_loss: 0.0774 - lr: 0.0010\n",
      "Epoch 399/1000\n",
      "3/3 [==============================] - 0s 212ms/step - loss: 0.0736 - val_loss: 0.0763 - lr: 0.0010\n",
      "Epoch 400/1000\n",
      "3/3 [==============================] - 0s 211ms/step - loss: 0.0724 - val_loss: 0.0747 - lr: 0.0010\n",
      "Epoch 401/1000\n",
      "3/3 [==============================] - 0s 201ms/step - loss: 0.0742 - val_loss: 0.0750 - lr: 0.0010\n",
      "Epoch 402/1000\n",
      "3/3 [==============================] - 1s 233ms/step - loss: 0.0730 - val_loss: 0.0813 - lr: 0.0010\n",
      "Epoch 403/1000\n",
      "3/3 [==============================] - 0s 207ms/step - loss: 0.0741 - val_loss: 0.0763 - lr: 0.0010\n",
      "Epoch 404/1000\n",
      "3/3 [==============================] - 0s 222ms/step - loss: 0.0738 - val_loss: 0.0759 - lr: 0.0010\n",
      "Epoch 405/1000\n",
      "3/3 [==============================] - 1s 230ms/step - loss: 0.0741 - val_loss: 0.0765 - lr: 0.0010\n",
      "Epoch 406/1000\n",
      "3/3 [==============================] - 1s 239ms/step - loss: 0.0749 - val_loss: 0.0748 - lr: 0.0010\n",
      "Epoch 407/1000\n",
      "3/3 [==============================] - 0s 206ms/step - loss: 0.0732 - val_loss: 0.0756 - lr: 0.0010\n",
      "Epoch 408/1000\n",
      "3/3 [==============================] - 0s 211ms/step - loss: 0.0729 - val_loss: 0.0756 - lr: 0.0010\n",
      "Epoch 409/1000\n",
      "3/3 [==============================] - 0s 218ms/step - loss: 0.0727 - val_loss: 0.0746 - lr: 0.0010\n",
      "Epoch 410/1000\n",
      "3/3 [==============================] - 1s 240ms/step - loss: 0.0728 - val_loss: 0.0744 - lr: 0.0010\n",
      "Epoch 411/1000\n",
      "3/3 [==============================] - 0s 197ms/step - loss: 0.0728 - val_loss: 0.0749 - lr: 0.0010\n",
      "Epoch 412/1000\n",
      "3/3 [==============================] - 0s 210ms/step - loss: 0.0725 - val_loss: 0.0759 - lr: 0.0010\n",
      "Epoch 413/1000\n",
      "3/3 [==============================] - 0s 220ms/step - loss: 0.0722 - val_loss: 0.0752 - lr: 0.0010\n",
      "Epoch 414/1000\n",
      "3/3 [==============================] - 0s 214ms/step - loss: 0.0721 - val_loss: 0.0787 - lr: 0.0010\n",
      "Epoch 415/1000\n",
      "3/3 [==============================] - 1s 239ms/step - loss: 0.0732 - val_loss: 0.0754 - lr: 0.0010\n",
      "Epoch 416/1000\n",
      "3/3 [==============================] - 0s 218ms/step - loss: 0.0723 - val_loss: 0.0786 - lr: 0.0010\n",
      "Epoch 417/1000\n",
      "3/3 [==============================] - 0s 218ms/step - loss: 0.0722 - val_loss: 0.0764 - lr: 0.0010\n",
      "Epoch 418/1000\n",
      "3/3 [==============================] - 1s 236ms/step - loss: 0.0729 - val_loss: 0.0803 - lr: 0.0010\n",
      "Epoch 419/1000\n",
      "3/3 [==============================] - 1s 231ms/step - loss: 0.0743 - val_loss: 0.0757 - lr: 0.0010\n",
      "Epoch 420/1000\n",
      "3/3 [==============================] - 0s 192ms/step - loss: 0.0731 - val_loss: 0.0772 - lr: 0.0010\n",
      "Epoch 421/1000\n",
      "3/3 [==============================] - 0s 207ms/step - loss: 0.0737 - val_loss: 0.0767 - lr: 0.0010\n",
      "Epoch 422/1000\n",
      "3/3 [==============================] - 0s 207ms/step - loss: 0.0743 - val_loss: 0.0790 - lr: 0.0010\n",
      "Epoch 423/1000\n",
      "3/3 [==============================] - 0s 202ms/step - loss: 0.0739 - val_loss: 0.0760 - lr: 0.0010\n",
      "Epoch 424/1000\n",
      "3/3 [==============================] - 0s 189ms/step - loss: 0.0732 - val_loss: 0.0749 - lr: 0.0010\n",
      "Epoch 425/1000\n",
      "3/3 [==============================] - 0s 174ms/step - loss: 0.0728 - val_loss: 0.0782 - lr: 0.0010\n",
      "Epoch 426/1000\n",
      "3/3 [==============================] - 0s 200ms/step - loss: 0.0736 - val_loss: 0.0749 - lr: 0.0010\n",
      "Epoch 427/1000\n",
      "3/3 [==============================] - 0s 199ms/step - loss: 0.0723 - val_loss: 0.0758 - lr: 0.0010\n",
      "Epoch 428/1000\n",
      "3/3 [==============================] - 0s 207ms/step - loss: 0.0727 - val_loss: 0.0764 - lr: 0.0010\n",
      "Epoch 429/1000\n",
      "3/3 [==============================] - 0s 206ms/step - loss: 0.0728 - val_loss: 0.0747 - lr: 0.0010\n",
      "Epoch 430/1000\n",
      "3/3 [==============================] - 0s 193ms/step - loss: 0.0731 - val_loss: 0.0747 - lr: 0.0010\n",
      "Epoch 431/1000\n",
      "3/3 [==============================] - 0s 211ms/step - loss: 0.0722 - val_loss: 0.0760 - lr: 0.0010\n",
      "Epoch 432/1000\n",
      "3/3 [==============================] - 0s 212ms/step - loss: 0.0727 - val_loss: 0.0796 - lr: 0.0010\n",
      "Epoch 433/1000\n",
      "3/3 [==============================] - 1s 247ms/step - loss: 0.0726 - val_loss: 0.0760 - lr: 0.0010\n",
      "Epoch 434/1000\n",
      "3/3 [==============================] - 0s 198ms/step - loss: 0.0739 - val_loss: 0.0749 - lr: 0.0010\n",
      "Epoch 435/1000\n",
      "3/3 [==============================] - 0s 191ms/step - loss: 0.0725 - val_loss: 0.0743 - lr: 0.0010\n",
      "Epoch 436/1000\n",
      "3/3 [==============================] - 0s 210ms/step - loss: 0.0730 - val_loss: 0.0807 - lr: 0.0010\n",
      "Epoch 437/1000\n",
      "3/3 [==============================] - 0s 223ms/step - loss: 0.0722 - val_loss: 0.0743 - lr: 0.0010\n",
      "Epoch 438/1000\n",
      "3/3 [==============================] - 0s 218ms/step - loss: 0.0727 - val_loss: 0.0753 - lr: 0.0010\n",
      "Epoch 439/1000\n",
      "3/3 [==============================] - 1s 242ms/step - loss: 0.0730 - val_loss: 0.0773 - lr: 0.0010\n",
      "Epoch 440/1000\n",
      "3/3 [==============================] - ETA: 0s - loss: 0.0724INFO:tensorflow:Assets written to: /home/user/workdir/main/src/model/nitrate/scaled_o3/input5/final_model-440-0.07/assets\n"
     ]
    },
    {
     "name": "stderr",
     "output_type": "stream",
     "text": [
      "INFO:tensorflow:Assets written to: /home/user/workdir/main/src/model/nitrate/scaled_o3/input5/final_model-440-0.07/assets\n"
     ]
    },
    {
     "name": "stdout",
     "output_type": "stream",
     "text": [
      "3/3 [==============================] - 9s 4s/step - loss: 0.0724 - val_loss: 0.0741 - lr: 0.0010\n",
      "Epoch 441/1000\n",
      "3/3 [==============================] - 0s 214ms/step - loss: 0.0724 - val_loss: 0.0742 - lr: 0.0010\n",
      "Epoch 442/1000\n",
      "3/3 [==============================] - 0s 192ms/step - loss: 0.0721 - val_loss: 0.0748 - lr: 0.0010\n",
      "Epoch 443/1000\n",
      "3/3 [==============================] - 0s 217ms/step - loss: 0.0729 - val_loss: 0.0748 - lr: 0.0010\n",
      "Epoch 444/1000\n",
      "3/3 [==============================] - 0s 206ms/step - loss: 0.0726 - val_loss: 0.0752 - lr: 0.0010\n",
      "Epoch 445/1000\n",
      "3/3 [==============================] - 0s 194ms/step - loss: 0.0718 - val_loss: 0.0760 - lr: 0.0010\n",
      "Epoch 446/1000\n",
      "3/3 [==============================] - 5s 2s/step - loss: 0.0732 - val_loss: 0.0822 - lr: 0.0010\n",
      "Epoch 447/1000\n",
      "3/3 [==============================] - 0s 227ms/step - loss: 0.0735 - val_loss: 0.0778 - lr: 0.0010\n",
      "Epoch 448/1000\n",
      "3/3 [==============================] - 0s 221ms/step - loss: 0.0735 - val_loss: 0.0753 - lr: 0.0010\n",
      "Epoch 449/1000\n",
      "3/3 [==============================] - 1s 236ms/step - loss: 0.0729 - val_loss: 0.0775 - lr: 0.0010\n",
      "Epoch 450/1000\n",
      "3/3 [==============================] - 0s 211ms/step - loss: 0.0728 - val_loss: 0.0765 - lr: 0.0010\n",
      "Epoch 451/1000\n",
      "3/3 [==============================] - 0s 205ms/step - loss: 0.0732 - val_loss: 0.0761 - lr: 0.0010\n",
      "Epoch 452/1000\n",
      "3/3 [==============================] - 0s 213ms/step - loss: 0.0739 - val_loss: 0.0768 - lr: 0.0010\n",
      "Epoch 453/1000\n",
      "3/3 [==============================] - 0s 213ms/step - loss: 0.0726 - val_loss: 0.0757 - lr: 0.0010\n",
      "Epoch 454/1000\n",
      "3/3 [==============================] - 0s 226ms/step - loss: 0.0729 - val_loss: 0.0769 - lr: 0.0010\n",
      "Epoch 455/1000\n",
      "3/3 [==============================] - 0s 217ms/step - loss: 0.0722 - val_loss: 0.0765 - lr: 0.0010\n",
      "Epoch 456/1000\n",
      "3/3 [==============================] - 0s 217ms/step - loss: 0.0732 - val_loss: 0.0754 - lr: 0.0010\n",
      "Epoch 457/1000\n",
      "3/3 [==============================] - 0s 227ms/step - loss: 0.0731 - val_loss: 0.0787 - lr: 0.0010\n",
      "Epoch 458/1000\n",
      "3/3 [==============================] - 0s 212ms/step - loss: 0.0723 - val_loss: 0.0744 - lr: 0.0010\n",
      "Epoch 459/1000\n",
      "3/3 [==============================] - 0s 203ms/step - loss: 0.0721 - val_loss: 0.0776 - lr: 0.0010\n",
      "Epoch 460/1000\n",
      "3/3 [==============================] - 0s 198ms/step - loss: 0.0724 - val_loss: 0.0818 - lr: 0.0010\n",
      "Epoch 461/1000\n",
      "3/3 [==============================] - 1s 225ms/step - loss: 0.0729 - val_loss: 0.0795 - lr: 0.0010\n",
      "Epoch 462/1000\n",
      "3/3 [==============================] - 0s 218ms/step - loss: 0.0726 - val_loss: 0.0768 - lr: 0.0010\n",
      "Epoch 463/1000\n",
      "3/3 [==============================] - 0s 219ms/step - loss: 0.0724 - val_loss: 0.0745 - lr: 0.0010\n",
      "Epoch 464/1000\n",
      "3/3 [==============================] - 0s 210ms/step - loss: 0.0722 - val_loss: 0.0761 - lr: 0.0010\n",
      "Epoch 465/1000\n",
      "3/3 [==============================] - ETA: 0s - loss: 0.0732INFO:tensorflow:Assets written to: /home/user/workdir/main/src/model/nitrate/scaled_o3/input5/final_model-465-0.07/assets\n"
     ]
    },
    {
     "name": "stderr",
     "output_type": "stream",
     "text": [
      "INFO:tensorflow:Assets written to: /home/user/workdir/main/src/model/nitrate/scaled_o3/input5/final_model-465-0.07/assets\n"
     ]
    },
    {
     "name": "stdout",
     "output_type": "stream",
     "text": [
      "3/3 [==============================] - 9s 5s/step - loss: 0.0732 - val_loss: 0.0740 - lr: 0.0010\n",
      "Epoch 466/1000\n",
      "3/3 [==============================] - 0s 194ms/step - loss: 0.0716 - val_loss: 0.0740 - lr: 0.0010\n",
      "Epoch 467/1000\n",
      "3/3 [==============================] - ETA: 0s - loss: 0.0723INFO:tensorflow:Assets written to: /home/user/workdir/main/src/model/nitrate/scaled_o3/input5/final_model-467-0.07/assets\n"
     ]
    },
    {
     "name": "stderr",
     "output_type": "stream",
     "text": [
      "INFO:tensorflow:Assets written to: /home/user/workdir/main/src/model/nitrate/scaled_o3/input5/final_model-467-0.07/assets\n"
     ]
    },
    {
     "name": "stdout",
     "output_type": "stream",
     "text": [
      "3/3 [==============================] - 9s 4s/step - loss: 0.0723 - val_loss: 0.0737 - lr: 0.0010\n",
      "Epoch 468/1000\n",
      "3/3 [==============================] - 1s 230ms/step - loss: 0.0723 - val_loss: 0.0738 - lr: 0.0010\n",
      "Epoch 469/1000\n",
      "3/3 [==============================] - 0s 199ms/step - loss: 0.0721 - val_loss: 0.0809 - lr: 0.0010\n",
      "Epoch 470/1000\n",
      "3/3 [==============================] - 0s 221ms/step - loss: 0.0726 - val_loss: 0.0742 - lr: 0.0010\n",
      "Epoch 471/1000\n",
      "3/3 [==============================] - 0s 203ms/step - loss: 0.0728 - val_loss: 0.0785 - lr: 0.0010\n",
      "Epoch 472/1000\n",
      "3/3 [==============================] - 0s 184ms/step - loss: 0.0736 - val_loss: 0.0755 - lr: 0.0010\n",
      "Epoch 473/1000\n",
      "3/3 [==============================] - 0s 214ms/step - loss: 0.0735 - val_loss: 0.0756 - lr: 0.0010\n",
      "Epoch 474/1000\n",
      "3/3 [==============================] - 0s 192ms/step - loss: 0.0726 - val_loss: 0.0756 - lr: 0.0010\n",
      "Epoch 475/1000\n",
      "3/3 [==============================] - 0s 189ms/step - loss: 0.0735 - val_loss: 0.0761 - lr: 0.0010\n",
      "Epoch 476/1000\n",
      "3/3 [==============================] - 0s 188ms/step - loss: 0.0736 - val_loss: 0.0763 - lr: 0.0010\n",
      "Epoch 477/1000\n",
      "3/3 [==============================] - 0s 212ms/step - loss: 0.0726 - val_loss: 0.0766 - lr: 0.0010\n",
      "Epoch 478/1000\n",
      "3/3 [==============================] - 0s 184ms/step - loss: 0.0724 - val_loss: 0.0853 - lr: 0.0010\n",
      "Epoch 479/1000\n",
      "3/3 [==============================] - 0s 181ms/step - loss: 0.0738 - val_loss: 0.0743 - lr: 0.0010\n",
      "Epoch 480/1000\n",
      "3/3 [==============================] - 1s 241ms/step - loss: 0.0740 - val_loss: 0.0744 - lr: 0.0010\n",
      "Epoch 481/1000\n",
      "3/3 [==============================] - 0s 192ms/step - loss: 0.0724 - val_loss: 0.0746 - lr: 0.0010\n",
      "Epoch 482/1000\n",
      "3/3 [==============================] - 0s 209ms/step - loss: 0.0732 - val_loss: 0.0791 - lr: 0.0010\n",
      "Epoch 483/1000\n",
      "3/3 [==============================] - 0s 198ms/step - loss: 0.0730 - val_loss: 0.0751 - lr: 0.0010\n",
      "Epoch 484/1000\n",
      "3/3 [==============================] - 0s 205ms/step - loss: 0.0724 - val_loss: 0.0748 - lr: 0.0010\n",
      "Epoch 485/1000\n",
      "3/3 [==============================] - 1s 226ms/step - loss: 0.0723 - val_loss: 0.0749 - lr: 0.0010\n",
      "Epoch 486/1000\n",
      "3/3 [==============================] - ETA: 0s - loss: 0.0720INFO:tensorflow:Assets written to: /home/user/workdir/main/src/model/nitrate/scaled_o3/input5/final_model-486-0.07/assets\n"
     ]
    },
    {
     "name": "stderr",
     "output_type": "stream",
     "text": [
      "INFO:tensorflow:Assets written to: /home/user/workdir/main/src/model/nitrate/scaled_o3/input5/final_model-486-0.07/assets\n"
     ]
    },
    {
     "name": "stdout",
     "output_type": "stream",
     "text": [
      "3/3 [==============================] - 13s 7s/step - loss: 0.0720 - val_loss: 0.0737 - lr: 0.0010\n",
      "Epoch 487/1000\n",
      "3/3 [==============================] - 0s 208ms/step - loss: 0.0720 - val_loss: 0.0743 - lr: 0.0010\n",
      "Epoch 488/1000\n",
      "3/3 [==============================] - ETA: 0s - loss: 0.0716INFO:tensorflow:Assets written to: /home/user/workdir/main/src/model/nitrate/scaled_o3/input5/final_model-488-0.07/assets\n"
     ]
    },
    {
     "name": "stderr",
     "output_type": "stream",
     "text": [
      "INFO:tensorflow:Assets written to: /home/user/workdir/main/src/model/nitrate/scaled_o3/input5/final_model-488-0.07/assets\n"
     ]
    },
    {
     "name": "stdout",
     "output_type": "stream",
     "text": [
      "3/3 [==============================] - 9s 5s/step - loss: 0.0716 - val_loss: 0.0734 - lr: 0.0010\n",
      "Epoch 489/1000\n",
      "3/3 [==============================] - 0s 211ms/step - loss: 0.0727 - val_loss: 0.0735 - lr: 0.0010\n",
      "Epoch 490/1000\n",
      "3/3 [==============================] - 1s 252ms/step - loss: 0.0723 - val_loss: 0.0758 - lr: 0.0010\n",
      "Epoch 491/1000\n",
      "3/3 [==============================] - 0s 211ms/step - loss: 0.0724 - val_loss: 0.0740 - lr: 0.0010\n",
      "Epoch 492/1000\n",
      "3/3 [==============================] - 0s 222ms/step - loss: 0.0723 - val_loss: 0.0747 - lr: 0.0010\n",
      "Epoch 493/1000\n",
      "3/3 [==============================] - 1s 238ms/step - loss: 0.0734 - val_loss: 0.0735 - lr: 0.0010\n",
      "Epoch 494/1000\n",
      "3/3 [==============================] - 1s 239ms/step - loss: 0.0720 - val_loss: 0.0739 - lr: 0.0010\n",
      "Epoch 495/1000\n",
      "3/3 [==============================] - 0s 213ms/step - loss: 0.0724 - val_loss: 0.0807 - lr: 0.0010\n",
      "Epoch 496/1000\n",
      "3/3 [==============================] - 0s 197ms/step - loss: 0.0726 - val_loss: 0.0787 - lr: 0.0010\n",
      "Epoch 497/1000\n",
      "3/3 [==============================] - 0s 200ms/step - loss: 0.0730 - val_loss: 0.0742 - lr: 0.0010\n",
      "Epoch 498/1000\n",
      "3/3 [==============================] - 0s 198ms/step - loss: 0.0728 - val_loss: 0.0766 - lr: 0.0010\n",
      "Epoch 499/1000\n",
      "3/3 [==============================] - 0s 212ms/step - loss: 0.0731 - val_loss: 0.0754 - lr: 0.0010\n",
      "Epoch 500/1000\n",
      "3/3 [==============================] - 0s 224ms/step - loss: 0.0721 - val_loss: 0.0745 - lr: 0.0010\n",
      "Epoch 501/1000\n",
      "3/3 [==============================] - 0s 220ms/step - loss: 0.0729 - val_loss: 0.0763 - lr: 0.0010\n",
      "Epoch 502/1000\n",
      "3/3 [==============================] - 1s 238ms/step - loss: 0.0718 - val_loss: 0.0737 - lr: 0.0010\n",
      "Epoch 503/1000\n",
      "3/3 [==============================] - 1s 247ms/step - loss: 0.0720 - val_loss: 0.0786 - lr: 0.0010\n",
      "Epoch 504/1000\n",
      "3/3 [==============================] - 0s 191ms/step - loss: 0.0733 - val_loss: 0.0804 - lr: 0.0010\n",
      "Epoch 505/1000\n",
      "3/3 [==============================] - 0s 206ms/step - loss: 0.0744 - val_loss: 0.0783 - lr: 0.0010\n",
      "Epoch 506/1000\n",
      "3/3 [==============================] - 0s 214ms/step - loss: 0.0750 - val_loss: 0.0774 - lr: 0.0010\n",
      "Epoch 507/1000\n",
      "3/3 [==============================] - 0s 215ms/step - loss: 0.0737 - val_loss: 0.0742 - lr: 0.0010\n",
      "Epoch 508/1000\n",
      "3/3 [==============================] - 0s 223ms/step - loss: 0.0746 - val_loss: 0.0833 - lr: 0.0010\n",
      "Epoch 509/1000\n",
      "3/3 [==============================] - 0s 207ms/step - loss: 0.0743 - val_loss: 0.0782 - lr: 0.0010\n",
      "Epoch 510/1000\n",
      "3/3 [==============================] - 0s 208ms/step - loss: 0.0735 - val_loss: 0.0815 - lr: 0.0010\n",
      "Epoch 511/1000\n",
      "3/3 [==============================] - 0s 202ms/step - loss: 0.0733 - val_loss: 0.0775 - lr: 0.0010\n",
      "Epoch 512/1000\n",
      "3/3 [==============================] - 0s 208ms/step - loss: 0.0733 - val_loss: 0.0744 - lr: 0.0010\n",
      "Epoch 513/1000\n",
      "3/3 [==============================] - 1s 227ms/step - loss: 0.0731 - val_loss: 0.0808 - lr: 0.0010\n",
      "Epoch 514/1000\n",
      "3/3 [==============================] - 0s 214ms/step - loss: 0.0732 - val_loss: 0.0771 - lr: 0.0010\n",
      "Epoch 515/1000\n",
      "3/3 [==============================] - 0s 186ms/step - loss: 0.0737 - val_loss: 0.0825 - lr: 0.0010\n",
      "Epoch 516/1000\n",
      "3/3 [==============================] - 0s 218ms/step - loss: 0.0730 - val_loss: 0.0801 - lr: 0.0010\n",
      "Epoch 517/1000\n",
      "3/3 [==============================] - 0s 224ms/step - loss: 0.0746 - val_loss: 0.0755 - lr: 0.0010\n",
      "Epoch 518/1000\n",
      "3/3 [==============================] - 0s 208ms/step - loss: 0.0734 - val_loss: 0.0778 - lr: 0.0010\n",
      "Epoch 519/1000\n",
      "3/3 [==============================] - 0s 216ms/step - loss: 0.0740 - val_loss: 0.0767 - lr: 0.0010\n",
      "Epoch 520/1000\n",
      "3/3 [==============================] - 0s 192ms/step - loss: 0.0747 - val_loss: 0.0784 - lr: 0.0010\n",
      "Epoch 521/1000\n",
      "3/3 [==============================] - 0s 215ms/step - loss: 0.0749 - val_loss: 0.0785 - lr: 0.0010\n",
      "Epoch 522/1000\n",
      "3/3 [==============================] - 0s 186ms/step - loss: 0.0744 - val_loss: 0.0876 - lr: 0.0010\n",
      "Epoch 523/1000\n",
      "3/3 [==============================] - 0s 184ms/step - loss: 0.0741 - val_loss: 0.0791 - lr: 0.0010\n",
      "Epoch 524/1000\n",
      "3/3 [==============================] - 0s 191ms/step - loss: 0.0734 - val_loss: 0.0751 - lr: 0.0010\n",
      "Epoch 525/1000\n",
      "3/3 [==============================] - 0s 209ms/step - loss: 0.0726 - val_loss: 0.0763 - lr: 0.0010\n",
      "Epoch 526/1000\n",
      "3/3 [==============================] - 1s 241ms/step - loss: 0.0733 - val_loss: 0.0893 - lr: 0.0010\n",
      "Epoch 527/1000\n",
      "3/3 [==============================] - 0s 196ms/step - loss: 0.0734 - val_loss: 0.0763 - lr: 0.0010\n",
      "Epoch 528/1000\n",
      "3/3 [==============================] - 0s 199ms/step - loss: 0.0741 - val_loss: 0.0755 - lr: 0.0010\n",
      "Epoch 529/1000\n",
      "3/3 [==============================] - 0s 189ms/step - loss: 0.0717 - val_loss: 0.0775 - lr: 0.0010\n",
      "Epoch 530/1000\n",
      "3/3 [==============================] - 0s 177ms/step - loss: 0.0719 - val_loss: 0.0784 - lr: 0.0010\n",
      "Epoch 531/1000\n",
      "3/3 [==============================] - 0s 222ms/step - loss: 0.0727 - val_loss: 0.0758 - lr: 0.0010\n",
      "Epoch 532/1000\n",
      "3/3 [==============================] - 0s 182ms/step - loss: 0.0715 - val_loss: 0.0752 - lr: 0.0010\n",
      "Epoch 533/1000\n",
      "3/3 [==============================] - 0s 192ms/step - loss: 0.0728 - val_loss: 0.0819 - lr: 0.0010\n",
      "Epoch 534/1000\n",
      "3/3 [==============================] - 0s 184ms/step - loss: 0.0729 - val_loss: 0.0766 - lr: 0.0010\n",
      "Epoch 535/1000\n",
      "3/3 [==============================] - 0s 178ms/step - loss: 0.0725 - val_loss: 0.0779 - lr: 0.0010\n",
      "Epoch 536/1000\n",
      "3/3 [==============================] - 0s 187ms/step - loss: 0.0730 - val_loss: 0.0742 - lr: 0.0010\n",
      "Epoch 537/1000\n",
      "3/3 [==============================] - 0s 195ms/step - loss: 0.0720 - val_loss: 0.0755 - lr: 0.0010\n",
      "Epoch 538/1000\n",
      "3/3 [==============================] - 0s 186ms/step - loss: 0.0724 - val_loss: 0.0753 - lr: 0.0010\n",
      "Epoch 539/1000\n",
      "3/3 [==============================] - 0s 186ms/step - loss: 0.0719 - val_loss: 0.0758 - lr: 0.0010\n",
      "Epoch 540/1000\n",
      "3/3 [==============================] - 0s 204ms/step - loss: 0.0719 - val_loss: 0.0769 - lr: 0.0010\n",
      "Epoch 541/1000\n",
      "3/3 [==============================] - 0s 190ms/step - loss: 0.0717 - val_loss: 0.0742 - lr: 0.0010\n",
      "Epoch 542/1000\n",
      "3/3 [==============================] - 0s 184ms/step - loss: 0.0715 - val_loss: 0.0743 - lr: 0.0010\n",
      "Epoch 543/1000\n",
      "3/3 [==============================] - 0s 222ms/step - loss: 0.0712 - val_loss: 0.0824 - lr: 0.0010\n",
      "Epoch 544/1000\n",
      "3/3 [==============================] - ETA: 0s - loss: 0.0729INFO:tensorflow:Assets written to: /home/user/workdir/main/src/model/nitrate/scaled_o3/input5/final_model-544-0.07/assets\n"
     ]
    },
    {
     "name": "stderr",
     "output_type": "stream",
     "text": [
      "INFO:tensorflow:Assets written to: /home/user/workdir/main/src/model/nitrate/scaled_o3/input5/final_model-544-0.07/assets\n"
     ]
    },
    {
     "name": "stdout",
     "output_type": "stream",
     "text": [
      "3/3 [==============================] - 9s 4s/step - loss: 0.0729 - val_loss: 0.0733 - lr: 0.0010\n",
      "Epoch 545/1000\n",
      "3/3 [==============================] - 0s 211ms/step - loss: 0.0712 - val_loss: 0.0735 - lr: 0.0010\n",
      "Epoch 546/1000\n",
      "3/3 [==============================] - 0s 205ms/step - loss: 0.0718 - val_loss: 0.0743 - lr: 0.0010\n",
      "Epoch 547/1000\n",
      "3/3 [==============================] - 1s 229ms/step - loss: 0.0720 - val_loss: 0.0761 - lr: 0.0010\n",
      "Epoch 548/1000\n",
      "3/3 [==============================] - 0s 204ms/step - loss: 0.0721 - val_loss: 0.0745 - lr: 0.0010\n",
      "Epoch 549/1000\n",
      "2/3 [===================>..........] - ETA: 0s - loss: 0.0724INFO:tensorflow:Assets written to: /home/user/workdir/main/src/model/nitrate/scaled_o3/input5/final_model-549-0.07/assets\n"
     ]
    },
    {
     "name": "stderr",
     "output_type": "stream",
     "text": [
      "INFO:tensorflow:Assets written to: /home/user/workdir/main/src/model/nitrate/scaled_o3/input5/final_model-549-0.07/assets\n"
     ]
    },
    {
     "name": "stdout",
     "output_type": "stream",
     "text": [
      "3/3 [==============================] - 14s 7s/step - loss: 0.0731 - val_loss: 0.0728 - lr: 0.0010\n",
      "Epoch 550/1000\n",
      "3/3 [==============================] - 0s 223ms/step - loss: 0.0713 - val_loss: 0.0738 - lr: 0.0010\n",
      "Epoch 551/1000\n",
      "3/3 [==============================] - 1s 285ms/step - loss: 0.0717 - val_loss: 0.0729 - lr: 0.0010\n",
      "Epoch 552/1000\n",
      "3/3 [==============================] - 0s 211ms/step - loss: 0.0709 - val_loss: 0.0733 - lr: 0.0010\n",
      "Epoch 553/1000\n",
      "3/3 [==============================] - 0s 214ms/step - loss: 0.0726 - val_loss: 0.0752 - lr: 0.0010\n",
      "Epoch 554/1000\n",
      "3/3 [==============================] - 0s 203ms/step - loss: 0.0715 - val_loss: 0.0735 - lr: 0.0010\n",
      "Epoch 555/1000\n",
      "3/3 [==============================] - 1s 260ms/step - loss: 0.0749 - val_loss: 0.0862 - lr: 0.0010\n",
      "Epoch 556/1000\n",
      "3/3 [==============================] - 0s 212ms/step - loss: 0.0748 - val_loss: 0.0879 - lr: 0.0010\n",
      "Epoch 557/1000\n",
      "3/3 [==============================] - 0s 216ms/step - loss: 0.0748 - val_loss: 0.0755 - lr: 0.0010\n",
      "Epoch 558/1000\n",
      "3/3 [==============================] - 0s 213ms/step - loss: 0.0738 - val_loss: 0.0801 - lr: 0.0010\n",
      "Epoch 559/1000\n",
      "3/3 [==============================] - 0s 212ms/step - loss: 0.0726 - val_loss: 0.0749 - lr: 0.0010\n",
      "Epoch 560/1000\n",
      "3/3 [==============================] - 0s 215ms/step - loss: 0.0737 - val_loss: 0.0763 - lr: 0.0010\n",
      "Epoch 561/1000\n",
      "3/3 [==============================] - 0s 200ms/step - loss: 0.0720 - val_loss: 0.0740 - lr: 0.0010\n",
      "Epoch 562/1000\n",
      "3/3 [==============================] - 0s 192ms/step - loss: 0.0720 - val_loss: 0.0754 - lr: 0.0010\n",
      "Epoch 563/1000\n",
      "3/3 [==============================] - 0s 201ms/step - loss: 0.0723 - val_loss: 0.0748 - lr: 0.0010\n",
      "Epoch 564/1000\n",
      "3/3 [==============================] - 1s 223ms/step - loss: 0.0724 - val_loss: 0.0732 - lr: 0.0010\n",
      "Epoch 565/1000\n",
      "3/3 [==============================] - 0s 212ms/step - loss: 0.0714 - val_loss: 0.0747 - lr: 0.0010\n",
      "Epoch 566/1000\n",
      "3/3 [==============================] - 0s 195ms/step - loss: 0.0713 - val_loss: 0.0791 - lr: 0.0010\n",
      "Epoch 567/1000\n",
      "3/3 [==============================] - 0s 206ms/step - loss: 0.0717 - val_loss: 0.0731 - lr: 0.0010\n",
      "Epoch 568/1000\n",
      "3/3 [==============================] - 1s 249ms/step - loss: 0.0723 - val_loss: 0.0735 - lr: 0.0010\n",
      "Epoch 569/1000\n",
      "3/3 [==============================] - 0s 201ms/step - loss: 0.0709 - val_loss: 0.0736 - lr: 0.0010\n",
      "Epoch 570/1000\n",
      "3/3 [==============================] - 0s 219ms/step - loss: 0.0719 - val_loss: 0.0769 - lr: 0.0010\n",
      "Epoch 571/1000\n",
      "3/3 [==============================] - 0s 211ms/step - loss: 0.0718 - val_loss: 0.0741 - lr: 0.0010\n",
      "Epoch 572/1000\n",
      "3/3 [==============================] - 0s 207ms/step - loss: 0.0717 - val_loss: 0.0768 - lr: 0.0010\n",
      "Epoch 573/1000\n",
      "3/3 [==============================] - 0s 205ms/step - loss: 0.0722 - val_loss: 0.0822 - lr: 0.0010\n",
      "Epoch 574/1000\n",
      "3/3 [==============================] - 0s 203ms/step - loss: 0.0729 - val_loss: 0.0752 - lr: 0.0010\n",
      "Epoch 575/1000\n",
      "3/3 [==============================] - 0s 180ms/step - loss: 0.0737 - val_loss: 0.0750 - lr: 0.0010\n",
      "Epoch 576/1000\n",
      "3/3 [==============================] - 0s 204ms/step - loss: 0.0723 - val_loss: 0.0747 - lr: 0.0010\n",
      "Epoch 577/1000\n",
      "3/3 [==============================] - 0s 217ms/step - loss: 0.0724 - val_loss: 0.0739 - lr: 0.0010\n",
      "Epoch 578/1000\n",
      "3/3 [==============================] - 0s 212ms/step - loss: 0.0729 - val_loss: 0.0743 - lr: 0.0010\n",
      "Epoch 579/1000\n",
      "3/3 [==============================] - 0s 211ms/step - loss: 0.0714 - val_loss: 0.0740 - lr: 0.0010\n",
      "Epoch 580/1000\n",
      "3/3 [==============================] - 1s 234ms/step - loss: 0.0714 - val_loss: 0.0741 - lr: 0.0010\n",
      "Epoch 581/1000\n",
      "3/3 [==============================] - ETA: 0s - loss: 0.0712INFO:tensorflow:Assets written to: /home/user/workdir/main/src/model/nitrate/scaled_o3/input5/final_model-581-0.07/assets\n"
     ]
    },
    {
     "name": "stderr",
     "output_type": "stream",
     "text": [
      "INFO:tensorflow:Assets written to: /home/user/workdir/main/src/model/nitrate/scaled_o3/input5/final_model-581-0.07/assets\n"
     ]
    },
    {
     "name": "stdout",
     "output_type": "stream",
     "text": [
      "3/3 [==============================] - 9s 5s/step - loss: 0.0712 - val_loss: 0.0727 - lr: 0.0010\n",
      "Epoch 582/1000\n",
      "3/3 [==============================] - 1s 242ms/step - loss: 0.0722 - val_loss: 0.0732 - lr: 0.0010\n",
      "Epoch 583/1000\n",
      "3/3 [==============================] - 0s 206ms/step - loss: 0.0722 - val_loss: 0.0731 - lr: 0.0010\n",
      "Epoch 584/1000\n",
      "3/3 [==============================] - 0s 195ms/step - loss: 0.0718 - val_loss: 0.0735 - lr: 0.0010\n",
      "Epoch 585/1000\n",
      "3/3 [==============================] - 0s 201ms/step - loss: 0.0724 - val_loss: 0.0760 - lr: 0.0010\n",
      "Epoch 586/1000\n",
      "3/3 [==============================] - 0s 216ms/step - loss: 0.0719 - val_loss: 0.0740 - lr: 0.0010\n",
      "Epoch 587/1000\n",
      "3/3 [==============================] - 0s 208ms/step - loss: 0.0718 - val_loss: 0.0747 - lr: 0.0010\n",
      "Epoch 588/1000\n",
      "3/3 [==============================] - 0s 201ms/step - loss: 0.0718 - val_loss: 0.0730 - lr: 0.0010\n",
      "Epoch 589/1000\n",
      "3/3 [==============================] - 0s 186ms/step - loss: 0.0713 - val_loss: 0.0739 - lr: 0.0010\n",
      "Epoch 590/1000\n",
      "3/3 [==============================] - 0s 190ms/step - loss: 0.0723 - val_loss: 0.0766 - lr: 0.0010\n",
      "Epoch 591/1000\n",
      "3/3 [==============================] - 0s 185ms/step - loss: 0.0715 - val_loss: 0.0734 - lr: 0.0010\n",
      "Epoch 592/1000\n",
      "3/3 [==============================] - 0s 183ms/step - loss: 0.0724 - val_loss: 0.0745 - lr: 0.0010\n",
      "Epoch 593/1000\n",
      "3/3 [==============================] - 0s 217ms/step - loss: 0.0721 - val_loss: 0.0740 - lr: 0.0010\n",
      "Epoch 594/1000\n",
      "3/3 [==============================] - 0s 189ms/step - loss: 0.0713 - val_loss: 0.0798 - lr: 0.0010\n",
      "Epoch 595/1000\n",
      "3/3 [==============================] - 0s 208ms/step - loss: 0.0735 - val_loss: 0.0758 - lr: 0.0010\n",
      "Epoch 596/1000\n",
      "3/3 [==============================] - 0s 207ms/step - loss: 0.0720 - val_loss: 0.0737 - lr: 0.0010\n",
      "Epoch 597/1000\n",
      "3/3 [==============================] - 0s 200ms/step - loss: 0.0713 - val_loss: 0.0761 - lr: 0.0010\n",
      "Epoch 598/1000\n",
      "3/3 [==============================] - 0s 213ms/step - loss: 0.0724 - val_loss: 0.0734 - lr: 0.0010\n",
      "Epoch 599/1000\n",
      "3/3 [==============================] - 0s 186ms/step - loss: 0.0712 - val_loss: 0.0780 - lr: 0.0010\n",
      "Epoch 600/1000\n",
      "3/3 [==============================] - 0s 219ms/step - loss: 0.0711 - val_loss: 0.0737 - lr: 0.0010\n",
      "Epoch 601/1000\n",
      "3/3 [==============================] - 0s 219ms/step - loss: 0.0717 - val_loss: 0.0791 - lr: 0.0010\n",
      "Epoch 602/1000\n",
      "3/3 [==============================] - 0s 183ms/step - loss: 0.0718 - val_loss: 0.0775 - lr: 0.0010\n",
      "Epoch 603/1000\n",
      "3/3 [==============================] - 0s 183ms/step - loss: 0.0727 - val_loss: 0.0769 - lr: 0.0010\n",
      "Epoch 604/1000\n",
      "3/3 [==============================] - 0s 196ms/step - loss: 0.0714 - val_loss: 0.0737 - lr: 0.0010\n",
      "Epoch 605/1000\n",
      "3/3 [==============================] - 1s 233ms/step - loss: 0.0727 - val_loss: 0.0745 - lr: 0.0010\n",
      "Epoch 606/1000\n",
      "3/3 [==============================] - 0s 200ms/step - loss: 0.0724 - val_loss: 0.0729 - lr: 0.0010\n",
      "Epoch 607/1000\n",
      "3/3 [==============================] - ETA: 0s - loss: 0.0715INFO:tensorflow:Assets written to: /home/user/workdir/main/src/model/nitrate/scaled_o3/input5/final_model-607-0.07/assets\n"
     ]
    },
    {
     "name": "stderr",
     "output_type": "stream",
     "text": [
      "INFO:tensorflow:Assets written to: /home/user/workdir/main/src/model/nitrate/scaled_o3/input5/final_model-607-0.07/assets\n"
     ]
    },
    {
     "name": "stdout",
     "output_type": "stream",
     "text": [
      "3/3 [==============================] - 9s 4s/step - loss: 0.0715 - val_loss: 0.0726 - lr: 0.0010\n",
      "Epoch 608/1000\n",
      "3/3 [==============================] - 0s 209ms/step - loss: 0.0718 - val_loss: 0.0749 - lr: 0.0010\n",
      "Epoch 609/1000\n",
      "3/3 [==============================] - 0s 202ms/step - loss: 0.0708 - val_loss: 0.0735 - lr: 0.0010\n",
      "Epoch 610/1000\n",
      "3/3 [==============================] - 0s 214ms/step - loss: 0.0718 - val_loss: 0.0732 - lr: 0.0010\n",
      "Epoch 611/1000\n",
      "3/3 [==============================] - 0s 215ms/step - loss: 0.0718 - val_loss: 0.0774 - lr: 0.0010\n",
      "Epoch 612/1000\n",
      "3/3 [==============================] - 0s 223ms/step - loss: 0.0717 - val_loss: 0.0731 - lr: 0.0010\n",
      "Epoch 613/1000\n",
      "3/3 [==============================] - 0s 206ms/step - loss: 0.0725 - val_loss: 0.0867 - lr: 0.0010\n",
      "Epoch 614/1000\n",
      "3/3 [==============================] - 0s 216ms/step - loss: 0.0729 - val_loss: 0.0765 - lr: 0.0010\n",
      "Epoch 615/1000\n",
      "3/3 [==============================] - 1s 225ms/step - loss: 0.0713 - val_loss: 0.0784 - lr: 0.0010\n",
      "Epoch 616/1000\n",
      "3/3 [==============================] - 0s 194ms/step - loss: 0.0719 - val_loss: 0.0737 - lr: 0.0010\n",
      "Epoch 617/1000\n",
      "3/3 [==============================] - 0s 200ms/step - loss: 0.0725 - val_loss: 0.0749 - lr: 0.0010\n",
      "Epoch 618/1000\n",
      "3/3 [==============================] - 0s 213ms/step - loss: 0.0723 - val_loss: 0.0768 - lr: 0.0010\n",
      "Epoch 619/1000\n",
      "3/3 [==============================] - 0s 203ms/step - loss: 0.0741 - val_loss: 0.0748 - lr: 0.0010\n",
      "Epoch 620/1000\n",
      "3/3 [==============================] - 0s 184ms/step - loss: 0.0723 - val_loss: 0.0745 - lr: 0.0010\n",
      "Epoch 621/1000\n",
      "3/3 [==============================] - 0s 178ms/step - loss: 0.0726 - val_loss: 0.0763 - lr: 0.0010\n",
      "Epoch 622/1000\n",
      "3/3 [==============================] - 0s 181ms/step - loss: 0.0736 - val_loss: 0.0749 - lr: 0.0010\n",
      "Epoch 623/1000\n",
      "3/3 [==============================] - 0s 185ms/step - loss: 0.0720 - val_loss: 0.0736 - lr: 0.0010\n",
      "Epoch 624/1000\n",
      "3/3 [==============================] - 0s 210ms/step - loss: 0.0729 - val_loss: 0.0824 - lr: 0.0010\n",
      "Epoch 625/1000\n",
      "3/3 [==============================] - 0s 190ms/step - loss: 0.0738 - val_loss: 0.0760 - lr: 0.0010\n",
      "Epoch 626/1000\n",
      "3/3 [==============================] - 0s 216ms/step - loss: 0.0722 - val_loss: 0.0740 - lr: 0.0010\n",
      "Epoch 627/1000\n",
      "3/3 [==============================] - 0s 206ms/step - loss: 0.0728 - val_loss: 0.0761 - lr: 0.0010\n",
      "Epoch 628/1000\n",
      "3/3 [==============================] - 0s 210ms/step - loss: 0.0722 - val_loss: 0.0734 - lr: 0.0010\n",
      "Epoch 629/1000\n",
      "3/3 [==============================] - 0s 200ms/step - loss: 0.0715 - val_loss: 0.0740 - lr: 0.0010\n",
      "Epoch 630/1000\n",
      "3/3 [==============================] - 0s 204ms/step - loss: 0.0725 - val_loss: 0.0744 - lr: 0.0010\n",
      "Epoch 631/1000\n",
      "3/3 [==============================] - 0s 192ms/step - loss: 0.0715 - val_loss: 0.0742 - lr: 0.0010\n",
      "Epoch 632/1000\n",
      "3/3 [==============================] - 0s 191ms/step - loss: 0.0728 - val_loss: 0.0735 - lr: 0.0010\n",
      "Epoch 633/1000\n",
      "3/3 [==============================] - 0s 190ms/step - loss: 0.0719 - val_loss: 0.0772 - lr: 0.0010\n",
      "Epoch 634/1000\n",
      "3/3 [==============================] - 1s 228ms/step - loss: 0.0719 - val_loss: 0.0761 - lr: 0.0010\n",
      "Epoch 635/1000\n",
      "3/3 [==============================] - 0s 195ms/step - loss: 0.0714 - val_loss: 0.0736 - lr: 0.0010\n",
      "Epoch 636/1000\n",
      "3/3 [==============================] - 0s 188ms/step - loss: 0.0708 - val_loss: 0.0727 - lr: 0.0010\n",
      "Epoch 637/1000\n",
      "3/3 [==============================] - 0s 186ms/step - loss: 0.0708 - val_loss: 0.0752 - lr: 0.0010\n",
      "Epoch 638/1000\n",
      "3/3 [==============================] - 0s 195ms/step - loss: 0.0727 - val_loss: 0.0759 - lr: 0.0010\n",
      "Epoch 639/1000\n",
      "3/3 [==============================] - 0s 192ms/step - loss: 0.0725 - val_loss: 0.0753 - lr: 0.0010\n",
      "Epoch 640/1000\n",
      "3/3 [==============================] - 0s 189ms/step - loss: 0.0726 - val_loss: 0.0746 - lr: 0.0010\n",
      "Epoch 641/1000\n",
      "3/3 [==============================] - 0s 196ms/step - loss: 0.0726 - val_loss: 0.0741 - lr: 0.0010\n",
      "Epoch 642/1000\n",
      "3/3 [==============================] - 0s 182ms/step - loss: 0.0716 - val_loss: 0.0796 - lr: 0.0010\n",
      "Epoch 643/1000\n",
      "3/3 [==============================] - 0s 193ms/step - loss: 0.0713 - val_loss: 0.0747 - lr: 0.0010\n",
      "Epoch 644/1000\n",
      "3/3 [==============================] - 0s 217ms/step - loss: 0.0721 - val_loss: 0.0732 - lr: 0.0010\n",
      "Epoch 645/1000\n",
      "3/3 [==============================] - 0s 180ms/step - loss: 0.0713 - val_loss: 0.0733 - lr: 0.0010\n",
      "Epoch 646/1000\n",
      "3/3 [==============================] - 0s 206ms/step - loss: 0.0716 - val_loss: 0.0744 - lr: 0.0010\n",
      "Epoch 647/1000\n",
      "3/3 [==============================] - 0s 221ms/step - loss: 0.0709 - val_loss: 0.0738 - lr: 0.0010\n",
      "Epoch 648/1000\n",
      "3/3 [==============================] - 1s 230ms/step - loss: 0.0712 - val_loss: 0.0852 - lr: 0.0010\n",
      "Epoch 649/1000\n",
      "3/3 [==============================] - 0s 204ms/step - loss: 0.0714 - val_loss: 0.0767 - lr: 0.0010\n",
      "Epoch 650/1000\n",
      "3/3 [==============================] - 0s 210ms/step - loss: 0.0715 - val_loss: 0.0734 - lr: 0.0010\n",
      "Epoch 651/1000\n",
      "3/3 [==============================] - 0s 198ms/step - loss: 0.0713 - val_loss: 0.0737 - lr: 0.0010\n",
      "Epoch 652/1000\n",
      "3/3 [==============================] - 0s 219ms/step - loss: 0.0722 - val_loss: 0.0741 - lr: 0.0010\n",
      "Epoch 653/1000\n",
      "3/3 [==============================] - 1s 241ms/step - loss: 0.0719 - val_loss: 0.0762 - lr: 0.0010\n",
      "Epoch 654/1000\n",
      "3/3 [==============================] - 0s 204ms/step - loss: 0.0725 - val_loss: 0.0843 - lr: 0.0010\n",
      "Epoch 655/1000\n",
      "3/3 [==============================] - 0s 185ms/step - loss: 0.0719 - val_loss: 0.0737 - lr: 0.0010\n",
      "Epoch 656/1000\n",
      "3/3 [==============================] - 0s 220ms/step - loss: 0.0723 - val_loss: 0.0747 - lr: 0.0010\n",
      "Epoch 657/1000\n",
      "3/3 [==============================] - 0s 215ms/step - loss: 0.0719 - val_loss: 0.0740 - lr: 0.0010\n",
      "Epoch 658/1000\n",
      "3/3 [==============================] - 0s 199ms/step - loss: 0.0718 - val_loss: 0.0744 - lr: 0.0010\n",
      "Epoch 659/1000\n",
      "3/3 [==============================] - 0s 203ms/step - loss: 0.0723 - val_loss: 0.0727 - lr: 0.0010\n",
      "Epoch 660/1000\n",
      "3/3 [==============================] - 0s 215ms/step - loss: 0.0709 - val_loss: 0.0735 - lr: 0.0010\n",
      "Epoch 661/1000\n",
      "3/3 [==============================] - 0s 202ms/step - loss: 0.0707 - val_loss: 0.0734 - lr: 0.0010\n",
      "Epoch 662/1000\n",
      "3/3 [==============================] - 0s 215ms/step - loss: 0.0710 - val_loss: 0.0729 - lr: 0.0010\n",
      "Epoch 663/1000\n",
      "3/3 [==============================] - 0s 203ms/step - loss: 0.0715 - val_loss: 0.0730 - lr: 0.0010\n",
      "Epoch 664/1000\n",
      "3/3 [==============================] - 0s 193ms/step - loss: 0.0709 - val_loss: 0.0733 - lr: 0.0010\n",
      "Epoch 665/1000\n",
      "3/3 [==============================] - 0s 207ms/step - loss: 0.0711 - val_loss: 0.0758 - lr: 0.0010\n",
      "Epoch 666/1000\n",
      "3/3 [==============================] - 0s 202ms/step - loss: 0.0709 - val_loss: 0.0737 - lr: 0.0010\n",
      "Epoch 667/1000\n",
      "3/3 [==============================] - 0s 196ms/step - loss: 0.0712 - val_loss: 0.0783 - lr: 0.0010\n",
      "Epoch 668/1000\n",
      "3/3 [==============================] - 0s 203ms/step - loss: 0.0721 - val_loss: 0.0731 - lr: 0.0010\n",
      "Epoch 669/1000\n",
      "3/3 [==============================] - 0s 214ms/step - loss: 0.0718 - val_loss: 0.0726 - lr: 0.0010\n",
      "Epoch 670/1000\n",
      "3/3 [==============================] - 0s 180ms/step - loss: 0.0730 - val_loss: 0.0784 - lr: 0.0010\n",
      "Epoch 671/1000\n",
      "3/3 [==============================] - 1s 235ms/step - loss: 0.0725 - val_loss: 0.0733 - lr: 0.0010\n",
      "Epoch 672/1000\n",
      "3/3 [==============================] - 0s 213ms/step - loss: 0.0720 - val_loss: 0.0732 - lr: 0.0010\n",
      "Epoch 673/1000\n",
      "3/3 [==============================] - 0s 198ms/step - loss: 0.0725 - val_loss: 0.0810 - lr: 0.0010\n",
      "Epoch 674/1000\n",
      "3/3 [==============================] - 0s 210ms/step - loss: 0.0731 - val_loss: 0.0734 - lr: 0.0010\n",
      "Epoch 675/1000\n",
      "3/3 [==============================] - 0s 190ms/step - loss: 0.0729 - val_loss: 0.0749 - lr: 0.0010\n",
      "Epoch 676/1000\n",
      "3/3 [==============================] - 1s 239ms/step - loss: 0.0726 - val_loss: 0.0750 - lr: 0.0010\n",
      "Epoch 677/1000\n",
      "3/3 [==============================] - 0s 217ms/step - loss: 0.0713 - val_loss: 0.0762 - lr: 0.0010\n",
      "Epoch 678/1000\n",
      "3/3 [==============================] - ETA: 0s - loss: 0.0728INFO:tensorflow:Assets written to: /home/user/workdir/main/src/model/nitrate/scaled_o3/input5/final_model-678-0.07/assets\n"
     ]
    },
    {
     "name": "stderr",
     "output_type": "stream",
     "text": [
      "INFO:tensorflow:Assets written to: /home/user/workdir/main/src/model/nitrate/scaled_o3/input5/final_model-678-0.07/assets\n"
     ]
    },
    {
     "name": "stdout",
     "output_type": "stream",
     "text": [
      "3/3 [==============================] - 14s 7s/step - loss: 0.0728 - val_loss: 0.0725 - lr: 0.0010\n",
      "Epoch 679/1000\n",
      "3/3 [==============================] - 0s 220ms/step - loss: 0.0714 - val_loss: 0.0739 - lr: 0.0010\n",
      "Epoch 680/1000\n",
      "3/3 [==============================] - ETA: 0s - loss: 0.0718INFO:tensorflow:Assets written to: /home/user/workdir/main/src/model/nitrate/scaled_o3/input5/final_model-680-0.07/assets\n"
     ]
    },
    {
     "name": "stderr",
     "output_type": "stream",
     "text": [
      "INFO:tensorflow:Assets written to: /home/user/workdir/main/src/model/nitrate/scaled_o3/input5/final_model-680-0.07/assets\n"
     ]
    },
    {
     "name": "stdout",
     "output_type": "stream",
     "text": [
      "3/3 [==============================] - 9s 5s/step - loss: 0.0718 - val_loss: 0.0724 - lr: 0.0010\n",
      "Epoch 681/1000\n",
      "3/3 [==============================] - 0s 202ms/step - loss: 0.0709 - val_loss: 0.0728 - lr: 0.0010\n",
      "Epoch 682/1000\n",
      "3/3 [==============================] - 0s 193ms/step - loss: 0.0718 - val_loss: 0.0751 - lr: 0.0010\n",
      "Epoch 683/1000\n",
      "3/3 [==============================] - 0s 193ms/step - loss: 0.0714 - val_loss: 0.0727 - lr: 0.0010\n",
      "Epoch 684/1000\n",
      "3/3 [==============================] - ETA: 0s - loss: 0.0713INFO:tensorflow:Assets written to: /home/user/workdir/main/src/model/nitrate/scaled_o3/input5/final_model-684-0.07/assets\n"
     ]
    },
    {
     "name": "stderr",
     "output_type": "stream",
     "text": [
      "INFO:tensorflow:Assets written to: /home/user/workdir/main/src/model/nitrate/scaled_o3/input5/final_model-684-0.07/assets\n"
     ]
    },
    {
     "name": "stdout",
     "output_type": "stream",
     "text": [
      "3/3 [==============================] - 9s 5s/step - loss: 0.0713 - val_loss: 0.0720 - lr: 0.0010\n",
      "Epoch 685/1000\n",
      "3/3 [==============================] - 0s 199ms/step - loss: 0.0712 - val_loss: 0.0725 - lr: 0.0010\n",
      "Epoch 686/1000\n",
      "3/3 [==============================] - 0s 193ms/step - loss: 0.0710 - val_loss: 0.0722 - lr: 0.0010\n",
      "Epoch 687/1000\n",
      "3/3 [==============================] - 0s 199ms/step - loss: 0.0709 - val_loss: 0.0731 - lr: 0.0010\n",
      "Epoch 688/1000\n",
      "3/3 [==============================] - 0s 215ms/step - loss: 0.0722 - val_loss: 0.0725 - lr: 0.0010\n",
      "Epoch 689/1000\n",
      "3/3 [==============================] - 0s 217ms/step - loss: 0.0715 - val_loss: 0.0735 - lr: 0.0010\n",
      "Epoch 690/1000\n",
      "3/3 [==============================] - 0s 210ms/step - loss: 0.0715 - val_loss: 0.0774 - lr: 0.0010\n",
      "Epoch 691/1000\n",
      "3/3 [==============================] - 0s 192ms/step - loss: 0.0720 - val_loss: 0.0736 - lr: 0.0010\n",
      "Epoch 692/1000\n",
      "3/3 [==============================] - 0s 210ms/step - loss: 0.0721 - val_loss: 0.0753 - lr: 0.0010\n",
      "Epoch 693/1000\n",
      "3/3 [==============================] - 0s 189ms/step - loss: 0.0725 - val_loss: 0.0732 - lr: 0.0010\n",
      "Epoch 694/1000\n",
      "3/3 [==============================] - 0s 208ms/step - loss: 0.0720 - val_loss: 0.0782 - lr: 0.0010\n",
      "Epoch 695/1000\n",
      "3/3 [==============================] - 0s 202ms/step - loss: 0.0714 - val_loss: 0.0731 - lr: 0.0010\n",
      "Epoch 696/1000\n",
      "3/3 [==============================] - 0s 185ms/step - loss: 0.0730 - val_loss: 0.0750 - lr: 0.0010\n",
      "Epoch 697/1000\n",
      "3/3 [==============================] - 0s 205ms/step - loss: 0.0714 - val_loss: 0.0784 - lr: 0.0010\n",
      "Epoch 698/1000\n",
      "3/3 [==============================] - 0s 190ms/step - loss: 0.0720 - val_loss: 0.0753 - lr: 0.0010\n",
      "Epoch 699/1000\n",
      "3/3 [==============================] - 1s 231ms/step - loss: 0.0716 - val_loss: 0.0762 - lr: 0.0010\n",
      "Epoch 700/1000\n",
      "3/3 [==============================] - 0s 201ms/step - loss: 0.0718 - val_loss: 0.0739 - lr: 0.0010\n",
      "Epoch 701/1000\n",
      "3/3 [==============================] - 0s 193ms/step - loss: 0.0729 - val_loss: 0.0757 - lr: 0.0010\n",
      "Epoch 702/1000\n",
      "3/3 [==============================] - 0s 191ms/step - loss: 0.0729 - val_loss: 0.0768 - lr: 0.0010\n",
      "Epoch 703/1000\n",
      "3/3 [==============================] - 0s 193ms/step - loss: 0.0723 - val_loss: 0.0805 - lr: 0.0010\n",
      "Epoch 704/1000\n",
      "3/3 [==============================] - 0s 195ms/step - loss: 0.0740 - val_loss: 0.0746 - lr: 0.0010\n",
      "Epoch 705/1000\n",
      "3/3 [==============================] - 0s 217ms/step - loss: 0.0720 - val_loss: 0.0745 - lr: 0.0010\n",
      "Epoch 706/1000\n",
      "3/3 [==============================] - 1s 230ms/step - loss: 0.0722 - val_loss: 0.0729 - lr: 0.0010\n",
      "Epoch 707/1000\n",
      "3/3 [==============================] - 0s 181ms/step - loss: 0.0712 - val_loss: 0.0736 - lr: 0.0010\n",
      "Epoch 708/1000\n",
      "3/3 [==============================] - 0s 195ms/step - loss: 0.0717 - val_loss: 0.0761 - lr: 0.0010\n",
      "Epoch 709/1000\n",
      "3/3 [==============================] - 0s 202ms/step - loss: 0.0709 - val_loss: 0.0733 - lr: 0.0010\n",
      "Epoch 710/1000\n",
      "3/3 [==============================] - 0s 220ms/step - loss: 0.0724 - val_loss: 0.0769 - lr: 0.0010\n",
      "Epoch 711/1000\n",
      "3/3 [==============================] - 0s 199ms/step - loss: 0.0717 - val_loss: 0.0740 - lr: 0.0010\n",
      "Epoch 712/1000\n",
      "3/3 [==============================] - 0s 198ms/step - loss: 0.0714 - val_loss: 0.0729 - lr: 0.0010\n",
      "Epoch 713/1000\n",
      "3/3 [==============================] - 0s 203ms/step - loss: 0.0717 - val_loss: 0.0754 - lr: 0.0010\n",
      "Epoch 714/1000\n",
      "3/3 [==============================] - 0s 176ms/step - loss: 0.0730 - val_loss: 0.0784 - lr: 0.0010\n",
      "Epoch 715/1000\n",
      "3/3 [==============================] - 0s 183ms/step - loss: 0.0737 - val_loss: 0.0732 - lr: 0.0010\n",
      "Epoch 716/1000\n",
      "3/3 [==============================] - 0s 179ms/step - loss: 0.0720 - val_loss: 0.0734 - lr: 0.0010\n",
      "Epoch 717/1000\n",
      "3/3 [==============================] - 0s 195ms/step - loss: 0.0717 - val_loss: 0.0760 - lr: 0.0010\n",
      "Epoch 718/1000\n",
      "3/3 [==============================] - 1s 229ms/step - loss: 0.0718 - val_loss: 0.0741 - lr: 0.0010\n",
      "Epoch 719/1000\n",
      "3/3 [==============================] - 0s 224ms/step - loss: 0.0716 - val_loss: 0.0729 - lr: 0.0010\n",
      "Epoch 720/1000\n",
      "3/3 [==============================] - 0s 192ms/step - loss: 0.0720 - val_loss: 0.0822 - lr: 0.0010\n",
      "Epoch 721/1000\n",
      "3/3 [==============================] - 0s 220ms/step - loss: 0.0728 - val_loss: 0.0729 - lr: 0.0010\n",
      "Epoch 722/1000\n",
      "3/3 [==============================] - 0s 228ms/step - loss: 0.0714 - val_loss: 0.0741 - lr: 0.0010\n",
      "Epoch 723/1000\n",
      "3/3 [==============================] - 0s 192ms/step - loss: 0.0730 - val_loss: 0.0732 - lr: 0.0010\n",
      "Epoch 724/1000\n",
      "3/3 [==============================] - 0s 195ms/step - loss: 0.0716 - val_loss: 0.0726 - lr: 0.0010\n",
      "Epoch 725/1000\n",
      "3/3 [==============================] - 0s 203ms/step - loss: 0.0720 - val_loss: 0.0769 - lr: 0.0010\n",
      "Epoch 726/1000\n",
      "3/3 [==============================] - 0s 203ms/step - loss: 0.0722 - val_loss: 0.0749 - lr: 0.0010\n",
      "Epoch 727/1000\n",
      "3/3 [==============================] - 0s 216ms/step - loss: 0.0715 - val_loss: 0.0731 - lr: 0.0010\n",
      "Epoch 728/1000\n",
      "3/3 [==============================] - 0s 201ms/step - loss: 0.0713 - val_loss: 0.0734 - lr: 0.0010\n",
      "Epoch 729/1000\n",
      "3/3 [==============================] - 0s 200ms/step - loss: 0.0731 - val_loss: 0.0741 - lr: 0.0010\n",
      "Epoch 730/1000\n",
      "3/3 [==============================] - 0s 199ms/step - loss: 0.0717 - val_loss: 0.0727 - lr: 0.0010\n",
      "Epoch 731/1000\n",
      "3/3 [==============================] - 0s 186ms/step - loss: 0.0713 - val_loss: 0.0722 - lr: 0.0010\n",
      "Epoch 732/1000\n",
      "3/3 [==============================] - 0s 217ms/step - loss: 0.0711 - val_loss: 0.0745 - lr: 0.0010\n",
      "Epoch 733/1000\n",
      "3/3 [==============================] - 0s 201ms/step - loss: 0.0711 - val_loss: 0.0731 - lr: 0.0010\n",
      "Epoch 734/1000\n",
      "3/3 [==============================] - 0s 195ms/step - loss: 0.0709 - val_loss: 0.0727 - lr: 0.0010\n",
      "Epoch 735/1000\n",
      "3/3 [==============================] - 0s 194ms/step - loss: 0.0705 - val_loss: 0.0720 - lr: 0.0010\n",
      "Epoch 736/1000\n",
      "3/3 [==============================] - 0s 196ms/step - loss: 0.0699 - val_loss: 0.0726 - lr: 0.0010\n",
      "Epoch 737/1000\n",
      "3/3 [==============================] - 1s 243ms/step - loss: 0.0721 - val_loss: 0.0765 - lr: 0.0010\n",
      "Epoch 738/1000\n",
      "3/3 [==============================] - 0s 211ms/step - loss: 0.0710 - val_loss: 0.0734 - lr: 0.0010\n",
      "Epoch 739/1000\n",
      "3/3 [==============================] - 0s 195ms/step - loss: 0.0713 - val_loss: 0.0740 - lr: 0.0010\n",
      "Epoch 740/1000\n",
      "3/3 [==============================] - 0s 209ms/step - loss: 0.0714 - val_loss: 0.0735 - lr: 0.0010\n",
      "Epoch 741/1000\n",
      "3/3 [==============================] - 0s 210ms/step - loss: 0.0705 - val_loss: 0.0736 - lr: 0.0010\n",
      "Epoch 742/1000\n",
      "3/3 [==============================] - 0s 194ms/step - loss: 0.0713 - val_loss: 0.0763 - lr: 0.0010\n",
      "Epoch 743/1000\n",
      "3/3 [==============================] - 0s 220ms/step - loss: 0.0717 - val_loss: 0.0731 - lr: 0.0010\n",
      "Epoch 744/1000\n",
      "3/3 [==============================] - 0s 192ms/step - loss: 0.0720 - val_loss: 0.0739 - lr: 0.0010\n",
      "Epoch 745/1000\n",
      "3/3 [==============================] - 0s 196ms/step - loss: 0.0729 - val_loss: 0.0772 - lr: 0.0010\n",
      "Epoch 746/1000\n",
      "3/3 [==============================] - 0s 221ms/step - loss: 0.0721 - val_loss: 0.0733 - lr: 0.0010\n",
      "Epoch 747/1000\n",
      "3/3 [==============================] - 0s 198ms/step - loss: 0.0721 - val_loss: 0.0745 - lr: 0.0010\n",
      "Epoch 748/1000\n",
      "3/3 [==============================] - 0s 217ms/step - loss: 0.0725 - val_loss: 0.0730 - lr: 0.0010\n",
      "Epoch 749/1000\n",
      "3/3 [==============================] - 0s 189ms/step - loss: 0.0712 - val_loss: 0.0742 - lr: 0.0010\n",
      "Epoch 750/1000\n",
      "3/3 [==============================] - 0s 198ms/step - loss: 0.0714 - val_loss: 0.0729 - lr: 0.0010\n",
      "Epoch 751/1000\n",
      "3/3 [==============================] - 0s 197ms/step - loss: 0.0710 - val_loss: 0.0728 - lr: 0.0010\n",
      "Epoch 752/1000\n",
      "3/3 [==============================] - 0s 188ms/step - loss: 0.0728 - val_loss: 0.0740 - lr: 0.0010\n",
      "Epoch 753/1000\n",
      "3/3 [==============================] - 0s 194ms/step - loss: 0.0710 - val_loss: 0.0721 - lr: 0.0010\n",
      "Epoch 754/1000\n",
      "3/3 [==============================] - 0s 217ms/step - loss: 0.0707 - val_loss: 0.0743 - lr: 0.0010\n",
      "Epoch 755/1000\n",
      "3/3 [==============================] - 1s 239ms/step - loss: 0.0706 - val_loss: 0.0748 - lr: 0.0010\n",
      "Epoch 756/1000\n",
      "3/3 [==============================] - 0s 202ms/step - loss: 0.0722 - val_loss: 0.0756 - lr: 0.0010\n",
      "Epoch 757/1000\n",
      "3/3 [==============================] - 0s 220ms/step - loss: 0.0722 - val_loss: 0.0743 - lr: 0.0010\n",
      "Epoch 758/1000\n",
      "3/3 [==============================] - 0s 205ms/step - loss: 0.0703 - val_loss: 0.0723 - lr: 0.0010\n",
      "Epoch 759/1000\n",
      "3/3 [==============================] - 0s 203ms/step - loss: 0.0713 - val_loss: 0.0896 - lr: 0.0010\n",
      "Epoch 760/1000\n",
      "3/3 [==============================] - 0s 216ms/step - loss: 0.0721 - val_loss: 0.0750 - lr: 0.0010\n",
      "Epoch 761/1000\n",
      "3/3 [==============================] - 0s 209ms/step - loss: 0.0721 - val_loss: 0.0755 - lr: 0.0010\n",
      "Epoch 762/1000\n",
      "3/3 [==============================] - 1s 227ms/step - loss: 0.0719 - val_loss: 0.0733 - lr: 0.0010\n",
      "Epoch 763/1000\n",
      "3/3 [==============================] - 0s 193ms/step - loss: 0.0723 - val_loss: 0.0736 - lr: 0.0010\n",
      "Epoch 764/1000\n",
      "3/3 [==============================] - 0s 221ms/step - loss: 0.0723 - val_loss: 0.0730 - lr: 0.0010\n",
      "Epoch 765/1000\n",
      "3/3 [==============================] - 0s 201ms/step - loss: 0.0709 - val_loss: 0.0742 - lr: 0.0010\n",
      "Epoch 766/1000\n",
      "3/3 [==============================] - 0s 219ms/step - loss: 0.0707 - val_loss: 0.0724 - lr: 0.0010\n",
      "Epoch 767/1000\n",
      "3/3 [==============================] - 0s 203ms/step - loss: 0.0718 - val_loss: 0.0744 - lr: 0.0010\n",
      "Epoch 768/1000\n",
      "3/3 [==============================] - 0s 214ms/step - loss: 0.0722 - val_loss: 0.0725 - lr: 0.0010\n",
      "Epoch 769/1000\n",
      "3/3 [==============================] - 1s 231ms/step - loss: 0.0720 - val_loss: 0.0750 - lr: 0.0010\n",
      "Epoch 770/1000\n",
      "3/3 [==============================] - 0s 209ms/step - loss: 0.0717 - val_loss: 0.0766 - lr: 0.0010\n",
      "Epoch 771/1000\n",
      "3/3 [==============================] - 1s 241ms/step - loss: 0.0705 - val_loss: 0.0724 - lr: 0.0010\n",
      "Epoch 772/1000\n",
      "3/3 [==============================] - 0s 210ms/step - loss: 0.0719 - val_loss: 0.0758 - lr: 0.0010\n",
      "Epoch 773/1000\n",
      "3/3 [==============================] - 1s 238ms/step - loss: 0.0710 - val_loss: 0.0748 - lr: 0.0010\n",
      "Epoch 774/1000\n",
      "3/3 [==============================] - 0s 226ms/step - loss: 0.0711 - val_loss: 0.0721 - lr: 0.0010\n",
      "Epoch 775/1000\n",
      "3/3 [==============================] - 0s 204ms/step - loss: 0.0706 - val_loss: 0.0740 - lr: 0.0010\n",
      "Epoch 776/1000\n",
      "3/3 [==============================] - 0s 209ms/step - loss: 0.0710 - val_loss: 0.0744 - lr: 0.0010\n",
      "Epoch 777/1000\n",
      "3/3 [==============================] - 1s 230ms/step - loss: 0.0710 - val_loss: 0.0725 - lr: 0.0010\n",
      "Epoch 778/1000\n",
      "3/3 [==============================] - 0s 212ms/step - loss: 0.0716 - val_loss: 0.0775 - lr: 0.0010\n",
      "Epoch 779/1000\n",
      "3/3 [==============================] - 0s 204ms/step - loss: 0.0713 - val_loss: 0.0730 - lr: 0.0010\n",
      "Epoch 780/1000\n",
      "3/3 [==============================] - 0s 200ms/step - loss: 0.0709 - val_loss: 0.0726 - lr: 0.0010\n",
      "Epoch 781/1000\n",
      "3/3 [==============================] - 0s 196ms/step - loss: 0.0705 - val_loss: 0.0741 - lr: 0.0010\n",
      "Epoch 782/1000\n",
      "3/3 [==============================] - 1s 243ms/step - loss: 0.0711 - val_loss: 0.0735 - lr: 0.0010\n",
      "Epoch 783/1000\n",
      "3/3 [==============================] - 0s 197ms/step - loss: 0.0718 - val_loss: 0.0734 - lr: 0.0010\n",
      "Epoch 784/1000\n",
      "3/3 [==============================] - 0s 225ms/step - loss: 0.0711 - val_loss: 0.0726 - lr: 0.0010\n",
      "Epoch 785/1000\n",
      "3/3 [==============================] - 0s 192ms/step - loss: 0.0717 - val_loss: 0.0779 - lr: 0.0010\n",
      "Epoch 786/1000\n",
      "3/3 [==============================] - 0s 197ms/step - loss: 0.0724 - val_loss: 0.0751 - lr: 0.0010\n",
      "Epoch 787/1000\n",
      "3/3 [==============================] - 0s 228ms/step - loss: 0.0710 - val_loss: 0.0741 - lr: 0.0010\n",
      "Epoch 788/1000\n",
      "3/3 [==============================] - 0s 218ms/step - loss: 0.0706 - val_loss: 0.0728 - lr: 0.0010\n",
      "Epoch 789/1000\n",
      "3/3 [==============================] - 0s 187ms/step - loss: 0.0713 - val_loss: 0.0729 - lr: 0.0010\n",
      "Epoch 790/1000\n",
      "3/3 [==============================] - 0s 205ms/step - loss: 0.0711 - val_loss: 0.0732 - lr: 0.0010\n",
      "Epoch 791/1000\n",
      "3/3 [==============================] - 0s 218ms/step - loss: 0.0708 - val_loss: 0.0731 - lr: 0.0010\n",
      "Epoch 792/1000\n",
      "3/3 [==============================] - 0s 210ms/step - loss: 0.0711 - val_loss: 0.0724 - lr: 0.0010\n",
      "Epoch 793/1000\n",
      "3/3 [==============================] - ETA: 0s - loss: 0.0721INFO:tensorflow:Assets written to: /home/user/workdir/main/src/model/nitrate/scaled_o3/input5/final_model-793-0.07/assets\n"
     ]
    },
    {
     "name": "stderr",
     "output_type": "stream",
     "text": [
      "INFO:tensorflow:Assets written to: /home/user/workdir/main/src/model/nitrate/scaled_o3/input5/final_model-793-0.07/assets\n"
     ]
    },
    {
     "name": "stdout",
     "output_type": "stream",
     "text": [
      "3/3 [==============================] - 14s 7s/step - loss: 0.0721 - val_loss: 0.0718 - lr: 0.0010\n",
      "Epoch 794/1000\n",
      "3/3 [==============================] - 1s 236ms/step - loss: 0.0704 - val_loss: 0.0725 - lr: 0.0010\n",
      "Epoch 795/1000\n",
      "3/3 [==============================] - 0s 210ms/step - loss: 0.0706 - val_loss: 0.0727 - lr: 0.0010\n",
      "Epoch 796/1000\n",
      "3/3 [==============================] - 0s 218ms/step - loss: 0.0725 - val_loss: 0.0728 - lr: 0.0010\n",
      "Epoch 797/1000\n",
      "3/3 [==============================] - 0s 214ms/step - loss: 0.0717 - val_loss: 0.0725 - lr: 0.0010\n",
      "Epoch 798/1000\n",
      "3/3 [==============================] - 0s 201ms/step - loss: 0.0708 - val_loss: 0.0724 - lr: 0.0010\n",
      "Epoch 799/1000\n",
      "3/3 [==============================] - 0s 187ms/step - loss: 0.0701 - val_loss: 0.0723 - lr: 0.0010\n",
      "Epoch 800/1000\n",
      "3/3 [==============================] - 0s 210ms/step - loss: 0.0702 - val_loss: 0.0730 - lr: 0.0010\n",
      "Epoch 801/1000\n",
      "3/3 [==============================] - 0s 216ms/step - loss: 0.0712 - val_loss: 0.0772 - lr: 0.0010\n",
      "Epoch 802/1000\n",
      "3/3 [==============================] - 0s 214ms/step - loss: 0.0723 - val_loss: 0.0732 - lr: 0.0010\n",
      "Epoch 803/1000\n",
      "3/3 [==============================] - 0s 201ms/step - loss: 0.0712 - val_loss: 0.0736 - lr: 0.0010\n",
      "Epoch 804/1000\n",
      "3/3 [==============================] - 0s 223ms/step - loss: 0.0711 - val_loss: 0.0733 - lr: 0.0010\n",
      "Epoch 805/1000\n",
      "3/3 [==============================] - 1s 239ms/step - loss: 0.0712 - val_loss: 0.0724 - lr: 0.0010\n",
      "Epoch 806/1000\n",
      "3/3 [==============================] - 0s 202ms/step - loss: 0.0703 - val_loss: 0.0726 - lr: 0.0010\n",
      "Epoch 807/1000\n",
      "3/3 [==============================] - 0s 208ms/step - loss: 0.0701 - val_loss: 0.0788 - lr: 0.0010\n",
      "Epoch 808/1000\n",
      "3/3 [==============================] - 0s 185ms/step - loss: 0.0705 - val_loss: 0.0723 - lr: 0.0010\n",
      "Epoch 809/1000\n",
      "3/3 [==============================] - 0s 217ms/step - loss: 0.0708 - val_loss: 0.0720 - lr: 0.0010\n",
      "Epoch 810/1000\n",
      "3/3 [==============================] - 1s 226ms/step - loss: 0.0706 - val_loss: 0.0723 - lr: 0.0010\n",
      "Epoch 811/1000\n",
      "3/3 [==============================] - 0s 210ms/step - loss: 0.0705 - val_loss: 0.0720 - lr: 0.0010\n",
      "Epoch 812/1000\n",
      "3/3 [==============================] - 0s 205ms/step - loss: 0.0705 - val_loss: 0.0721 - lr: 0.0010\n",
      "Epoch 813/1000\n",
      "3/3 [==============================] - 1s 251ms/step - loss: 0.0706 - val_loss: 0.0723 - lr: 0.0010\n",
      "Epoch 814/1000\n",
      "3/3 [==============================] - 1s 238ms/step - loss: 0.0708 - val_loss: 0.0747 - lr: 0.0010\n",
      "Epoch 815/1000\n",
      "3/3 [==============================] - 0s 201ms/step - loss: 0.0711 - val_loss: 0.0732 - lr: 0.0010\n",
      "Epoch 816/1000\n",
      "3/3 [==============================] - 0s 207ms/step - loss: 0.0712 - val_loss: 0.0724 - lr: 0.0010\n",
      "Epoch 817/1000\n",
      "3/3 [==============================] - 1s 262ms/step - loss: 0.0707 - val_loss: 0.0732 - lr: 0.0010\n",
      "Epoch 818/1000\n",
      "3/3 [==============================] - 0s 192ms/step - loss: 0.0714 - val_loss: 0.0747 - lr: 0.0010\n",
      "Epoch 819/1000\n",
      "3/3 [==============================] - 0s 204ms/step - loss: 0.0714 - val_loss: 0.0730 - lr: 0.0010\n",
      "Epoch 820/1000\n",
      "3/3 [==============================] - 0s 186ms/step - loss: 0.0705 - val_loss: 0.0793 - lr: 0.0010\n",
      "Epoch 821/1000\n",
      "3/3 [==============================] - 0s 183ms/step - loss: 0.0716 - val_loss: 0.0724 - lr: 0.0010\n",
      "Epoch 822/1000\n",
      "3/3 [==============================] - 0s 206ms/step - loss: 0.0713 - val_loss: 0.0736 - lr: 0.0010\n",
      "Epoch 823/1000\n",
      "3/3 [==============================] - 0s 194ms/step - loss: 0.0712 - val_loss: 0.0747 - lr: 0.0010\n",
      "Epoch 824/1000\n",
      "3/3 [==============================] - 0s 205ms/step - loss: 0.0712 - val_loss: 0.0725 - lr: 0.0010\n",
      "Epoch 825/1000\n",
      "3/3 [==============================] - 0s 221ms/step - loss: 0.0705 - val_loss: 0.0721 - lr: 0.0010\n",
      "Epoch 826/1000\n",
      "3/3 [==============================] - 1s 234ms/step - loss: 0.0706 - val_loss: 0.0729 - lr: 0.0010\n",
      "Epoch 827/1000\n",
      "3/3 [==============================] - 0s 201ms/step - loss: 0.0704 - val_loss: 0.0724 - lr: 0.0010\n",
      "Epoch 828/1000\n",
      "3/3 [==============================] - 0s 211ms/step - loss: 0.0707 - val_loss: 0.0729 - lr: 0.0010\n",
      "Epoch 829/1000\n",
      "3/3 [==============================] - 0s 206ms/step - loss: 0.0711 - val_loss: 0.0741 - lr: 0.0010\n",
      "Epoch 830/1000\n",
      "3/3 [==============================] - 0s 194ms/step - loss: 0.0720 - val_loss: 0.0728 - lr: 0.0010\n",
      "Epoch 831/1000\n",
      "3/3 [==============================] - 0s 215ms/step - loss: 0.0721 - val_loss: 0.0733 - lr: 0.0010\n",
      "Epoch 832/1000\n",
      "3/3 [==============================] - 0s 195ms/step - loss: 0.0717 - val_loss: 0.0815 - lr: 0.0010\n",
      "Epoch 833/1000\n",
      "3/3 [==============================] - 0s 200ms/step - loss: 0.0731 - val_loss: 0.0734 - lr: 0.0010\n",
      "Epoch 834/1000\n",
      "3/3 [==============================] - 0s 196ms/step - loss: 0.0714 - val_loss: 0.0803 - lr: 0.0010\n",
      "Epoch 835/1000\n",
      "3/3 [==============================] - 0s 196ms/step - loss: 0.0726 - val_loss: 0.0776 - lr: 0.0010\n",
      "Epoch 836/1000\n",
      "3/3 [==============================] - 1s 258ms/step - loss: 0.0736 - val_loss: 0.0753 - lr: 0.0010\n",
      "Epoch 837/1000\n",
      "3/3 [==============================] - 0s 207ms/step - loss: 0.0727 - val_loss: 0.0734 - lr: 0.0010\n",
      "Epoch 838/1000\n",
      "3/3 [==============================] - 0s 201ms/step - loss: 0.0719 - val_loss: 0.0756 - lr: 0.0010\n",
      "Epoch 839/1000\n",
      "3/3 [==============================] - 0s 190ms/step - loss: 0.0720 - val_loss: 0.0755 - lr: 0.0010\n",
      "Epoch 840/1000\n",
      "3/3 [==============================] - 1s 245ms/step - loss: 0.0715 - val_loss: 0.0780 - lr: 0.0010\n",
      "Epoch 841/1000\n",
      "3/3 [==============================] - 0s 217ms/step - loss: 0.0724 - val_loss: 0.0757 - lr: 0.0010\n",
      "Epoch 842/1000\n",
      "3/3 [==============================] - 0s 203ms/step - loss: 0.0729 - val_loss: 0.0721 - lr: 0.0010\n",
      "Epoch 843/1000\n",
      "3/3 [==============================] - 0s 202ms/step - loss: 0.0708 - val_loss: 0.0739 - lr: 0.0010\n",
      "Epoch 844/1000\n",
      "3/3 [==============================] - 0s 228ms/step - loss: 0.0703 - val_loss: 0.0735 - lr: 0.0010\n",
      "Epoch 845/1000\n",
      "3/3 [==============================] - 0s 203ms/step - loss: 0.0699 - val_loss: 0.0725 - lr: 0.0010\n",
      "Epoch 846/1000\n",
      "3/3 [==============================] - 0s 219ms/step - loss: 0.0705 - val_loss: 0.0724 - lr: 0.0010\n",
      "Epoch 847/1000\n",
      "3/3 [==============================] - 0s 209ms/step - loss: 0.0707 - val_loss: 0.0727 - lr: 0.0010\n",
      "Epoch 848/1000\n",
      "3/3 [==============================] - 0s 209ms/step - loss: 0.0711 - val_loss: 0.0751 - lr: 0.0010\n",
      "Epoch 849/1000\n",
      "3/3 [==============================] - 1s 228ms/step - loss: 0.0716 - val_loss: 0.0758 - lr: 0.0010\n",
      "Epoch 850/1000\n",
      "3/3 [==============================] - 0s 194ms/step - loss: 0.0710 - val_loss: 0.0722 - lr: 0.0010\n",
      "Epoch 851/1000\n",
      "3/3 [==============================] - 0s 206ms/step - loss: 0.0717 - val_loss: 0.0740 - lr: 0.0010\n",
      "Epoch 852/1000\n",
      "3/3 [==============================] - 0s 200ms/step - loss: 0.0705 - val_loss: 0.0721 - lr: 0.0010\n",
      "Epoch 853/1000\n",
      "3/3 [==============================] - 0s 196ms/step - loss: 0.0711 - val_loss: 0.0741 - lr: 0.0010\n",
      "Epoch 854/1000\n",
      "3/3 [==============================] - 1s 231ms/step - loss: 0.0706 - val_loss: 0.0751 - lr: 0.0010\n",
      "Epoch 855/1000\n",
      "3/3 [==============================] - 0s 202ms/step - loss: 0.0703 - val_loss: 0.0726 - lr: 0.0010\n",
      "Epoch 856/1000\n",
      "3/3 [==============================] - 0s 193ms/step - loss: 0.0712 - val_loss: 0.0723 - lr: 0.0010\n",
      "Epoch 857/1000\n",
      "3/3 [==============================] - 0s 194ms/step - loss: 0.0708 - val_loss: 0.0720 - lr: 0.0010\n",
      "Epoch 858/1000\n",
      "3/3 [==============================] - 1s 266ms/step - loss: 0.0709 - val_loss: 0.0738 - lr: 0.0010\n",
      "Epoch 859/1000\n",
      "3/3 [==============================] - 0s 200ms/step - loss: 0.0710 - val_loss: 0.0728 - lr: 0.0010\n",
      "Epoch 860/1000\n",
      "3/3 [==============================] - 0s 227ms/step - loss: 0.0711 - val_loss: 0.0731 - lr: 0.0010\n",
      "Epoch 861/1000\n",
      "3/3 [==============================] - 0s 191ms/step - loss: 0.0702 - val_loss: 0.0743 - lr: 0.0010\n",
      "Epoch 862/1000\n",
      "3/3 [==============================] - 0s 214ms/step - loss: 0.0710 - val_loss: 0.0720 - lr: 0.0010\n",
      "Epoch 863/1000\n",
      "3/3 [==============================] - 1s 251ms/step - loss: 0.0713 - val_loss: 0.0748 - lr: 0.0010\n",
      "Epoch 864/1000\n",
      "3/3 [==============================] - 0s 204ms/step - loss: 0.0720 - val_loss: 0.0733 - lr: 0.0010\n",
      "Epoch 865/1000\n",
      "3/3 [==============================] - 1s 234ms/step - loss: 0.0713 - val_loss: 0.0776 - lr: 0.0010\n",
      "Epoch 866/1000\n",
      "3/3 [==============================] - 0s 219ms/step - loss: 0.0709 - val_loss: 0.0752 - lr: 0.0010\n",
      "Epoch 867/1000\n",
      "3/3 [==============================] - 1s 252ms/step - loss: 0.0729 - val_loss: 0.0779 - lr: 0.0010\n",
      "Epoch 868/1000\n",
      "3/3 [==============================] - 0s 210ms/step - loss: 0.0717 - val_loss: 0.0758 - lr: 0.0010\n",
      "Epoch 869/1000\n",
      "3/3 [==============================] - 0s 177ms/step - loss: 0.0715 - val_loss: 0.0721 - lr: 0.0010\n",
      "Epoch 870/1000\n",
      "3/3 [==============================] - 0s 222ms/step - loss: 0.0713 - val_loss: 0.0739 - lr: 0.0010\n",
      "Epoch 871/1000\n",
      "3/3 [==============================] - 1s 253ms/step - loss: 0.0717 - val_loss: 0.0765 - lr: 0.0010\n",
      "Epoch 872/1000\n",
      "3/3 [==============================] - 0s 183ms/step - loss: 0.0713 - val_loss: 0.0744 - lr: 0.0010\n",
      "Epoch 873/1000\n",
      "3/3 [==============================] - 0s 202ms/step - loss: 0.0722 - val_loss: 0.0766 - lr: 0.0010\n",
      "Epoch 874/1000\n",
      "3/3 [==============================] - 1s 236ms/step - loss: 0.0710 - val_loss: 0.0775 - lr: 0.0010\n",
      "Epoch 875/1000\n",
      "3/3 [==============================] - 0s 194ms/step - loss: 0.0723 - val_loss: 0.0749 - lr: 0.0010\n",
      "Epoch 876/1000\n",
      "3/3 [==============================] - 0s 225ms/step - loss: 0.0719 - val_loss: 0.0778 - lr: 0.0010\n",
      "Epoch 877/1000\n",
      "3/3 [==============================] - 0s 226ms/step - loss: 0.0715 - val_loss: 0.0803 - lr: 0.0010\n",
      "Epoch 878/1000\n",
      "3/3 [==============================] - 0s 193ms/step - loss: 0.0726 - val_loss: 0.0731 - lr: 0.0010\n",
      "Epoch 879/1000\n",
      "3/3 [==============================] - 0s 207ms/step - loss: 0.0715 - val_loss: 0.0734 - lr: 0.0010\n",
      "Epoch 880/1000\n",
      "3/3 [==============================] - 0s 190ms/step - loss: 0.0705 - val_loss: 0.0731 - lr: 0.0010\n",
      "Epoch 881/1000\n",
      "3/3 [==============================] - 0s 198ms/step - loss: 0.0726 - val_loss: 0.0781 - lr: 0.0010\n",
      "Epoch 882/1000\n",
      "3/3 [==============================] - 0s 183ms/step - loss: 0.0723 - val_loss: 0.0740 - lr: 0.0010\n",
      "Epoch 883/1000\n",
      "3/3 [==============================] - 0s 175ms/step - loss: 0.0713 - val_loss: 0.0725 - lr: 0.0010\n",
      "Epoch 884/1000\n",
      "3/3 [==============================] - 0s 209ms/step - loss: 0.0714 - val_loss: 0.0731 - lr: 0.0010\n",
      "Epoch 885/1000\n",
      "3/3 [==============================] - 0s 191ms/step - loss: 0.0712 - val_loss: 0.0740 - lr: 0.0010\n",
      "Epoch 886/1000\n",
      "3/3 [==============================] - 0s 204ms/step - loss: 0.0707 - val_loss: 0.0744 - lr: 0.0010\n",
      "Epoch 887/1000\n",
      "3/3 [==============================] - 0s 194ms/step - loss: 0.0727 - val_loss: 0.0779 - lr: 0.0010\n",
      "Epoch 888/1000\n",
      "3/3 [==============================] - 0s 194ms/step - loss: 0.0724 - val_loss: 0.0765 - lr: 0.0010\n",
      "Epoch 889/1000\n",
      "3/3 [==============================] - 0s 193ms/step - loss: 0.0715 - val_loss: 0.0748 - lr: 0.0010\n",
      "Epoch 890/1000\n",
      "3/3 [==============================] - 0s 225ms/step - loss: 0.0720 - val_loss: 0.0739 - lr: 0.0010\n",
      "Epoch 891/1000\n",
      "3/3 [==============================] - 0s 209ms/step - loss: 0.0728 - val_loss: 0.0738 - lr: 0.0010\n",
      "Epoch 892/1000\n",
      "3/3 [==============================] - 0s 189ms/step - loss: 0.0705 - val_loss: 0.0724 - lr: 0.0010\n",
      "Epoch 893/1000\n",
      "3/3 [==============================] - 0s 208ms/step - loss: 0.0705 - val_loss: 0.0757 - lr: 0.0010\n",
      "Epoch 894/1000\n",
      "3/3 [==============================] - 0s 210ms/step - loss: 0.0709 - val_loss: 0.0721 - lr: 0.0010\n",
      "Epoch 895/1000\n",
      "3/3 [==============================] - 0s 206ms/step - loss: 0.0717 - val_loss: 0.0722 - lr: 0.0010\n",
      "Epoch 896/1000\n",
      "3/3 [==============================] - 0s 206ms/step - loss: 0.0706 - val_loss: 0.0723 - lr: 0.0010\n",
      "Epoch 897/1000\n",
      "3/3 [==============================] - 0s 180ms/step - loss: 0.0712 - val_loss: 0.0752 - lr: 0.0010\n",
      "Epoch 898/1000\n",
      "3/3 [==============================] - 0s 200ms/step - loss: 0.0704 - val_loss: 0.0719 - lr: 0.0010\n",
      "Epoch 899/1000\n",
      "3/3 [==============================] - 0s 197ms/step - loss: 0.0709 - val_loss: 0.0718 - lr: 0.0010\n",
      "Epoch 900/1000\n",
      "3/3 [==============================] - 1s 233ms/step - loss: 0.0707 - val_loss: 0.0774 - lr: 0.0010\n",
      "Epoch 901/1000\n",
      "3/3 [==============================] - ETA: 0s - loss: 0.0711INFO:tensorflow:Assets written to: /home/user/workdir/main/src/model/nitrate/scaled_o3/input5/final_model-901-0.07/assets\n"
     ]
    },
    {
     "name": "stderr",
     "output_type": "stream",
     "text": [
      "INFO:tensorflow:Assets written to: /home/user/workdir/main/src/model/nitrate/scaled_o3/input5/final_model-901-0.07/assets\n"
     ]
    },
    {
     "name": "stdout",
     "output_type": "stream",
     "text": [
      "3/3 [==============================] - 9s 5s/step - loss: 0.0711 - val_loss: 0.0716 - lr: 0.0010\n",
      "Epoch 902/1000\n",
      "3/3 [==============================] - 1s 226ms/step - loss: 0.0706 - val_loss: 0.0725 - lr: 0.0010\n",
      "Epoch 903/1000\n",
      "3/3 [==============================] - 0s 210ms/step - loss: 0.0702 - val_loss: 0.0716 - lr: 0.0010\n",
      "Epoch 904/1000\n",
      "3/3 [==============================] - 0s 220ms/step - loss: 0.0703 - val_loss: 0.0730 - lr: 0.0010\n",
      "Epoch 905/1000\n",
      "3/3 [==============================] - 0s 190ms/step - loss: 0.0703 - val_loss: 0.0720 - lr: 0.0010\n",
      "Epoch 906/1000\n",
      "3/3 [==============================] - 1s 230ms/step - loss: 0.0704 - val_loss: 0.0749 - lr: 0.0010\n",
      "Epoch 907/1000\n",
      "3/3 [==============================] - 0s 215ms/step - loss: 0.0717 - val_loss: 0.0717 - lr: 0.0010\n",
      "Epoch 908/1000\n",
      "3/3 [==============================] - 0s 208ms/step - loss: 0.0701 - val_loss: 0.0723 - lr: 0.0010\n",
      "Epoch 909/1000\n",
      "3/3 [==============================] - 0s 219ms/step - loss: 0.0709 - val_loss: 0.0722 - lr: 0.0010\n",
      "Epoch 910/1000\n",
      "3/3 [==============================] - 0s 217ms/step - loss: 0.0702 - val_loss: 0.0744 - lr: 0.0010\n",
      "Epoch 911/1000\n",
      "3/3 [==============================] - 1s 230ms/step - loss: 0.0710 - val_loss: 0.0771 - lr: 0.0010\n",
      "Epoch 912/1000\n",
      "3/3 [==============================] - 0s 207ms/step - loss: 0.0717 - val_loss: 0.0754 - lr: 0.0010\n",
      "Epoch 913/1000\n",
      "3/3 [==============================] - 1s 242ms/step - loss: 0.0714 - val_loss: 0.0733 - lr: 0.0010\n",
      "Epoch 914/1000\n",
      "3/3 [==============================] - 0s 210ms/step - loss: 0.0707 - val_loss: 0.0720 - lr: 0.0010\n",
      "Epoch 915/1000\n",
      "3/3 [==============================] - 0s 221ms/step - loss: 0.0702 - val_loss: 0.0728 - lr: 0.0010\n",
      "Epoch 916/1000\n",
      "3/3 [==============================] - 0s 221ms/step - loss: 0.0708 - val_loss: 0.0724 - lr: 0.0010\n",
      "Epoch 917/1000\n",
      "3/3 [==============================] - 1s 230ms/step - loss: 0.0711 - val_loss: 0.0722 - lr: 0.0010\n",
      "Epoch 918/1000\n",
      "3/3 [==============================] - 1s 232ms/step - loss: 0.0708 - val_loss: 0.0724 - lr: 0.0010\n",
      "Epoch 919/1000\n",
      "3/3 [==============================] - 1s 227ms/step - loss: 0.0707 - val_loss: 0.0745 - lr: 0.0010\n",
      "Epoch 920/1000\n",
      "3/3 [==============================] - 0s 224ms/step - loss: 0.0700 - val_loss: 0.0724 - lr: 0.0010\n",
      "Epoch 921/1000\n",
      "3/3 [==============================] - 0s 221ms/step - loss: 0.0706 - val_loss: 0.0743 - lr: 0.0010\n",
      "Epoch 922/1000\n",
      "3/3 [==============================] - 0s 215ms/step - loss: 0.0712 - val_loss: 0.0720 - lr: 0.0010\n",
      "Epoch 923/1000\n",
      "3/3 [==============================] - 0s 205ms/step - loss: 0.0707 - val_loss: 0.0744 - lr: 0.0010\n",
      "Epoch 924/1000\n",
      "3/3 [==============================] - 0s 210ms/step - loss: 0.0711 - val_loss: 0.0742 - lr: 0.0010\n",
      "Epoch 925/1000\n",
      "3/3 [==============================] - 0s 213ms/step - loss: 0.0704 - val_loss: 0.0719 - lr: 0.0010\n",
      "Epoch 926/1000\n",
      "3/3 [==============================] - 1s 236ms/step - loss: 0.0704 - val_loss: 0.0717 - lr: 0.0010\n",
      "Epoch 927/1000\n",
      "3/3 [==============================] - 0s 226ms/step - loss: 0.0697 - val_loss: 0.0721 - lr: 0.0010\n",
      "Epoch 928/1000\n",
      "3/3 [==============================] - 0s 224ms/step - loss: 0.0707 - val_loss: 0.0736 - lr: 0.0010\n",
      "Epoch 929/1000\n",
      "3/3 [==============================] - 0s 202ms/step - loss: 0.0707 - val_loss: 0.0762 - lr: 0.0010\n",
      "Epoch 930/1000\n",
      "3/3 [==============================] - 1s 231ms/step - loss: 0.0713 - val_loss: 0.0773 - lr: 0.0010\n",
      "Epoch 931/1000\n",
      "3/3 [==============================] - 0s 217ms/step - loss: 0.0721 - val_loss: 0.0723 - lr: 0.0010\n",
      "Epoch 932/1000\n",
      "3/3 [==============================] - 1s 242ms/step - loss: 0.0724 - val_loss: 0.0735 - lr: 0.0010\n",
      "Epoch 933/1000\n",
      "3/3 [==============================] - 0s 202ms/step - loss: 0.0703 - val_loss: 0.0728 - lr: 0.0010\n",
      "Epoch 934/1000\n",
      "3/3 [==============================] - 1s 223ms/step - loss: 0.0715 - val_loss: 0.0725 - lr: 0.0010\n",
      "Epoch 935/1000\n",
      "3/3 [==============================] - 1s 244ms/step - loss: 0.0709 - val_loss: 0.0717 - lr: 0.0010\n",
      "Epoch 936/1000\n",
      "3/3 [==============================] - 0s 191ms/step - loss: 0.0706 - val_loss: 0.0728 - lr: 0.0010\n",
      "Epoch 937/1000\n",
      "3/3 [==============================] - 1s 244ms/step - loss: 0.0709 - val_loss: 0.0731 - lr: 0.0010\n",
      "Epoch 938/1000\n",
      "3/3 [==============================] - 0s 202ms/step - loss: 0.0711 - val_loss: 0.0761 - lr: 0.0010\n",
      "Epoch 939/1000\n",
      "3/3 [==============================] - 0s 216ms/step - loss: 0.0703 - val_loss: 0.0752 - lr: 0.0010\n",
      "Epoch 940/1000\n",
      "3/3 [==============================] - 0s 221ms/step - loss: 0.0730 - val_loss: 0.0736 - lr: 0.0010\n",
      "Epoch 941/1000\n",
      "3/3 [==============================] - 0s 202ms/step - loss: 0.0715 - val_loss: 0.0719 - lr: 0.0010\n",
      "Epoch 942/1000\n",
      "3/3 [==============================] - ETA: 0s - loss: 0.0698INFO:tensorflow:Assets written to: /home/user/workdir/main/src/model/nitrate/scaled_o3/input5/final_model-942-0.07/assets\n"
     ]
    },
    {
     "name": "stderr",
     "output_type": "stream",
     "text": [
      "INFO:tensorflow:Assets written to: /home/user/workdir/main/src/model/nitrate/scaled_o3/input5/final_model-942-0.07/assets\n"
     ]
    },
    {
     "name": "stdout",
     "output_type": "stream",
     "text": [
      "3/3 [==============================] - 14s 7s/step - loss: 0.0698 - val_loss: 0.0715 - lr: 0.0010\n",
      "Epoch 943/1000\n",
      "3/3 [==============================] - 1s 235ms/step - loss: 0.0709 - val_loss: 0.0720 - lr: 0.0010\n",
      "Epoch 944/1000\n",
      "3/3 [==============================] - 0s 209ms/step - loss: 0.0701 - val_loss: 0.0718 - lr: 0.0010\n",
      "Epoch 945/1000\n",
      "3/3 [==============================] - 0s 200ms/step - loss: 0.0703 - val_loss: 0.0720 - lr: 0.0010\n",
      "Epoch 946/1000\n",
      "3/3 [==============================] - 0s 216ms/step - loss: 0.0704 - val_loss: 0.0728 - lr: 0.0010\n",
      "Epoch 947/1000\n",
      "3/3 [==============================] - 0s 205ms/step - loss: 0.0705 - val_loss: 0.0722 - lr: 0.0010\n",
      "Epoch 948/1000\n",
      "3/3 [==============================] - 0s 208ms/step - loss: 0.0706 - val_loss: 0.0722 - lr: 0.0010\n",
      "Epoch 949/1000\n",
      "3/3 [==============================] - 1s 231ms/step - loss: 0.0714 - val_loss: 0.0734 - lr: 0.0010\n",
      "Epoch 950/1000\n",
      "3/3 [==============================] - 0s 199ms/step - loss: 0.0706 - val_loss: 0.0729 - lr: 0.0010\n",
      "Epoch 951/1000\n",
      "3/3 [==============================] - 0s 195ms/step - loss: 0.0699 - val_loss: 0.0716 - lr: 0.0010\n",
      "Epoch 952/1000\n",
      "2/3 [===================>..........] - ETA: 0s - loss: 0.0700INFO:tensorflow:Assets written to: /home/user/workdir/main/src/model/nitrate/scaled_o3/input5/final_model-952-0.07/assets\n"
     ]
    },
    {
     "name": "stderr",
     "output_type": "stream",
     "text": [
      "INFO:tensorflow:Assets written to: /home/user/workdir/main/src/model/nitrate/scaled_o3/input5/final_model-952-0.07/assets\n"
     ]
    },
    {
     "name": "stdout",
     "output_type": "stream",
     "text": [
      "3/3 [==============================] - 9s 4s/step - loss: 0.0700 - val_loss: 0.0715 - lr: 0.0010\n",
      "Epoch 953/1000\n",
      "3/3 [==============================] - 1s 241ms/step - loss: 0.0706 - val_loss: 0.0762 - lr: 0.0010\n",
      "Epoch 954/1000\n",
      "3/3 [==============================] - 0s 210ms/step - loss: 0.0717 - val_loss: 0.0729 - lr: 0.0010\n",
      "Epoch 955/1000\n",
      "3/3 [==============================] - 0s 215ms/step - loss: 0.0709 - val_loss: 0.0760 - lr: 0.0010\n",
      "Epoch 956/1000\n",
      "3/3 [==============================] - 0s 210ms/step - loss: 0.0704 - val_loss: 0.0730 - lr: 0.0010\n",
      "Epoch 957/1000\n",
      "3/3 [==============================] - 0s 223ms/step - loss: 0.0701 - val_loss: 0.0725 - lr: 0.0010\n",
      "Epoch 958/1000\n",
      "3/3 [==============================] - 0s 201ms/step - loss: 0.0707 - val_loss: 0.0777 - lr: 0.0010\n",
      "Epoch 959/1000\n",
      "3/3 [==============================] - 0s 213ms/step - loss: 0.0710 - val_loss: 0.0729 - lr: 0.0010\n",
      "Epoch 960/1000\n",
      "3/3 [==============================] - 1s 240ms/step - loss: 0.0712 - val_loss: 0.0718 - lr: 0.0010\n",
      "Epoch 961/1000\n",
      "3/3 [==============================] - 0s 211ms/step - loss: 0.0704 - val_loss: 0.0718 - lr: 0.0010\n",
      "Epoch 962/1000\n",
      "3/3 [==============================] - 1s 234ms/step - loss: 0.0701 - val_loss: 0.0760 - lr: 0.0010\n",
      "Epoch 963/1000\n",
      "3/3 [==============================] - 0s 208ms/step - loss: 0.0706 - val_loss: 0.0724 - lr: 0.0010\n",
      "Epoch 964/1000\n",
      "3/3 [==============================] - 0s 205ms/step - loss: 0.0712 - val_loss: 0.0732 - lr: 0.0010\n",
      "Epoch 965/1000\n",
      "3/3 [==============================] - 0s 222ms/step - loss: 0.0701 - val_loss: 0.0716 - lr: 0.0010\n",
      "Epoch 966/1000\n",
      "3/3 [==============================] - 1s 247ms/step - loss: 0.0698 - val_loss: 0.0719 - lr: 0.0010\n",
      "Epoch 967/1000\n",
      "3/3 [==============================] - ETA: 0s - loss: 0.0708INFO:tensorflow:Assets written to: /home/user/workdir/main/src/model/nitrate/scaled_o3/input5/final_model-967-0.07/assets\n"
     ]
    },
    {
     "name": "stderr",
     "output_type": "stream",
     "text": [
      "INFO:tensorflow:Assets written to: /home/user/workdir/main/src/model/nitrate/scaled_o3/input5/final_model-967-0.07/assets\n"
     ]
    },
    {
     "name": "stdout",
     "output_type": "stream",
     "text": [
      "3/3 [==============================] - 9s 5s/step - loss: 0.0708 - val_loss: 0.0715 - lr: 0.0010\n",
      "Epoch 968/1000\n",
      "3/3 [==============================] - 0s 207ms/step - loss: 0.0699 - val_loss: 0.0717 - lr: 0.0010\n",
      "Epoch 969/1000\n",
      "3/3 [==============================] - 1s 230ms/step - loss: 0.0696 - val_loss: 0.0720 - lr: 0.0010\n",
      "Epoch 970/1000\n",
      "3/3 [==============================] - 0s 207ms/step - loss: 0.0698 - val_loss: 0.0723 - lr: 0.0010\n",
      "Epoch 971/1000\n",
      "3/3 [==============================] - 0s 206ms/step - loss: 0.0705 - val_loss: 0.0756 - lr: 0.0010\n",
      "Epoch 972/1000\n",
      "3/3 [==============================] - 0s 201ms/step - loss: 0.0708 - val_loss: 0.0718 - lr: 0.0010\n",
      "Epoch 973/1000\n",
      "3/3 [==============================] - ETA: 0s - loss: 0.0700INFO:tensorflow:Assets written to: /home/user/workdir/main/src/model/nitrate/scaled_o3/input5/final_model-973-0.07/assets\n"
     ]
    },
    {
     "name": "stderr",
     "output_type": "stream",
     "text": [
      "INFO:tensorflow:Assets written to: /home/user/workdir/main/src/model/nitrate/scaled_o3/input5/final_model-973-0.07/assets\n"
     ]
    },
    {
     "name": "stdout",
     "output_type": "stream",
     "text": [
      "3/3 [==============================] - 14s 7s/step - loss: 0.0700 - val_loss: 0.0714 - lr: 0.0010\n",
      "Epoch 974/1000\n",
      "3/3 [==============================] - 1s 226ms/step - loss: 0.0695 - val_loss: 0.0717 - lr: 0.0010\n",
      "Epoch 975/1000\n",
      "3/3 [==============================] - 0s 222ms/step - loss: 0.0716 - val_loss: 0.0756 - lr: 0.0010\n",
      "Epoch 976/1000\n",
      "3/3 [==============================] - 0s 210ms/step - loss: 0.0713 - val_loss: 0.0740 - lr: 0.0010\n",
      "Epoch 977/1000\n",
      "3/3 [==============================] - 0s 189ms/step - loss: 0.0713 - val_loss: 0.0731 - lr: 0.0010\n",
      "Epoch 978/1000\n",
      "3/3 [==============================] - 0s 200ms/step - loss: 0.0721 - val_loss: 0.0839 - lr: 0.0010\n",
      "Epoch 979/1000\n",
      "3/3 [==============================] - 1s 270ms/step - loss: 0.0710 - val_loss: 0.0733 - lr: 0.0010\n",
      "Epoch 980/1000\n",
      "3/3 [==============================] - 0s 224ms/step - loss: 0.0720 - val_loss: 0.0722 - lr: 0.0010\n",
      "Epoch 981/1000\n",
      "3/3 [==============================] - 0s 220ms/step - loss: 0.0709 - val_loss: 0.0718 - lr: 0.0010\n",
      "Epoch 982/1000\n",
      "3/3 [==============================] - 0s 213ms/step - loss: 0.0715 - val_loss: 0.0743 - lr: 0.0010\n",
      "Epoch 983/1000\n",
      "3/3 [==============================] - 0s 214ms/step - loss: 0.0715 - val_loss: 0.0722 - lr: 0.0010\n",
      "Epoch 984/1000\n",
      "3/3 [==============================] - 0s 222ms/step - loss: 0.0716 - val_loss: 0.0718 - lr: 0.0010\n",
      "Epoch 985/1000\n",
      "3/3 [==============================] - 0s 216ms/step - loss: 0.0699 - val_loss: 0.0719 - lr: 0.0010\n",
      "Epoch 986/1000\n",
      "3/3 [==============================] - 0s 202ms/step - loss: 0.0706 - val_loss: 0.0718 - lr: 0.0010\n",
      "Epoch 987/1000\n",
      "3/3 [==============================] - 1s 252ms/step - loss: 0.0700 - val_loss: 0.0726 - lr: 0.0010\n",
      "Epoch 988/1000\n",
      "3/3 [==============================] - 0s 218ms/step - loss: 0.0708 - val_loss: 0.0714 - lr: 0.0010\n",
      "Epoch 989/1000\n",
      "3/3 [==============================] - 0s 213ms/step - loss: 0.0705 - val_loss: 0.0752 - lr: 0.0010\n",
      "Epoch 990/1000\n",
      "3/3 [==============================] - 1s 229ms/step - loss: 0.0704 - val_loss: 0.0738 - lr: 0.0010\n",
      "Epoch 991/1000\n",
      "3/3 [==============================] - 0s 213ms/step - loss: 0.0716 - val_loss: 0.0729 - lr: 0.0010\n",
      "Epoch 992/1000\n",
      "3/3 [==============================] - 0s 218ms/step - loss: 0.0705 - val_loss: 0.0725 - lr: 0.0010\n",
      "Epoch 993/1000\n",
      "3/3 [==============================] - 0s 213ms/step - loss: 0.0708 - val_loss: 0.0734 - lr: 0.0010\n",
      "Epoch 994/1000\n",
      "3/3 [==============================] - 0s 209ms/step - loss: 0.0735 - val_loss: 0.0793 - lr: 0.0010\n",
      "Epoch 995/1000\n",
      "3/3 [==============================] - 0s 198ms/step - loss: 0.0725 - val_loss: 0.0734 - lr: 0.0010\n",
      "Epoch 996/1000\n",
      "3/3 [==============================] - 0s 207ms/step - loss: 0.0710 - val_loss: 0.0737 - lr: 0.0010\n",
      "Epoch 997/1000\n",
      "3/3 [==============================] - 0s 221ms/step - loss: 0.0715 - val_loss: 0.0721 - lr: 0.0010\n",
      "Epoch 998/1000\n",
      "3/3 [==============================] - 0s 215ms/step - loss: 0.0715 - val_loss: 0.0732 - lr: 0.0010\n",
      "Epoch 999/1000\n",
      "3/3 [==============================] - 0s 193ms/step - loss: 0.0712 - val_loss: 0.0724 - lr: 0.0010\n",
      "Epoch 1000/1000\n",
      "3/3 [==============================] - 0s 195ms/step - loss: 0.0711 - val_loss: 0.0715 - lr: 0.0010\n",
      "INFO:tensorflow:Assets written to: /home/user/workdir/main/src/model/nitrate/scaled_o3/input5/final_model/assets\n"
     ]
    },
    {
     "name": "stderr",
     "output_type": "stream",
     "text": [
      "INFO:tensorflow:Assets written to: /home/user/workdir/main/src/model/nitrate/scaled_o3/input5/final_model/assets\n"
     ]
    },
    {
     "data": {
      "text/plain": [
       "' '"
      ]
     },
     "execution_count": 3,
     "metadata": {},
     "output_type": "execute_result"
    }
   ],
   "source": [
    "from src.model.cmaqnet_cond_unet import build_model\n",
    "\n",
    "model_path = '/home/user/workdir/main/src/model/nitrate/scaled_o3/input5/final_model'  # 모델 저장 경로\n",
    "\n",
    "epochs = 1000  # 훈련 반복 횟수\n",
    "batch_size = 32  # 배치 크기\n",
    "test_split = 0.4  # 테스트 데이터 비율 (20%)\n",
    "random_seed = 42  # 랜덤 시드\n",
    "\n",
    "X_emis_train, X_emis_test, X_boundary_train, X_boundary_test, y_train, y_test = train_test_split(emis_data, boundary_data, conc_data, test_size=test_split, random_state=random_seed)\n",
    "\n",
    "gpus = tf.config.list_physical_devices('GPU')\n",
    "if gpus:\n",
    "    try:\n",
    "        for gpu in gpus:\n",
    "            tf.config.experimental.set_memory_growth(gpu, True)\n",
    "        print(\"Memory growth enabled for GPUs\")\n",
    "    except RuntimeError as e:\n",
    "        print(e)\n",
    "\n",
    "# devices=[\"/GPU:1\",\"/GPU:2\",\"/GPU:3\"]\n",
    "strategy = tf.distribute.MirroredStrategy()\n",
    "with strategy.scope():\n",
    "    model = build_model(\n",
    "        ctrl_dim=17*5,\n",
    "        cond_dim=[1],\n",
    "        emb_dims=[64],\n",
    "        emb_type=['normal'],\n",
    "        out_channel=1,\n",
    "        hidden_size=[64, 96],\n",
    "        hidden_depth=4,\n",
    "        in_filters=5,\n",
    "        kernel_size=3,\n",
    "        activation='silu',\n",
    "        dropout=0.0,\n",
    "        use_abs=True\n",
    "    )\n",
    "    model.compile(\n",
    "        optimizer=tf.keras.optimizers.Adam(1e-3),\n",
    "        loss=tf.keras.losses.MeanSquaredError(),\n",
    "    )\n",
    "    \n",
    "# define callback\n",
    "def scheduler(epoch, lr):\n",
    "    if epoch <= 1000: return 1e-3\n",
    "    else: return 5e-4\n",
    "callback_lr = tf.keras.callbacks.LearningRateScheduler(scheduler)\n",
    "\n",
    "callback_ckpt = tf.keras.callbacks.ModelCheckpoint(\n",
    "    filepath='/home/user/workdir/main/src/model/nitrate/scaled_o3/input5/final_model-{epoch:02d}-{val_loss:.2f}',\n",
    "    monitor='val_loss',\n",
    "    save_best_only=True,\n",
    "    save_weights_only=False,\n",
    "    mode='min',\n",
    "    save_freq='epoch')\n",
    "\n",
    "history = model.fit(\n",
    "    x=[X_emis_train, X_boundary_train],   # 입력 데이터 (지역 별 배출량, 경계 조건 값)\n",
    "    y=y_train,                                          # 입력 데이터의 Label 값 (netCDF에서 PM2.5 값)\n",
    "    epochs=epochs,\n",
    "    batch_size=batch_size,\n",
    "    validation_data=[[X_emis_test, X_boundary_test], y_test], # test 데이터\n",
    "    callbacks=[callback_lr, callback_ckpt])\n",
    "model.save(model_path)\n",
    "\n",
    "def plot_loss(history):\n",
    "    plt.figure(figsize=(10, 6))\n",
    "    \n",
    "    # 학습 손실\n",
    "    plt.plot(history.history['loss'], label='Training Loss', color='blue')\n",
    "    # 검증 손실\n",
    "    plt.plot(history.history['val_loss'], label='Validation Loss', color='orange')\n",
    "\n",
    "    plt.title('Training and Validation Loss')\n",
    "    plt.xlabel('Epochs')\n",
    "    plt.ylabel('Loss')\n",
    "    plt.legend()\n",
    "    plt.grid(alpha=0.3)\n",
    "    plt.show()\n",
    "''' '''"
   ]
  },
  {
   "cell_type": "code",
   "execution_count": 4,
   "metadata": {},
   "outputs": [
    {
     "data": {
      "image/png": "[encoded data removed]",
      "text/plain": [
       "<Figure size 1000x600 with 1 Axes>"
      ]
     },
     "metadata": {},
     "output_type": "display_data"
    }
   ],
   "source": [
    "plot_loss(history)"
   ]
  },
  {
   "cell_type": "code",
   "execution_count": 3,
   "metadata": {},
   "outputs": [],
   "source": [
    "# 2D Map 결과 도출을 위한 지도 파라미터 세팅\n",
    "proj = '+proj=lcc +lat_1=30 +lat_2=60 +lon_1=126 +lat_0=38 +lon_0=126 +ellps=GRS80 +units=m'\n",
    "atob = {\n",
    "    0: 'G', 1: 'F', 2: 'K', 3: 'J', 4: 'E', 5: 'D',\n",
    "    6: 'O', 7: 'C', 8: 'A', 9: 'Q', 10: 'P', 11: 'B',\n",
    "    12: 'M', 13: 'L', 14: 'N', 15: 'I', 16: 'H'}\n",
    "region_columns = {\n",
    "    'A': 'Seoul City', 'B': 'Incheon City', 'C': 'Busan City', 'D': 'Daegu City',\n",
    "    'E': 'Gwangju City', 'F': 'Gyeonggi-do', 'G': 'Gangwon-do', 'H': 'Chungbuk-do',\n",
    "    'I': 'Chungnam-do', 'J': 'Gyeongbuk-do', 'K': 'Gyeongnam-do', 'L': 'Jeonbuk-do',\n",
    "    'M': 'Jeonnam-do', 'N': 'Jeju-do', 'O': 'Daejeon City', 'P': 'Ulsan City', 'Q': 'Sejong City'}\n",
    "\n",
    "def get_ctprvn_map() -> gpd.GeoDataFrame:\n",
    "    path = '/home/user/workdir/main/resources/geom/ctp_rvn.shp'\n",
    "    ctprvn = gpd.GeoDataFrame.from_file(path, encoding='cp949')\n",
    "    ctprvn.crs = 'EPSG:5179'\n",
    "    return ctprvn\n",
    "\n",
    "def get_base_raster(ctprvn:gpd.GeoDataFrame) -> gpd.GeoDataFrame:\n",
    "    points = [Point(i, j)\n",
    "                for i in range(-180000, -180000 + 9000 * 67, 9000)\n",
    "                for j in range(-585000, -585000 + 9000 * 82, 9000)]\n",
    "    grid_data = gpd.GeoDataFrame(points, geometry='geometry', columns=['geometry'])\n",
    "    grid_data.crs = ctprvn.to_crs(proj).crs\n",
    "    grid_data.loc[:,'x_m'] = grid_data.geometry.x\n",
    "    grid_data.loc[:,'y_m'] = grid_data.geometry.y\n",
    "    grid_data.loc[:,'value'] = 0\n",
    "    grid_data.loc[:,'index'] = grid_data.index\n",
    "    return grid_data\n",
    "\n",
    "def get_region_pixel_indices() -> list:\n",
    "    ctprvn = get_ctprvn_map()\n",
    "    grid_data = get_base_raster(ctprvn)\n",
    "\n",
    "    cities = {\n",
    "        0: '강원도', 1: '경기도', 2: '경상남도', 3: '경상북도',\n",
    "        4: '광주광역시', 5: '대구광역시', 6: '대전광역시', 7: '부산광역시',\n",
    "        8: '서울특별시', 9: '세종특별자치시', 10: '울산광역시', 11: '인천광역시',\n",
    "        12: '전라남도', 13: '전라북도', 14: '제주특별자치도', 15: '충청남도',\n",
    "        16: '충청북도'\n",
    "    }\n",
    "\n",
    "    gdf_joined_loc = ['CTPRVN_CD', 'CTP_ENG_NM', 'CTP_KOR_NM', 'index_right0']\n",
    "    gdf_joined = gpd.sjoin(ctprvn, grid_data.to_crs(5179), predicate='contains')\n",
    "\n",
    "    indices = gpd.GeoDataFrame(pd.merge(\n",
    "        left=grid_data, right=gdf_joined.loc[:,gdf_joined_loc], \n",
    "        how='left', left_on='index', right_on='index_right0'\n",
    "    ), geometry='geometry').dropna()\n",
    "    pixel_indices = \\\n",
    "        [[(idx%82, idx//82) for idx in indices.loc[indices.CTP_KOR_NM==cities[region]].index.tolist()]\n",
    "         for region, _ in cities.items()]\n",
    "    return pixel_indices\n",
    "\n",
    "ctprvn = get_ctprvn_map()\n",
    "ctprvn_proj = ctprvn.to_crs(proj)\n",
    "\n",
    "# 건국대(서울대)에서 제공한 대한민국 국토 grid 정보\n",
    "grid_alloc = (\n",
    "    pd.read_csv('/home/user/workdir/main/resources/geom/grid_allocation.csv') # load grid allocation data\n",
    "    .sort_values(by=['Row', 'Column', 'Ratio'], ascending=[True, True, False]) # sort by row, column, ratio\n",
    "    .drop_duplicates(subset=['Row', 'Column'], keep='first') # drop duplicates\n",
    "    .reset_index(drop=True) # reset index\n",
    ")\n",
    "\n",
    "# 정부에서 배포하는 대한민국 국토 grid 정보\n",
    "pixel_indices = get_region_pixel_indices()\n",
    "total_index = []\n",
    "for idx, grids in enumerate(pixel_indices):\n",
    "    for grid in grids:\n",
    "        total_index.append([\n",
    "            grid[1], grid[0], 100.0, atob[idx], region_columns[atob[idx]]\n",
    "        ])\n",
    "total_index = pd.DataFrame(total_index, columns=grid_alloc.columns)\n",
    "\n",
    "# 두 기관에서 주는 grid에 한두픽셀씩 비어있는 부분이 있어, 두 기관 데이터를 모두 참조하여 중복되는 픽셀을 정리 후 최종 국토 grid 정보를 취득\n",
    "grid_alloc = pd.concat([\n",
    "    grid_alloc.drop(columns=['Ratio', 'Region_Name']),\n",
    "    total_index.drop(columns=['Ratio', 'Region_Name'])\n",
    "]).sort_values(by=['Region_Code']).drop_duplicates().reset_index(drop=True)\n",
    "grid_alloc[['Row', 'Column']] = grid_alloc[['Row', 'Column']] - 1\n",
    "\n",
    "row_indices, col_indices = zip(*grid_alloc[['Row', 'Column']].values)\n",
    "offset_x, offset_y = 4500, 4500 # 지도 위치 맞추기\n",
    "\n",
    "# 마스킹 처리\n",
    "mask = np.zeros((82, 67))\n",
    "mask[row_indices, col_indices] = 1\n",
    "\n",
    "cmap_white = mpl.colormaps['jet']\n",
    "cmap_white.set_under('white')"
   ]
  },
  {
   "cell_type": "markdown",
   "metadata": {},
   "source": [
    "# Prediction & Performance"
   ]
  },
  {
   "cell_type": "code",
   "execution_count": 4,
   "metadata": {},
   "outputs": [
    {
     "name": "stderr",
     "output_type": "stream",
     "text": [
      "2025-02-05 09:35:05.636231: I tensorflow/core/common_runtime/gpu/gpu_device.cc:1886] Created device /job:localhost/replica:0/task:0/device:GPU:0 with 1023 MB memory:  -> device: 0, name: NVIDIA GeForce RTX 3090, pci bus id: 0000:19:00.0, compute capability: 8.6\n",
      "2025-02-05 09:35:05.637798: I tensorflow/core/common_runtime/gpu/gpu_device.cc:1886] Created device /job:localhost/replica:0/task:0/device:GPU:1 with 22078 MB memory:  -> device: 1, name: NVIDIA GeForce RTX 3090, pci bus id: 0000:1a:00.0, compute capability: 8.6\n",
      "2025-02-05 09:35:05.639276: I tensorflow/core/common_runtime/gpu/gpu_device.cc:1886] Created device /job:localhost/replica:0/task:0/device:GPU:2 with 22078 MB memory:  -> device: 2, name: NVIDIA GeForce RTX 3090, pci bus id: 0000:67:00.0, compute capability: 8.6\n",
      "2025-02-05 09:35:05.640731: I tensorflow/core/common_runtime/gpu/gpu_device.cc:1886] Created device /job:localhost/replica:0/task:0/device:GPU:3 with 21675 MB memory:  -> device: 3, name: NVIDIA GeForce RTX 3090, pci bus id: 0000:68:00.0, compute capability: 8.6\n",
      "2025-02-05 09:35:09.662387: I tensorflow/compiler/xla/stream_executor/cuda/cuda_dnn.cc:442] Loaded cuDNN version 8907\n"
     ]
    },
    {
     "name": "stdout",
     "output_type": "stream",
     "text": [
      "2/2 [==============================] - 2s 298ms/step\n"
     ]
    }
   ],
   "source": [
    "test_split = 0.4  # 테스트 데이터 비율 (20%)\n",
    "random_seed = 42  # 랜덤 시드\n",
    "model = tf.keras.models.load_model('/home/user/workdir/main/src/model/nitrate/scaled_o3/input5/final_model')\n",
    "\n",
    "pred_emis_data = []\n",
    "pred_time_data = []\n",
    "pred_boundary_data = []\n",
    "\n",
    "# Load Test Data\n",
    "emis_ctrl_2019_10 = pd.read_csv(\n",
    "    '/home/user/workdir/main/resources/ctrl/precursor_control_2019_4input_scaled_o3.csv')\n",
    "emis_ctrl_2019_10['Boundary'] = 1.0\n",
    "\n",
    "ctrl_data = pd.concat([emis_ctrl_2019_10], axis=0)\n",
    "ctrl_data = ctrl_data.reset_index(drop=True).values\n",
    "\n",
    "base_path_2019 = \"/home/user/workdir/main/datasets/concentration/2019/\"\n",
    "\n",
    "conc_path = []\n",
    "for i in range(1, 120): \n",
    "    conc_path.append(os.path.join(base_path_2019, '1.00', f'ACONC.{i}'))\n",
    "\n",
    "conc_data = []\n",
    "for path in conc_path:\n",
    "    with nc.Dataset(path) as f:\n",
    "        conc_data.append(f.variables['Nitrate'][:].data.squeeze())  # ncf 파일 내 목적변수를 지정 \n",
    "conc_data = np.array(conc_data).reshape(len(conc_path), 82, 67, 1)\n",
    "    \n",
    "pred_emis_data, pred_boundary_data = ctrl_data[:, :17*5], ctrl_data[:, 17*5]\n",
    "\n",
    "_, X_emis_test, _, X_boundary_test, _, y_test = train_test_split(pred_emis_data, pred_boundary_data, conc_data, test_size=test_split, random_state=random_seed)\n",
    "\n",
    "y_preds = model.predict([X_emis_test,  X_boundary_test]) # 2가지 경계 조건에 따른 1년치 PM2.5 데이터 예측\n",
    "y_pred = y_preds.squeeze()\n",
    "y_true = y_test.squeeze()"
   ]
  },
  {
   "cell_type": "code",
   "execution_count": 15,
   "metadata": {},
   "outputs": [
    {
     "data": {
      "text/plain": [
       "array([0.81538172, 1.11554962, 1.09052798, 0.95886025, 0.57191188,\n",
       "       1.21518621, 1.17809668, 1.19762422, 1.10234056, 1.28606321,\n",
       "       1.11080942, 1.3128983 , 1.16020392, 1.19391959, 1.0188775 ,\n",
       "       1.03938011, 1.18747818, 1.04983655, 0.97262597, 0.99741723,\n",
       "       0.79533562, 0.90015688, 0.82735444, 0.89800689, 1.18278677,\n",
       "       1.18172214, 1.1902329 , 1.28350387, 0.98254825, 0.96507681,\n",
       "       0.88991129, 0.90506988, 0.77388705, 1.03215871, 1.30477265,\n",
       "       1.20661095, 1.16056896, 0.69183552, 1.20525367, 1.12659386,\n",
       "       0.69273192, 0.97098308, 1.09488342, 0.64935481, 1.22104902,\n",
       "       1.34472755, 1.13329151, 1.1963949 , 1.25394576, 1.22712673,\n",
       "       0.91624166, 1.02513585, 1.2369763 , 0.86074779, 1.25937038,\n",
       "       1.24046512, 0.72014232, 1.42036846, 1.04307555, 1.31060005,\n",
       "       0.69171331, 0.71990495, 0.91142314, 0.69095794, 1.40073342,\n",
       "       0.69038503, 0.68636916, 0.64088837, 0.8070049 , 1.49660479,\n",
       "       1.14956261, 0.85470968, 1.13691181, 1.05873891, 1.03603403,\n",
       "       1.09170509, 1.10695873, 1.22699504, 1.14920381, 1.08574996,\n",
       "       1.10338549, 0.96701031, 0.94999757, 1.07778315, 0.99756549])"
      ]
     },
     "execution_count": 15,
     "metadata": {},
     "output_type": "execute_result"
    }
   ],
   "source": [
    "X_emis_test[18]"
   ]
  },
  {
   "cell_type": "code",
   "execution_count": 5,
   "metadata": {},
   "outputs": [
    {
     "name": "stdout",
     "output_type": "stream",
     "text": [
      "(48, 82, 67)\n",
      "(48, 82, 67)\n",
      "(48, 82, 67)\n",
      "(48, 82, 67)\n"
     ]
    }
   ],
   "source": [
    "mask_expanded = np.repeat(mask[np.newaxis, :, :], repeats=y_true.shape[0], axis=0) # (24, 82, 67)\n",
    "\n",
    "pred_conc_map_w_lines = np.where(mask_expanded == 1, y_pred, 0)  # 마스킹 적용\n",
    "true_conc_map_w_lines = np.where(mask_expanded == 1, y_true, 0) # 마스킹 적용\n",
    "print(y_pred.shape)\n",
    "print(y_true.shape)\n",
    "print(pred_conc_map_w_lines.shape)\n",
    "print(true_conc_map_w_lines.shape)"
   ]
  },
  {
   "cell_type": "code",
   "execution_count": 6,
   "metadata": {},
   "outputs": [],
   "source": [
    "def plot_scatter(ax, y_true, y_pred):\n",
    "    r_x, r_y = np.polyfit(y_true, y_pred, 1)\n",
    "    ax.hist2d(\n",
    "        y_true, y_pred,\n",
    "        bins=150, cmap='jet', cmin=1,\n",
    "        norm=mpl.colors.LogNorm(vmin=1, vmax=1000),\n",
    "    )\n",
    "    ax.plot(\n",
    "        y_true, r_x*y_true + r_y,\n",
    "        color='red', label=f\"y={r_x:.4f}x+{r_y:.4f}\")\n",
    "    r2 = r2_score(y_true, y_pred)\n",
    "    ax.text(\n",
    "        0.05, 0.95, f\"$R^2={r2:.4f}$ \\nSlope={r_x:.4f}\\nIntercept={r_y:.4f}\",\n",
    "        verticalalignment='top', horizontalalignment='left',\n",
    "        transform=ax.transAxes, fontsize=11\n",
    "    )\n",
    "    ax.grid(alpha=0.25)\n",
    "    return ax\n",
    "\n",
    "def get_score(y_true, y_pred):\n",
    "    batch_size = y_true.shape[0]\n",
    "    y_true = y_true.reshape(batch_size, -1)\n",
    "    y_pred = y_pred.reshape(batch_size, -1)\n",
    "    y_norm_err = np.abs(y_true - y_pred) / np.mean(y_true, axis=1, keepdims=True)\n",
    "    y_err_mean = np.mean(y_norm_err, axis=1)\n",
    "    y_err_std = np.percentile(y_norm_err, q=5, axis=1)\n",
    "    return y_err_mean, y_err_std"
   ]
  },
  {
   "cell_type": "code",
   "execution_count": 7,
   "metadata": {},
   "outputs": [
    {
     "name": "stdout",
     "output_type": "stream",
     "text": [
      "(48, 82, 67)\n",
      "(48, 82, 67)\n",
      "(48, 82, 67)\n",
      "(48, 82, 67)\n"
     ]
    }
   ],
   "source": [
    "print(y_pred.shape)\n",
    "print(y_true.shape)\n",
    "print(pred_conc_map_w_lines.shape)\n",
    "print(true_conc_map_w_lines.shape)"
   ]
  },
  {
   "cell_type": "code",
   "execution_count": 30,
   "metadata": {},
   "outputs": [
    {
     "name": "stdout",
     "output_type": "stream",
     "text": [
      "(array([0.02004244, 0.04460206, 0.05322598, 0.04083723, 0.01785975,\n",
      "       0.02402655, 0.0266858 , 0.03213301, 0.03340508, 0.03150035,\n",
      "       0.03292344, 0.02900843, 0.03059761, 0.02857636, 0.05249526,\n",
      "       0.08373202, 0.07013818, 0.05390485, 0.03380768, 0.06210774,\n",
      "       0.06688094, 0.06777962, 0.04572073, 0.05270768, 0.0516286 ,\n",
      "       0.05580463, 0.04832396, 0.0445742 , 0.049099  , 0.05203513,\n",
      "       0.04405315, 0.03719985, 0.03619384, 0.04088435, 0.04397282,\n",
      "       0.03922211, 0.03950531, 0.03616558, 0.03894318, 0.03593205,\n",
      "       0.0373782 , 0.03720567, 0.0368671 , 0.03625288, 0.03615331,\n",
      "       0.03393241, 0.0328015 , 0.03362514, 0.03034236, 0.03150634,\n",
      "       0.02877039, 0.02738736, 0.02816709, 0.02460887, 0.02377834,\n",
      "       0.02181935, 0.02149564, 0.02184006, 0.02112243, 0.02423245,\n",
      "       0.02861171, 0.02767367, 0.02950602, 0.02412501, 0.03860966,\n",
      "       0.069266  , 0.06855142, 0.04601555, 0.02343119, 0.0407516 ,\n",
      "       0.05103402, 0.04143882, 0.01959374, 0.03328214, 0.05994328,\n",
      "       0.07514085, 0.04114057, 0.01218423, 0.00510692, 0.00611508,\n",
      "       0.00460292, 0.00380429], dtype=float32), array([0.00092937, 0.00185273, 0.00238043, 0.003136  , 0.00300383,\n",
      "       0.00229929, 0.00172464, 0.00380747, 0.00380712, 0.00590651,\n",
      "       0.00471575, 0.00627639, 0.006564  , 0.0042587 , 0.00631126,\n",
      "       0.00502887, 0.00580636, 0.00266311, 0.00355606, 0.00662182,\n",
      "       0.0068679 , 0.00468866, 0.00246   , 0.0045709 , 0.00477903,\n",
      "       0.00582334, 0.00474776, 0.00465101, 0.00448951, 0.00465871,\n",
      "       0.00565915, 0.00385801, 0.00485668, 0.00501883, 0.0067695 ,\n",
      "       0.00888309, 0.00739084, 0.00780148, 0.00881624, 0.00805893,\n",
      "       0.01013064, 0.00820919, 0.00932385, 0.00922056, 0.00982621,\n",
      "       0.01064212, 0.00864074, 0.00782899, 0.0083971 , 0.00890292,\n",
      "       0.01008955, 0.00909015, 0.00648312, 0.00853211, 0.00805937,\n",
      "       0.00802636, 0.006329  , 0.00482997, 0.00482853, 0.00466681,\n",
      "       0.00438022, 0.00287077, 0.0015771 , 0.00357955, 0.0022241 ,\n",
      "       0.00598622, 0.0045019 , 0.00296839, 0.00130751, 0.00196011,\n",
      "       0.00151207, 0.00321617, 0.00161707, 0.00082044, 0.00093368,\n",
      "       0.00091631, 0.00079757, 0.00134482, 0.00057854, 0.00031396,\n",
      "       0.00024289, 0.00044316]))\n"
     ]
    }
   ],
   "source": [
    "# print((y_test[17].reshape(82,67)))\n",
    "# print(y_pred[17])\n",
    "print(get_score((y_test[17].reshape(82,67)), y_pred[17]))"
   ]
  },
  {
   "cell_type": "code",
   "execution_count": 8,
   "metadata": {},
   "outputs": [
    {
     "data": {
      "image/png": "[encoded data removed]",
      "text/plain": [
       "<Figure size 1500x1500 with 1 Axes>"
      ]
     },
     "metadata": {},
     "output_type": "display_data"
    }
   ],
   "source": [
    "y_true_modi = true_conc_map_w_lines.reshape(-1)\n",
    "y_pred_modi = pred_conc_map_w_lines.reshape(-1)\n",
    "\n",
    "fig, axes = plt.subplots(1, 1, figsize=(5, 5), dpi=300)\n",
    "axes = plot_scatter(axes, y_true_modi, y_pred_modi)\n",
    "axes.grid(alpha=0.25)\n",
    "axes.set_title(\"True vs. Pred scatter plot\")\n",
    "axes.set_xlabel('True Nitrate [$\\mu \\mathrm{g}/\\mathrm{m}^3$]')\n",
    "axes.set_ylabel('Pred Nitrate [$\\mu \\mathrm{g}/\\mathrm{m}^3$]')\n",
    "cbaxes = axes.inset_axes([0.5, 0.2, 0.35, 0.03])\n",
    "cb = plt.colorbar(\n",
    "    mpl.cm.ScalarMappable(norm=mpl.colors.LogNorm(vmin=1, vmax=1000), cmap='jet'),\n",
    "    cax=cbaxes, label='Number of samples', orientation='horizontal')\n",
    "cb.set_label(label='Number of samples', fontsize=10)"
   ]
  },
  {
   "cell_type": "code",
   "execution_count": 9,
   "metadata": {},
   "outputs": [
    {
     "data": {
      "image/png": "[encoded data removed]",
      "text/plain": [
       "<Figure size 3900x1800 with 1 Axes>"
      ]
     },
     "metadata": {},
     "output_type": "display_data"
    }
   ],
   "source": [
    "fig, axes = plt.subplots(1, 1, figsize=(13, 6), dpi=300)\n",
    "score, score_std = get_score(true_conc_map_w_lines, pred_conc_map_w_lines)\n",
    "label_text = f'NMAE: {np.mean(score):.3f}±{np.std(score):.3f}'\n",
    "\n",
    "axes.bar(np.arange(y_test.shape[0]), score, yerr=score_std, label=label_text, capsize=2)\n",
    "axes.set_xticks(np.arange(y_test.shape[0]), range(y_test.shape[0]))\n",
    "axes.grid(alpha=0.25)\n",
    "axes.legend()\n",
    "axes.set_title(\"NMAE of Cond. U-Net Nitrate\")\n",
    "axes.set_xlabel('Scenario')\n",
    "axes.set_ylabel('NMAE [%]')\n",
    "plt.show()"
   ]
  },
  {
   "cell_type": "code",
   "execution_count": 12,
   "metadata": {},
   "outputs": [
    {
     "name": "stdout",
     "output_type": "stream",
     "text": [
      "[0]\n"
     ]
    },
    {
     "name": "stderr",
     "output_type": "stream",
     "text": [
      "/tmp/ipykernel_1462021/815748241.py:28: UserWarning: set_ticklabels() should only be used with a fixed number of ticks, i.e. after set_ticks() or using a FixedLocator.\n",
      "  axes[i, 0].set_xticklabels([f\"{i}\" for i in range(124, 132, 1)])\n",
      "/tmp/ipykernel_1462021/815748241.py:29: UserWarning: set_ticklabels() should only be used with a fixed number of ticks, i.e. after set_ticks() or using a FixedLocator.\n",
      "  axes[i, 0].set_yticklabels([f\"{i}\" for i in range(32, 40, 1)])\n",
      "/tmp/ipykernel_1462021/815748241.py:47: UserWarning: set_ticklabels() should only be used with a fixed number of ticks, i.e. after set_ticks() or using a FixedLocator.\n",
      "  axes[i, 1].set_xticklabels([f\"{i}\" for i in range(124, 132, 1)])\n",
      "/tmp/ipykernel_1462021/815748241.py:48: UserWarning: set_ticklabels() should only be used with a fixed number of ticks, i.e. after set_ticks() or using a FixedLocator.\n",
      "  axes[i, 1].set_yticklabels([f\"{i}\" for i in range(32, 40, 1)])\n",
      "/tmp/ipykernel_1462021/815748241.py:67: UserWarning: set_ticklabels() should only be used with a fixed number of ticks, i.e. after set_ticks() or using a FixedLocator.\n",
      "  axes[i, 2].set_xticklabels([f\"{i}\" for i in range(124, 132, 1)])\n",
      "/tmp/ipykernel_1462021/815748241.py:68: UserWarning: set_ticklabels() should only be used with a fixed number of ticks, i.e. after set_ticks() or using a FixedLocator.\n",
      "  axes[i, 2].set_yticklabels([f\"{i}\" for i in range(32, 40, 1)])\n"
     ]
    },
    {
     "data": {
      "image/png": "[encoded data removed]",
      "text/plain": [
       "<Figure size 1500x500 with 3 Axes>"
      ]
     },
     "metadata": {},
     "output_type": "display_data"
    }
   ],
   "source": [
    "def plot_prediction_loss(y_true, y_pred, num_samples=1, indices=-1):\n",
    "    if indices == -1 or indices < 0:\n",
    "        indices = np.random.choice(len(y_true), num_samples, replace=False)\n",
    "    else:\n",
    "        index = indices\n",
    "        indices = []\n",
    "        indices.append(index) \n",
    "    print(indices)  # 선택된 인덱스 확인\n",
    "    fig, axes = plt.subplots(num_samples, 3, figsize=(15, 5 * num_samples))\n",
    "    if num_samples == 1:\n",
    "        axes = np.expand_dims(axes, axis=0)  # 2차원으로 변환\n",
    "\n",
    "    fig.suptitle(\"Prediction vs True Values and Difference\", fontsize=16, y=1.02)\n",
    "    for i, idx in enumerate(indices):\n",
    "        # True 이미지\n",
    "        axes[i, 0].imshow(\n",
    "            y_true[idx][::-1], \n",
    "            cmap=cmap_white,\n",
    "            extent=(-180000+offset_x, 414000+offset_x, -585000+offset_y, 144000+offset_y),\n",
    "            vmin=0.001)\n",
    "        axes[i, 0] = ctprvn_proj.boundary.plot(ax=axes[i, 0], edgecolor='black', facecolor='none', linewidth=1, alpha=0.25)\n",
    "        axes[i, 0].set_xlim(-180000, 414000)\n",
    "        axes[i, 0].set_ylim(-585000, 144000)\n",
    "        axes[i, 0].set_xlabel('Longitude [°]')\n",
    "        axes[i, 0].set_ylabel('Latitude [°]')\n",
    "        axes[i, 0].set_title(f\"True (#{idx})\")\n",
    "        axes[i, 0].grid(alpha=0.25, color='silver')\n",
    "        axes[i, 0].set_xticklabels([f\"{i}\" for i in range(124, 132, 1)])\n",
    "        axes[i, 0].set_yticklabels([f\"{i}\" for i in range(32, 40, 1)])\n",
    "        cbaxes = axes[i, 0].inset_axes([0.6, 0.15, 0.35, 0.03])\n",
    "        cb = plt.colorbar(axes[i, 0].images[0], cax=cbaxes, orientation='horizontal', label='Nitrate ($\\mu g/m^3$)')\n",
    "        cb.set_label(label='conc. [$\\mu \\mathrm{g}/\\mathrm{m}^3$]')\n",
    "\n",
    "        # Predicted 이미지\n",
    "        axes[i, 1].imshow(\n",
    "            y_pred[idx][::-1], \n",
    "            cmap=cmap_white,\n",
    "            extent=(-180000+offset_x, 414000+offset_x, -585000+offset_y, 144000+offset_y),\n",
    "            vmin=0.001)\n",
    "        axes[i, 1] = ctprvn_proj.boundary.plot(ax=axes[i, 1], edgecolor='black', facecolor='none', linewidth=1, alpha=0.25)\n",
    "        axes[i, 1].set_xlim(-180000, 414000)\n",
    "        axes[i, 1].set_ylim(-585000, 144000)\n",
    "        axes[i, 1].set_xlabel('Longitude [°]')\n",
    "        axes[i, 1].set_ylabel('Latitude [°]')\n",
    "        axes[i, 1].set_title(f\"Predicted (#{idx})\")\n",
    "        axes[i, 1].grid(alpha=0.25, color='silver')\n",
    "        axes[i, 1].set_xticklabels([f\"{i}\" for i in range(124, 132, 1)])\n",
    "        axes[i, 1].set_yticklabels([f\"{i}\" for i in range(32, 40, 1)])\n",
    "        cbaxes = axes[i, 1].inset_axes([0.6, 0.15, 0.35, 0.03])\n",
    "        cb = plt.colorbar(axes[i, 1].images[0], cax=cbaxes, orientation='horizontal', label='Nitrate ($\\mu g/m^3$)')\n",
    "        cb.set_label(label='conc. [$\\mu \\mathrm{g}/\\mathrm{m}^3$]')\n",
    "        \n",
    "        # Difference 이미지\n",
    "        difference = np.abs(y_true[idx] - y_pred[idx])  # 차이 절대값\n",
    "        axes[i, 2].imshow(\n",
    "            difference[::-1], \n",
    "            cmap=cmap_white,\n",
    "            extent=(-180000+offset_x, 414000+offset_x, -585000+offset_y, 144000+offset_y),\n",
    "            vmin=0.001)\n",
    "        axes[i, 2] = ctprvn_proj.boundary.plot(ax=axes[i, 2], edgecolor='black', facecolor='none', linewidth=1, alpha=0.25)\n",
    "        axes[i, 2].set_xlim(-180000, 414000)\n",
    "        axes[i, 2].set_ylim(-585000, 144000)\n",
    "        axes[i, 2].set_xlabel('Longitude [°]')\n",
    "        axes[i, 2].set_ylabel('Latitude [°]')\n",
    "        axes[i, 2].set_title(f\"Difference (#{idx})\")\n",
    "        axes[i, 2].grid(alpha=0.25, color='silver')\n",
    "        axes[i, 2].set_xticklabels([f\"{i}\" for i in range(124, 132, 1)])\n",
    "        axes[i, 2].set_yticklabels([f\"{i}\" for i in range(32, 40, 1)])\n",
    "        cbaxes = axes[i, 2].inset_axes([0.6, 0.15, 0.35, 0.03])\n",
    "        cb = plt.colorbar(axes[i, 2].images[0], cax=cbaxes, orientation='horizontal', label='Nitrate ($\\mu g/m^3$)')\n",
    "        cb.set_label(label='conc. [$\\mu \\mathrm{g}/\\mathrm{m}^3$]')\n",
    "        \n",
    "    plt.tight_layout(rect=[0, 0, 1, 1])\n",
    "    plt.subplots_adjust(wspace=-0.4, hspace=0.2)\n",
    "    plt.show()\n",
    "\n",
    "plot_prediction_loss(true_conc_map_w_lines, pred_conc_map_w_lines, indices=0)"
   ]
  }
 ],
 "metadata": {
  "kernelspec": {
   "display_name": "Python 3",
   "language": "python",
   "name": "python3"
  },
  "language_info": {
   "codemirror_mode": {
    "name": "ipython",
    "version": 3
   },
   "file_extension": ".py",
   "mimetype": "text/x-python",
   "name": "python",
   "nbconvert_exporter": "python",
   "pygments_lexer": "ipython3",
   "version": "3.10.16"
  }
 },
 "nbformat": 4,
 "nbformat_minor": 2
}
