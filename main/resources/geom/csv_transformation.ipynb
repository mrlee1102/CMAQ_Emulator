{
 "cells": [
  {
   "cell_type": "code",
   "execution_count": 1,
   "id": "7be416d1",
   "metadata": {},
   "outputs": [
    {
     "name": "stdout",
     "output_type": "stream",
     "text": [
      "✅ 원본 파일('si_gun_gu_allocation_v1.csv')을 성공적으로 읽었습니다.\n",
      "✅ 규칙 #1 적용 완료: '-gu, -si' 형식의 데이터를 '-si'로 통합했습니다.\n",
      "✅ 규칙 #2 적용 완료: '동/서/남/북/중구' 이름 형식을 표준화했습니다.\n",
      "\n",
      "🎉 모든 변환이 완료되었습니다. 결과가 '/home/user/workdir/CMAQ_Emulator/main/resources/geom/si_gun_gu_allocation_v2.csv' 파일로 저장되었습니다.\n"
     ]
    }
   ],
   "source": [
    "import pandas as pd\n",
    "\n",
    "# 1. 데이터 파일 로드\n",
    "try:\n",
    "    df = pd.read_csv('/home/user/workdir/CMAQ_Emulator/main/resources/geom/si_gun_gu_allocation_v1.csv')\n",
    "    print(\"✅ 원본 파일('si_gun_gu_allocation_v1.csv')을 성공적으로 읽었습니다.\")\n",
    "except FileNotFoundError:\n",
    "    print(\"❌ 오류: 'si_gun_gu_allocation_v1.csv' 파일을 찾을 수 없습니다. 스크립트와 동일한 위치에 파일을 놓아주세요.\")\n",
    "    exit()\n",
    "\n",
    "# 광역지자체 한글-영문 변환을 위한 맵 정의\n",
    "sido_korean_to_english = {\n",
    "    '서울': 'Seoul', '부산': 'Busan', '대구': 'Daegu', '인천': 'Incheon',\n",
    "    '광주': 'Gwangju', '대전': 'Daejeon', '울산': 'Ulsan', '세종': 'Sejong',\n",
    "    '경기': 'Gyeonggi', '강원': 'Gangwon', '충북': 'Chungbuk', '충남': 'Chung-Nam',\n",
    "    '전북': 'Jeon-Buk', '전남': 'Jeon-Nam', '경북': 'Gyeong-Buk', '경남': 'Gyeong-Nam',\n",
    "    '제주': 'Jeju'\n",
    "}\n",
    "\n",
    "# 2. 변환 규칙 #1 적용: OOO-gu, XXX-si -> XXX-si (서울 제외)\n",
    "# '광역지자체'가 '서울'이 아니고, 'SIG_ENG_NM'에 쉼표(,)가 포함된 경우를 찾습니다.\n",
    "mask_gu_si = (df['광역지자체'] != '서울') & (df['SIG_ENG_NM'].str.contains(','))\n",
    "\n",
    "# 해당 데이터의 'SIG_ENG_NM'을 쉼표로 분리하여 마지막 부분(XXX-si)만 남깁니다.\n",
    "df.loc[mask_gu_si, 'SIG_ENG_NM'] = df.loc[mask_gu_si, 'SIG_ENG_NM'].str.split(',').str[-1].str.strip()\n",
    "print(\"✅ 규칙 #1 적용 완료: '-gu, -si' 형식의 데이터를 '-si'로 통합했습니다.\")\n",
    "\n",
    "\n",
    "# 3. 변환 규칙 #2 적용: 동서남북 이름 형식 표준화 (예: Nam-gu -> Nam-gu, Ulsan)\n",
    "# 표준화가 필요한 동서남북 형식의 이름 목록\n",
    "directional_names = ['Nam-gu', 'Buk-gu', 'Dong-gu', 'Seo-gu', 'Jung-gu']\n",
    "\n",
    "# 'SIG_ENG_NM'이 위 목록에 포함된 경우를 찾습니다.\n",
    "mask_directional = df['SIG_ENG_NM'].isin(directional_names)\n",
    "\n",
    "# 해당 데이터의 'SIG_ENG_NM' 뒤에 영문 광역지자체 이름을 붙입니다.\n",
    "df.loc[mask_directional, 'SIG_ENG_NM'] = df.loc[mask_directional, 'SIG_ENG_NM'] + ', ' + df.loc[mask_directional, '광역지자체'].map(sido_korean_to_english)\n",
    "print(\"✅ 규칙 #2 적용 완료: '동/서/남/북/중구' 이름 형식을 표준화했습니다.\")\n",
    "\n",
    "\n",
    "# 4. 최종 데이터 정리 및 저장\n",
    "# 코드에서 사용할 최종 컬럼들을 선택하고 이름을 표준화합니다.\n",
    "df['Region_Name'] = df['광역지자체'].map(sido_korean_to_english)\n",
    "final_df = df[['Y(Row)', 'X(Column)', 'Region_Name', 'SIG_ENG_NM', 'ratio']].copy()\n",
    "final_df.rename(columns={\n",
    "    'Y(Row)': 'Row',\n",
    "    'X(Column)': 'Column',\n",
    "    'ratio': 'Ratio'\n",
    "}, inplace=True)\n",
    "\n",
    "# 변환된 결과를 새로운 CSV 파일로 저장\n",
    "output_filename = '/home/user/workdir/CMAQ_Emulator/main/resources/geom/si_gun_gu_allocation_v2.csv'\n",
    "final_df.to_csv(output_filename, index=False, encoding='utf-8-sig')\n",
    "print(f\"\\n🎉 모든 변환이 완료되었습니다. 결과가 '{output_filename}' 파일로 저장되었습니다.\")"
   ]
  }
 ],
 "metadata": {
  "kernelspec": {
   "display_name": "Python 3",
   "language": "python",
   "name": "python3"
  },
  "language_info": {
   "codemirror_mode": {
    "name": "ipython",
    "version": 3
   },
   "file_extension": ".py",
   "mimetype": "text/x-python",
   "name": "python",
   "nbconvert_exporter": "python",
   "pygments_lexer": "ipython3",
   "version": "3.10.18"
  }
 },
 "nbformat": 4,
 "nbformat_minor": 5
}
