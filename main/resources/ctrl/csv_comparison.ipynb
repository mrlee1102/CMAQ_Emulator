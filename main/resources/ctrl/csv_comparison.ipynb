{
 "cells": [
  {
   "cell_type": "code",
   "execution_count": 4,
   "metadata": {},
   "outputs": [
    {
     "name": "stdout",
     "output_type": "stream",
     "text": [
      "두 파일의 shape가 같습니다: (119, 85)\n",
      "두 파일의 모든 셀이 완전히 같습니다.\n"
     ]
    }
   ],
   "source": [
    "import pandas as pd\n",
    "import numpy as np\n",
    "\n",
    "def clean_colnames(cols):\n",
    "    # 예: '1)A_NOX_ALL' -> 'A_NOX_ALL'\n",
    "    return cols.str.replace(r'^[0-9]+\\)', '', regex=True).str.strip()\n",
    "\n",
    "# 비교할 파일 경로를 직접 지정\n",
    "file1 = '/home/user/workdir/CMAQ_Emulator/main/resources/ctrl/02_Emission_2024_pm.csv'\n",
    "file2 = '/home/user/workdir/CMAQ_Emulator/main/resources/ctrl/precursor_control_2019.csv'\n",
    "\n",
    "# CSV 파일 읽기\n",
    "csv1 = pd.read_csv(file1, index_col=0)\n",
    "csv2 = pd.read_csv(file2, index_col=0)\n",
    "\n",
    "csv1.columns = clean_colnames(csv1.columns)\n",
    "csv2.columns = clean_colnames(csv2.columns)\n",
    "\n",
    "# 행/열 크기 비교\n",
    "if csv1.shape != csv2.shape:\n",
    "    print(f\"두 파일의 shape가 다릅니다: {csv1.shape} vs {csv2.shape}\")\n",
    "else:\n",
    "    print(f\"두 파일의 shape가 같습니다: {csv1.shape}\")\n",
    "    # 값 비교\n",
    "    diff = csv1 - csv2\n",
    "    is_equal = (diff.abs() < 1e-8).all().all()\n",
    "    if is_equal:\n",
    "        print(\"두 파일의 모든 셀이 완전히 같습니다.\")\n",
    "    else:\n",
    "        print(\"두 파일의 값이 다릅니다. 차이 통계:\")\n",
    "        abs_diff = diff.abs()\n",
    "        print(f\"평균 차이: {abs_diff.mean().mean():.6f}\")\n",
    "        print(f\"표준편차: {abs_diff.stack().std():.6f}\")\n",
    "        print(f\"최대 차이: {abs_diff.max().max():.6f}\")\n",
    "        print(f\"최소 차이(0이 아닐 때): {abs_diff[abs_diff>0].min().min():.6f}\")\n",
    "        print(f\"차이가 있는 셀 개수: {(abs_diff > 1e-8).sum().sum()} / 전체 셀: {abs_diff.size}\")\n",
    "        print(\"차이가 큰 상위 5개 셀:\")\n",
    "        diff_unstacked = abs_diff.unstack().sort_values(ascending=False)\n",
    "        print(diff_unstacked.head(5))"
   ]
  },
  {
   "cell_type": "code",
   "execution_count": 6,
   "metadata": {},
   "outputs": [
    {
     "name": "stdout",
     "output_type": "stream",
     "text": [
      "두 데이터프레임이 완전히 동일한가? False\n"
     ]
    }
   ],
   "source": [
    "import pandas as pd\n",
    "import numpy as np\n",
    "\n",
    "def clean_colnames(cols):\n",
    "    # 예: '1)A_NOX_ALL' -> 'A_NOX_ALL'\n",
    "    return cols.str.replace(r'^[0-9]+\\)', '', regex=True).str.strip()\n",
    "\n",
    "# 비교할 파일 경로를 직접 지정\n",
    "# file1 = '/home/user/workdir/CMAQ_Emulator/main/resources/ctrl/02_Emission_2024_pm.csv'\n",
    "file1 = '/home/user/workdir/CMAQ_Emulator/main/resources/ctrl/precursor_control_2013.csv'\n",
    "file2 = '/home/user/workdir/CMAQ_Emulator/main/resources/ctrl/precursor_control_2019.csv'\n",
    "\n",
    "# CSV 파일 읽기\n",
    "csv1 = pd.read_csv(file1, index_col=0)\n",
    "csv2 = pd.read_csv(file2, index_col=0)\n",
    "\n",
    "# 열 이름 전처리\n",
    "csv1.columns = clean_colnames(csv1.columns)\n",
    "csv2.columns = clean_colnames(csv2.columns)\n",
    "\n",
    "# 공통 행/열만 추출 및 정렬\n",
    "common_rows = csv1.index.intersection(csv2.index)\n",
    "common_cols = csv1.columns.intersection(csv2.columns)\n",
    "csv1_common = csv1.loc[common_rows, common_cols].sort_index().sort_index(axis=1)\n",
    "csv2_common = csv2.loc[common_rows, common_cols].sort_index().sort_index(axis=1)\n",
    "\n",
    "# 완전히 동일한지 확인\n",
    "is_equal = csv1_common.equals(csv2_common)\n",
    "print(f\"두 데이터프레임이 완전히 동일한가? {is_equal}\")"
   ]
  }
 ],
 "metadata": {
  "kernelspec": {
   "display_name": "Python 3",
   "language": "python",
   "name": "python3"
  },
  "language_info": {
   "codemirror_mode": {
    "name": "ipython",
    "version": 3
   },
   "file_extension": ".py",
   "mimetype": "text/x-python",
   "name": "python",
   "nbconvert_exporter": "python",
   "pygments_lexer": "ipython3",
   "version": "3.10.16"
  }
 },
 "nbformat": 4,
 "nbformat_minor": 2
}
