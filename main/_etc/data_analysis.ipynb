{
 "cells": [
  {
   "cell_type": "code",
   "execution_count": 11,
   "metadata": {},
   "outputs": [],
   "source": [
    "import os\n",
    "from datetime import datetime, timedelta\n",
    "import glob\n",
    "import warnings\n",
    "\n",
    "import numpy as np\n",
    "import pandas as pd\n",
    "import geopandas as gpd\n",
    "from shapely.geometry import Point\n",
    "\n",
    "import torch, torchvision"
   ]
  },
  {
   "cell_type": "code",
   "execution_count": 12,
   "metadata": {},
   "outputs": [],
   "source": [
    "conc_dataset = np.load('/mnt/dsk1/yhlee/workdir/cmaqnet/datasets/conc_o3_total.npy')"
   ]
  },
  {
   "cell_type": "code",
   "execution_count": 13,
   "metadata": {},
   "outputs": [
    {
     "data": {
      "text/plain": [
       "(119, 3912, 82, 67, 1)"
      ]
     },
     "execution_count": 13,
     "metadata": {},
     "output_type": "execute_result"
    }
   ],
   "source": [
    "conc_dataset.shape"
   ]
  },
  {
   "cell_type": "code",
   "execution_count": 14,
   "metadata": {},
   "outputs": [],
   "source": [
    "def const_ctrl_map(self, ctrl_mat:torch.Tensor)->torch.Tensor:\n",
    "        batch_size = ctrl_mat.shape[0]\n",
    "        ctrl_mat = ctrl_mat.reshape(-1, 17, 7).transpose(2, 1)\n",
    "        ctrl_map = torch.zeros((batch_size, 7, 82, 67), device=ctrl_mat.device)\n",
    "        for i in range(17):\n",
    "            row, col = zip(*getattr(self, f'region_{i}'))\n",
    "            ctrl_map[:, :, row, col] = ctrl_mat[:, :, i:i+1]\n",
    "        return ctrl_map"
   ]
  },
  {
   "cell_type": "code",
   "execution_count": 23,
   "metadata": {},
   "outputs": [
    {
     "name": "stdout",
     "output_type": "stream",
     "text": [
      "min:  3.8163438e-19\n",
      "max:  0.12688288\n",
      "mean:  0.04125817\n",
      "std:  0.013417359\n"
     ]
    }
   ],
   "source": [
    "print('min: ',conc_dataset.min())\n",
    "print('max: ',conc_dataset.max())\n",
    "print('mean: ',conc_dataset.mean())\n",
    "print('std: ',conc_dataset.std())"
   ]
  },
  {
   "cell_type": "code",
   "execution_count": null,
   "metadata": {},
   "outputs": [],
   "source": [
    "/mnt/dsk1/yhlee/workdir/cmaq_dataset/npy/conc/yearly/RSM_001.npz"
   ]
  }
 ],
 "metadata": {
  "kernelspec": {
   "display_name": "Python 3",
   "language": "python",
   "name": "python3"
  },
  "language_info": {
   "codemirror_mode": {
    "name": "ipython",
    "version": 3
   },
   "file_extension": ".py",
   "mimetype": "text/x-python",
   "name": "python",
   "nbconvert_exporter": "python",
   "pygments_lexer": "ipython3",
   "version": "3.10.16"
  }
 },
 "nbformat": 4,
 "nbformat_minor": 2
}
