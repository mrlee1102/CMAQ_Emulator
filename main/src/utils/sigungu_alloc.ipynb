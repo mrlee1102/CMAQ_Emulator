{
 "cells": [
  {
   "cell_type": "code",
   "execution_count": null,
   "id": "52ad5823",
   "metadata": {},
   "outputs": [],
   "source": [
    "import pandas as pd\n",
    "\n",
    "# 1. 시군구 CSV 파일 로드\n",
    "try:\n",
    "    df = pd.read_csv('/home/user/workdir/CMAQ_Emulator/main/resources/geom/si_gun_gu_allocation_v1.csv')\n",
    "    print(\"✅ 원본 파일('si_gun_gu_allocation_v1.csv')을 성공적으로 읽었습니다.\")\n",
    "except FileNotFoundError:\n",
    "    print(\"❌ 오류: 'si_gun_gu_allocation_v1.csv' 파일을 찾을 수 없습니다.\")\n",
    "    exit()\n",
    "\n",
    "# 2. 모델(layers.py)의 Region Code 맵핑 정보\n",
    "# '광역지자체 영문명' -> 'Region_Code' 로 변환하기 위한 역방향 맵\n",
    "region_codes = {\n",
    "    'Seoul City': 'A', 'Incheon City': 'B', 'Busan City': 'C', 'Daegu City': 'D',\n",
    "    'Gwangju City': 'E', 'Gyeonggi-do': 'F', 'Gangwon-do': 'G', 'Chungbuk-do': 'H',\n",
    "    'Chungnam-do': 'I', 'Gyeongbuk-do': 'J', 'Gyeongnam-do': 'K', 'Jeonbuk-do': 'L',\n",
    "    'Jeonnam-do': 'M', 'Jeju-do': 'N', 'Daejeon City': 'O', 'Ulsan City': 'P', 'Sejong City': 'Q'\n",
    "}\n",
    "# '광역지자체 한글명' -> '광역지자체 영문명' 변환 맵\n",
    "sido_korean_to_english = {\n",
    "    '서울': 'Seoul City', '인천': 'Incheon City', '부산': 'Busan City', '대구': 'Daegu City',\n",
    "    '광주': 'Gwangju City', '경기': 'Gyeonggi-do', '강원': 'Gangwon-do', '충북': 'Chungbuk-do',\n",
    "    '충남': 'Chungnam-do', '경북': 'Gyeongbuk-do', '경남': 'Gyeongnam-do', '전북': 'Jeonbuk-do',\n",
    "    '전남': 'Jeonnam-do', '제주': 'Jeju-do', '대전': 'Daejeon City', '울산': 'Ulsan City', '세종': 'Sejong City'\n",
    "}\n",
    "\n",
    "# 3. SIG_ENG_NM 표준화 (이전 요청 사항 반영)\n",
    "mask_gu_si = (df['광역지자체'] != '서울') & (df['SIG_ENG_NM'].str.contains(','))\n",
    "df.loc[mask_gu_si, 'SIG_ENG_NM'] = df.loc[mask_gu_si, 'SIG_ENG_NM'].str.split(',').str[-1].str.strip()\n",
    "directional_names = ['Nam-gu', 'Buk-gu', 'Dong-gu', 'Seo-gu', 'Jung-gu']\n",
    "mask_directional = df['SIG_ENG_NM'].isin(directional_names)\n",
    "df.loc[mask_directional, 'SIG_ENG_NM'] = df.loc[mask_directional, 'SIG_ENG_NM'] + ', ' + df['광역지자체'].map(sido_korean_to_english)\n",
    "print(\"✅ 시군구 영문명(SIG_ENG_NM)을 표준 형식으로 변환했습니다.\")\n",
    "\n",
    "# 4. 최종 alloc.py 형식에 맞게 데이터 구성\n",
    "# 4.1. 광역지자체 영문명 컬럼 생성\n",
    "df['Region_Name_Sido'] = df['광역지자체'].map(sido_korean_to_english)\n",
    "# 4.2. 광역지자체 코드(A,B,C..) 컬럼 생성\n",
    "df['Region_Code_Sido'] = df['Region_Name_Sido'].map(region_codes)\n",
    "\n",
    "# 4.3. 최종 데이터프레임 선택 및 컬럼명 변경\n",
    "df_for_alloc = df[['SIG_ENG_NM', 'Region_Code_Sido', 'Y(Row)', 'X(Column)', 'ratio']].copy()\n",
    "df_for_alloc.columns = ['Region_Name', 'Region_Code', 'Row', 'Column', 'Ratio']\n",
    "\n",
    "print(\"✅ 데이터를 새로운 alloc 형식에 맞게 재구성했습니다.\")\n",
    "\n",
    "# 5. 데이터프레임을 Python 리스트로 변환 및 파일 저장\n",
    "allocation_list = df_for_alloc.values.tolist()\n",
    "\n",
    "output_filename = 'alloc_sigungu_mapped.py'\n",
    "with open(output_filename, 'w', encoding='utf-8') as f:\n",
    "    f.write('# 시군구 위치정보 + 시도 Region Code 통합 버전\\n')\n",
    "    f.write('allocation = [\\n')\n",
    "    for i, item in enumerate(allocation_list):\n",
    "        formatted_item = f\"    [{item[0]!r}, {item[1]!r}, {item[2]}, {item[3]}, {item[4]}]\"\n",
    "        if i < len(allocation_list) - 1:\n",
    "            formatted_item += ','\n",
    "        f.write(formatted_item + '\\n')\n",
    "    f.write(']\\n')\n",
    "\n",
    "print(f\"\\n🎉 모든 변환이 완료되었습니다. 결과가 '{output_filename}' 파일로 저장되었습니다.\")"
   ]
  },
  {
   "cell_type": "code",
   "execution_count": null,
   "id": "97f4cc5a",
   "metadata": {},
   "outputs": [
    {
     "name": "stdout",
     "output_type": "stream",
     "text": [
      "❌ 오류: 'si_gun_gu_allocation_v1.csv' 파일을 찾을 수 없습니다.\n"
     ]
    },
    {
     "ename": "NameError",
     "evalue": "name 'df' is not defined",
     "output_type": "error",
     "traceback": [
      "\u001b[0;31m---------------------------------------------------------------------------\u001b[0m",
      "\u001b[0;31mNameError\u001b[0m                                 Traceback (most recent call last)",
      "Cell \u001b[0;32mIn[1], line 16\u001b[0m\n\u001b[1;32m     10\u001b[0m     exit()\n\u001b[1;32m     12\u001b[0m \u001b[38;5;66;03m# 2. alloc.py 형식에 맞게 데이터 구성\u001b[39;00m\n\u001b[1;32m     13\u001b[0m \u001b[38;5;66;03m# 파일에 이미 필요한 정보(Region_Code 등)가 있으므로 복잡한 변환 과정이 필요 없습니다.\u001b[39;00m\n\u001b[1;32m     14\u001b[0m \u001b[38;5;66;03m# 필요한 컬럼만 순서에 맞게 선택합니다.\u001b[39;00m\n\u001b[1;32m     15\u001b[0m \u001b[38;5;66;03m# 최종 Region_Name은 상세 지역명인 SIG_ENG_NM을 사용합니다.\u001b[39;00m\n\u001b[0;32m---> 16\u001b[0m df_for_alloc \u001b[38;5;241m=\u001b[39m \u001b[43mdf\u001b[49m[[\u001b[38;5;124m'\u001b[39m\u001b[38;5;124mSIG_ENG_NM\u001b[39m\u001b[38;5;124m'\u001b[39m, \u001b[38;5;124m'\u001b[39m\u001b[38;5;124mRegion_Code\u001b[39m\u001b[38;5;124m'\u001b[39m, \u001b[38;5;124m'\u001b[39m\u001b[38;5;124mRow\u001b[39m\u001b[38;5;124m'\u001b[39m, \u001b[38;5;124m'\u001b[39m\u001b[38;5;124mColumn\u001b[39m\u001b[38;5;124m'\u001b[39m, \u001b[38;5;124m'\u001b[39m\u001b[38;5;124mRatio\u001b[39m\u001b[38;5;124m'\u001b[39m]]\u001b[38;5;241m.\u001b[39mcopy()\n\u001b[1;32m     18\u001b[0m \u001b[38;5;66;03m# 최종 컬럼명을 alloc.py에서 사용하는 이름으로 변경합니다.\u001b[39;00m\n\u001b[1;32m     19\u001b[0m df_for_alloc\u001b[38;5;241m.\u001b[39mcolumns \u001b[38;5;241m=\u001b[39m [\u001b[38;5;124m'\u001b[39m\u001b[38;5;124mRegion_Name\u001b[39m\u001b[38;5;124m'\u001b[39m, \u001b[38;5;124m'\u001b[39m\u001b[38;5;124mRegion_Code\u001b[39m\u001b[38;5;124m'\u001b[39m, \u001b[38;5;124m'\u001b[39m\u001b[38;5;124mRow\u001b[39m\u001b[38;5;124m'\u001b[39m, \u001b[38;5;124m'\u001b[39m\u001b[38;5;124mColumn\u001b[39m\u001b[38;5;124m'\u001b[39m, \u001b[38;5;124m'\u001b[39m\u001b[38;5;124mRatio\u001b[39m\u001b[38;5;124m'\u001b[39m]\n",
      "\u001b[0;31mNameError\u001b[0m: name 'df' is not defined"
     ]
    },
    {
     "ename": "",
     "evalue": "",
     "output_type": "error",
     "traceback": [
      "\u001b[1;31mThe Kernel crashed while executing code in the current cell or a previous cell. \n",
      "\u001b[1;31mPlease review the code in the cell(s) to identify a possible cause of the failure. \n",
      "\u001b[1;31mClick <a href='https://aka.ms/vscodeJupyterKernelCrash'>here</a> for more info. \n",
      "\u001b[1;31mView Jupyter <a href='command:jupyter.viewOutput'>log</a> for further details."
     ]
    }
   ],
   "source": [
    "import pandas as pd\n",
    "\n",
    "# 1. 시군구 CSV 파일 로드\n",
    "try:\n",
    "    df = pd.read_csv('si_gun_gu_allocation_v1.csv')\n",
    "    print(\"✅ 원본 파일('si_gun_gu_allocation_v1.csv')을 성공적으로 읽었습니다.\")\n",
    "    print(f\"✅ 확인된 컬럼명: {df.columns.tolist()}\")\n",
    "except FileNotFoundError:\n",
    "    print(\"❌ 오류: 'si_gun_gu_allocation_v1.csv' 파일을 찾을 수 없습니다.\")\n",
    "    exit()\n",
    "\n",
    "# 2. alloc.py 형식에 맞게 데이터 구성\n",
    "# 파일에 이미 필요한 정보(Region_Code 등)가 있으므로 복잡한 변환 과정이 필요 없습니다.\n",
    "# 필요한 컬럼만 순서에 맞게 선택합니다.\n",
    "# 최종 Region_Name은 상세 지역명인 SIG_ENG_NM을 사용합니다.\n",
    "df_for_alloc = df[['SIG_ENG_NM', 'Region_Code', 'Row', 'Column', 'Ratio']].copy()\n",
    "\n",
    "# 최종 컬럼명을 alloc.py에서 사용하는 이름으로 변경합니다.\n",
    "df_for_alloc.columns = ['Region_Name', 'Region_Code', 'Row', 'Column', 'Ratio']\n",
    "\n",
    "print(\"✅ 데이터를 새로운 alloc 형식에 맞게 재구성했습니다.\")\n",
    "\n",
    "# 3. 데이터프레임을 Python 리스트로 변환 및 파일 저장\n",
    "allocation_list = df_for_alloc.values.tolist()\n",
    "\n",
    "output_filename = 'alloc_sigungu_mapped.py'\n",
    "with open(output_filename, 'w', encoding='utf-8') as f:\n",
    "    f.write('# 시군구 위치정보 + 시도 Region Code 통합 버전\\n')\n",
    "    f.write('allocation = [\\n')\n",
    "    for i, item in enumerate(allocation_list):\n",
    "        # item[0]: Region_Name (str), item[1]: Region_Code (str)\n",
    "        # item[2]: Row (int), item[3]: Column (int), item[4]: Ratio (float)\n",
    "        formatted_item = f\"    [{item[0]!r}, {item[1]!r}, {item[2]}, {item[3]}, {item[4]}]\"\n",
    "        if i < len(allocation_list) - 1:\n",
    "            formatted_item += ','\n",
    "        f.write(formatted_item + '\\n')\n",
    "    f.write(']\\n')\n",
    "\n",
    "print(f\"\\n🎉 모든 변환이 완료되었습니다. 결과가 '{output_filename}' 파일로 저장되었습니다.\")"
   ]
  }
 ],
 "metadata": {
  "kernelspec": {
   "display_name": "Python 3",
   "language": "python",
   "name": "python3"
  },
  "language_info": {
   "codemirror_mode": {
    "name": "ipython",
    "version": 3
   },
   "file_extension": ".py",
   "mimetype": "text/x-python",
   "name": "python",
   "nbconvert_exporter": "python",
   "pygments_lexer": "ipython3",
   "version": "3.10.18"
  }
 },
 "nbformat": 4,
 "nbformat_minor": 5
}
